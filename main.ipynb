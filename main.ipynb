{
 "cells": [
  {
   "cell_type": "code",
   "execution_count": 1,
   "metadata": {
    "collapsed": true,
    "pycharm": {
     "is_executing": false,
     "name": "#%%\n"
    }
   },
   "outputs": [],
   "source": [
    "import json\n",
    "import pandas as pd\n",
    "import matplotlib.pyplot as plt\n",
    "import csv\n",
    "import numpy as np\n",
    "import time\n",
    "\n",
    "from nltk.util import ngrams\n",
    "from sklearn.feature_extraction.text import TfidfVectorizer \n",
    "from sklearn.cluster import DBSCAN\n",
    "from sklearn.cluster import OPTICS, cluster_optics_dbscan\n",
    "from sklearn.cluster import KMeans\n",
    "from sklearn.preprocessing import StandardScaler\n",
    "from itertools import compress"
   ]
  },
  {
   "cell_type": "markdown",
   "metadata": {},
   "source": [
    "#### Load Recipes Data"
   ]
  },
  {
   "cell_type": "code",
   "execution_count": 2,
   "metadata": {
    "collapsed": true,
    "pycharm": {
     "is_executing": false
    }
   },
   "outputs": [],
   "source": [
    "recipes = json.load(open('./data/recipe_train.json'))\n",
    "\n",
    "# for dic in recipes:\n",
    "#     ingredients = []\n",
    "#     for ingredient in dic['ingredients']:\n",
    "#         tmp_ingredient = ingredient.replace(' ', '-')\n",
    "#         ingredients.append(tmp_ingredient)\n",
    "#         dic['ingredients'] = ingredients"
   ]
  },
  {
   "cell_type": "markdown",
   "source": [
    "#### Convert recipe to text document"
   ],
   "metadata": {
    "collapsed": false,
    "pycharm": {
     "name": "#%% md\n",
     "is_executing": false
    }
   }
  },
  {
   "cell_type": "code",
   "execution_count": 3,
   "metadata": {
    "collapsed": true,
    "pycharm": {
     "is_executing": false
    }
   },
   "outputs": [],
   "source": [
    "recipes_as_doc = {}\n",
    "\n",
    "for sample in recipes:\n",
    "    key = sample['cuisine']\n",
    "    # If key is in the dictionary, return its value. If not, insert key with a value of default and return default.\n",
    "    recipes_as_doc.setdefault(key,[]).append(' '.join(sample['ingredients']).lower())\n",
    "\n",
    "# create a single list with all the documents\n",
    "all_docs = []\n",
    "for k, v in recipes_as_doc.items():\n",
    "   all_docs.append(' '.join(v))"
   ]
  },
  {
   "cell_type": "markdown",
   "source": [
    "#### Tfidf vectorizer for text data"
   ]
  },
  {
   "cell_type": "code",
   "execution_count": 4,
   "metadata": {
    "collapsed": false,
    "pycharm": {
     "name": "#%%\n",
     "is_executing": false
    }
   },
   "outputs": [],
   "source": [
    "# code adapted from https://programminghistorian.org/en/lessons/analyzing-documents-with-tfidf\n",
    "\n",
    "# vectorizer = TfidfVectorizer(use_idf=True, token_pattern=r\"(?u)\\b\\w[\\w-]*\\w\\b\")\n",
    "vectorizer = TfidfVectorizer(use_idf=True)\n",
    "transformed_documents = vectorizer.fit_transform(all_docs)"
   ]
  },
  {
   "cell_type": "markdown",
   "source": [
    "#### Analyze results"
   ],
   "metadata": {
    "collapsed": false
   }
  },
  {
   "cell_type": "code",
   "execution_count": 5,
   "outputs": [
    {
     "name": "stdout",
     "text": [
      "greek southern_us filipino indian jamaican spanish italian mexican chinese british thai vietnamese cajun_creole brazilian french japanese irish korean moroccan russian "
     ],
     "output_type": "stream"
    }
   ],
   "source": [
    "transformed_documents_as_array = transformed_documents.toarray()\n",
    "len(transformed_documents_as_array)\n",
    "docs_scores_dfs = {}\n",
    "\n",
    "# loop each item in transformed_documents_as_array, using enumerate to keep track of the current position\n",
    "for counter, doc in enumerate(transformed_documents_as_array):\n",
    "    # construct a data frame\n",
    "    tf_idf_tuples = list(zip(vectorizer.get_feature_names(), doc))\n",
    "    one_doc_as_df = pd.DataFrame\\\n",
    "        .from_records(tf_idf_tuples, columns=['term', 'score'])\\\n",
    "        .sort_values(by='score', ascending=False)\\\n",
    "        .reset_index(drop=True)\n",
    "    docs_scores_dfs[list(recipes_as_doc.keys())[counter]] = one_doc_as_df\n",
    "\n",
    "    print(list(recipes_as_doc.keys())[counter], end=' ')\n",
    "    # print(one_doc_as_df)\n",
    "    # output to a csv using the enumerated value for the filename\n",
    "    # one_doc_as_df.to_csv(\"tf.idf\" + counter.__str__() + \".csv\")"
   ],
   "metadata": {
    "collapsed": false,
    "pycharm": {
     "name": "#%%\n",
     "is_executing": false
    }
   }
  },
  {
   "cell_type": "markdown",
   "source": [
    "#### Statistics of Scores"
   ],
   "metadata": {
    "collapsed": false,
    "pycharm": {
     "name": "#%% md\n"
    }
   }
  },
  {
   "cell_type": "code",
   "execution_count": 6,
   "outputs": [
    {
     "data": {
      "text/plain": "Text(0, 0.5, 'Number of Therms')"
     },
     "metadata": {},
     "output_type": "execute_result",
     "execution_count": 6
    },
    {
     "data": {
      "text/plain": "<Figure size 432x288 with 1 Axes>",
      "image/png": "[encoded data removed]"
     },
     "metadata": {
      "needs_background": "light"
     },
     "output_type": "display_data"
    }
   ],
   "source": [
    "statistics = {}\n",
    "for k in docs_scores_dfs.keys():\n",
    "    df = docs_scores_dfs[k]\n",
    "    scores = df['score']\n",
    "    scores = scores.loc[scores>0.0]\n",
    "    statistics[k] = [scores.mean(), scores.max(), scores.min(), df['score'].astype(bool).sum(axis=0)]\n",
    "\n",
    "irish_scores = docs_scores_dfs[\"irish\"][\"score\"]\n",
    "irish_scores = irish_scores.loc[irish_scores>0.0]\n",
    "plt.hist(irish_scores, color = 'blue', edgecolor = 'black', bins=300)\n",
    "plt.title('Histogram of Scores')\n",
    "plt.xlabel('Frequency')\n",
    "plt.ylabel('Number of Therms')\n",
    "# print(statistics)"
   ],
   "metadata": {
    "collapsed": false,
    "pycharm": {
     "name": "#%%\n",
     "is_executing": false
    }
   }
  },
  {
   "cell_type": "markdown",
   "source": [
    "#### Top 10 therms per cuisine"
   ],
   "metadata": {
    "collapsed": false,
    "pycharm": {
     "name": "#%% md\n"
    }
   }
  },
  {
   "cell_type": "code",
   "execution_count": 7,
   "outputs": [],
   "source": [
    "for k in docs_scores_dfs.keys():\n",
    "    scores_df = docs_scores_dfs[k]\n",
    "    # print('-------------')\n",
    "    # print(k)\n",
    "    # print(scores_df.iloc[:15,:])\n"
   ],
   "metadata": {
    "collapsed": false,
    "pycharm": {
     "name": "#%%\n",
     "is_executing": false
    }
   }
  },
  {
   "cell_type": "markdown",
   "source": [
    "#### Load Baskets Market Data"
   ],
   "metadata": {
    "collapsed": false,
    "pycharm": {
     "name": "#%% md\n"
    }
   }
  },
  {
   "cell_type": "code",
   "execution_count": 8,
   "outputs": [],
   "source": [
    "baskets = []\n",
    "with open('./data/synthetic250000.csv', newline=None) as f:\n",
    "  reader = csv.reader(f)\n",
    "  for row in reader:\n",
    "    baskets.append([elem.replace(' ', '-') for elem in row])"
   ],
   "metadata": {
    "collapsed": false,
    "pycharm": {
     "name": "#%%\n",
     "is_executing": false
    }
   }
  },
  {
   "cell_type": "markdown",
   "source": [
    "#### Compute ngram for tf.idf top score "
   ],
   "metadata": {
    "collapsed": false
   }
  },
  {
   "cell_type": "code",
   "execution_count": 9,
   "outputs": [],
   "source": [
    "top_scores_ngram = {}\n",
    "CUISINE_TOP_SCORE_THRESHOLD = 0.1\n",
    "for cuisine in docs_scores_dfs.keys():\n",
    "    scores_df = docs_scores_dfs[cuisine]\n",
    "    scores_df = scores_df[scores_df['score']>CUISINE_TOP_SCORE_THRESHOLD]\n",
    "    scores_df = scores_df.sort_values(by=['score'],ascending=False)\n",
    "    \n",
    "    ngram_scores = []\n",
    "    for index, row in scores_df.iterrows():\n",
    "        ngram = list(ngrams(row['term'], 3))\n",
    "        score =  row['score']\n",
    "        ngram_scores.append([ngram, score, row['term']])\n",
    "        \n",
    "    top_scores_ngram[cuisine] = ngram_scores"
   ],
   "metadata": {
    "collapsed": false,
    "pycharm": {
     "name": "#%%\n",
     "is_executing": false
    }
   }
  },
  {
   "cell_type": "markdown",
   "source": [
    "#### Define the metric similarity"
   ],
   "metadata": {
    "collapsed": false
   }
  },
  {
   "cell_type": "code",
   "execution_count": 10,
   "outputs": [],
   "source": [
    "def jaccard_distance(a, b):\n",
    "    \"\"\"Calculate the jaccard distance between sets A and B\"\"\"\n",
    "    a = set(a)\n",
    "    b = set(b)\n",
    "    return 1.0 * len(a&b)/len(a|b)"
   ],
   "metadata": {
    "collapsed": false,
    "pycharm": {
     "name": "#%%\n",
     "is_executing": false
    }
   }
  },
  {
   "cell_type": "markdown",
   "source": [
    "#### Compute Basket Scores\n",
    "For each basket we iterate over all items and compute their similarities with the top \n",
    "terms in the cuisines docs.\n",
    "\n",
    "But first, in order to optimize computation we first calculate ngrams of unique items."
   ],
   "metadata": {
    "collapsed": false
   }
  },
  {
   "cell_type": "code",
   "execution_count": 11,
   "outputs": [],
   "source": [
    "items_ngrams = {}\n",
    "for basket in baskets:\n",
    "    for item in basket:\n",
    "        if items_ngrams.get(item) is None :\n",
    "            items_ngrams[item] = list(ngrams(item, 3))"
   ],
   "metadata": {
    "collapsed": false,
    "pycharm": {
     "name": "#%%\n",
     "is_executing": false
    }
   }
  },
  {
   "cell_type": "code",
   "execution_count": 12,
   "outputs": [
    {
     "name": "stdout",
     "text": [
      "--- 315.4726276397705 seconds ---\n"
     ],
     "output_type": "stream"
    }
   ],
   "source": [
    "start_time = time.time()\n",
    "baskets_scores = []\n",
    "all_similarities = {}\n",
    "for basket in baskets:\n",
    "    similarities = {}\n",
    "    for cuisine in top_scores_ngram:\n",
    "        value = 0\n",
    "        sims = 0\n",
    "        for item in basket:      \n",
    "            item_ngram = items_ngrams[item]\n",
    "            for ngram_term, score, term in top_scores_ngram[cuisine]:\n",
    "                if all_similarities.get(item+term) is None:\n",
    "                    if all_similarities.get(term+item) is None:\n",
    "                        sim = jaccard_distance(item_ngram, ngram_term)\n",
    "                        all_similarities[item+term] = sim\n",
    "                        all_similarities[term+item] = sim\n",
    "                    else:\n",
    "                        sim = all_similarities[term+item]\n",
    "                else:\n",
    "                    sim = all_similarities[item+term]\n",
    "\n",
    "                if sim > 0.2:\n",
    "                    value += sim * score\n",
    "                    sims += sim\n",
    "        if sims != 0:\n",
    "            value = value/sims\n",
    "        else:\n",
    "            value=0\n",
    "                    \n",
    "        similarities[cuisine] = value    \n",
    "    baskets_scores.append(similarities)\n",
    "           \n",
    "    # print('------------------')\n",
    "    # print(\"basket: \", basket)\n",
    "    # for k in similarities:\n",
    "    #     print(k, similarities[k]) \n",
    "baskets_scores_df = pd.DataFrame(baskets_scores)\n",
    "baskets_scores_df=(baskets_scores_df-baskets_scores_df.mean())/baskets_scores_df.std()\n",
    "print(\"--- %s seconds ---\" % (time.time() - start_time))"
   ],
   "metadata": {
    "collapsed": false,
    "pycharm": {
     "name": "#%%\n",
     "is_executing": false
    }
   }
  },
  {
   "cell_type": "code",
   "execution_count": 13,
   "outputs": [],
   "source": [
    "# save this data if you want to run elki clustering from dbscanELKI.sh script\n",
    "baskets_scores_df.to_csv('./data/basket_scores250000.csv', header=False, index=False)"
   ],
   "metadata": {
    "collapsed": false,
    "pycharm": {
     "name": "#%%\n",
     "is_executing": false
    }
   }
  },
  {
   "cell_type": "markdown",
   "source": [
    "#### CLustering baskets\n",
    "We now try to cluster the baskets, based on the scores that they \n",
    "obtained using frequent therms of recipes"
   ],
   "metadata": {
    "collapsed": false,
    "pycharm": {
     "name": "#%% md\n"
    }
   }
  },
  {
   "cell_type": "code",
   "execution_count": 34,
   "outputs": [],
   "source": [
    "X = StandardScaler().fit_transform(baskets_scores_df.to_numpy())"
   ],
   "metadata": {
    "collapsed": false,
    "pycharm": {
     "name": "#%%\n",
     "is_executing": false
    }
   }
  },
  {
   "cell_type": "code",
   "execution_count": 113,
   "outputs": [
    {
     "name": "stdout",
     "text": [
      "{0, 1, 2, 3, 4, 5, 6, 7, -1}\n",
      "{0, 1, 2, 3, 4, 5, 6, 7, -1}\n"
     ],
     "output_type": "stream"
    }
   ],
   "source": [
    "# OPTICS\n",
    "optics = OPTICS(min_samples=100, eps=1e-15, cluster_method='dbscan')\n",
    "optics.fit(X)\n",
    "optics_labels = optics.labels_[optics.ordering_]\n",
    "print(set(optics_labels))\n",
    "\n",
    "labels_db_scan = cluster_optics_dbscan(reachability=optics.reachability_,\n",
    "                                   core_distances=optics.core_distances_,\n",
    "                                   ordering=optics.ordering_, eps=1e-15)\n",
    "\n",
    "print(set(labels_db_scan))"
   ],
   "metadata": {
    "collapsed": false,
    "pycharm": {
     "name": "#%%\n",
     "is_executing": false
    }
   }
  },
  {
   "cell_type": "code",
   "execution_count": 36,
   "outputs": [],
   "source": [
    "# K-Means\n",
    "# kMeans = KMeans(n_clusters=7, random_state=0).fit(X)\n",
    "# kMeans_labels = kMeans.labels_\n",
    "# print(set(kMeans_labels))"
   ],
   "metadata": {
    "collapsed": false,
    "pycharm": {
     "name": "#%%\n",
     "is_executing": false
    }
   }
  },
  {
   "cell_type": "code",
   "execution_count": 143,
   "outputs": [
    {
     "name": "stdout",
     "text": [
      "{0, 1, 2, 3, 4, 5, 6, 7, -1}\n",
      "[1e-15, 100]\n"
     ],
     "output_type": "stream"
    }
   ],
   "source": [
    "# DBSCAN \n",
    "[eps, min_samples] = [1e-15, 100]\n",
    "dbScan = DBSCAN(eps=eps, min_samples=min_samples, metric='euclidean', n_jobs=-1, algorithm='kd_tree').fit(X)\n",
    "dbScan_labels = dbScan.labels_\n",
    "print(set(dbScan_labels))\n",
    "print([eps, min_samples])"
   ],
   "metadata": {
    "collapsed": false,
    "pycharm": {
     "name": "#%%\n",
     "is_executing": false
    }
   }
  },
  {
   "cell_type": "code",
   "execution_count": 147,
   "outputs": [
    {
     "name": "stdout",
     "text": [
      "{0, 1, 2, 3, 4, 5, 6, 7, -1}\n",
      "9\n"
     ],
     "output_type": "stream"
    }
   ],
   "source": [
    "import hdbscan\n",
    "\n",
    "clusterer = hdbscan.HDBSCAN(min_cluster_size=300, min_samples=100)\n",
    "clusterer = clusterer.fit(X)\n",
    "print(set(clusterer.labels_))\n",
    "print(len(set(clusterer.labels_)))\n"
   ],
   "metadata": {
    "collapsed": false,
    "pycharm": {
     "name": "#%%\n",
     "is_executing": false
    }
   }
  },
  {
   "cell_type": "markdown",
   "source": [
    "#### Analysis of the method\n",
    "Observe size of created basket clusters"
   ],
   "metadata": {
    "collapsed": false,
    "pycharm": {
     "name": "#%% md\n"
    }
   }
  },
  {
   "cell_type": "code",
   "execution_count": 148,
   "outputs": [
    {
     "data": {
      "text/plain": "<matplotlib.axes._subplots.AxesSubplot at 0x7f4a9bdf4890>"
     },
     "metadata": {},
     "output_type": "execute_result",
     "execution_count": 148
    },
    {
     "data": {
      "text/plain": "<Figure size 432x288 with 1 Axes>",
      "image/png": "[encoded data removed]"
     },
     "metadata": {
      "needs_background": "light"
     },
     "output_type": "display_data"
    }
   ],
   "source": [
    "labels = clusterer.labels_\n",
    "cluster_sizes = []\n",
    "for label in sorted(set(labels)):\n",
    "    cluster_sizes.append([label, len(baskets_scores_df[labels == label])])\n",
    "pd.DataFrame(cluster_sizes).plot(kind='bar')\n"
   ],
   "metadata": {
    "collapsed": false,
    "pycharm": {
     "name": "#%%\n",
     "is_executing": false
    }
   }
  },
  {
   "cell_type": "markdown",
   "source": [
    "Select one cluster and calculate its overall score (by summing\n",
    "all scores of all items of that cluster)"
   ],
   "metadata": {
    "collapsed": false,
    "pycharm": {
     "name": "#%% md\n"
    }
   }
  },
  {
   "cell_type": "code",
   "execution_count": 149,
   "outputs": [
    {
     "name": "stdout",
     "text": [
      "Cluster  0\n",
      "#Baskets:  317\n",
      "italian         2.250320\n",
      "mexican         1.677761\n",
      "greek           1.497782\n",
      "brazilian       1.380905\n",
      "british         1.027210\n",
      "thai            0.901154\n",
      "irish           0.868199\n",
      "french          0.783554\n",
      "russian         0.634044\n",
      "southern_us     0.615084\n",
      "jamaican        0.553289\n",
      "filipino        0.426033\n",
      "cajun_creole    0.099478\n",
      "spanish        -0.317211\n",
      "indian         -0.326024\n",
      "moroccan       -0.390361\n",
      "korean         -0.505908\n",
      "chinese        -0.515362\n",
      "japanese       -0.524047\n",
      "vietnamese     -0.576202\n",
      "dtype: float64\n",
      "Cluster  1\n",
      "#Baskets:  406\n",
      "italian         2.250320\n",
      "mexican         1.685422\n",
      "greek           1.661469\n",
      "french          0.604374\n",
      "southern_us     0.392434\n",
      "russian        -0.178616\n",
      "cajun_creole   -0.252500\n",
      "irish          -0.272077\n",
      "british        -0.295985\n",
      "spanish        -0.322303\n",
      "moroccan       -0.390361\n",
      "indian         -0.487864\n",
      "korean         -0.505908\n",
      "japanese       -0.529336\n",
      "chinese        -0.533762\n",
      "vietnamese     -0.576202\n",
      "thai           -0.680426\n",
      "filipino       -0.787393\n",
      "jamaican       -0.838674\n",
      "brazilian      -0.840716\n",
      "dtype: float64\n",
      "Cluster  2\n",
      "#Baskets:  1480\n",
      "brazilian       1.380905\n",
      "british         0.951867\n",
      "thai            0.909441\n",
      "irish           0.744001\n",
      "southern_us     0.710627\n",
      "jamaican        0.549420\n",
      "filipino        0.426132\n",
      "russian         0.395376\n",
      "cajun_creole   -0.228768\n",
      "french         -0.302903\n",
      "spanish        -0.358621\n",
      "moroccan       -0.390361\n",
      "greek          -0.401773\n",
      "indian         -0.410394\n",
      "italian        -0.505883\n",
      "korean         -0.505908\n",
      "chinese        -0.521178\n",
      "japanese       -0.528078\n",
      "mexican        -0.530653\n",
      "vietnamese     -0.576202\n",
      "dtype: float64\n",
      "Cluster  3\n",
      "#Baskets:  367\n",
      "thai            0.728202\n",
      "indian         -0.237336\n",
      "moroccan       -0.390361\n",
      "spanish        -0.428859\n",
      "greek          -0.471682\n",
      "italian        -0.505883\n",
      "korean         -0.505908\n",
      "japanese       -0.532724\n",
      "cajun_creole   -0.533914\n",
      "chinese        -0.543447\n",
      "vietnamese     -0.576202\n",
      "mexican        -0.603313\n",
      "irish          -0.773452\n",
      "french         -0.773731\n",
      "filipino       -0.821487\n",
      "jamaican       -0.838674\n",
      "brazilian      -0.840716\n",
      "russian        -0.861334\n",
      "british        -0.898448\n",
      "southern_us    -0.915637\n",
      "dtype: float64\n",
      "Cluster  4\n",
      "#Baskets:  508\n",
      "irish           0.147323\n",
      "moroccan       -0.390361\n",
      "spanish        -0.428859\n",
      "italian        -0.505883\n",
      "korean         -0.505908\n",
      "japanese       -0.532724\n",
      "chinese        -0.551486\n",
      "indian         -0.568075\n",
      "vietnamese     -0.576202\n",
      "greek          -0.603279\n",
      "mexican        -0.603313\n",
      "cajun_creole   -0.609345\n",
      "french         -0.773731\n",
      "jamaican       -0.838674\n",
      "brazilian      -0.840716\n",
      "filipino       -0.860176\n",
      "russian        -0.861334\n",
      "british        -0.897077\n",
      "thai           -0.907920\n",
      "southern_us    -0.915637\n",
      "dtype: float64\n",
      "Cluster  5\n",
      "#Baskets:  2635\n",
      "moroccan       -0.390361\n",
      "spanish        -0.428859\n",
      "italian        -0.505883\n",
      "korean         -0.505908\n",
      "japanese       -0.532724\n",
      "chinese        -0.551486\n",
      "indian         -0.568075\n",
      "vietnamese     -0.576202\n",
      "greek          -0.603279\n",
      "mexican        -0.603313\n",
      "cajun_creole   -0.609345\n",
      "french         -0.773731\n",
      "jamaican       -0.838674\n",
      "brazilian      -0.840716\n",
      "filipino       -0.860176\n",
      "russian        -0.861334\n",
      "british        -0.880229\n",
      "thai           -0.907920\n",
      "southern_us    -0.915637\n",
      "irish          -0.994313\n",
      "dtype: float64\n",
      "Cluster  6\n",
      "#Baskets:  840\n",
      "japanese        1.545665\n",
      "vietnamese      1.353676\n",
      "filipino        1.257108\n",
      "chinese         1.193415\n",
      "korean          1.119534\n",
      "russian         1.064949\n",
      "jamaican        1.052351\n",
      "french          0.951313\n",
      "southern_us     0.714081\n",
      "indian          0.699622\n",
      "british         0.622109\n",
      "brazilian       0.473730\n",
      "irish           0.453301\n",
      "thai            0.130502\n",
      "spanish        -0.346645\n",
      "cajun_creole   -0.383194\n",
      "moroccan       -0.390361\n",
      "greek          -0.423606\n",
      "italian        -0.505883\n",
      "mexican        -0.560833\n",
      "dtype: float64\n",
      "Cluster  7\n",
      "#Baskets:  679\n",
      "moroccan        2.572719\n",
      "spanish         2.565432\n",
      "indian          2.288839\n",
      "korean          2.286851\n",
      "cajun_creole    2.066135\n",
      "chinese         1.998308\n",
      "japanese        1.906411\n",
      "jamaican        1.862803\n",
      "filipino        1.838220\n",
      "greek           1.803413\n",
      "mexican         1.766992\n",
      "vietnamese      1.642387\n",
      "french          1.510215\n",
      "russian         1.487092\n",
      "southern_us     1.273285\n",
      "irish           1.249636\n",
      "brazilian       1.245126\n",
      "thai            1.151712\n",
      "italian         1.126505\n",
      "british         0.962117\n",
      "dtype: float64\n",
      "Cluster  -1\n",
      "#Baskets:  2603\n",
      "cajun_creole    0.553074\n",
      "vietnamese      0.399375\n",
      "mexican         0.368104\n",
      "french          0.324929\n",
      "spanish         0.313761\n",
      "moroccan        0.311625\n",
      "chinese         0.278474\n",
      "greek           0.248097\n",
      "indian          0.245703\n",
      "italian         0.214145\n",
      "japanese        0.168896\n",
      "russian         0.155728\n",
      "korean          0.152544\n",
      "southern_us     0.131948\n",
      "thai            0.130358\n",
      "irish           0.128267\n",
      "british         0.120930\n",
      "filipino        0.097907\n",
      "jamaican        0.056433\n",
      "brazilian      -0.166198\n",
      "dtype: float64\n"
     ],
     "output_type": "stream"
    }
   ],
   "source": [
    "for selected_basket_cluster in set(clusterer.labels_):\n",
    "    print(\"Cluster \", selected_basket_cluster)\n",
    "    selected_basket_scores = baskets_scores_df[labels == selected_basket_cluster]\n",
    "    print(\"#Baskets: \", selected_basket_scores.shape[0])\n",
    "    aggregated_basket_cluster_score \\\n",
    "        = np.mean(selected_basket_scores, axis=0)\\\n",
    "        .sort_values(ascending=False)\n",
    "    selected_baskets = list(compress(baskets, labels == selected_basket_cluster))\n",
    "    selected_baskets = [' '.join(l) for l in selected_baskets]\n",
    "    aggregated_basket_cluster_score = aggregated_basket_cluster_score[0:50]\n",
    "    print(aggregated_basket_cluster_score)"
   ],
   "metadata": {
    "collapsed": false,
    "pycharm": {
     "name": "#%%\n",
     "is_executing": false
    }
   }
  },
  {
   "cell_type": "markdown",
   "source": [
    "#### Baseline method - K-means\n",
    "Now we will implement the baseline algorithm to compare our method with. \n",
    "A KNN method will be used. We will try to find the best K by trial and error based on the\n",
    "coherence of the results because there are not many possible Ks for the given dataset."
   ],
   "metadata": {
    "collapsed": false,
    "pycharm": {
     "name": "#%% md\n"
    }
   }
  },
  {
   "cell_type": "code",
   "source": [
    "baskets_as_docs = [' '.join(basket) for basket in baskets]\n",
    "X_Baskets = vectorizer.fit_transform(baskets_as_docs)\n",
    "model = KMeans(n_clusters=10, init='k-means++', max_iter=100, n_init=1)\n",
    "model.fit(X_Baskets)\n",
    "\n",
    "print(\"Top terms per cluster:\")\n",
    "order_centroids = model.cluster_centers_.argsort()[:, ::-1]\n",
    "terms = vectorizer.get_feature_names()\n",
    "baseline_labels = set(model.labels_)\n",
    "for i in baseline_labels:\n",
    "    print(\"Cluster %d:\" % i),\n",
    "    for ind in order_centroids[i, :10]:\n",
    "        print(' %s' % terms[ind])"
   ],
   "metadata": {
    "collapsed": false,
    "pycharm": {
     "name": "#%%\n",
     "is_executing": false
    }
   },
   "execution_count": 40,
   "outputs": [
    {
     "name": "stdout",
     "text": [
      "Top terms per cluster:\n",
      "Cluster 0:\n",
      " vegetables\n",
      " other\n",
      " root\n",
      " milk\n",
      " whole\n",
      " fruit\n",
      " frozen\n",
      " yogurt\n",
      " cheese\n",
      " bread\n",
      "Cluster 1:\n",
      " bags\n",
      " shopping\n",
      " yogurt\n",
      " coffee\n",
      " bread\n",
      " soda\n",
      " beverages\n",
      " sausage\n",
      " products\n",
      " cheese\n",
      "Cluster 2:\n",
      " buns\n",
      " rolls\n",
      " milk\n",
      " soda\n",
      " sausage\n",
      " whole\n",
      " bottled\n",
      " cheese\n",
      " vegetables\n",
      " yogurt\n",
      "Cluster 3:\n",
      " cream\n",
      " whipped\n",
      " sour\n",
      " vegetables\n",
      " milk\n",
      " fruit\n",
      " whole\n",
      " other\n",
      " ice\n",
      " cheese\n",
      "Cluster 4:\n",
      " pastry\n",
      " newspapers\n",
      " soda\n",
      " fruit\n",
      " yogurt\n",
      " sausage\n",
      " citrus\n",
      " milk\n",
      " margarine\n",
      " coffee\n",
      "Cluster 5:\n",
      " fruit\n",
      " juice\n",
      " vegetable\n",
      " tropical\n",
      " pip\n",
      " citrus\n",
      " milk\n",
      " vegetables\n",
      " yogurt\n",
      " cheese\n",
      "Cluster 6:\n",
      " bottled\n",
      " soda\n",
      " beer\n",
      " water\n",
      " liquor\n",
      " wine\n",
      " vegetables\n",
      " fruit\n",
      " white\n",
      " milk\n",
      "Cluster 7:\n",
      " canned\n",
      " beer\n",
      " soda\n",
      " shopping\n",
      " bags\n",
      " buns\n",
      " rolls\n",
      " vegetables\n",
      " newspapers\n",
      " bottled\n",
      "Cluster 8:\n",
      " milk\n",
      " whole\n",
      " butter\n",
      " yogurt\n",
      " fruit\n",
      " bread\n",
      " pastry\n",
      " newspapers\n",
      " bottled\n",
      " soda\n",
      "Cluster 9:\n",
      " specialty\n",
      " chocolate\n",
      " bar\n",
      " soda\n",
      " buns\n",
      " rolls\n",
      " milk\n",
      " marshmallow\n",
      " candy\n",
      " vegetables\n"
     ],
     "output_type": "stream"
    }
   ]
  },
  {
   "cell_type": "markdown",
   "source": [
    "#### Compute Scores of Baskets created using K-Means\n",
    "For the created clusters of baskets using the baseline method, \n",
    "we calculate its scores in terms of similarity with the terms\n",
    "that scored high TF-IDF for the cuisines "
   ],
   "metadata": {
    "collapsed": false
   }
  },
  {
   "cell_type": "code",
   "execution_count": 41,
   "outputs": [
    {
     "name": "stdout",
     "text": [
      "japanese        0.092458\n",
      "french          0.149318\n",
      "korean          0.150749\n",
      "chinese         0.153758\n",
      "vietnamese      0.153863\n",
      "indian          0.154722\n",
      "italian         0.161727\n",
      "russian         0.162000\n",
      "spanish         0.165602\n",
      "irish           0.175525\n",
      "greek           0.182353\n",
      "moroccan        0.191414\n",
      "southern_us     0.201440\n",
      "jamaican        0.203807\n",
      "filipino        0.215637\n",
      "mexican         0.215757\n",
      "british         0.220573\n",
      "cajun_creole    0.226103\n",
      "brazilian       0.259455\n",
      "thai            0.294279\n",
      "dtype: float64\n",
      "brazilian      -0.264501\n",
      "british        -0.183103\n",
      "filipino       -0.170498\n",
      "thai           -0.164189\n",
      "jamaican       -0.164092\n",
      "irish          -0.156982\n",
      "russian        -0.140618\n",
      "southern_us    -0.129468\n",
      "japanese       -0.056133\n",
      "chinese        -0.043726\n",
      "korean         -0.031519\n",
      "vietnamese     -0.020399\n",
      "french         -0.011942\n",
      "indian         -0.009683\n",
      "italian         0.027727\n",
      "mexican         0.041946\n",
      "greek           0.052015\n",
      "cajun_creole    0.063348\n",
      "moroccan        0.072793\n",
      "spanish         0.106224\n",
      "dtype: float64\n",
      "indian         -0.242813\n",
      "filipino       -0.222030\n",
      "jamaican       -0.218087\n",
      "spanish        -0.212584\n",
      "chinese        -0.210476\n",
      "korean         -0.208943\n",
      "vietnamese     -0.203905\n",
      "japanese       -0.202272\n",
      "moroccan       -0.194605\n",
      "russian        -0.188523\n",
      "french         -0.176426\n",
      "thai           -0.163843\n",
      "southern_us    -0.163195\n",
      "british        -0.160875\n",
      "brazilian      -0.156702\n",
      "mexican        -0.130897\n",
      "cajun_creole   -0.127275\n",
      "irish          -0.122108\n",
      "greek          -0.080019\n",
      "italian        -0.043443\n",
      "dtype: float64\n",
      "japanese        0.205635\n",
      "vietnamese      0.222501\n",
      "chinese         0.240617\n",
      "korean          0.254172\n",
      "filipino        0.273554\n",
      "spanish         0.280524\n",
      "jamaican        0.317984\n",
      "moroccan        0.324266\n",
      "brazilian       0.330535\n",
      "indian          0.345795\n",
      "thai            0.351020\n",
      "italian         0.363116\n",
      "cajun_creole    0.367131\n",
      "greek           0.374708\n",
      "french          0.412823\n",
      "irish           0.423989\n",
      "southern_us     0.442653\n",
      "russian         0.475552\n",
      "british         0.480427\n",
      "mexican         0.504299\n",
      "dtype: float64\n",
      "british        -0.547138\n",
      "southern_us    -0.512464\n",
      "brazilian      -0.508787\n",
      "russian        -0.508674\n",
      "irish          -0.496984\n",
      "jamaican       -0.487885\n",
      "filipino       -0.469654\n",
      "french         -0.413720\n",
      "mexican        -0.341941\n",
      "indian         -0.331940\n",
      "vietnamese     -0.324864\n",
      "italian        -0.304889\n",
      "greek          -0.296157\n",
      "japanese       -0.286722\n",
      "cajun_creole   -0.285136\n",
      "chinese        -0.278197\n",
      "korean         -0.259609\n",
      "spanish        -0.210634\n",
      "moroccan       -0.188342\n",
      "thai            0.229206\n",
      "dtype: float64\n",
      "moroccan        0.057776\n",
      "indian          0.071453\n",
      "brazilian       0.072043\n",
      "spanish         0.077667\n",
      "jamaican        0.084486\n",
      "thai            0.084660\n",
      "filipino        0.088355\n",
      "irish           0.105124\n",
      "korean          0.108655\n",
      "vietnamese      0.109437\n",
      "japanese        0.119277\n",
      "chinese         0.119638\n",
      "cajun_creole    0.123946\n",
      "british         0.124759\n",
      "southern_us     0.125989\n",
      "russian         0.135854\n",
      "mexican         0.167131\n",
      "italian         0.178277\n",
      "french          0.179403\n",
      "greek           0.184524\n",
      "dtype: float64\n",
      "thai           -0.529603\n",
      "mexican        -0.352666\n",
      "cajun_creole   -0.338714\n",
      "greek          -0.338548\n",
      "italian        -0.296850\n",
      "moroccan       -0.229566\n",
      "british        -0.229532\n",
      "spanish        -0.209656\n",
      "brazilian      -0.203167\n",
      "southern_us    -0.173311\n",
      "irish          -0.083147\n",
      "french          0.079549\n",
      "russian         0.088840\n",
      "jamaican        0.155940\n",
      "indian          0.237431\n",
      "korean          0.258338\n",
      "filipino        0.271497\n",
      "vietnamese      0.287784\n",
      "chinese         0.317923\n",
      "japanese        0.454689\n",
      "dtype: float64\n",
      "irish          -0.741389\n",
      "british        -0.731418\n",
      "southern_us    -0.717091\n",
      "thai           -0.701148\n",
      "brazilian      -0.697207\n",
      "filipino       -0.688993\n",
      "russian        -0.681914\n",
      "jamaican       -0.671465\n",
      "french         -0.610008\n",
      "greek          -0.490465\n",
      "mexican        -0.480699\n",
      "cajun_creole   -0.476738\n",
      "indian         -0.454655\n",
      "chinese        -0.450122\n",
      "japanese       -0.426950\n",
      "vietnamese     -0.426731\n",
      "italian        -0.421763\n",
      "korean         -0.409799\n",
      "spanish        -0.336494\n",
      "moroccan       -0.307841\n",
      "dtype: float64\n",
      "mexican        -0.201187\n",
      "spanish        -0.197185\n",
      "italian        -0.189432\n",
      "indian         -0.182281\n",
      "moroccan       -0.177841\n",
      "greek          -0.176783\n",
      "vietnamese     -0.175816\n",
      "korean         -0.174522\n",
      "chinese        -0.171812\n",
      "japanese       -0.171788\n",
      "cajun_creole   -0.119035\n",
      "french         -0.093178\n",
      "russian         0.459669\n",
      "filipino        0.546095\n",
      "jamaican        0.635856\n",
      "southern_us     0.708660\n",
      "irish           0.740803\n",
      "british         0.936500\n",
      "thai            0.961095\n",
      "brazilian       1.315776\n",
      "dtype: float64\n",
      "thai           -0.274755\n",
      "brazilian      -0.259419\n",
      "filipino       -0.242595\n",
      "british        -0.235017\n",
      "jamaican       -0.225656\n",
      "southern_us    -0.213457\n",
      "russian        -0.212591\n",
      "irish          -0.200266\n",
      "french         -0.187900\n",
      "vietnamese     -0.177310\n",
      "chinese        -0.157948\n",
      "korean         -0.148525\n",
      "japanese       -0.140050\n",
      "cajun_creole   -0.132429\n",
      "indian         -0.127453\n",
      "spanish        -0.089795\n",
      "mexican        -0.086958\n",
      "moroccan       -0.082106\n",
      "greek          -0.068894\n",
      "italian        -0.039517\n",
      "dtype: float64\n"
     ],
     "output_type": "stream"
    }
   ],
   "source": [
    "baseline_baskets_scores = {}\n",
    "for cluster in baseline_labels:\n",
    "    basket_scores = baskets_scores_df[model.labels_ == cluster]\n",
    "    cluster_scores = np.mean(basket_scores,axis=0).sort_values()\n",
    "    np.argsort(cluster_scores)\n",
    "    print(cluster_scores)"
   ],
   "metadata": {
    "collapsed": false,
    "pycharm": {
     "name": "#%%\n",
     "is_executing": false
    }
   }
  },
  {
   "cell_type": "markdown",
   "source": [],
   "metadata": {
    "collapsed": false
   }
  }
 ],
 "metadata": {
  "kernelspec": {
   "name": "python3",
   "language": "python",
   "display_name": "Python 3"
  },
  "language_info": {
   "codemirror_mode": {
    "name": "ipython",
    "version": 2
   },
   "file_extension": ".py",
   "mimetype": "text/x-python",
   "name": "python",
   "nbconvert_exporter": "python",
   "pygments_lexer": "ipython2",
   "version": "2.7.11"
  },
  "pycharm": {
   "stem_cell": {
    "cell_type": "raw",
    "source": [],
    "metadata": {
     "collapsed": false
    }
   }
  }
 },
 "nbformat": 4,
 "nbformat_minor": 0
}