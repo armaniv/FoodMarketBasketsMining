{
 "cells": [
  {
   "cell_type": "code",
   "execution_count": 1,
   "outputs": [],
   "source": [
    "import json\n",
    "import pandas as pd\n",
    "import matplotlib.pyplot as plt\n",
    "import csv\n",
    "import numpy as np\n",
    "import time\n",
    "\n",
    "from nltk.util import ngrams\n",
    "from sklearn.feature_extraction.text import TfidfVectorizer \n",
    "from sklearn.cluster import DBSCAN\n",
    "from sklearn.cluster import KMeans\n",
    "from sklearn.preprocessing import StandardScaler\n",
    "from itertools import compress"
   ],
   "metadata": {
    "collapsed": false,
    "pycharm": {
     "name": "#%%\n",
     "is_executing": false
    }
   }
  },
  {
   "cell_type": "markdown",
   "source": [
    "#### Load Recipes Data"
   ],
   "metadata": {
    "collapsed": false
   }
  },
  {
   "cell_type": "code",
   "execution_count": 2,
   "outputs": [],
   "source": [
    "recipes = json.load(open('./data/recipe_train.json'))"
   ],
   "metadata": {
    "collapsed": false,
    "pycharm": {
     "name": "#%%\n",
     "is_executing": false
    }
   }
  },
  {
   "cell_type": "markdown",
   "source": [
    "#### Convert recipes to text documents"
   ],
   "metadata": {
    "collapsed": false
   }
  },
  {
   "cell_type": "code",
   "execution_count": 3,
   "outputs": [],
   "source": [
    "recipes_as_doc = {}\n",
    "\n",
    "for sample in recipes:\n",
    "    key = sample['cuisine']\n",
    "    # If key is in the dictionary, return its value. If not, insert key with a value of default and return default.\n",
    "    recipes_as_doc.setdefault(key,[]).append(' '.join(sample['ingredients']).lower())\n",
    "\n",
    "# create a single list with all the documents\n",
    "all_docs = []\n",
    "for k, v in recipes_as_doc.items():\n",
    "   all_docs.append(' '.join(v))"
   ],
   "metadata": {
    "collapsed": false,
    "pycharm": {
     "name": "#%%\n",
     "is_executing": false
    }
   }
  },
  {
   "cell_type": "markdown",
   "source": [
    "#### Tf-idf vectorizer for text data"
   ],
   "metadata": {
    "collapsed": false
   }
  },
  {
   "cell_type": "code",
   "execution_count": 4,
   "outputs": [],
   "source": [
    "# code adapted from https://programminghistorian.org/en/lessons/analyzing-documents-with-tfidf\n",
    "\n",
    "vectorizer = TfidfVectorizer(use_idf=True)\n",
    "transformed_documents = vectorizer.fit_transform(all_docs)"
   ],
   "metadata": {
    "collapsed": false,
    "pycharm": {
     "name": "#%%\n",
     "is_executing": false
    }
   }
  },
  {
   "cell_type": "markdown",
   "source": [
    "#### Analyze results"
   ],
   "metadata": {
    "collapsed": false
   }
  },
  {
   "cell_type": "code",
   "execution_count": 5,
   "outputs": [
    {
     "name": "stdout",
     "text": [
      "greek southern_us filipino indian jamaican spanish italian mexican chinese british thai vietnamese cajun_creole brazilian french japanese irish korean moroccan russian "
     ],
     "output_type": "stream"
    }
   ],
   "source": [
    "transformed_documents_as_array = transformed_documents.toarray()\n",
    "docs_scores_dfs = {}\n",
    "\n",
    "# loop each item in transformed_documents_as_array, using enumerate to keep track of the current position\n",
    "for counter, doc in enumerate(transformed_documents_as_array):\n",
    "    # construct a data frame\n",
    "    tf_idf_tuples = list(zip(vectorizer.get_feature_names(), doc))\n",
    "    one_doc_as_df = pd.DataFrame\\\n",
    "        .from_records(tf_idf_tuples, columns=['term', 'score'])\\\n",
    "        .sort_values(by='score', ascending=False)\\\n",
    "        .reset_index(drop=True)\n",
    "    docs_scores_dfs[list(recipes_as_doc.keys())[counter]] = one_doc_as_df\n",
    "\n",
    "    print(list(recipes_as_doc.keys())[counter], end=' ')\n",
    "    # print(one_doc_as_df)\n",
    "    # output to a csv using the enumerated value for the filename\n",
    "    # one_doc_as_df.to_csv(\"tf.idf\" + counter.__str__() + \".csv\")"
   ],
   "metadata": {
    "collapsed": false,
    "pycharm": {
     "name": "#%%\n",
     "is_executing": false
    }
   }
  },
  {
   "cell_type": "markdown",
   "source": [
    "#### Statistics of Scores"
   ],
   "metadata": {
    "collapsed": false
   }
  },
  {
   "cell_type": "code",
   "execution_count": 6,
   "outputs": [],
   "source": [
    "statistics = {}\n",
    "for k in docs_scores_dfs.keys():\n",
    "    df = docs_scores_dfs[k]\n",
    "    scores = df['score']\n",
    "    scores = scores.loc[scores>0.0]\n",
    "    statistics[k] = [scores.mean(), scores.max(), scores.min(), df['score'].astype(bool).sum(axis=0)]"
   ],
   "metadata": {
    "collapsed": false,
    "pycharm": {
     "name": "#%%\n",
     "is_executing": false
    }
   }
  },
  {
   "cell_type": "markdown",
   "source": [
    "#### Visualize a histogram of score for one cuisine "
   ],
   "metadata": {
    "collapsed": false
   }
  },
  {
   "cell_type": "code",
   "execution_count": 7,
   "outputs": [
    {
     "data": {
      "text/plain": "Text(0, 0.5, 'Number of Therms')"
     },
     "metadata": {},
     "output_type": "execute_result",
     "execution_count": 7
    },
    {
     "data": {
      "text/plain": "<Figure size 432x288 with 1 Axes>",
      "image/png": "[encoded data removed]"
     },
     "metadata": {
      "needs_background": "light"
     },
     "output_type": "display_data"
    }
   ],
   "source": [
    "irish_scores = docs_scores_dfs[\"irish\"][\"score\"]\n",
    "irish_scores = irish_scores.loc[irish_scores>0.0]\n",
    "plt.hist(irish_scores, color = 'blue', edgecolor = 'black', bins=300)\n",
    "plt.title('Histogram of Scores')\n",
    "plt.xlabel('Frequency')\n",
    "plt.ylabel('Number of Therms')"
   ],
   "metadata": {
    "collapsed": false,
    "pycharm": {
     "name": "#%% \n",
     "is_executing": false
    }
   }
  },
  {
   "cell_type": "markdown",
   "source": [
    "#### Top 10 therms per cuisine"
   ],
   "metadata": {
    "collapsed": false
   }
  },
  {
   "cell_type": "code",
   "execution_count": 8,
   "outputs": [],
   "source": [
    "for k in docs_scores_dfs.keys():\n",
    "    scores_df = docs_scores_dfs[k]\n",
    "    # print('-------------')\n",
    "    # print(k)\n",
    "    # print(scores_df.iloc[:15,:])\n"
   ],
   "metadata": {
    "collapsed": false,
    "pycharm": {
     "name": "#%%\n",
     "is_executing": false
    }
   }
  },
  {
   "cell_type": "markdown",
   "source": [
    "#### Load Baskets Market Data"
   ],
   "metadata": {
    "collapsed": false
   }
  },
  {
   "cell_type": "code",
   "execution_count": 9,
   "outputs": [],
   "source": [
    "baskets = []\n",
    "with open('./data/groceries.csv', newline=None) as f:\n",
    "  reader = csv.reader(f)\n",
    "  for row in reader:\n",
    "    baskets.append([elem.replace(' ', '-') for elem in row])"
   ],
   "metadata": {
    "collapsed": false,
    "pycharm": {
     "name": "#%%\n",
     "is_executing": false
    }
   }
  },
  {
   "cell_type": "markdown",
   "source": [
    "#### Optimize computation\n",
    "In order to optimize computation we compute ngram for tf.idf top score \n"
   ],
   "metadata": {
    "collapsed": false
   }
  },
  {
   "cell_type": "code",
   "execution_count": 10,
   "outputs": [],
   "source": [
    "top_scores_ngram = {}\n",
    "CUISINE_TOP_SCORE_THRESHOLD = 0.1\n",
    "for cuisine in docs_scores_dfs.keys():\n",
    "    scores_df = docs_scores_dfs[cuisine]\n",
    "    scores_df = scores_df[scores_df['score']>CUISINE_TOP_SCORE_THRESHOLD]\n",
    "    scores_df = scores_df.sort_values(by=['score'],ascending=False)\n",
    "    \n",
    "    ngram_scores = []\n",
    "    for index, row in scores_df.iterrows():\n",
    "        ngram = list(ngrams(row['term'], 3))\n",
    "        score =  row['score']\n",
    "        ngram_scores.append([ngram, score, row['term']])\n",
    "        \n",
    "    top_scores_ngram[cuisine] = ngram_scores"
   ],
   "metadata": {
    "collapsed": false,
    "pycharm": {
     "name": "#%%\n",
     "is_executing": false
    }
   }
  },
  {
   "cell_type": "markdown",
   "source": [
    "#### Define the distance metric "
   ],
   "metadata": {
    "collapsed": false
   }
  },
  {
   "cell_type": "code",
   "execution_count": 11,
   "outputs": [],
   "source": [
    "def jaccard_distance(a, b):\n",
    "    \"\"\"Calculate the jaccard distance between sets A and B\"\"\"\n",
    "    a = set(a)\n",
    "    b = set(b)\n",
    "    return 1.0 * len(a&b)/len(a|b)"
   ],
   "metadata": {
    "collapsed": false,
    "pycharm": {
     "name": "#%%\n",
     "is_executing": false
    }
   }
  },
  {
   "cell_type": "markdown",
   "source": [
    "#### Optimize computation\n",
    "In order to optimize computation we calculate the ngrams of unique items in the baskets."
   ],
   "metadata": {
    "collapsed": false
   }
  },
  {
   "cell_type": "code",
   "execution_count": 12,
   "outputs": [],
   "source": [
    "items_ngrams = {}\n",
    "for basket in baskets:\n",
    "    for item in basket:\n",
    "        if items_ngrams.get(item) is None :\n",
    "            items_ngrams[item] = list(ngrams(item, 3))"
   ],
   "metadata": {
    "collapsed": false,
    "pycharm": {
     "name": "#%%\n",
     "is_executing": false
    }
   }
  },
  {
   "cell_type": "markdown",
   "source": [
    "#### Compute Basket Scores\n",
    "For each basket we iterate over all items and compute their similarities with the top \n",
    "terms in the cuisines docs."
   ],
   "metadata": {
    "collapsed": false
   }
  },
  {
   "cell_type": "code",
   "execution_count": 13,
   "outputs": [
    {
     "name": "stdout",
     "text": [
      "--- 8.27910828590393 seconds ---\n"
     ],
     "output_type": "stream"
    }
   ],
   "source": [
    "start_time = time.time()\n",
    "baskets_scores = []\n",
    "all_similarities = {}\n",
    "for basket in baskets:\n",
    "    similarities = {}\n",
    "    for cuisine in top_scores_ngram:\n",
    "        value = 0\n",
    "        for item in basket:      \n",
    "            item_ngram = items_ngrams[item]\n",
    "            for ngram_term, score, term in top_scores_ngram[cuisine]:\n",
    "                if all_similarities.get(item+term) is None:\n",
    "                    if all_similarities.get(term+item) is None:\n",
    "                        sim = jaccard_distance(item_ngram, ngram_term)\n",
    "                        all_similarities[item+term] = sim\n",
    "                        all_similarities[term+item] = sim\n",
    "                    else:\n",
    "                        sim = all_similarities[term+item]\n",
    "                else:\n",
    "                    sim = all_similarities[item+term]\n",
    "\n",
    "                if sim > 0.2:\n",
    "                    value += sim * score\n",
    "                    \n",
    "        similarities[cuisine] = value    \n",
    "    baskets_scores.append(similarities)\n",
    "           \n",
    "    # print('------------------')\n",
    "    # print(\"basket: \", basket)\n",
    "    # for k in similarities:\n",
    "    #     print(k, similarities[k]) \n",
    "baskets_scores_df = pd.DataFrame(baskets_scores)\n",
    "baskets_scores_df=(baskets_scores_df-baskets_scores_df.mean())/baskets_scores_df.std()\n",
    "print(\"--- %s seconds ---\" % (time.time() - start_time))"
   ],
   "metadata": {
    "collapsed": false,
    "pycharm": {
     "name": "#%%\n",
     "is_executing": false
    }
   }
  },
  {
   "cell_type": "markdown",
   "source": [
    "#### Clustering baskets usign DBSCAN\n",
    "Cluster the baskets based on the scores that they obtained using frequent therms of recipes. "
   ],
   "metadata": {
    "collapsed": false
   }
  },
  {
   "cell_type": "code",
   "execution_count": 14,
   "outputs": [],
   "source": [
    "X = StandardScaler().fit_transform(baskets_scores_df.to_numpy())"
   ],
   "metadata": {
    "collapsed": false,
    "pycharm": {
     "name": "#%%\n",
     "is_executing": false
    }
   }
  },
  {
   "cell_type": "code",
   "execution_count": 15,
   "outputs": [
    {
     "name": "stdout",
     "text": [
      "{0, 1, 2, 3, 4, 5, 6, -1}\n",
      "[0.01, 100]\n"
     ],
     "output_type": "stream"
    }
   ],
   "source": [
    "[eps, min_samples] = [0.01, 100]\n",
    "dbScan = DBSCAN(eps=eps, min_samples=min_samples, metric='euclidean', n_jobs=-1, algorithm='kd_tree').fit(X)\n",
    "dbScan_labels = dbScan.labels_\n",
    "print(set(dbScan_labels))\n",
    "print([eps, min_samples])\n"
   ],
   "metadata": {
    "collapsed": false,
    "pycharm": {
     "name": "#%%\n",
     "is_executing": false
    }
   }
  },
  {
   "cell_type": "markdown",
   "source": [
    "#### Analyze clustering results"
   ],
   "metadata": {
    "collapsed": false
   }
  },
  {
   "cell_type": "code",
   "execution_count": 16,
   "outputs": [
    {
     "data": {
      "text/plain": "<matplotlib.axes._subplots.AxesSubplot at 0x7ff650b69438>"
     },
     "metadata": {},
     "output_type": "execute_result",
     "execution_count": 16
    },
    {
     "data": {
      "text/plain": "<Figure size 432x288 with 1 Axes>",
      "image/png": "[encoded data removed]"
     },
     "metadata": {
      "needs_background": "light"
     },
     "output_type": "display_data"
    }
   ],
   "source": [
    "labels = dbScan_labels\n",
    "cluster_sizes = []\n",
    "for label in sorted(set(labels)):\n",
    "    cluster_sizes.append([label, len(baskets_scores_df[labels == label])])\n",
    "pd.DataFrame(cluster_sizes).plot(kind='bar')\n"
   ],
   "metadata": {
    "collapsed": false,
    "pycharm": {
     "name": "#%%\n",
     "is_executing": false
    }
   }
  },
  {
   "cell_type": "markdown",
   "source": [
    "Select one cluster and calculate its overall score (the average of the scores of all the items in a cluster)"
   ],
   "metadata": {
    "collapsed": false
   }
  },
  {
   "cell_type": "code",
   "execution_count": 17,
   "outputs": [
    {
     "name": "stdout",
     "text": [
      "Cluster  0\n",
      "#Baskets:  2544\n",
      "moroccan       -0.338919\n",
      "spanish        -0.354953\n",
      "korean         -0.367876\n",
      "japanese       -0.386665\n",
      "chinese        -0.409628\n",
      "indian         -0.411569\n",
      "vietnamese     -0.423112\n",
      "italian        -0.430406\n",
      "mexican        -0.466223\n",
      "cajun_creole   -0.496746\n",
      "greek          -0.506836\n",
      "jamaican       -0.532024\n",
      "russian        -0.532127\n",
      "french         -0.549063\n",
      "filipino       -0.549985\n",
      "southern_us    -0.560140\n",
      "thai           -0.562543\n",
      "brazilian      -0.566559\n",
      "british        -0.567578\n",
      "irish          -0.649748\n",
      "dtype: float64\n",
      "Cluster  1\n",
      "#Baskets:  212\n",
      "greek           0.732743\n",
      "moroccan       -0.338919\n",
      "spanish        -0.354953\n",
      "korean         -0.367876\n",
      "japanese       -0.386665\n",
      "chinese        -0.409628\n",
      "indian         -0.411569\n",
      "vietnamese     -0.423112\n",
      "italian        -0.430406\n",
      "mexican        -0.466223\n",
      "cajun_creole   -0.496746\n",
      "jamaican       -0.532024\n",
      "russian        -0.532127\n",
      "french         -0.549063\n",
      "filipino       -0.549985\n",
      "southern_us    -0.560140\n",
      "thai           -0.562543\n",
      "brazilian      -0.566559\n",
      "british        -0.567578\n",
      "irish          -0.649748\n",
      "dtype: float64\n",
      "Cluster  2\n",
      "#Baskets:  505\n",
      "brazilian       0.170712\n",
      "thai           -0.162476\n",
      "jamaican       -0.199560\n",
      "british        -0.229008\n",
      "filipino       -0.281009\n",
      "southern_us    -0.315228\n",
      "russian        -0.319387\n",
      "moroccan       -0.338919\n",
      "spanish        -0.354953\n",
      "irish          -0.362936\n",
      "korean         -0.367876\n",
      "japanese       -0.386665\n",
      "chinese        -0.409628\n",
      "indian         -0.411569\n",
      "vietnamese     -0.423112\n",
      "italian        -0.430406\n",
      "mexican        -0.466223\n",
      "cajun_creole   -0.496746\n",
      "greek          -0.506836\n",
      "french         -0.549063\n",
      "dtype: float64\n",
      "Cluster  3\n",
      "#Baskets:  499\n",
      "irish           0.139464\n",
      "moroccan       -0.338919\n",
      "spanish        -0.354953\n",
      "korean         -0.367876\n",
      "japanese       -0.386665\n",
      "chinese        -0.409628\n",
      "indian         -0.411569\n",
      "vietnamese     -0.423112\n",
      "italian        -0.430406\n",
      "mexican        -0.466223\n",
      "cajun_creole   -0.496746\n",
      "greek          -0.506836\n",
      "jamaican       -0.532024\n",
      "russian        -0.532127\n",
      "french         -0.549063\n",
      "filipino       -0.549985\n",
      "southern_us    -0.560140\n",
      "thai           -0.562543\n",
      "brazilian      -0.566559\n",
      "british        -0.567578\n",
      "dtype: float64\n",
      "Cluster  4\n",
      "#Baskets:  217\n",
      "japanese        0.138648\n",
      "indian          0.054082\n",
      "vietnamese     -0.001587\n",
      "jamaican       -0.010350\n",
      "chinese        -0.013490\n",
      "filipino       -0.015361\n",
      "korean         -0.016466\n",
      "russian        -0.144554\n",
      "brazilian      -0.173192\n",
      "french         -0.238618\n",
      "british        -0.338505\n",
      "moroccan       -0.338919\n",
      "southern_us    -0.346446\n",
      "spanish        -0.354953\n",
      "italian        -0.430406\n",
      "irish          -0.446204\n",
      "mexican        -0.466223\n",
      "cajun_creole   -0.496746\n",
      "greek          -0.506836\n",
      "thai           -0.562543\n",
      "dtype: float64\n",
      "Cluster  5\n",
      "#Baskets:  157\n",
      "cajun_creole    0.602988\n",
      "moroccan       -0.338919\n",
      "spanish        -0.354953\n",
      "korean         -0.367876\n",
      "japanese       -0.386665\n",
      "chinese        -0.409628\n",
      "indian         -0.411569\n",
      "vietnamese     -0.423112\n",
      "italian        -0.430406\n",
      "mexican        -0.466223\n",
      "greek          -0.506836\n",
      "jamaican       -0.532024\n",
      "russian        -0.532127\n",
      "french         -0.549063\n",
      "filipino       -0.549985\n",
      "southern_us    -0.560140\n",
      "thai           -0.562543\n",
      "brazilian      -0.566559\n",
      "british        -0.567578\n",
      "irish          -0.649748\n",
      "dtype: float64\n",
      "Cluster  6\n",
      "#Baskets:  163\n",
      "thai            0.014769\n",
      "moroccan       -0.338919\n",
      "spanish        -0.354953\n",
      "korean         -0.367876\n",
      "japanese       -0.386665\n",
      "chinese        -0.409628\n",
      "indian         -0.411569\n",
      "vietnamese     -0.423112\n",
      "italian        -0.430406\n",
      "mexican        -0.466223\n",
      "cajun_creole   -0.496746\n",
      "greek          -0.506836\n",
      "jamaican       -0.532024\n",
      "russian        -0.532127\n",
      "french         -0.549063\n",
      "filipino       -0.549985\n",
      "southern_us    -0.560140\n",
      "brazilian      -0.566559\n",
      "british        -0.567578\n",
      "irish          -0.649748\n",
      "dtype: float64\n",
      "Cluster  -1\n",
      "#Baskets:  5538\n",
      "french          0.413860\n",
      "southern_us     0.403913\n",
      "british         0.400541\n",
      "irish           0.398906\n",
      "thai            0.383011\n",
      "filipino        0.381264\n",
      "russian         0.378298\n",
      "jamaican        0.362046\n",
      "mexican         0.361748\n",
      "brazilian       0.356956\n",
      "cajun_creole    0.354254\n",
      "greek           0.345808\n",
      "italian         0.333957\n",
      "vietnamese      0.311780\n",
      "chinese         0.302313\n",
      "indian          0.301095\n",
      "japanese        0.279434\n",
      "spanish         0.275413\n",
      "korean          0.271670\n",
      "moroccan        0.262971\n",
      "dtype: float64\n"
     ],
     "output_type": "stream"
    }
   ],
   "source": [
    "for selected_basket_cluster in set(labels):\n",
    "    print(\"Cluster \", selected_basket_cluster)\n",
    "    selected_basket_scores = baskets_scores_df[labels == selected_basket_cluster]\n",
    "    print(\"#Baskets: \", selected_basket_scores.shape[0])\n",
    "    \n",
    "    aggregated_basket_cluster_score = np.mean(selected_basket_scores, axis=0).sort_values(ascending=False)\n",
    "    selected_baskets = list(compress(baskets, labels == selected_basket_cluster))\n",
    "    selected_baskets = [' '.join(l) for l in selected_baskets]\n",
    "    aggregated_basket_cluster_score = aggregated_basket_cluster_score[0:50]\n",
    "    print(aggregated_basket_cluster_score)"
   ],
   "metadata": {
    "collapsed": false,
    "pycharm": {
     "name": "#%%\n",
     "is_executing": false
    }
   }
  },
  {
   "cell_type": "markdown",
   "source": [
    "#### Baseline method - K-means\n",
    "Now we will implement the baseline algorithm to compare with our method. K-means is used. We choose a K in the order of \n",
    "the cluster obtained by the DBSCAN algorithm."
   ],
   "metadata": {
    "collapsed": false
   }
  },
  {
   "cell_type": "code",
   "execution_count": 18,
   "outputs": [],
   "source": [
    "baskets_as_docs = [' '.join(basket) for basket in baskets]\n",
    "X_Baskets = vectorizer.fit_transform(baskets_as_docs)\n",
    "model = KMeans(n_clusters=8, init='k-means++', max_iter=100, n_init=1)\n",
    "model.fit(X_Baskets)\n",
    "\n",
    "order_centroids = model.cluster_centers_.argsort()[:, ::-1]\n",
    "terms = vectorizer.get_feature_names()\n",
    "baseline_labels = set(model.labels_)\n",
    "# print(\"Top terms per cluster:\")\n",
    "# for i in baseline_labels:\n",
    "#     print(\"Cluster %d:\" % i),\n",
    "#     for ind in order_centroids[i, :10]:\n",
    "#         print(' %s' % terms[ind])"
   ],
   "metadata": {
    "collapsed": false,
    "pycharm": {
     "name": "#%%\n",
     "is_executing": false
    }
   }
  },
  {
   "cell_type": "markdown",
   "source": [
    "#### Compute Scores of Baskets created using K-Means\n",
    "For the created clusters of baskets using the baseline method, we calculate its scores in terms of similarity with the \n",
    "terms that scored high TF-IDF for the cuisines "
   ],
   "metadata": {
    "collapsed": false
   }
  },
  {
   "cell_type": "code",
   "execution_count": 19,
   "outputs": [
    {
     "name": "stdout",
     "text": [
      "Cluster size: 3761\n",
      "brazilian      -0.079377\n",
      "irish          -0.067930\n",
      "british        -0.033764\n",
      "southern_us    -0.028406\n",
      "russian        -0.012241\n",
      "thai            0.003194\n",
      "jamaican        0.007057\n",
      "filipino        0.025608\n",
      "french          0.035010\n",
      "greek           0.036849\n",
      "japanese        0.043054\n",
      "korean          0.052533\n",
      "vietnamese      0.053508\n",
      "cajun_creole    0.054001\n",
      "italian         0.058327\n",
      "chinese         0.062107\n",
      "indian          0.075734\n",
      "mexican         0.086880\n",
      "moroccan        0.087957\n",
      "spanish         0.095248\n",
      "dtype: float64\n",
      "Cluster size: 307\n",
      "british        -0.525025\n",
      "southern_us    -0.516244\n",
      "brazilian      -0.511012\n",
      "french         -0.491657\n",
      "russian        -0.477867\n",
      "thai           -0.476811\n",
      "filipino       -0.470434\n",
      "jamaican       -0.467678\n",
      "greek          -0.461089\n",
      "cajun_creole   -0.450067\n",
      "mexican        -0.435458\n",
      "italian        -0.394376\n",
      "vietnamese     -0.373011\n",
      "chinese        -0.356768\n",
      "indian         -0.347302\n",
      "japanese       -0.328689\n",
      "spanish        -0.327614\n",
      "korean         -0.324536\n",
      "moroccan       -0.316379\n",
      "irish           0.176077\n",
      "dtype: float64\n",
      "Cluster size: 964\n",
      "thai           -0.396546\n",
      "irish          -0.394853\n",
      "british        -0.387734\n",
      "southern_us    -0.382308\n",
      "greek          -0.381315\n",
      "mexican        -0.352475\n",
      "cajun_creole   -0.349496\n",
      "french         -0.342726\n",
      "brazilian      -0.338746\n",
      "russian        -0.328436\n",
      "italian        -0.317667\n",
      "filipino       -0.296648\n",
      "jamaican       -0.296645\n",
      "moroccan       -0.231786\n",
      "spanish        -0.228930\n",
      "vietnamese     -0.219685\n",
      "chinese        -0.215406\n",
      "indian         -0.207931\n",
      "korean         -0.190298\n",
      "japanese       -0.175064\n",
      "dtype: float64\n",
      "Cluster size: 1106\n",
      "filipino       -0.192741\n",
      "thai           -0.190058\n",
      "indian         -0.185083\n",
      "jamaican       -0.183407\n",
      "chinese        -0.178393\n",
      "vietnamese     -0.176338\n",
      "spanish        -0.173317\n",
      "mexican        -0.171354\n",
      "french         -0.164515\n",
      "moroccan       -0.162092\n",
      "japanese       -0.162079\n",
      "korean         -0.161832\n",
      "brazilian      -0.160604\n",
      "russian        -0.154989\n",
      "british        -0.147088\n",
      "southern_us    -0.146893\n",
      "irish          -0.129527\n",
      "greek          -0.126120\n",
      "italian        -0.117609\n",
      "cajun_creole   -0.100863\n",
      "dtype: float64\n",
      "Cluster size: 1516\n",
      "spanish         0.126112\n",
      "moroccan        0.139078\n",
      "indian          0.167585\n",
      "korean          0.171526\n",
      "japanese        0.173460\n",
      "italian         0.187284\n",
      "chinese         0.190184\n",
      "vietnamese      0.199819\n",
      "mexican         0.210511\n",
      "cajun_creole    0.236087\n",
      "jamaican        0.237645\n",
      "filipino        0.237868\n",
      "irish           0.240159\n",
      "french          0.252668\n",
      "russian         0.257710\n",
      "brazilian       0.261583\n",
      "thai            0.275623\n",
      "greek           0.276649\n",
      "british         0.282912\n",
      "southern_us     0.284182\n",
      "dtype: float64\n",
      "Cluster size: 579\n",
      "british        -0.205335\n",
      "brazilian      -0.194640\n",
      "jamaican       -0.189882\n",
      "filipino       -0.189780\n",
      "russian        -0.186296\n",
      "southern_us    -0.185062\n",
      "thai           -0.182224\n",
      "cajun_creole   -0.172279\n",
      "french         -0.171506\n",
      "irish          -0.165792\n",
      "vietnamese     -0.150168\n",
      "chinese        -0.133698\n",
      "korean         -0.127915\n",
      "indian         -0.127345\n",
      "japanese       -0.124448\n",
      "mexican        -0.122410\n",
      "spanish        -0.103962\n",
      "moroccan       -0.102049\n",
      "greek          -0.088571\n",
      "italian        -0.067175\n",
      "dtype: float64\n",
      "Cluster size: 937\n",
      "spanish        -0.136936\n",
      "greek          -0.135592\n",
      "italian        -0.134597\n",
      "mexican        -0.134310\n",
      "indian         -0.124290\n",
      "chinese        -0.120671\n",
      "moroccan       -0.120024\n",
      "japanese       -0.117018\n",
      "korean         -0.114107\n",
      "vietnamese     -0.106242\n",
      "cajun_creole   -0.093602\n",
      "french         -0.056143\n",
      "filipino        0.094152\n",
      "russian         0.120114\n",
      "jamaican        0.143872\n",
      "irish           0.151101\n",
      "southern_us     0.186359\n",
      "thai            0.225049\n",
      "british         0.242228\n",
      "brazilian       0.461897\n",
      "dtype: float64\n",
      "Cluster size: 665\n",
      "moroccan        0.195103\n",
      "spanish         0.228632\n",
      "indian          0.245216\n",
      "chinese         0.275277\n",
      "korean          0.278853\n",
      "thai            0.306215\n",
      "vietnamese      0.306236\n",
      "japanese        0.309379\n",
      "filipino        0.313244\n",
      "cajun_creole    0.320432\n",
      "mexican         0.321538\n",
      "italian         0.329476\n",
      "jamaican        0.331897\n",
      "brazilian       0.365318\n",
      "greek           0.404474\n",
      "russian         0.429182\n",
      "british         0.432561\n",
      "southern_us     0.448185\n",
      "french          0.451834\n",
      "irish           0.474667\n",
      "dtype: float64\n"
     ],
     "output_type": "stream"
    }
   ],
   "source": [
    "baseline_baskets_scores = {}\n",
    "for cluster in baseline_labels:\n",
    "    basket_scores = baskets_scores_df[model.labels_ == cluster]\n",
    "    cluster_scores = np.mean(basket_scores,axis=0).sort_values()\n",
    "    np.argsort(cluster_scores)\n",
    "    print(\"Cluster size:\",len(basket_scores))\n",
    "    print(cluster_scores)\n",
    "   \n"
   ],
   "metadata": {
    "collapsed": false,
    "pycharm": {
     "name": "#%%\n",
     "is_executing": false
    }
   }
  }
 ],
 "metadata": {
  "kernelspec": {
   "name": "pycharm-4979b13c",
   "language": "python",
   "display_name": "PyCharm (Project)"
  },
  "language_info": {
   "codemirror_mode": {
    "name": "ipython",
    "version": 2
   },
   "file_extension": ".py",
   "mimetype": "text/x-python",
   "name": "python",
   "nbconvert_exporter": "python",
   "pygments_lexer": "ipython2",
   "version": "2.7.6"
  },
  "pycharm": {
   "stem_cell": {
    "cell_type": "raw",
    "source": [],
    "metadata": {
     "collapsed": false
    }
   }
  }
 },
 "nbformat": 4,
 "nbformat_minor": 0
}