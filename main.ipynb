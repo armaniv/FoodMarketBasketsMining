{
 "cells": [
  {
   "cell_type": "code",
   "execution_count": 1,
   "outputs": [],
   "source": [
    "import json\n",
    "import pandas as pd\n",
    "import matplotlib.pyplot as plt\n",
    "import csv\n",
    "import numpy as np\n",
    "import time\n",
    "\n",
    "from nltk.util import ngrams\n",
    "from sklearn.feature_extraction.text import TfidfVectorizer \n",
    "from sklearn.cluster import DBSCAN\n",
    "from sklearn.cluster import KMeans\n",
    "from sklearn.preprocessing import StandardScaler\n",
    "from itertools import compress"
   ],
   "metadata": {
    "collapsed": false,
    "pycharm": {
     "name": "#%%\n",
     "is_executing": false
    }
   }
  },
  {
   "cell_type": "markdown",
   "source": [
    "#### Load Recipes Data"
   ],
   "metadata": {
    "collapsed": false
   }
  },
  {
   "cell_type": "code",
   "execution_count": 2,
   "outputs": [],
   "source": [
    "recipes = json.load(open('./data/recipe_train.json'))"
   ],
   "metadata": {
    "collapsed": false,
    "pycharm": {
     "name": "#%%\n",
     "is_executing": false
    }
   }
  },
  {
   "cell_type": "markdown",
   "source": [
    "#### Convert recipes to text documents"
   ],
   "metadata": {
    "collapsed": false
   }
  },
  {
   "cell_type": "code",
   "execution_count": 3,
   "outputs": [],
   "source": [
    "recipes_as_doc = {}\n",
    "\n",
    "for sample in recipes:\n",
    "    key = sample['cuisine']\n",
    "    # If key is in the dictionary, return its value. If not, insert key with a value of default and return default.\n",
    "    recipes_as_doc.setdefault(key,[]).append(' '.join(sample['ingredients']).lower())\n",
    "\n",
    "# create a single list with all the documents\n",
    "all_docs = []\n",
    "for k, v in recipes_as_doc.items():\n",
    "   all_docs.append(' '.join(v))"
   ],
   "metadata": {
    "collapsed": false,
    "pycharm": {
     "name": "#%%\n",
     "is_executing": false
    }
   }
  },
  {
   "cell_type": "markdown",
   "source": [
    "#### Tf-idf vectorizer for text data"
   ],
   "metadata": {
    "collapsed": false
   }
  },
  {
   "cell_type": "code",
   "execution_count": 4,
   "outputs": [],
   "source": [
    "# code adapted from https://programminghistorian.org/en/lessons/analyzing-documents-with-tfidf\n",
    "\n",
    "vectorizer = TfidfVectorizer(use_idf=True)\n",
    "transformed_documents = vectorizer.fit_transform(all_docs)"
   ],
   "metadata": {
    "collapsed": false,
    "pycharm": {
     "name": "#%%\n",
     "is_executing": false
    }
   }
  },
  {
   "cell_type": "markdown",
   "source": [
    "#### Analyze results"
   ],
   "metadata": {
    "collapsed": false
   }
  },
  {
   "cell_type": "code",
   "execution_count": 5,
   "outputs": [
    {
     "name": "stdout",
     "text": [
      "greek southern_us filipino indian jamaican spanish italian mexican chinese british thai vietnamese cajun_creole brazilian french japanese irish korean moroccan russian "
     ],
     "output_type": "stream"
    }
   ],
   "source": [
    "transformed_documents_as_array = transformed_documents.toarray()\n",
    "docs_scores_dfs = {}\n",
    "\n",
    "# loop each item in transformed_documents_as_array, using enumerate to keep track of the current position\n",
    "for counter, doc in enumerate(transformed_documents_as_array):\n",
    "    # construct a data frame\n",
    "    tf_idf_tuples = list(zip(vectorizer.get_feature_names(), doc))\n",
    "    one_doc_as_df = pd.DataFrame\\\n",
    "        .from_records(tf_idf_tuples, columns=['term', 'score'])\\\n",
    "        .sort_values(by='score', ascending=False)\\\n",
    "        .reset_index(drop=True)\n",
    "    docs_scores_dfs[list(recipes_as_doc.keys())[counter]] = one_doc_as_df\n",
    "\n",
    "    print(list(recipes_as_doc.keys())[counter], end=' ')\n",
    "    # print(one_doc_as_df)\n",
    "    # output to a csv using the enumerated value for the filename\n",
    "    # one_doc_as_df.to_csv(\"tf.idf\" + counter.__str__() + \".csv\")"
   ],
   "metadata": {
    "collapsed": false,
    "pycharm": {
     "name": "#%%\n",
     "is_executing": false
    }
   }
  },
  {
   "cell_type": "markdown",
   "source": [
    "#### Statistics of Scores"
   ],
   "metadata": {
    "collapsed": false
   }
  },
  {
   "cell_type": "code",
   "execution_count": 6,
   "outputs": [],
   "source": [
    "statistics = {}\n",
    "for k in docs_scores_dfs.keys():\n",
    "    df = docs_scores_dfs[k]\n",
    "    scores = df['score']\n",
    "    scores = scores.loc[scores>0.0]\n",
    "    statistics[k] = [scores.mean(), scores.max(), scores.min(), df['score'].astype(bool).sum(axis=0)]"
   ],
   "metadata": {
    "collapsed": false,
    "pycharm": {
     "name": "#%%\n",
     "is_executing": false
    }
   }
  },
  {
   "cell_type": "markdown",
   "source": [
    "#### Visualize a histogram of score for one cuisine "
   ],
   "metadata": {
    "collapsed": false
   }
  },
  {
   "cell_type": "code",
   "execution_count": 7,
   "outputs": [
    {
     "data": {
      "text/plain": "Text(0, 0.5, 'Number of Therms')"
     },
     "metadata": {},
     "output_type": "execute_result",
     "execution_count": 7
    },
    {
     "data": {
      "text/plain": "<Figure size 432x288 with 1 Axes>",
      "image/png": "[encoded data removed]"
     },
     "metadata": {
      "needs_background": "light"
     },
     "output_type": "display_data"
    }
   ],
   "source": [
    "irish_scores = docs_scores_dfs[\"irish\"][\"score\"]\n",
    "irish_scores = irish_scores.loc[irish_scores>0.0]\n",
    "plt.hist(irish_scores, color = 'blue', edgecolor = 'black', bins=300)\n",
    "plt.title('Histogram of Scores')\n",
    "plt.xlabel('Frequency')\n",
    "plt.ylabel('Number of Therms')"
   ],
   "metadata": {
    "collapsed": false,
    "pycharm": {
     "name": "#%% \n",
     "is_executing": false
    }
   }
  },
  {
   "cell_type": "markdown",
   "source": [
    "#### Top 10 therms per cuisine"
   ],
   "metadata": {
    "collapsed": false
   }
  },
  {
   "cell_type": "code",
   "execution_count": 8,
   "outputs": [],
   "source": [
    "for k in docs_scores_dfs.keys():\n",
    "    scores_df = docs_scores_dfs[k]\n",
    "    # print('-------------')\n",
    "    # print(k)\n",
    "    # print(scores_df.iloc[:15,:])\n"
   ],
   "metadata": {
    "collapsed": false,
    "pycharm": {
     "name": "#%%\n",
     "is_executing": false
    }
   }
  },
  {
   "cell_type": "markdown",
   "source": [
    "#### Load Baskets Market Data"
   ],
   "metadata": {
    "collapsed": false
   }
  },
  {
   "cell_type": "code",
   "execution_count": 9,
   "outputs": [],
   "source": [
    "baskets = []\n",
    "with open('./data/groceries.csv', newline=None) as f:\n",
    "  reader = csv.reader(f)\n",
    "  for row in reader:\n",
    "    baskets.append([elem.replace(' ', '-') for elem in row])"
   ],
   "metadata": {
    "collapsed": false,
    "pycharm": {
     "name": "#%%\n",
     "is_executing": false
    }
   }
  },
  {
   "cell_type": "markdown",
   "source": [
    "#### Optimize computation\n",
    "In order to optimize computation we compute ngram for tf.idf top score \n"
   ],
   "metadata": {
    "collapsed": false
   }
  },
  {
   "cell_type": "code",
   "execution_count": 10,
   "outputs": [],
   "source": [
    "top_scores_ngram = {}\n",
    "CUISINE_TOP_SCORE_THRESHOLD = 0.1\n",
    "for cuisine in docs_scores_dfs.keys():\n",
    "    scores_df = docs_scores_dfs[cuisine]\n",
    "    scores_df = scores_df[scores_df['score']>CUISINE_TOP_SCORE_THRESHOLD]\n",
    "    scores_df = scores_df.sort_values(by=['score'],ascending=False)\n",
    "    \n",
    "    ngram_scores = []\n",
    "    for index, row in scores_df.iterrows():\n",
    "        ngram = list(ngrams(row['term'], 3))\n",
    "        score =  row['score']\n",
    "        ngram_scores.append([ngram, score, row['term']])\n",
    "        \n",
    "    top_scores_ngram[cuisine] = ngram_scores"
   ],
   "metadata": {
    "collapsed": false,
    "pycharm": {
     "name": "#%%\n",
     "is_executing": false
    }
   }
  },
  {
   "cell_type": "markdown",
   "source": [
    "#### Define the distance metric "
   ],
   "metadata": {
    "collapsed": false
   }
  },
  {
   "cell_type": "code",
   "execution_count": 11,
   "outputs": [],
   "source": [
    "def jaccard_distance(a, b):\n",
    "    \"\"\"Calculate the jaccard distance between sets A and B\"\"\"\n",
    "    a = set(a)\n",
    "    b = set(b)\n",
    "    return 1.0 * len(a&b)/len(a|b)"
   ],
   "metadata": {
    "collapsed": false,
    "pycharm": {
     "name": "#%%\n",
     "is_executing": false
    }
   }
  },
  {
   "cell_type": "markdown",
   "source": [
    "#### Optimize computation\n",
    "In order to optimize computation we calculate the ngrams of unique items in the baskets."
   ],
   "metadata": {
    "collapsed": false
   }
  },
  {
   "cell_type": "code",
   "execution_count": 12,
   "outputs": [],
   "source": [
    "items_ngrams = {}\n",
    "for basket in baskets:\n",
    "    for item in basket:\n",
    "        if items_ngrams.get(item) is None :\n",
    "            items_ngrams[item] = list(ngrams(item, 3))"
   ],
   "metadata": {
    "collapsed": false,
    "pycharm": {
     "name": "#%%\n",
     "is_executing": false
    }
   }
  },
  {
   "cell_type": "markdown",
   "source": [
    "#### Compute Basket Scores\n",
    "For each basket we iterate over all items and compute their similarities with the top \n",
    "terms in the cuisines docs."
   ],
   "metadata": {
    "collapsed": false
   }
  },
  {
   "cell_type": "code",
   "execution_count": 13,
   "outputs": [
    {
     "name": "stdout",
     "text": [
      "--- 8.288972854614258 seconds ---\n"
     ],
     "output_type": "stream"
    }
   ],
   "source": [
    "start_time = time.time()\n",
    "baskets_scores = []\n",
    "all_similarities = {}\n",
    "for basket in baskets:\n",
    "    similarities = {}\n",
    "    for cuisine in top_scores_ngram:\n",
    "        value = 0\n",
    "        sims = 0\n",
    "        for item in basket:      \n",
    "            item_ngram = items_ngrams[item]\n",
    "            for ngram_term, score, term in top_scores_ngram[cuisine]:\n",
    "                if all_similarities.get(item+term) is None:\n",
    "                    if all_similarities.get(term+item) is None:\n",
    "                        sim = jaccard_distance(item_ngram, ngram_term)\n",
    "                        all_similarities[item+term] = sim\n",
    "                        all_similarities[term+item] = sim\n",
    "                    else:\n",
    "                        sim = all_similarities[term+item]\n",
    "                else:\n",
    "                    sim = all_similarities[item+term]\n",
    "\n",
    "                if sim > 0.2:\n",
    "                    value += sim * score\n",
    "                    sims += sim\n",
    "        if sims != 0:\n",
    "            value = value/sims\n",
    "        else:\n",
    "            value=0\n",
    "                    \n",
    "        similarities[cuisine] = value    \n",
    "    baskets_scores.append(similarities)\n",
    "           \n",
    "    # print('------------------')\n",
    "    # print(\"basket: \", basket)\n",
    "    # for k in similarities:\n",
    "    #     print(k, similarities[k]) \n",
    "baskets_scores_df = pd.DataFrame(baskets_scores)\n",
    "baskets_scores_df=(baskets_scores_df-baskets_scores_df.mean())/baskets_scores_df.std()\n",
    "print(\"--- %s seconds ---\" % (time.time() - start_time))"
   ],
   "metadata": {
    "collapsed": false,
    "pycharm": {
     "name": "#%%\n",
     "is_executing": false
    }
   }
  },
  {
   "cell_type": "markdown",
   "source": [
    "#### Clustering baskets usign DBSCAN\n",
    "Cluster the baskets based on the scores that they obtained using frequent therms of recipes. "
   ],
   "metadata": {
    "collapsed": false
   }
  },
  {
   "cell_type": "code",
   "execution_count": 14,
   "outputs": [],
   "source": [
    "X = StandardScaler().fit_transform(baskets_scores_df.to_numpy())"
   ],
   "metadata": {
    "collapsed": false,
    "pycharm": {
     "name": "#%%\n",
     "is_executing": false
    }
   }
  },
  {
   "cell_type": "code",
   "execution_count": 15,
   "outputs": [
    {
     "name": "stdout",
     "text": [
      "{0, 1, 2, 3, 4, 5, 6, 7, -1}\n",
      "[0.001, 100]\n"
     ],
     "output_type": "stream"
    }
   ],
   "source": [
    "[eps, min_samples] = [0.001, 100]\n",
    "dbScan = DBSCAN(eps=eps, min_samples=min_samples, metric='euclidean', n_jobs=-1, algorithm='kd_tree').fit(X)\n",
    "dbScan_labels = dbScan.labels_\n",
    "print(set(dbScan_labels))\n",
    "print([eps, min_samples])\n"
   ],
   "metadata": {
    "collapsed": false,
    "pycharm": {
     "name": "#%%\n",
     "is_executing": false
    }
   }
  },
  {
   "cell_type": "markdown",
   "source": [
    "#### Analyze clustering results"
   ],
   "metadata": {
    "collapsed": false
   }
  },
  {
   "cell_type": "code",
   "execution_count": 16,
   "outputs": [
    {
     "data": {
      "text/plain": "<matplotlib.axes._subplots.AxesSubplot at 0x7f3474ad9748>"
     },
     "metadata": {},
     "output_type": "execute_result",
     "execution_count": 16
    },
    {
     "data": {
      "text/plain": "<Figure size 432x288 with 1 Axes>",
      "image/png": "[encoded data removed]"
     },
     "metadata": {
      "needs_background": "light"
     },
     "output_type": "display_data"
    }
   ],
   "source": [
    "labels = dbScan_labels\n",
    "cluster_sizes = []\n",
    "for label in sorted(set(labels)):\n",
    "    cluster_sizes.append([label, len(baskets_scores_df[labels == label])])\n",
    "pd.DataFrame(cluster_sizes).plot(kind='bar')\n"
   ],
   "metadata": {
    "collapsed": false,
    "pycharm": {
     "name": "#%%\n",
     "is_executing": false
    }
   }
  },
  {
   "cell_type": "markdown",
   "source": [
    "Select one cluster and calculate its overall score (the average of the scores of all the items in a cluster)"
   ],
   "metadata": {
    "collapsed": false
   }
  },
  {
   "cell_type": "code",
   "execution_count": 17,
   "outputs": [
    {
     "name": "stdout",
     "text": [
      "Cluster  0\n",
      "#Baskets:  2544\n",
      "moroccan       -0.390361\n",
      "spanish        -0.428859\n",
      "italian        -0.505883\n",
      "korean         -0.505908\n",
      "japanese       -0.532724\n",
      "chinese        -0.551486\n",
      "indian         -0.568075\n",
      "vietnamese     -0.576202\n",
      "greek          -0.603279\n",
      "mexican        -0.603313\n",
      "cajun_creole   -0.609345\n",
      "french         -0.773731\n",
      "jamaican       -0.838674\n",
      "brazilian      -0.840716\n",
      "filipino       -0.860176\n",
      "russian        -0.861334\n",
      "thai           -0.907920\n",
      "british        -0.914826\n",
      "southern_us    -0.915637\n",
      "irish          -0.994313\n",
      "dtype: float64\n",
      "Cluster  1\n",
      "#Baskets:  212\n",
      "greek           0.604127\n",
      "moroccan       -0.390361\n",
      "spanish        -0.428859\n",
      "italian        -0.505883\n",
      "korean         -0.505908\n",
      "japanese       -0.532724\n",
      "chinese        -0.551486\n",
      "indian         -0.568075\n",
      "vietnamese     -0.576202\n",
      "mexican        -0.603313\n",
      "cajun_creole   -0.609345\n",
      "french         -0.773731\n",
      "jamaican       -0.838674\n",
      "brazilian      -0.840716\n",
      "filipino       -0.860176\n",
      "russian        -0.861334\n",
      "thai           -0.907920\n",
      "british        -0.914826\n",
      "southern_us    -0.915637\n",
      "irish          -0.994313\n",
      "dtype: float64\n",
      "Cluster  2\n",
      "#Baskets:  559\n",
      "brazilian       1.380905\n",
      "thai            0.935115\n",
      "british         0.904891\n",
      "irish           0.665244\n",
      "southern_us     0.632273\n",
      "jamaican        0.543025\n",
      "filipino        0.419079\n",
      "russian         0.252989\n",
      "moroccan       -0.390361\n",
      "spanish        -0.428859\n",
      "italian        -0.505883\n",
      "korean         -0.505908\n",
      "japanese       -0.532724\n",
      "chinese        -0.551486\n",
      "indian         -0.568075\n",
      "vietnamese     -0.576202\n",
      "greek          -0.603279\n",
      "mexican        -0.603313\n",
      "cajun_creole   -0.609345\n",
      "french         -0.773731\n",
      "dtype: float64\n",
      "Cluster  3\n",
      "#Baskets:  499\n",
      "irish           0.147323\n",
      "moroccan       -0.390361\n",
      "spanish        -0.428859\n",
      "italian        -0.505883\n",
      "korean         -0.505908\n",
      "japanese       -0.532724\n",
      "chinese        -0.551486\n",
      "indian         -0.568075\n",
      "vietnamese     -0.576202\n",
      "greek          -0.603279\n",
      "mexican        -0.603313\n",
      "cajun_creole   -0.609345\n",
      "french         -0.773731\n",
      "jamaican       -0.838674\n",
      "brazilian      -0.840716\n",
      "filipino       -0.860176\n",
      "russian        -0.861334\n",
      "thai           -0.907920\n",
      "british        -0.914826\n",
      "southern_us    -0.915637\n",
      "dtype: float64\n",
      "Cluster  4\n",
      "#Baskets:  217\n",
      "filipino        1.470613\n",
      "japanese        1.422046\n",
      "jamaican        1.148701\n",
      "chinese         1.116624\n",
      "vietnamese      1.082385\n",
      "russian         0.999585\n",
      "indian          0.941419\n",
      "korean          0.912091\n",
      "french          0.729677\n",
      "southern_us     0.322414\n",
      "brazilian       0.245841\n",
      "british         0.213779\n",
      "irish           0.085291\n",
      "moroccan       -0.390361\n",
      "spanish        -0.428859\n",
      "italian        -0.505883\n",
      "greek          -0.603279\n",
      "mexican        -0.603313\n",
      "cajun_creole   -0.609345\n",
      "thai           -0.907920\n",
      "dtype: float64\n",
      "Cluster  5\n",
      "#Baskets:  159\n",
      "cajun_creole    0.928608\n",
      "moroccan       -0.390361\n",
      "spanish        -0.428859\n",
      "italian        -0.505883\n",
      "korean         -0.505908\n",
      "japanese       -0.532724\n",
      "chinese        -0.551486\n",
      "indian         -0.568075\n",
      "vietnamese     -0.576202\n",
      "greek          -0.603279\n",
      "mexican        -0.603313\n",
      "french         -0.773731\n",
      "jamaican       -0.838674\n",
      "brazilian      -0.840716\n",
      "filipino       -0.860176\n",
      "russian        -0.861334\n",
      "thai           -0.907920\n",
      "british        -0.914826\n",
      "southern_us    -0.915637\n",
      "irish          -0.994313\n",
      "dtype: float64\n",
      "Cluster  6\n",
      "#Baskets:  106\n",
      "italian         2.250320\n",
      "mexican         1.795384\n",
      "greek           1.785537\n",
      "french          0.524977\n",
      "southern_us     0.345930\n",
      "moroccan       -0.390361\n",
      "spanish        -0.428859\n",
      "korean         -0.505908\n",
      "japanese       -0.532724\n",
      "chinese        -0.551486\n",
      "indian         -0.568075\n",
      "vietnamese     -0.576202\n",
      "cajun_creole   -0.609345\n",
      "jamaican       -0.838674\n",
      "brazilian      -0.840716\n",
      "filipino       -0.860176\n",
      "russian        -0.861334\n",
      "thai           -0.907920\n",
      "british        -0.914826\n",
      "irish          -0.994313\n",
      "dtype: float64\n",
      "Cluster  7\n",
      "#Baskets:  175\n",
      "thai            0.754311\n",
      "moroccan       -0.390361\n",
      "spanish        -0.428859\n",
      "italian        -0.505883\n",
      "korean         -0.505908\n",
      "japanese       -0.532724\n",
      "chinese        -0.551486\n",
      "indian         -0.568075\n",
      "vietnamese     -0.576202\n",
      "greek          -0.603279\n",
      "mexican        -0.603313\n",
      "cajun_creole   -0.609345\n",
      "french         -0.773731\n",
      "jamaican       -0.838674\n",
      "brazilian      -0.840716\n",
      "filipino       -0.860176\n",
      "russian        -0.861334\n",
      "british        -0.914826\n",
      "southern_us    -0.915637\n",
      "irish          -0.994313\n",
      "dtype: float64\n",
      "Cluster  -1\n",
      "#Baskets:  5364\n",
      "french          0.558435\n",
      "british         0.527229\n",
      "southern_us     0.526874\n",
      "russian         0.526529\n",
      "thai            0.510471\n",
      "irish           0.505953\n",
      "filipino        0.489367\n",
      "jamaican        0.474661\n",
      "cajun_creole    0.462313\n",
      "mexican         0.455472\n",
      "brazilian       0.425275\n",
      "vietnamese      0.413178\n",
      "indian          0.412436\n",
      "greek           0.407919\n",
      "chinese         0.392191\n",
      "italian         0.367197\n",
      "japanese        0.364956\n",
      "korean          0.364319\n",
      "spanish         0.357463\n",
      "moroccan        0.325374\n",
      "dtype: float64\n"
     ],
     "output_type": "stream"
    }
   ],
   "source": [
    "for selected_basket_cluster in set(labels):\n",
    "    print(\"Cluster \", selected_basket_cluster)\n",
    "    selected_basket_scores = baskets_scores_df[labels == selected_basket_cluster]\n",
    "    print(\"#Baskets: \", selected_basket_scores.shape[0])\n",
    "    \n",
    "    aggregated_basket_cluster_score = np.mean(selected_basket_scores, axis=0).sort_values(ascending=False)\n",
    "    selected_baskets = list(compress(baskets, labels == selected_basket_cluster))\n",
    "    selected_baskets = [' '.join(l) for l in selected_baskets]\n",
    "    aggregated_basket_cluster_score = aggregated_basket_cluster_score[0:50]\n",
    "    print(aggregated_basket_cluster_score)"
   ],
   "metadata": {
    "collapsed": false,
    "pycharm": {
     "name": "#%%\n",
     "is_executing": false
    }
   }
  },
  {
   "cell_type": "markdown",
   "source": [
    "#### Baseline method - K-means\n",
    "Now we will implement the baseline algorithm to compare with our method. K-means is used. We choose a K in the order of \n",
    "the cluster obtained by the DBSCAN algorithm."
   ],
   "metadata": {
    "collapsed": false
   }
  },
  {
   "cell_type": "code",
   "execution_count": 18,
   "outputs": [],
   "source": [
    "baskets_as_docs = [' '.join(basket) for basket in baskets]\n",
    "X_Baskets = vectorizer.fit_transform(baskets_as_docs)\n",
    "model = KMeans(n_clusters=10, init='k-means++', max_iter=100, n_init=1)\n",
    "model.fit(X_Baskets)\n",
    "\n",
    "order_centroids = model.cluster_centers_.argsort()[:, ::-1]\n",
    "terms = vectorizer.get_feature_names()\n",
    "baseline_labels = set(model.labels_)\n",
    "# print(\"Top terms per cluster:\")\n",
    "# for i in baseline_labels:\n",
    "#     print(\"Cluster %d:\" % i),\n",
    "#     for ind in order_centroids[i, :10]:\n",
    "#         print(' %s' % terms[ind])"
   ],
   "metadata": {
    "collapsed": false,
    "pycharm": {
     "name": "#%%\n",
     "is_executing": false
    }
   }
  },
  {
   "cell_type": "markdown",
   "source": [
    "#### Compute Scores of Baskets created using K-Means\n",
    "For the created clusters of baskets using the baseline method, we calculate its scores in terms of similarity with the \n",
    "terms that scored high TF-IDF for the cuisines "
   ],
   "metadata": {
    "collapsed": false
   }
  },
  {
   "cell_type": "code",
   "execution_count": 19,
   "outputs": [
    {
     "name": "stdout",
     "text": [
      "brazilian      -0.319971\n",
      "british        -0.244612\n",
      "irish          -0.222674\n",
      "filipino       -0.221564\n",
      "jamaican       -0.220955\n",
      "russian        -0.196107\n",
      "thai           -0.191053\n",
      "southern_us    -0.188646\n",
      "japanese       -0.082927\n",
      "chinese        -0.079768\n",
      "french         -0.073930\n",
      "vietnamese     -0.071072\n",
      "korean         -0.057225\n",
      "indian         -0.049426\n",
      "mexican        -0.015869\n",
      "italian        -0.012665\n",
      "greek           0.006803\n",
      "cajun_creole    0.017887\n",
      "moroccan        0.043791\n",
      "spanish         0.068316\n",
      "dtype: float64\n",
      "brazilian      -0.674182\n",
      "filipino       -0.661631\n",
      "jamaican       -0.649055\n",
      "british        -0.646191\n",
      "southern_us    -0.614590\n",
      "russian        -0.600815\n",
      "thai           -0.569441\n",
      "french         -0.459666\n",
      "indian         -0.450832\n",
      "chinese        -0.409955\n",
      "vietnamese     -0.406398\n",
      "japanese       -0.398726\n",
      "korean         -0.385591\n",
      "mexican        -0.348785\n",
      "spanish        -0.336507\n",
      "moroccan       -0.318713\n",
      "cajun_creole   -0.318169\n",
      "greek          -0.294900\n",
      "irish          -0.261912\n",
      "italian        -0.237992\n",
      "dtype: float64\n",
      "irish          -0.742308\n",
      "british        -0.733306\n",
      "southern_us    -0.709997\n",
      "filipino       -0.705233\n",
      "brazilian      -0.701208\n",
      "russian        -0.698138\n",
      "jamaican       -0.686315\n",
      "thai           -0.680099\n",
      "french         -0.613105\n",
      "indian         -0.473103\n",
      "greek          -0.472599\n",
      "chinese        -0.464469\n",
      "cajun_creole   -0.461112\n",
      "mexican        -0.458807\n",
      "japanese       -0.447938\n",
      "vietnamese     -0.435252\n",
      "korean         -0.424200\n",
      "italian        -0.398491\n",
      "spanish        -0.335285\n",
      "moroccan       -0.305015\n",
      "dtype: float64\n",
      "japanese        0.063710\n",
      "korean          0.125890\n",
      "french          0.130107\n",
      "chinese         0.130902\n",
      "vietnamese      0.131971\n",
      "indian          0.134290\n",
      "russian         0.137297\n",
      "irish           0.154335\n",
      "italian         0.154429\n",
      "spanish         0.159341\n",
      "greek           0.168248\n",
      "jamaican        0.178740\n",
      "southern_us     0.179167\n",
      "moroccan        0.188596\n",
      "filipino        0.194980\n",
      "british         0.197219\n",
      "mexican         0.209213\n",
      "cajun_creole    0.223787\n",
      "brazilian       0.229890\n",
      "thai            0.283040\n",
      "dtype: float64\n",
      "japanese        0.173728\n",
      "vietnamese      0.184449\n",
      "chinese         0.205036\n",
      "korean          0.223959\n",
      "spanish         0.237774\n",
      "filipino        0.249363\n",
      "moroccan        0.286493\n",
      "jamaican        0.288822\n",
      "indian          0.297238\n",
      "thai            0.301515\n",
      "brazilian       0.306096\n",
      "cajun_creole    0.323535\n",
      "italian         0.333662\n",
      "greek           0.344943\n",
      "french          0.385825\n",
      "irish           0.405790\n",
      "southern_us     0.421771\n",
      "russian         0.461158\n",
      "british         0.465418\n",
      "mexican         0.484124\n",
      "dtype: float64\n",
      "korean          0.111014\n",
      "filipino        0.115629\n",
      "japanese        0.116181\n",
      "chinese         0.131230\n",
      "brazilian       0.180736\n",
      "vietnamese      0.186738\n",
      "jamaican        0.196248\n",
      "moroccan        0.235604\n",
      "russian         0.242260\n",
      "irish           0.255301\n",
      "indian          0.257052\n",
      "british         0.266265\n",
      "spanish         0.268763\n",
      "southern_us     0.275070\n",
      "cajun_creole    0.281740\n",
      "italian         0.285883\n",
      "thai            0.298666\n",
      "greek           0.316414\n",
      "mexican         0.343802\n",
      "french          0.363867\n",
      "dtype: float64\n",
      "italian        -0.106450\n",
      "french         -0.105746\n",
      "cajun_creole   -0.099031\n",
      "greek          -0.090688\n",
      "moroccan       -0.079105\n",
      "indian         -0.078665\n",
      "mexican        -0.077256\n",
      "spanish        -0.076168\n",
      "irish          -0.071520\n",
      "korean         -0.067488\n",
      "japanese       -0.050386\n",
      "russian        -0.043736\n",
      "vietnamese     -0.019381\n",
      "chinese        -0.014510\n",
      "southern_us    -0.002691\n",
      "jamaican        0.011057\n",
      "british         0.020219\n",
      "filipino        0.030513\n",
      "brazilian       0.103570\n",
      "thai            0.127271\n",
      "dtype: float64\n",
      "moroccan        0.047246\n",
      "indian          0.056876\n",
      "spanish         0.066920\n",
      "korean          0.087307\n",
      "vietnamese      0.088732\n",
      "jamaican        0.092218\n",
      "filipino        0.093587\n",
      "japanese        0.096642\n",
      "brazilian       0.101647\n",
      "irish           0.104387\n",
      "chinese         0.105000\n",
      "cajun_creole    0.107626\n",
      "thai            0.119261\n",
      "southern_us     0.129642\n",
      "russian         0.132926\n",
      "british         0.133109\n",
      "french          0.158180\n",
      "mexican         0.191315\n",
      "italian         0.220808\n",
      "greek           0.220926\n",
      "dtype: float64\n",
      "thai           -0.307302\n",
      "mexican        -0.288885\n",
      "greek          -0.268710\n",
      "cajun_creole   -0.265432\n",
      "italian        -0.245758\n",
      "moroccan       -0.193810\n",
      "spanish        -0.173722\n",
      "irish          -0.061012\n",
      "british         0.006998\n",
      "brazilian       0.040711\n",
      "southern_us     0.050391\n",
      "french          0.268686\n",
      "russian         0.330168\n",
      "jamaican        0.415176\n",
      "indian          0.423662\n",
      "korean          0.437950\n",
      "vietnamese      0.486035\n",
      "chinese         0.515251\n",
      "filipino        0.540661\n",
      "japanese        0.681122\n",
      "dtype: float64\n",
      "japanese       -0.297538\n",
      "vietnamese     -0.287657\n",
      "chinese        -0.287183\n",
      "indian         -0.269835\n",
      "korean         -0.262107\n",
      "mexican        -0.198747\n",
      "spanish        -0.190158\n",
      "italian        -0.175830\n",
      "greek          -0.171404\n",
      "moroccan       -0.167691\n",
      "french         -0.143367\n",
      "cajun_creole   -0.088060\n",
      "russian         0.457896\n",
      "filipino        0.515625\n",
      "jamaican        0.623281\n",
      "southern_us     0.733553\n",
      "irish           0.789331\n",
      "thai            0.954249\n",
      "british         0.967504\n",
      "brazilian       1.355563\n",
      "dtype: float64\n"
     ],
     "output_type": "stream"
    }
   ],
   "source": [
    "baseline_baskets_scores = {}\n",
    "for cluster in baseline_labels:\n",
    "    basket_scores = baskets_scores_df[model.labels_ == cluster]\n",
    "    cluster_scores = np.mean(basket_scores,axis=0).sort_values()\n",
    "    np.argsort(cluster_scores)\n",
    "    print(cluster_scores)\n"
   ],
   "metadata": {
    "collapsed": false,
    "pycharm": {
     "name": "#%%\n",
     "is_executing": false
    }
   }
  }
 ],
 "metadata": {
  "kernelspec": {
   "name": "pycharm-4979b13c",
   "language": "python",
   "display_name": "PyCharm (Project)"
  },
  "language_info": {
   "codemirror_mode": {
    "name": "ipython",
    "version": 2
   },
   "file_extension": ".py",
   "mimetype": "text/x-python",
   "name": "python",
   "nbconvert_exporter": "python",
   "pygments_lexer": "ipython2",
   "version": "2.7.6"
  },
  "pycharm": {
   "stem_cell": {
    "cell_type": "raw",
    "source": [],
    "metadata": {
     "collapsed": false
    }
   }
  }
 },
 "nbformat": 4,
 "nbformat_minor": 0
}