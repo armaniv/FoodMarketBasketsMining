{
 "cells": [
  {
   "cell_type": "code",
   "execution_count": 9,
   "outputs": [],
   "source": [
    "import csv\n",
    "import scipy.stats as stats\n",
    "import math\n",
    "import random"
   ],
   "metadata": {
    "collapsed": false,
    "pycharm": {
     "name": "#%%\n",
     "is_executing": false
    }
   }
  },
  {
   "cell_type": "markdown",
   "source": [
    "#### Read the baskets and count the # of elements"
   ],
   "metadata": {
    "collapsed": false,
    "pycharm": {
     "name": "#%% md\n"
    }
   }
  },
  {
   "cell_type": "code",
   "execution_count": 2,
   "metadata": {
    "collapsed": true,
    "pycharm": {
     "is_executing": false
    }
   },
   "outputs": [],
   "source": [
    "baskets = []\n",
    "numElements = []\n",
    "with open('./data/groceries.csv', newline=None) as f:\n",
    "  reader = csv.reader(f)\n",
    "  for row in reader:\n",
    "    baskets.append(row)\n",
    "    numElements.append(len(row))"
   ]
  },
  {
   "cell_type": "markdown",
   "source": [
    "#### Compute statistics and the distribution of the available dataset"
   ],
   "metadata": {
    "collapsed": false
   }
  },
  {
   "cell_type": "code",
   "execution_count": 5,
   "outputs": [],
   "source": [
    "mean = sum(numElements) / (len(numElements) * 1.0)\n",
    "\n",
    "variance = 0\n",
    "for x in numElements:\n",
    "    variance += (x-mean)**2\n",
    "\n",
    "variance /= len(numElements)\n",
    "sigma = math.sqrt(variance)\n",
    "\n",
    "maximum = max(numElements)\n",
    "minimum = 1\n",
    "\n",
    "dist = stats.truncnorm((minimum - mean) / sigma, (maximum - mean) / sigma, loc=mean, scale=sigma)"
   ],
   "metadata": {
    "collapsed": false,
    "pycharm": {
     "name": "#%%\n",
     "is_executing": false
    }
   }
  },
  {
   "cell_type": "code",
   "source": [
    "#### Define the function to print on file"
   ],
   "metadata": {
    "collapsed": false,
    "pycharm": {
     "name": "#%% md \n"
    }
   },
   "execution_count": null,
   "outputs": []
  },
  {
   "cell_type": "code",
   "execution_count": 19,
   "outputs": [],
   "source": [
    "def printOnFile(filename, toPrintList):\n",
    "    with open(\"./data/\" + filename, \"w\", newline=\"\") as f:\n",
    "        writer = csv.writer(f)\n",
    "        writer.writerows(toPrintList)\n"
   ],
   "metadata": {
    "collapsed": false,
    "pycharm": {
     "name": "#%%\n",
     "is_executing": false
    }
   }
  },
  {
   "cell_type": "markdown",
   "source": [
    "#### Generate n baskets containing a number of item according to the computed distribution"
   ],
   "metadata": {
    "collapsed": false,
    "pycharm": {
     "name": "#%% md\n"
    }
   }
  },
  {
   "cell_type": "code",
   "execution_count": 21,
   "outputs": [],
   "source": [
    "setOfElements = set()\n",
    "\n",
    "for basket in baskets:\n",
    "    for item in basket:\n",
    "        setOfElements.add(item)\n",
    "\n",
    "setOfElements = list(setOfElements)\n",
    "elementSize = len(setOfElements)\n",
    "differentBasketSize = [10000, 50000, 100000]\n",
    "\n",
    "for numBaskets in differentBasketSize:\n",
    "    newBaskets = []\n",
    "    # generate numBaskets values sampled from the computed distribution\n",
    "    values = dist.rvs(numBaskets)\n",
    "    # generate a new basket for each of the values generated  \n",
    "    for numItem in values:\n",
    "        newBasket = []\n",
    "        indexes = random.sample(range(1, elementSize), int(numItem))\n",
    "        for index in indexes:\n",
    "            newBasket.append(setOfElements[index])\n",
    "        \n",
    "        newBaskets.append(newBasket)\n",
    "        \n",
    "    fileName = \"synthetic\" + str(numBaskets) + \".csv\"\n",
    "    printOnFile(fileName,newBaskets)"
   ],
   "metadata": {
    "collapsed": false,
    "pycharm": {
     "name": "#%%\n",
     "is_executing": false
    }
   }
  }
 ],
 "metadata": {
  "kernelspec": {
   "name": "pycharm-4979b13c",
   "language": "python",
   "display_name": "PyCharm (Project)"
  },
  "language_info": {
   "codemirror_mode": {
    "name": "ipython",
    "version": 2
   },
   "file_extension": ".py",
   "mimetype": "text/x-python",
   "name": "python",
   "nbconvert_exporter": "python",
   "pygments_lexer": "ipython2",
   "version": "2.7.6"
  },
  "pycharm": {
   "stem_cell": {
    "cell_type": "raw",
    "source": [],
    "metadata": {
     "collapsed": false
    }
   }
  }
 },
 "nbformat": 4,
 "nbformat_minor": 0
}