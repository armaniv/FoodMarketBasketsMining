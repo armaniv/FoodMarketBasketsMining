{
 "cells": [
  {
   "cell_type": "code",
   "execution_count": 121,
   "metadata": {
    "collapsed": true,
    "pycharm": {
     "is_executing": false,
     "name": "#%%\n"
    }
   },
   "outputs": [],
   "source": [
    "import json\n",
    "import pandas as pd\n",
    "import matplotlib.pyplot as plt\n",
    "import csv\n",
    "import numpy as np\n",
    "\n",
    "from nltk.util import ngrams\n",
    "from sklearn.feature_extraction.text import TfidfVectorizer \n",
    "from sklearn.feature_extraction.text import CountVectorizer\n",
    "from sklearn.cluster import DBSCAN\n",
    "from sklearn.cluster import OPTICS\n",
    "from sklearn.cluster import KMeans\n",
    "from sklearn.preprocessing import StandardScaler\n",
    "from itertools import compress\n"
   ]
  },
  {
   "cell_type": "markdown",
   "metadata": {},
   "source": [
    "#### Load Recipes Data"
   ]
  },
  {
   "cell_type": "code",
   "execution_count": 122,
   "metadata": {
    "collapsed": true,
    "pycharm": {
     "is_executing": false
    }
   },
   "outputs": [],
   "source": [
    "recipes = json.load(open('./data/recipe_train.json'))"
   ]
  },
  {
   "cell_type": "markdown",
   "source": [
    "#### Convert recipe to text document"
   ],
   "metadata": {
    "collapsed": false,
    "pycharm": {
     "name": "#%% md\n",
     "is_executing": false
    }
   }
  },
  {
   "cell_type": "code",
   "execution_count": 123,
   "metadata": {
    "collapsed": true,
    "pycharm": {
     "is_executing": false
    }
   },
   "outputs": [],
   "source": [
    "recipes_as_doc = {}\n",
    "\n",
    "for sample in recipes:\n",
    "    key = sample['cuisine']\n",
    "    # If key is in the dictionary, return its value. If not, insert key with a value of default and return default.\n",
    "    recipes_as_doc.setdefault(key,[]).append(' '.join(sample['ingredients']).lower())\n",
    "\n",
    "# create a single list with all the documents\n",
    "all_docs = []\n",
    "for k, v in recipes_as_doc.items():\n",
    "   all_docs.append(' '.join(v))"
   ]
  },
  {
   "cell_type": "markdown",
   "source": [
    "#### Tfidf vectorizer for text data"
   ]
  },
  {
   "cell_type": "code",
   "execution_count": 124,
   "metadata": {
    "collapsed": false,
    "pycharm": {
     "name": "#%%\n",
     "is_executing": false
    }
   },
   "outputs": [],
   "source": [
    "# code adapted from https://programminghistorian.org/en/lessons/analyzing-documents-with-tfidf\n",
    "\n",
    "vectorizer = TfidfVectorizer(use_idf=True)\n",
    "transformed_documents = vectorizer.fit_transform(all_docs)"
   ]
  },
  {
   "cell_type": "markdown",
   "source": [
    "#### Analyze results"
   ],
   "metadata": {
    "collapsed": false
   }
  },
  {
   "cell_type": "code",
   "execution_count": 125,
   "outputs": [
    {
     "name": "stdout",
     "text": [
      "greek southern_us filipino indian jamaican spanish italian mexican chinese british thai vietnamese cajun_creole brazilian french japanese irish korean moroccan russian "
     ],
     "output_type": "stream"
    }
   ],
   "source": [
    "transformed_documents_as_array = transformed_documents.toarray()\n",
    "len(transformed_documents_as_array)\n",
    "docs_scores_dfs = {}\n",
    "\n",
    "# loop each item in transformed_documents_as_array, using enumerate to keep track of the current position\n",
    "for counter, doc in enumerate(transformed_documents_as_array):\n",
    "    # construct a data frame\n",
    "    tf_idf_tuples = list(zip(vectorizer.get_feature_names(), doc))\n",
    "    one_doc_as_df = pd.DataFrame\\\n",
    "        .from_records(tf_idf_tuples, columns=['term', 'score'])\\\n",
    "        .sort_values(by='score', ascending=False)\\\n",
    "        .reset_index(drop=True)\n",
    "    docs_scores_dfs[list(recipes_as_doc.keys())[counter]] = one_doc_as_df\n",
    "\n",
    "    print(list(recipes_as_doc.keys())[counter], end=' ')\n",
    "    # print(one_doc_as_df)\n",
    "    # output to a csv using the enumerated value for the filename\n",
    "    #one_doc_as_df.to_csv(\"tf.idf\" + counter.__str__() + \".csv\")"
   ],
   "metadata": {
    "collapsed": false,
    "pycharm": {
     "name": "#%%\n",
     "is_executing": false
    }
   }
  },
  {
   "cell_type": "markdown",
   "source": [
    "#### Statistics of Scores"
   ],
   "metadata": {
    "collapsed": false,
    "pycharm": {
     "name": "#%% md\n"
    }
   }
  },
  {
   "cell_type": "code",
   "execution_count": 126,
   "outputs": [
    {
     "data": {
      "text/plain": "Text(0, 0.5, 'Number of Therms')"
     },
     "metadata": {},
     "output_type": "execute_result",
     "execution_count": 126
    },
    {
     "data": {
      "text/plain": "<Figure size 432x288 with 1 Axes>",
      "image/png": "[encoded data removed]"
     },
     "metadata": {
      "needs_background": "light"
     },
     "output_type": "display_data"
    }
   ],
   "source": [
    "statistics = {}\n",
    "for k in docs_scores_dfs.keys():\n",
    "    df = docs_scores_dfs[k]\n",
    "    scores = df['score']\n",
    "    scores = scores.loc[scores>0.0]\n",
    "    statistics[k] = [scores.mean(), scores.max(), scores.min(), df['score'].astype(bool).sum(axis=0)]\n",
    "\n",
    "irish_scores = docs_scores_dfs[\"irish\"][\"score\"]\n",
    "irish_scores = irish_scores.loc[irish_scores>0.0]\n",
    "plt.hist(irish_scores, color = 'blue', edgecolor = 'black', bins=300)\n",
    "plt.title('Histogram of Scores')\n",
    "plt.xlabel('Frequency')\n",
    "plt.ylabel('Number of Therms')\n",
    "# print(statistics)"
   ],
   "metadata": {
    "collapsed": false,
    "pycharm": {
     "name": "#%%\n",
     "is_executing": false
    }
   }
  },
  {
   "cell_type": "markdown",
   "source": [
    "#### Top 10 therms per cuisine"
   ],
   "metadata": {
    "collapsed": false,
    "pycharm": {
     "name": "#%% md\n"
    }
   }
  },
  {
   "cell_type": "code",
   "execution_count": 127,
   "outputs": [
    {
     "name": "stdout",
     "text": [
      "-------------\n",
      "greek\n",
      "        term     score\n",
      "0      fresh  0.297130\n",
      "1     pepper  0.294340\n",
      "2        oil  0.287714\n",
      "3       salt  0.260512\n",
      "4      olive  0.260163\n",
      "5       feta  0.231165\n",
      "6     ground  0.226684\n",
      "7      lemon  0.224591\n",
      "8     garlic  0.220058\n",
      "9     cheese  0.202621\n",
      "10   oregano  0.162209\n",
      "11     juice  0.155540\n",
      "12     dried  0.152750\n",
      "13  tomatoes  0.147868\n",
      "14     black  0.139847\n",
      "-------------\n",
      "southern_us\n",
      "       term     score\n",
      "0      salt  0.374617\n",
      "1    pepper  0.329929\n",
      "2     sugar  0.285364\n",
      "3    butter  0.265297\n",
      "4     flour  0.227380\n",
      "5    ground  0.189832\n",
      "6      eggs  0.170627\n",
      "7    powder  0.160286\n",
      "8       oil  0.157209\n",
      "9       all  0.155608\n",
      "10  purpose  0.155608\n",
      "11   baking  0.151546\n",
      "12     milk  0.137758\n",
      "13    black  0.124462\n",
      "14   garlic  0.121507\n",
      "-------------\n",
      "filipino\n",
      "       term     score\n",
      "0     sauce  0.327662\n",
      "1    garlic  0.325087\n",
      "2    pepper  0.323156\n",
      "3      salt  0.309637\n",
      "4       oil  0.306418\n",
      "5    onions  0.252988\n",
      "6     water  0.224020\n",
      "7     sugar  0.205352\n",
      "8       soy  0.186683\n",
      "9    ground  0.173165\n",
      "10  chicken  0.158359\n",
      "11     pork  0.136472\n",
      "12    black  0.133897\n",
      "13     milk  0.122954\n",
      "14  vinegar  0.110723\n",
      "-------------\n",
      "indian\n",
      "         term     score\n",
      "0      ground  0.356060\n",
      "1        salt  0.304793\n",
      "2         oil  0.259010\n",
      "3      garlic  0.208764\n",
      "4       fresh  0.208637\n",
      "5       cumin  0.199327\n",
      "6      masala  0.198498\n",
      "7      powder  0.191293\n",
      "8      ginger  0.188105\n",
      "9       garam  0.181433\n",
      "10     pepper  0.180198\n",
      "11     onions  0.165022\n",
      "12  coriander  0.147295\n",
      "13   cilantro  0.133140\n",
      "14      seeds  0.132502\n",
      "-------------\n",
      "jamaican\n",
      "        term     score\n",
      "0     pepper  0.431094\n",
      "1     ground  0.384930\n",
      "2       salt  0.289763\n",
      "3     garlic  0.222294\n",
      "4      thyme  0.220477\n",
      "5        oil  0.191755\n",
      "6     onions  0.178971\n",
      "7      black  0.160506\n",
      "8      fresh  0.156955\n",
      "9   allspice  0.152350\n",
      "10     water  0.149143\n",
      "11     sugar  0.144882\n",
      "12    powder  0.141331\n",
      "13   chicken  0.122865\n",
      "14     sauce  0.122865\n",
      "-------------\n",
      "spanish\n",
      "        term     score\n",
      "0     pepper  0.384981\n",
      "1        oil  0.327947\n",
      "2       salt  0.298984\n",
      "3      olive  0.289627\n",
      "4     garlic  0.250416\n",
      "5      fresh  0.205412\n",
      "6        red  0.181351\n",
      "7     cloves  0.163973\n",
      "8     ground  0.160854\n",
      "9   tomatoes  0.154616\n",
      "10    onions  0.134565\n",
      "11      wine  0.120307\n",
      "12      bell  0.117633\n",
      "13   chicken  0.116296\n",
      "14     extra  0.114960\n",
      "-------------\n",
      "italian\n",
      "        term     score\n",
      "0     cheese  0.340284\n",
      "1     pepper  0.319518\n",
      "2        oil  0.300257\n",
      "3       salt  0.282442\n",
      "4      fresh  0.265436\n",
      "5      olive  0.264106\n",
      "6     garlic  0.241605\n",
      "7     ground  0.172542\n",
      "8   parmesan  0.148991\n",
      "9      black  0.143216\n",
      "10  tomatoes  0.143043\n",
      "11    grated  0.119675\n",
      "12       red  0.118749\n",
      "13     basil  0.115973\n",
      "14    cloves  0.112329\n",
      "-------------\n",
      "mexican\n",
      "         term     score\n",
      "0      pepper  0.296588\n",
      "1        salt  0.267985\n",
      "2      ground  0.238020\n",
      "3      garlic  0.219564\n",
      "4      cheese  0.203900\n",
      "5         oil  0.202811\n",
      "6    cilantro  0.190280\n",
      "7       fresh  0.176863\n",
      "8     chicken  0.167738\n",
      "9        lime  0.163493\n",
      "10     onions  0.161404\n",
      "11     powder  0.160178\n",
      "12  tortillas  0.160102\n",
      "13   tomatoes  0.159497\n",
      "14      black  0.153436\n",
      "-------------\n",
      "chinese\n",
      "       term     score\n",
      "0     sauce  0.437906\n",
      "1       oil  0.383423\n",
      "2       soy  0.286323\n",
      "3    garlic  0.215891\n",
      "4    pepper  0.200962\n",
      "5    sesame  0.199125\n",
      "6    ginger  0.189224\n",
      "7     sugar  0.181057\n",
      "8   chicken  0.169829\n",
      "9      rice  0.159366\n",
      "10     salt  0.156176\n",
      "11   onions  0.145714\n",
      "12    water  0.144055\n",
      "13    fresh  0.130530\n",
      "14     corn  0.128233\n",
      "-------------\n",
      "british\n",
      "        term     score\n",
      "0       salt  0.349949\n",
      "1      flour  0.317950\n",
      "2      sugar  0.309099\n",
      "3     butter  0.296844\n",
      "4       eggs  0.217186\n",
      "5     ground  0.212421\n",
      "6       milk  0.195400\n",
      "7     pepper  0.187230\n",
      "8      cream  0.182464\n",
      "9        all  0.168847\n",
      "10   purpose  0.168166\n",
      "11    baking  0.145699\n",
      "12       oil  0.136848\n",
      "13  unsalted  0.131401\n",
      "14    powder  0.121869\n",
      "-------------\n",
      "thai\n",
      "        term     score\n",
      "0      sauce  0.363711\n",
      "1      fresh  0.292176\n",
      "2       lime  0.261182\n",
      "3        oil  0.236289\n",
      "4     garlic  0.214158\n",
      "5       fish  0.195066\n",
      "6      sugar  0.193368\n",
      "7        red  0.185768\n",
      "8     pepper  0.183756\n",
      "9       thai  0.179264\n",
      "10   chicken  0.169896\n",
      "11   coconut  0.166095\n",
      "12  cilantro  0.163189\n",
      "13      rice  0.145976\n",
      "14      milk  0.141282\n",
      "-------------\n",
      "vietnamese\n",
      "        term     score\n",
      "0      sauce  0.421427\n",
      "1      sugar  0.249025\n",
      "2      fresh  0.248113\n",
      "3     garlic  0.247201\n",
      "4        oil  0.240815\n",
      "5       fish  0.234388\n",
      "6       rice  0.217555\n",
      "7     pepper  0.195206\n",
      "8       lime  0.178422\n",
      "9       salt  0.177419\n",
      "10  cilantro  0.153246\n",
      "11     water  0.135915\n",
      "12    onions  0.133178\n",
      "13    leaves  0.129530\n",
      "14    ground  0.123600\n",
      "-------------\n",
      "cajun_creole\n",
      "         term     score\n",
      "0      pepper  0.517158\n",
      "1      garlic  0.226017\n",
      "2        salt  0.223313\n",
      "3       green  0.196497\n",
      "4      onions  0.195145\n",
      "5         oil  0.185005\n",
      "6     chicken  0.166752\n",
      "7       cajun  0.157876\n",
      "8        bell  0.156837\n",
      "9      ground  0.153232\n",
      "10      sauce  0.149626\n",
      "11  seasoning  0.141063\n",
      "12     celery  0.139486\n",
      "13        red  0.125064\n",
      "14       rice  0.121008\n",
      "-------------\n",
      "brazilian\n",
      "        term     score\n",
      "0     pepper  0.346752\n",
      "1        oil  0.284544\n",
      "2       salt  0.279936\n",
      "3    cachaca  0.270255\n",
      "4       milk  0.263808\n",
      "5     garlic  0.223488\n",
      "6       lime  0.198146\n",
      "7     onions  0.185472\n",
      "8      sugar  0.172800\n",
      "9    coconut  0.163584\n",
      "10     black  0.158976\n",
      "11     olive  0.153216\n",
      "12    ground  0.147456\n",
      "13     fresh  0.147456\n",
      "14  tomatoes  0.133632\n",
      "-------------\n",
      "french\n",
      "      term     score\n",
      "0     salt  0.332754\n",
      "1    fresh  0.274369\n",
      "2   pepper  0.243952\n",
      "3   butter  0.237623\n",
      "4    sugar  0.235990\n",
      "5      oil  0.210472\n",
      "6   ground  0.176788\n",
      "7    large  0.176176\n",
      "8    flour  0.163927\n",
      "9    olive  0.161682\n",
      "10  garlic  0.158824\n",
      "11   black  0.148208\n",
      "12   cream  0.142696\n",
      "13    wine  0.135347\n",
      "14   water  0.134939\n",
      "-------------\n",
      "japanese\n",
      "      term     score\n",
      "0    sauce  0.331914\n",
      "1      oil  0.321564\n",
      "2    mirin  0.281935\n",
      "3      soy  0.278023\n",
      "4    sugar  0.231626\n",
      "5     salt  0.206643\n",
      "6     rice  0.197721\n",
      "7   sesame  0.194641\n",
      "8     sake  0.190536\n",
      "9    water  0.170954\n",
      "10  ginger  0.164530\n",
      "11  onions  0.141688\n",
      "12   fresh  0.138476\n",
      "13    miso  0.136929\n",
      "14  pepper  0.129554\n",
      "-------------\n",
      "irish\n",
      "        term     score\n",
      "0       salt  0.379941\n",
      "1      flour  0.282265\n",
      "2     butter  0.278954\n",
      "3      sugar  0.251638\n",
      "4     pepper  0.233428\n",
      "5     baking  0.211078\n",
      "6   potatoes  0.195351\n",
      "7        all  0.187073\n",
      "8    purpose  0.187073\n",
      "9     ground  0.183762\n",
      "10      milk  0.153963\n",
      "11     cream  0.144030\n",
      "12    onions  0.143202\n",
      "13      eggs  0.139063\n",
      "14     fresh  0.137408\n",
      "-------------\n",
      "korean\n",
      "         term     score\n",
      "0      sesame  0.407496\n",
      "1         oil  0.353020\n",
      "2       sauce  0.291079\n",
      "3      garlic  0.276785\n",
      "4      onions  0.243433\n",
      "5         soy  0.235636\n",
      "6      pepper  0.232604\n",
      "7       sugar  0.211379\n",
      "8        rice  0.179326\n",
      "9        salt  0.164599\n",
      "10      seeds  0.159401\n",
      "11      green  0.149005\n",
      "12     ginger  0.138609\n",
      "13  gochujang  0.132708\n",
      "14      water  0.120417\n",
      "-------------\n",
      "moroccan\n",
      "        term     score\n",
      "0     ground  0.538075\n",
      "1     pepper  0.262753\n",
      "2      fresh  0.254113\n",
      "3        oil  0.252542\n",
      "4       salt  0.236439\n",
      "5      olive  0.212873\n",
      "6     garlic  0.177525\n",
      "7      cumin  0.177525\n",
      "8      lemon  0.176347\n",
      "9   cinnamon  0.162208\n",
      "10   chicken  0.142570\n",
      "11   chopped  0.123325\n",
      "12    onions  0.119790\n",
      "13    ginger  0.112721\n",
      "14  cilantro  0.112328\n",
      "-------------\n",
      "russian\n",
      "      term     score\n",
      "0     salt  0.375552\n",
      "1    sugar  0.272438\n",
      "2    flour  0.257243\n",
      "3   butter  0.232278\n",
      "4   pepper  0.229022\n",
      "5     eggs  0.222509\n",
      "6    cream  0.196459\n",
      "7      oil  0.187776\n",
      "8    water  0.181264\n",
      "9   onions  0.181264\n",
      "10  ground  0.172580\n",
      "11   fresh  0.163897\n",
      "12    dill  0.145939\n",
      "13    sour  0.144573\n",
      "14     all  0.140018\n"
     ],
     "output_type": "stream"
    }
   ],
   "source": [
    "for k in docs_scores_dfs.keys():\n",
    "    scores_df = docs_scores_dfs[k]\n",
    "    print('-------------')\n",
    "    print(k)\n",
    "    print(scores_df.iloc[:15,:])\n"
   ],
   "metadata": {
    "collapsed": false,
    "pycharm": {
     "name": "#%%\n",
     "is_executing": false
    }
   }
  },
  {
   "cell_type": "markdown",
   "source": [
    "#### Load Baskets Market Data"
   ],
   "metadata": {
    "collapsed": false,
    "pycharm": {
     "name": "#%% md\n"
    }
   }
  },
  {
   "cell_type": "code",
   "execution_count": 128,
   "outputs": [],
   "source": [
    "baskets = []\n",
    "with open('./data/groceries.csv', newline=None) as f:\n",
    "  reader = csv.reader(f)\n",
    "  for row in reader:\n",
    "    baskets.append([elem.replace(' ', '-') for elem in row])"
   ],
   "metadata": {
    "collapsed": false,
    "pycharm": {
     "name": "#%%\n",
     "is_executing": false
    }
   }
  },
  {
   "cell_type": "markdown",
   "source": [
    "#### Compute ngram for tf.idf top score "
   ],
   "metadata": {
    "collapsed": false
   }
  },
  {
   "cell_type": "code",
   "execution_count": 129,
   "outputs": [],
   "source": [
    "top_scores_ngram = {}\n",
    "\n",
    "for cuisine in docs_scores_dfs.keys():\n",
    "    scores_df = docs_scores_dfs[cuisine]\n",
    "    scores_df = scores_df[scores_df['score']>(statistics[cuisine][1]/4)]\n",
    "    #scores_df = scores_df.iloc[:30,:]\n",
    "    scores_df = scores_df.sort_values(by=['score'],ascending=False)\n",
    "    \n",
    "    ngram_scores = []\n",
    "    for index, row in scores_df.iterrows():\n",
    "        ngram = list(ngrams(row['term'], 3))\n",
    "        score =  row['score']\n",
    "        ngram_scores.append([ngram, score])\n",
    "        \n",
    "    top_scores_ngram[cuisine] = ngram_scores"
   ],
   "metadata": {
    "collapsed": false,
    "pycharm": {
     "name": "#%%\n",
     "is_executing": false
    }
   }
  },
  {
   "cell_type": "markdown",
   "source": [
    "#### Define the metric similarity"
   ],
   "metadata": {
    "collapsed": false
   }
  },
  {
   "cell_type": "code",
   "execution_count": 130,
   "outputs": [],
   "source": [
    "def jaccard_distance(a, b):\n",
    "    \"\"\"Calculate the jaccard distance between sets A and B\"\"\"\n",
    "    a = set(a)\n",
    "    b = set(b)\n",
    "    return 1.0 * len(a&b)/len(a|b)"
   ],
   "metadata": {
    "collapsed": false,
    "pycharm": {
     "name": "#%%\n",
     "is_executing": false
    }
   }
  },
  {
   "cell_type": "markdown",
   "source": [
    "#### Compute Basket Scores\n",
    "For each basket we iterate over all items and compute their similarities with the top \n",
    "terms in the cuisines docs"
   ],
   "metadata": {
    "collapsed": false
   }
  },
  {
   "cell_type": "code",
   "execution_count": 131,
   "outputs": [],
   "source": [
    "baskets_scores = []\n",
    "\n",
    "for basket in baskets:\n",
    "    similarities = {}\n",
    "    for cuisine in top_scores_ngram:\n",
    "        value = 0\n",
    "        for item in basket:      \n",
    "            item_ngram = list(ngrams(item, 3))\n",
    "            for ngram_term, score in top_scores_ngram[cuisine]:\n",
    "                sim = jaccard_distance(item_ngram, ngram_term)\n",
    "                if sim > 0:\n",
    "                    value += sim * score\n",
    "                    \n",
    "        similarities[cuisine] = value    \n",
    "    baskets_scores.append(similarities)\n",
    "           \n",
    "    # print('------------------')\n",
    "    # print(\"basket: \", basket)\n",
    "    # for k in similarities:\n",
    "    #     print(k, similarities[k]) \n",
    "baskets_scores_df = pd.DataFrame(baskets_scores)\n",
    "baskets_scores_df=(baskets_scores_df-baskets_scores_df.mean())/baskets_scores_df.std()"
   ],
   "metadata": {
    "collapsed": false,
    "pycharm": {
     "name": "#%%\n",
     "is_executing": false
    }
   }
  },
  {
   "cell_type": "markdown",
   "source": [
    "#### CLustering baskets\n",
    "We now try to cluster the baskets, based on the scores that they \n",
    "obtained using frequent therms of recipes"
   ],
   "metadata": {
    "collapsed": false,
    "pycharm": {
     "name": "#%% md\n"
    }
   }
  },
  {
   "cell_type": "code",
   "execution_count": 145,
   "outputs": [],
   "source": [
    "X = StandardScaler().fit_transform(baskets_scores_df.to_numpy())"
   ],
   "metadata": {
    "collapsed": false,
    "pycharm": {
     "name": "#%%\n",
     "is_executing": false
    }
   }
  },
  {
   "cell_type": "code",
   "execution_count": 147,
   "outputs": [
    {
     "name": "stdout",
     "text": [
      "{0, -1}\n"
     ],
     "output_type": "stream"
    },
    {
     "name": "stderr",
     "text": [
      "/home/nepotu/anaconda3/envs/dataMiningProject/lib/python3.7/site-packages/sklearn/cluster/_optics.py:802: RuntimeWarning: divide by zero encountered in true_divide\n",
      "  ratio = reachability_plot[:-1] / reachability_plot[1:]\n"
     ],
     "output_type": "stream"
    }
   ],
   "source": [
    "# OPTICS\n",
    "optics = OPTICS(min_samples=50, max_eps=0.1, xi=.05, min_cluster_size=.05)\n",
    "optics.fit(X)\n",
    "optics_labels = optics.labels_[optics.ordering_]\n",
    "print(set(optics_labels))"
   ],
   "metadata": {
    "collapsed": false,
    "pycharm": {
     "name": "#%%\n",
     "is_executing": false
    }
   }
  },
  {
   "cell_type": "code",
   "execution_count": 134,
   "outputs": [
    {
     "name": "stdout",
     "text": [
      "{0, 1, 2, 3, 4, 5, 6, 7, 8, 9}\n"
     ],
     "output_type": "stream"
    }
   ],
   "source": [
    "# K-Means\n",
    "kMeans = KMeans(n_clusters=10, random_state=0).fit(X)\n",
    "kMeans_labels = kMeans.labels_\n",
    "print(set(kMeans_labels))"
   ],
   "metadata": {
    "collapsed": false,
    "pycharm": {
     "name": "#%%\n",
     "is_executing": false
    }
   }
  },
  {
   "cell_type": "code",
   "execution_count": 151,
   "outputs": [
    {
     "name": "stdout",
     "text": [
      "{0, 1, 2, 3, 4, 5, 6, 7, 8, -1}\n",
      "[0.35, 50]\n"
     ],
     "output_type": "stream"
    }
   ],
   "source": [
    "# DBSCAN \n",
    "[eps, min_samples] = [0.35, 50]\n",
    "dbScan = DBSCAN(eps=eps, min_samples=min_samples).fit(X)\n",
    "dbScan_labels = dbScan.labels_\n",
    "print(set(dbScan_labels))\n",
    "print([eps, min_samples])"
   ],
   "metadata": {
    "collapsed": false,
    "pycharm": {
     "name": "#%%\n",
     "is_executing": false
    }
   }
  },
  {
   "cell_type": "code",
   "execution_count": 135,
   "outputs": [],
   "source": [],
   "metadata": {
    "collapsed": false,
    "pycharm": {
     "name": "#%%\n",
     "is_executing": false
    }
   }
  },
  {
   "cell_type": "markdown",
   "source": [
    "#### Analysis of the method\n",
    "Observe size of created basket clusters"
   ],
   "metadata": {
    "collapsed": false,
    "pycharm": {
     "name": "#%% md\n"
    }
   }
  },
  {
   "cell_type": "code",
   "execution_count": 152,
   "outputs": [
    {
     "data": {
      "text/plain": "<matplotlib.axes._subplots.AxesSubplot at 0x7ff989ff7810>"
     },
     "metadata": {},
     "output_type": "execute_result",
     "execution_count": 152
    },
    {
     "data": {
      "text/plain": "<Figure size 432x288 with 1 Axes>",
      "image/png": "[encoded data removed]"
     },
     "metadata": {
      "needs_background": "light"
     },
     "output_type": "display_data"
    }
   ],
   "source": [
    "labels = dbScan_labels\n",
    "cluster_sizes = []\n",
    "for label in set(labels):\n",
    "    cluster_sizes.append([label, len(baskets_scores_df[labels == label])])\n",
    "pd.DataFrame(cluster_sizes).plot(kind='bar')"
   ],
   "metadata": {
    "collapsed": false,
    "pycharm": {
     "name": "#%%\n",
     "is_executing": false
    }
   }
  },
  {
   "cell_type": "markdown",
   "source": [
    "Select one cluster and calculate its overall score (by summing\n",
    "all scores of all items of that cluster)"
   ],
   "metadata": {
    "collapsed": false,
    "pycharm": {
     "name": "#%% md\n"
    }
   }
  },
  {
   "cell_type": "code",
   "execution_count": 153,
   "outputs": [
    {
     "name": "stdout",
     "text": [
      "Cluster  0\n",
      "greek           25.334099\n",
      "moroccan       -42.795885\n",
      "cajun_creole   -54.449929\n",
      "korean         -55.521350\n",
      "spanish        -56.925872\n",
      "chinese        -61.983712\n",
      "vietnamese     -63.827349\n",
      "jamaican       -64.449079\n",
      "russian        -69.692967\n",
      "mexican        -69.796280\n",
      "italian        -69.961278\n",
      "thai           -72.704772\n",
      "indian         -73.094546\n",
      "filipino       -73.259020\n",
      "southern_us    -73.962691\n",
      "british        -74.075083\n",
      "japanese       -74.355694\n",
      "french         -77.420671\n",
      "brazilian      -77.751062\n",
      "irish          -82.967259\n",
      "dtype: float64\n",
      "Cluster  1\n",
      "brazilian       -40.902313\n",
      "thai            -98.362926\n",
      "southern_us    -111.703369\n",
      "british        -112.232742\n",
      "moroccan       -118.388615\n",
      "irish          -131.460535\n",
      "filipino       -133.590941\n",
      "russian        -135.576932\n",
      "cajun_creole   -151.175301\n",
      "korean         -153.337995\n",
      "spanish        -157.092377\n",
      "french         -161.275276\n",
      "chinese        -170.389861\n",
      "vietnamese     -175.242590\n",
      "jamaican       -178.025064\n",
      "mexican        -191.620920\n",
      "italian        -193.824214\n",
      "indian         -203.484755\n",
      "japanese       -206.641895\n",
      "greek          -209.136415\n",
      "dtype: float64\n",
      "Cluster  2\n",
      "moroccan        -831.277229\n",
      "cajun_creole   -1057.630449\n",
      "spanish        -1063.045468\n",
      "korean         -1065.333753\n",
      "chinese        -1182.692247\n",
      "vietnamese     -1214.946433\n",
      "jamaican       -1237.090425\n",
      "indian         -1292.140431\n",
      "italian        -1320.016417\n",
      "russian        -1325.062720\n",
      "mexican        -1328.830594\n",
      "japanese       -1352.895430\n",
      "thai           -1370.048700\n",
      "british        -1386.643755\n",
      "greek          -1397.919535\n",
      "filipino       -1413.691682\n",
      "southern_us    -1419.810020\n",
      "french         -1461.990630\n",
      "brazilian      -1497.880027\n",
      "irish          -1565.632117\n",
      "dtype: float64\n",
      "Cluster  3\n",
      "jamaican        -20.487864\n",
      "korean          -29.796958\n",
      "russian         -30.414524\n",
      "filipino        -33.102937\n",
      "vietnamese      -34.601484\n",
      "chinese         -34.730091\n",
      "italian         -44.162956\n",
      "japanese        -46.738320\n",
      "british         -50.323010\n",
      "southern_us     -50.393599\n",
      "brazilian       -51.122545\n",
      "french          -51.131270\n",
      "indian          -51.955334\n",
      "moroccan        -56.794538\n",
      "irish           -63.391158\n",
      "mexican         -68.782563\n",
      "cajun_creole    -72.303279\n",
      "spanish         -75.081988\n",
      "thai            -97.639078\n",
      "greek          -100.453496\n",
      "dtype: float64\n",
      "Cluster  4\n",
      "cajun_creole    12.239031\n",
      "moroccan        -1.715759\n",
      "spanish        -13.208097\n",
      "jamaican       -15.891234\n",
      "korean         -32.722002\n",
      "mexican        -38.897451\n",
      "italian        -40.934681\n",
      "chinese        -43.392755\n",
      "vietnamese     -43.507161\n",
      "brazilian      -46.230319\n",
      "greek          -47.396636\n",
      "filipino       -47.765559\n",
      "southern_us    -52.667842\n",
      "russian        -52.938181\n",
      "thai           -54.476921\n",
      "indian         -55.170812\n",
      "french         -59.134635\n",
      "british        -60.435131\n",
      "japanese       -62.225210\n",
      "irish          -66.404630\n",
      "dtype: float64\n",
      "Cluster  5\n",
      "irish           -40.560960\n",
      "moroccan       -122.788192\n",
      "cajun_creole   -157.148241\n",
      "korean         -159.354460\n",
      "spanish        -163.167416\n",
      "chinese        -177.583777\n",
      "vietnamese     -182.917853\n",
      "jamaican       -186.046758\n",
      "russian        -199.738914\n",
      "italian        -201.231008\n",
      "mexican        -202.361395\n",
      "filipino       -209.533874\n",
      "british        -211.898219\n",
      "thai           -212.409508\n",
      "southern_us    -212.973443\n",
      "indian         -213.200739\n",
      "japanese       -214.182108\n",
      "greek          -216.206232\n",
      "french         -222.072390\n",
      "brazilian      -223.106520\n",
      "dtype: float64\n",
      "Cluster  6\n",
      "mexican         -3.919279\n",
      "russian         -4.943469\n",
      "vietnamese     -11.483322\n",
      "british        -12.195306\n",
      "french         -13.316460\n",
      "korean         -16.930348\n",
      "thai           -20.651916\n",
      "southern_us    -21.066364\n",
      "spanish        -21.529859\n",
      "moroccan       -21.997885\n",
      "irish          -22.064812\n",
      "chinese        -22.515057\n",
      "jamaican       -25.615994\n",
      "japanese       -27.914902\n",
      "cajun_creole   -28.175961\n",
      "greek          -30.158513\n",
      "filipino       -33.395719\n",
      "brazilian      -33.452185\n",
      "italian        -35.997244\n",
      "indian         -38.293780\n",
      "dtype: float64\n",
      "Cluster  7\n",
      "vietnamese      -1.484252\n",
      "chinese         -2.587567\n",
      "korean          -7.794141\n",
      "thai           -11.667639\n",
      "cajun_creole   -13.745650\n",
      "japanese       -19.833949\n",
      "filipino       -20.712895\n",
      "jamaican       -22.695453\n",
      "moroccan       -24.198535\n",
      "spanish        -32.474254\n",
      "mexican        -32.965872\n",
      "southern_us    -37.203355\n",
      "russian        -38.694779\n",
      "italian        -40.246782\n",
      "british        -41.232045\n",
      "indian         -42.469478\n",
      "french         -43.149573\n",
      "greek          -43.404267\n",
      "brazilian      -44.381936\n",
      "irish          -47.287816\n",
      "dtype: float64\n",
      "Cluster  8\n",
      "brazilian       -7.872132\n",
      "indian         -13.916089\n",
      "japanese       -16.637457\n",
      "thai           -18.995373\n",
      "british        -19.998900\n",
      "southern_us    -20.126714\n",
      "moroccan       -21.571249\n",
      "greek          -23.559333\n",
      "irish          -23.808693\n",
      "russian        -24.441534\n",
      "filipino       -24.819740\n",
      "cajun_creole   -27.877063\n",
      "korean         -28.367301\n",
      "spanish        -28.810457\n",
      "french         -29.320192\n",
      "chinese        -31.454693\n",
      "jamaican       -32.504954\n",
      "vietnamese     -32.795462\n",
      "mexican        -35.336410\n",
      "italian        -35.976692\n",
      "dtype: float64\n",
      "Cluster  -1\n",
      "french          2118.811098\n",
      "irish           2043.577980\n",
      "greek           2042.900327\n",
      "brazilian       2022.699040\n",
      "japanese        2021.424965\n",
      "southern_us     1999.907398\n",
      "filipino        1989.872367\n",
      "indian          1983.725964\n",
      "italian         1982.351273\n",
      "mexican         1972.510764\n",
      "british         1969.034190\n",
      "thai            1956.956834\n",
      "russian         1881.504018\n",
      "jamaican        1782.806825\n",
      "vietnamese      1760.805906\n",
      "chinese         1727.329758\n",
      "spanish         1611.335789\n",
      "cajun_creole    1550.266842\n",
      "korean          1549.158308\n",
      "moroccan        1241.527887\n",
      "dtype: float64\n"
     ],
     "output_type": "stream"
    }
   ],
   "source": [
    "for selected_basket_cluster in set(labels):\n",
    "    print(\"Cluster \", selected_basket_cluster)\n",
    "    selected_basket_scores = baskets_scores_df[labels == selected_basket_cluster]\n",
    "    aggregated_basket_cluster_score \\\n",
    "        = np.sum(selected_basket_scores, axis=0)\\\n",
    "        .sort_values(ascending=False)\n",
    "    selected_baskets = list(compress(baskets, labels == selected_basket_cluster))\n",
    "    selected_baskets = [' '.join(l) for l in selected_baskets]\n",
    "    aggregated_basket_cluster_score = aggregated_basket_cluster_score[0:50]\n",
    "    print(aggregated_basket_cluster_score)"
   ],
   "metadata": {
    "collapsed": false,
    "pycharm": {
     "name": "#%%\n",
     "is_executing": false
    }
   }
  },
  {
   "cell_type": "markdown",
   "source": [
    "#### Baseline method - K-means\n",
    "Now we will implement the baseline algorithm to compare our method with. \n",
    "A KNN method will be used. We will try to find the best K by trial and error based on the\n",
    "coherence of the results because there are not many possible Ks for the given dataset."
   ],
   "metadata": {
    "collapsed": false,
    "pycharm": {
     "name": "#%% md\n"
    }
   }
  },
  {
   "cell_type": "code",
   "source": [
    "baskets_as_docs = [' '.join(basket) for basket in baskets]\n",
    "X = vectorizer.fit_transform(baskets_as_docs)\n",
    "model = KMeans(n_clusters=10, init='k-means++', max_iter=100, n_init=1)\n",
    "model.fit(X)\n",
    "\n",
    "print(\"Top terms per cluster:\")\n",
    "order_centroids = model.cluster_centers_.argsort()[:, ::-1]\n",
    "terms = vectorizer.get_feature_names()\n",
    "baseline_labels = set(model.labels_)\n",
    "for i in baseline_labels:\n",
    "    print(\"Cluster %d:\" % i),\n",
    "    for ind in order_centroids[i, :10]:\n",
    "        print(' %s' % terms[ind])"
   ],
   "metadata": {
    "collapsed": false,
    "pycharm": {
     "name": "#%%\n",
     "is_executing": false
    }
   },
   "execution_count": 139,
   "outputs": [
    {
     "name": "stdout",
     "text": [
      "Top terms per cluster:\n",
      "Cluster 0:\n",
      " soda\n",
      " pastry\n",
      " sausage\n",
      " chocolate\n",
      " beverages\n",
      " waffles\n",
      " milk\n",
      " coffee\n",
      " frankfurter\n",
      " frozen\n",
      "Cluster 1:\n",
      " milk\n",
      " whole\n",
      " cream\n",
      " whipped\n",
      " sour\n",
      " cheese\n",
      " butter\n",
      " ice\n",
      " yogurt\n",
      " vegetables\n",
      "Cluster 2:\n",
      " juice\n",
      " vegetable\n",
      " fruit\n",
      " vegetables\n",
      " milk\n",
      " whole\n",
      " cheese\n",
      " soda\n",
      " bottled\n",
      " yogurt\n",
      "Cluster 3:\n",
      " bottled\n",
      " beer\n",
      " water\n",
      " soda\n",
      " milk\n",
      " whole\n",
      " vegetables\n",
      " liquor\n",
      " wine\n",
      " canned\n",
      "Cluster 4:\n",
      " vegetables\n",
      " other\n",
      " root\n",
      " frozen\n",
      " milk\n",
      " whole\n",
      " yogurt\n",
      " cheese\n",
      " pork\n",
      " bread\n",
      "Cluster 5:\n",
      " specialty\n",
      " chocolate\n",
      " bar\n",
      " soda\n",
      " buns\n",
      " rolls\n",
      " milk\n",
      " cheese\n",
      " candy\n",
      " vegetables\n",
      "Cluster 6:\n",
      " canned\n",
      " beer\n",
      " bags\n",
      " shopping\n",
      " yogurt\n",
      " coffee\n",
      " pastry\n",
      " beverages\n",
      " bread\n",
      " sausage\n",
      "Cluster 7:\n",
      " newspapers\n",
      " milk\n",
      " whole\n",
      " bottled\n",
      " yogurt\n",
      " bread\n",
      " beer\n",
      " fruit\n",
      " soda\n",
      " pastry\n",
      "Cluster 8:\n",
      " fruit\n",
      " tropical\n",
      " pip\n",
      " citrus\n",
      " vegetables\n",
      " milk\n",
      " whole\n",
      " other\n",
      " yogurt\n",
      " cheese\n",
      "Cluster 9:\n",
      " buns\n",
      " rolls\n",
      " soda\n",
      " milk\n",
      " sausage\n",
      " whole\n",
      " bottled\n",
      " vegetables\n",
      " frankfurter\n",
      " cheese\n"
     ],
     "output_type": "stream"
    }
   ]
  },
  {
   "cell_type": "markdown",
   "source": [
    "#### Compute Scores of Baskets created using K-Means\n",
    "For the created clusters of baskets using the baseline method, \n",
    "we calculate its scores in terms of similarity with the terms\n",
    "that scored high TF-IDF for the cuisines "
   ],
   "metadata": {
    "collapsed": false
   }
  },
  {
   "cell_type": "code",
   "execution_count": 150,
   "outputs": [
    {
     "name": "stdout",
     "text": [
      "irish           -31.262816\n",
      "moroccan       -107.147662\n",
      "cajun_creole   -135.776730\n",
      "korean         -136.383174\n",
      "spanish        -140.941976\n",
      "chinese        -149.447140\n",
      "vietnamese     -156.640266\n",
      "thai           -163.718710\n",
      "jamaican       -165.397759\n",
      "italian        -170.140893\n",
      "russian        -173.406734\n",
      "mexican        -173.913034\n",
      "filipino       -174.876926\n",
      "southern_us    -180.464804\n",
      "japanese       -184.493116\n",
      "greek          -185.052200\n",
      "british        -185.929912\n",
      "indian         -187.851388\n",
      "brazilian      -187.932765\n",
      "french         -190.412965\n",
      "dtype: float64\n",
      "southern_us     622.775890\n",
      "british         613.258282\n",
      "russian         592.521232\n",
      "irish           552.318653\n",
      "french          547.684636\n",
      "brazilian       531.078540\n",
      "mexican         488.266731\n",
      "italian         365.537587\n",
      "thai            344.245187\n",
      "filipino        279.795240\n",
      "greek           239.136735\n",
      "cajun_creole    214.780114\n",
      "spanish         197.024062\n",
      "jamaican        175.498952\n",
      "moroccan        150.861814\n",
      "vietnamese      124.978726\n",
      "korean          123.328354\n",
      "chinese         118.383962\n",
      "indian           73.497019\n",
      "japanese         35.728969\n",
      "dtype: float64\n",
      "greek           457.469610\n",
      "japanese        424.351711\n",
      "indian          368.296708\n",
      "vietnamese      352.297808\n",
      "thai            346.298158\n",
      "brazilian       342.746620\n",
      "french          336.783201\n",
      "mexican         313.849064\n",
      "irish           284.656331\n",
      "spanish         272.989776\n",
      "southern_us     270.419740\n",
      "british         265.443503\n",
      "italian         264.660195\n",
      "russian         257.363075\n",
      "jamaican        234.784316\n",
      "korean          231.611688\n",
      "filipino        226.755130\n",
      "chinese         225.846676\n",
      "cajun_creole    139.181827\n",
      "moroccan         95.883562\n",
      "dtype: float64\n",
      "filipino        -56.782067\n",
      "korean          -58.513178\n",
      "jamaican        -67.454729\n",
      "chinese         -77.812889\n",
      "russian         -92.001305\n",
      "vietnamese      -94.956443\n",
      "irish          -111.442686\n",
      "brazilian      -113.616585\n",
      "japanese       -121.761033\n",
      "italian        -126.898119\n",
      "british        -127.173434\n",
      "french         -141.727086\n",
      "southern_us    -151.415836\n",
      "moroccan       -152.166317\n",
      "indian         -162.155419\n",
      "spanish        -181.629383\n",
      "cajun_creole   -209.690281\n",
      "mexican        -228.098190\n",
      "thai           -276.137368\n",
      "greek          -300.352951\n",
      "dtype: float64\n",
      "indian          842.635300\n",
      "japanese        778.994932\n",
      "greek           611.987553\n",
      "filipino        355.631104\n",
      "thai            337.647233\n",
      "cajun_creole    325.888300\n",
      "chinese         296.435290\n",
      "brazilian       281.376965\n",
      "mexican         279.132909\n",
      "jamaican        258.286955\n",
      "moroccan        254.608871\n",
      "vietnamese      252.578520\n",
      "spanish         244.956735\n",
      "korean          240.510728\n",
      "british         232.444232\n",
      "southern_us     223.475028\n",
      "french          223.284984\n",
      "italian         220.907028\n",
      "irish           198.436773\n",
      "russian         192.716791\n",
      "dtype: float64\n",
      "italian         46.572512\n",
      "moroccan        41.235001\n",
      "spanish         27.486115\n",
      "jamaican        19.045227\n",
      "indian          -1.542812\n",
      "mexican         -4.174451\n",
      "russian         -4.654793\n",
      "french          -7.416270\n",
      "cajun_creole   -14.508741\n",
      "filipino       -16.996944\n",
      "brazilian      -17.971483\n",
      "irish          -28.132746\n",
      "british        -29.669935\n",
      "korean         -30.957671\n",
      "greek          -32.442403\n",
      "southern_us    -37.613540\n",
      "vietnamese     -41.923713\n",
      "chinese        -42.435627\n",
      "thai           -63.605942\n",
      "japanese       -68.904102\n",
      "dtype: float64\n",
      "moroccan       -218.959576\n",
      "spanish        -285.738728\n",
      "cajun_creole   -332.656298\n",
      "korean         -335.954192\n",
      "chinese        -361.103094\n",
      "vietnamese     -418.504207\n",
      "thai           -544.071166\n",
      "italian        -554.437345\n",
      "jamaican       -556.454933\n",
      "filipino       -566.544343\n",
      "mexican        -573.530418\n",
      "russian        -685.041200\n",
      "british        -698.892968\n",
      "french         -699.015026\n",
      "southern_us    -719.601657\n",
      "japanese       -724.438320\n",
      "greek          -724.606311\n",
      "indian         -728.410715\n",
      "irish          -757.073748\n",
      "brazilian      -809.569948\n",
      "dtype: float64\n",
      "cajun_creole    98.868158\n",
      "moroccan        49.816166\n",
      "spanish         33.113708\n",
      "jamaican        29.132216\n",
      "brazilian       -6.878246\n",
      "korean         -22.075532\n",
      "filipino       -23.092967\n",
      "chinese        -33.007564\n",
      "italian        -34.604403\n",
      "thai           -34.959901\n",
      "mexican        -38.986724\n",
      "vietnamese     -42.843615\n",
      "southern_us    -47.458634\n",
      "greek          -50.653328\n",
      "french         -70.227392\n",
      "russian        -70.301999\n",
      "irish          -74.669428\n",
      "british        -74.843702\n",
      "indian         -75.776276\n",
      "japanese       -83.345660\n",
      "dtype: float64\n",
      "thai            282.291103\n",
      "greek           267.589531\n",
      "southern_us     257.170339\n",
      "brazilian       240.934786\n",
      "japanese        228.115381\n",
      "vietnamese      221.568513\n",
      "indian          218.340955\n",
      "french          218.292227\n",
      "british         217.354545\n",
      "mexican         217.332791\n",
      "italian         205.845401\n",
      "filipino        202.011040\n",
      "irish           200.965133\n",
      "chinese         196.938514\n",
      "russian         195.252863\n",
      "jamaican        179.884443\n",
      "korean          153.418201\n",
      "cajun_creole    112.873313\n",
      "spanish          79.945435\n",
      "moroccan         75.098016\n",
      "dtype: float64\n",
      "jamaican       -107.324688\n",
      "korean         -164.985225\n",
      "chinese        -173.798128\n",
      "moroccan       -189.229875\n",
      "vietnamese     -196.555323\n",
      "cajun_creole   -198.959663\n",
      "british        -211.990612\n",
      "russian        -212.447929\n",
      "french         -217.246309\n",
      "italian        -217.441964\n",
      "filipino       -225.899267\n",
      "thai           -227.988595\n",
      "irish          -233.795465\n",
      "southern_us    -237.286524\n",
      "spanish        -247.205744\n",
      "brazilian      -260.167883\n",
      "mexican        -279.878678\n",
      "greek          -283.076235\n",
      "japanese       -284.248762\n",
      "indian         -347.033372\n",
      "dtype: float64\n"
     ],
     "output_type": "stream"
    }
   ],
   "source": [
    "baseline_baskets_scores = {}\n",
    "for cluster in baseline_labels:\n",
    "    basket_scores = baskets_scores_df[model.labels_ == cluster]\n",
    "    cluster_scores = np.sum(basket_scores, axis=0).sort_values(ascending=False)\n",
    "    cluster_scores = cluster_scores[0:50]\n",
    "    print(cluster_scores)"
   ],
   "metadata": {
    "collapsed": false,
    "pycharm": {
     "name": "#%%\n",
     "is_executing": false
    }
   }
  },
  {
   "cell_type": "markdown",
   "source": [],
   "metadata": {
    "collapsed": false
   }
  }
 ],
 "metadata": {
  "kernelspec": {
   "name": "python3",
   "language": "python",
   "display_name": "Python 3"
  },
  "language_info": {
   "codemirror_mode": {
    "name": "ipython",
    "version": 2
   },
   "file_extension": ".py",
   "mimetype": "text/x-python",
   "name": "python",
   "nbconvert_exporter": "python",
   "pygments_lexer": "ipython2",
   "version": "2.7.11"
  },
  "pycharm": {
   "stem_cell": {
    "cell_type": "raw",
    "source": [],
    "metadata": {
     "collapsed": false
    }
   }
  }
 },
 "nbformat": 4,
 "nbformat_minor": 0
}