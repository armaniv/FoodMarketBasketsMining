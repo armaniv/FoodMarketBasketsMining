{
 "cells": [
  {
   "cell_type": "code",
   "execution_count": 22,
   "metadata": {
    "collapsed": true,
    "pycharm": {
     "is_executing": false,
     "name": "#%%\n"
    }
   },
   "outputs": [],
   "source": [
    "import json\n",
    "import pandas as pd\n",
    "import matplotlib.pyplot as plt\n",
    "import csv\n",
    "import numpy as np\n",
    "\n",
    "from nltk.util import ngrams\n",
    "from sklearn.feature_extraction.text import TfidfVectorizer \n",
    "from sklearn.cluster import DBSCAN\n",
    "from sklearn.cluster import OPTICS\n",
    "from sklearn.cluster import KMeans\n",
    "from sklearn.preprocessing import StandardScaler\n",
    "from itertools import compress\n",
    "from random import sample as random_sample\n"
   ]
  },
  {
   "cell_type": "markdown",
   "metadata": {},
   "source": [
    "#### Load Recipes Data"
   ]
  },
  {
   "cell_type": "code",
   "execution_count": 23,
   "metadata": {
    "collapsed": true,
    "pycharm": {
     "is_executing": false
    }
   },
   "outputs": [],
   "source": [
    "recipes = json.load(open('./data/recipe_train.json'))\n",
    "\n",
    "# for dic in recipes:\n",
    "#     ingredients = []\n",
    "#     for ingredient in dic['ingredients']:\n",
    "#         tmp_ingredient = ingredient.replace(' ', '-')\n",
    "#         ingredients.append(tmp_ingredient)\n",
    "#         dic['ingredients'] = ingredients"
   ]
  },
  {
   "cell_type": "markdown",
   "source": [
    "#### Convert recipe to text document"
   ],
   "metadata": {
    "collapsed": false,
    "pycharm": {
     "name": "#%% md\n",
     "is_executing": false
    }
   }
  },
  {
   "cell_type": "code",
   "execution_count": 24,
   "metadata": {
    "collapsed": true,
    "pycharm": {
     "is_executing": false
    }
   },
   "outputs": [],
   "source": [
    "recipes_as_doc = {}\n",
    "\n",
    "for sample in recipes:\n",
    "    key = sample['cuisine']\n",
    "    # If key is in the dictionary, return its value. If not, insert key with a value of default and return default.\n",
    "    recipes_as_doc.setdefault(key,[]).append(' '.join(sample['ingredients']).lower())\n",
    "\n",
    "# create a single list with all the documents\n",
    "all_docs = []\n",
    "for k, v in recipes_as_doc.items():\n",
    "   all_docs.append(' '.join(v))"
   ]
  },
  {
   "cell_type": "markdown",
   "source": [
    "#### Tfidf vectorizer for text data"
   ]
  },
  {
   "cell_type": "code",
   "execution_count": 25,
   "metadata": {
    "collapsed": false,
    "pycharm": {
     "name": "#%%\n",
     "is_executing": false
    }
   },
   "outputs": [],
   "source": [
    "# code adapted from https://programminghistorian.org/en/lessons/analyzing-documents-with-tfidf\n",
    "\n",
    "vectorizer = TfidfVectorizer(use_idf=True, token_pattern=r\"(?u)\\b\\w[\\w-]*\\w\\b\")\n",
    "transformed_documents = vectorizer.fit_transform(all_docs)"
   ]
  },
  {
   "cell_type": "markdown",
   "source": [
    "#### Analyze results"
   ],
   "metadata": {
    "collapsed": false
   }
  },
  {
   "cell_type": "code",
   "execution_count": 41,
   "outputs": [
    {
     "traceback": [
      "\u001b[0;36m  File \u001b[0;32m\"<ipython-input-41-d6bbaafaca35>\"\u001b[0;36m, line \u001b[0;32m17\u001b[0m\n\u001b[0;31m    output to a csv using the enumerated value for the filename\u001b[0m\n\u001b[0m            ^\u001b[0m\n\u001b[0;31mSyntaxError\u001b[0m\u001b[0;31m:\u001b[0m invalid syntax\n"
     ],
     "ename": "SyntaxError",
     "evalue": "invalid syntax (<ipython-input-41-d6bbaafaca35>, line 17)",
     "output_type": "error"
    }
   ],
   "source": [
    "transformed_documents_as_array = transformed_documents.toarray()\n",
    "len(transformed_documents_as_array)\n",
    "docs_scores_dfs = {}\n",
    "\n",
    "# loop each item in transformed_documents_as_array, using enumerate to keep track of the current position\n",
    "for counter, doc in enumerate(transformed_documents_as_array):\n",
    "    # construct a data frame\n",
    "    tf_idf_tuples = list(zip(vectorizer.get_feature_names(), doc))\n",
    "    one_doc_as_df = pd.DataFrame\\\n",
    "        .from_records(tf_idf_tuples, columns=['term', 'score'])\\\n",
    "        .sort_values(by='score', ascending=False)\\\n",
    "        .reset_index(drop=True)\n",
    "    docs_scores_dfs[list(recipes_as_doc.keys())[counter]] = one_doc_as_df\n",
    "\n",
    "    print(list(recipes_as_doc.keys())[counter], end=' ')\n",
    "    # print(one_doc_as_df)\n",
    "    # output to a csv using the enumerated value for the filename\n",
    "    # one_doc_as_df.to_csv(\"tf.idf\" + counter.__str__() + \".csv\")"
   ],
   "metadata": {
    "collapsed": false,
    "pycharm": {
     "name": "#%%\n",
     "is_executing": false
    }
   }
  },
  {
   "cell_type": "markdown",
   "source": [
    "#### Statistics of Scores"
   ],
   "metadata": {
    "collapsed": false,
    "pycharm": {
     "name": "#%% md\n"
    }
   }
  },
  {
   "cell_type": "code",
   "execution_count": 27,
   "outputs": [
    {
     "data": {
      "text/plain": "Text(0, 0.5, 'Number of Therms')"
     },
     "metadata": {},
     "output_type": "execute_result",
     "execution_count": 27
    },
    {
     "data": {
      "text/plain": "<Figure size 432x288 with 1 Axes>",
      "image/png": "[encoded data removed]"
     },
     "metadata": {
      "needs_background": "light"
     },
     "output_type": "display_data"
    }
   ],
   "source": [
    "statistics = {}\n",
    "for k in docs_scores_dfs.keys():\n",
    "    df = docs_scores_dfs[k]\n",
    "    scores = df['score']\n",
    "    scores = scores.loc[scores>0.0]\n",
    "    statistics[k] = [scores.mean(), scores.max(), scores.min(), df['score'].astype(bool).sum(axis=0)]\n",
    "\n",
    "irish_scores = docs_scores_dfs[\"irish\"][\"score\"]\n",
    "irish_scores = irish_scores.loc[irish_scores>0.0]\n",
    "plt.hist(irish_scores, color = 'blue', edgecolor = 'black', bins=300)\n",
    "plt.title('Histogram of Scores')\n",
    "plt.xlabel('Frequency')\n",
    "plt.ylabel('Number of Therms')\n",
    "# print(statistics)"
   ],
   "metadata": {
    "collapsed": false,
    "pycharm": {
     "name": "#%%\n",
     "is_executing": false
    }
   }
  },
  {
   "cell_type": "markdown",
   "source": [
    "#### Top 10 therms per cuisine"
   ],
   "metadata": {
    "collapsed": false,
    "pycharm": {
     "name": "#%% md\n"
    }
   }
  },
  {
   "cell_type": "code",
   "execution_count": 43,
   "outputs": [],
   "source": [
    "for k in docs_scores_dfs.keys():\n",
    "    scores_df = docs_scores_dfs[k]\n",
    "    # print('-------------')\n",
    "    # print(k)\n",
    "    # print(scores_df.iloc[:15,:])\n"
   ],
   "metadata": {
    "collapsed": false,
    "pycharm": {
     "name": "#%%\n",
     "is_executing": false
    }
   }
  },
  {
   "cell_type": "markdown",
   "source": [
    "#### Load Baskets Market Data"
   ],
   "metadata": {
    "collapsed": false,
    "pycharm": {
     "name": "#%% md\n"
    }
   }
  },
  {
   "cell_type": "code",
   "execution_count": 29,
   "outputs": [],
   "source": [
    "baskets = []\n",
    "with open('./data/groceries.csv', newline=None) as f:\n",
    "  reader = csv.reader(f)\n",
    "  for row in reader:\n",
    "    baskets.append([elem.replace(' ', '-') for elem in row])"
   ],
   "metadata": {
    "collapsed": false,
    "pycharm": {
     "name": "#%%\n",
     "is_executing": false
    }
   }
  },
  {
   "cell_type": "markdown",
   "source": [
    "#### Compute ngram for tf.idf top score "
   ],
   "metadata": {
    "collapsed": false
   }
  },
  {
   "cell_type": "code",
   "execution_count": 30,
   "outputs": [],
   "source": [
    "top_scores_ngram = {}\n",
    "CUISINE_TOP_SCORE_THRESHOLD = 0.1\n",
    "for cuisine in docs_scores_dfs.keys():\n",
    "    scores_df = docs_scores_dfs[cuisine]\n",
    "    scores_df = scores_df[scores_df['score']>CUISINE_TOP_SCORE_THRESHOLD]\n",
    "    scores_df = scores_df.sort_values(by=['score'],ascending=False)\n",
    "    \n",
    "    ngram_scores = []\n",
    "    for index, row in scores_df.iterrows():\n",
    "        ngram = list(ngrams(row['term'], 3))\n",
    "        score =  row['score']\n",
    "        ngram_scores.append([ngram, score])\n",
    "        \n",
    "    top_scores_ngram[cuisine] = ngram_scores"
   ],
   "metadata": {
    "collapsed": false,
    "pycharm": {
     "name": "#%%\n",
     "is_executing": false
    }
   }
  },
  {
   "cell_type": "markdown",
   "source": [
    "#### Define the metric similarity"
   ],
   "metadata": {
    "collapsed": false
   }
  },
  {
   "cell_type": "code",
   "execution_count": 31,
   "outputs": [],
   "source": [
    "def jaccard_distance(a, b):\n",
    "    \"\"\"Calculate the jaccard distance between sets A and B\"\"\"\n",
    "    a = set(a)\n",
    "    b = set(b)\n",
    "    return 1.0 * len(a&b)/len(a|b)"
   ],
   "metadata": {
    "collapsed": false,
    "pycharm": {
     "name": "#%%\n",
     "is_executing": false
    }
   }
  },
  {
   "cell_type": "markdown",
   "source": [
    "#### Compute Basket Scores\n",
    "For each basket we iterate over all items and compute their similarities with the top \n",
    "terms in the cuisines docs"
   ],
   "metadata": {
    "collapsed": false
   }
  },
  {
   "cell_type": "code",
   "execution_count": 32,
   "outputs": [],
   "source": [
    "baskets_scores = []\n",
    "\n",
    "for basket in baskets:\n",
    "    similarities = {}\n",
    "    for cuisine in top_scores_ngram:\n",
    "        value = 0\n",
    "        sims = 0\n",
    "        for item in basket:      \n",
    "            item_ngram = list(ngrams(item, 3))\n",
    "            for ngram_term, score in top_scores_ngram[cuisine]:\n",
    "                sim = jaccard_distance(item_ngram, ngram_term)\n",
    "                if sim > 0.2:\n",
    "                    value += sim * score\n",
    "                    sims += sim\n",
    "        if sims != 0:\n",
    "            value = value/sims\n",
    "        else:\n",
    "            value=0\n",
    "                    \n",
    "        similarities[cuisine] = value    \n",
    "    baskets_scores.append(similarities)\n",
    "           \n",
    "    # print('------------------')\n",
    "    # print(\"basket: \", basket)\n",
    "    # for k in similarities:\n",
    "    #     print(k, similarities[k]) \n",
    "baskets_scores_df = pd.DataFrame(baskets_scores)\n",
    "baskets_scores_df=(baskets_scores_df-baskets_scores_df.mean())/baskets_scores_df.std()"
   ],
   "metadata": {
    "collapsed": false,
    "pycharm": {
     "name": "#%%\n",
     "is_executing": false
    }
   }
  },
  {
   "cell_type": "markdown",
   "source": [
    "#### CLustering baskets\n",
    "We now try to cluster the baskets, based on the scores that they \n",
    "obtained using frequent therms of recipes"
   ],
   "metadata": {
    "collapsed": false,
    "pycharm": {
     "name": "#%% md\n"
    }
   }
  },
  {
   "cell_type": "code",
   "execution_count": 33,
   "outputs": [],
   "source": [
    "X = StandardScaler().fit_transform(baskets_scores_df.to_numpy())"
   ],
   "metadata": {
    "collapsed": false,
    "pycharm": {
     "name": "#%%\n",
     "is_executing": false
    }
   }
  },
  {
   "cell_type": "code",
   "execution_count": 34,
   "outputs": [
    {
     "name": "stdout",
     "text": [
      "{0, 1, 2, -1}\n"
     ],
     "output_type": "stream"
    },
    {
     "name": "stderr",
     "text": [
      "/home/nepotu/anaconda3/envs/dataMiningProject/lib/python3.7/site-packages/sklearn/cluster/_optics.py:802: RuntimeWarning: divide by zero encountered in true_divide\n",
      "  ratio = reachability_plot[:-1] / reachability_plot[1:]\n"
     ],
     "output_type": "stream"
    }
   ],
   "source": [
    "# OPTICS\n",
    "optics = OPTICS(min_samples=50, max_eps=0.1, xi=.05, min_cluster_size=.05)\n",
    "optics.fit(X)\n",
    "optics_labels = optics.labels_[optics.ordering_]\n",
    "print(set(optics_labels))"
   ],
   "metadata": {
    "collapsed": false,
    "pycharm": {
     "name": "#%%\n",
     "is_executing": false
    }
   }
  },
  {
   "cell_type": "code",
   "execution_count": 35,
   "outputs": [
    {
     "name": "stdout",
     "text": [
      "{0, 1, 2, 3, 4, 5, 6}\n"
     ],
     "output_type": "stream"
    }
   ],
   "source": [
    "# K-Means\n",
    "kMeans = KMeans(n_clusters=7, random_state=0).fit(X)\n",
    "kMeans_labels = kMeans.labels_\n",
    "print(set(kMeans_labels))"
   ],
   "metadata": {
    "collapsed": false,
    "pycharm": {
     "name": "#%%\n",
     "is_executing": false
    }
   }
  },
  {
   "cell_type": "code",
   "execution_count": 44,
   "outputs": [
    {
     "name": "stdout",
     "text": [
      "{0, 1, 2, 3, 4, -1}\n",
      "[0.4, 200]\n"
     ],
     "output_type": "stream"
    }
   ],
   "source": [
    "# DBSCAN \n",
    "[eps, min_samples] = [0.35, 200]\n",
    "dbScan = DBSCAN(eps=eps, min_samples=min_samples, metric='euclidean').fit(X)\n",
    "dbScan_labels = dbScan.labels_\n",
    "print(set(dbScan_labels))\n",
    "print([eps, min_samples])\n"
   ],
   "metadata": {
    "collapsed": false,
    "pycharm": {
     "name": "#%%\n",
     "is_executing": false
    }
   }
  },
  {
   "cell_type": "markdown",
   "source": [
    "#### Analysis of the method\n",
    "Observe size of created basket clusters"
   ],
   "metadata": {
    "collapsed": false,
    "pycharm": {
     "name": "#%% md\n"
    }
   }
  },
  {
   "cell_type": "code",
   "execution_count": 45,
   "outputs": [
    {
     "data": {
      "text/plain": "<matplotlib.axes._subplots.AxesSubplot at 0x7f8b4021c490>"
     },
     "metadata": {},
     "output_type": "execute_result",
     "execution_count": 45
    },
    {
     "data": {
      "text/plain": "<Figure size 432x288 with 1 Axes>",
      "image/png": "[encoded data removed]"
     },
     "metadata": {
      "needs_background": "light"
     },
     "output_type": "display_data"
    }
   ],
   "source": [
    "labels = dbScan_labels\n",
    "cluster_sizes = []\n",
    "for label in sorted(set(labels)):\n",
    "    cluster_sizes.append([label, len(baskets_scores_df[labels == label])])\n",
    "pd.DataFrame(cluster_sizes).plot(kind='bar')"
   ],
   "metadata": {
    "collapsed": false,
    "pycharm": {
     "name": "#%%\n",
     "is_executing": false
    }
   }
  },
  {
   "cell_type": "markdown",
   "source": [
    "Select one cluster and calculate its overall score (by summing\n",
    "all scores of all items of that cluster)"
   ],
   "metadata": {
    "collapsed": false,
    "pycharm": {
     "name": "#%% md\n"
    }
   }
  },
  {
   "cell_type": "code",
   "execution_count": 46,
   "outputs": [
    {
     "name": "stdout",
     "text": [
      "Cluster  0\n",
      "#Baskets:  2544\n",
      "moroccan       -0.390522\n",
      "spanish        -0.429050\n",
      "italian        -0.505832\n",
      "korean         -0.505908\n",
      "japanese       -0.532724\n",
      "chinese        -0.551405\n",
      "indian         -0.568118\n",
      "vietnamese     -0.576202\n",
      "greek          -0.603279\n",
      "mexican        -0.603542\n",
      "cajun_creole   -0.609564\n",
      "jamaican       -0.838955\n",
      "brazilian      -0.840716\n",
      "russian        -0.858796\n",
      "filipino       -0.860176\n",
      "thai           -0.907920\n",
      "british        -0.914826\n",
      "southern_us    -0.915604\n",
      "french         -0.966234\n",
      "irish          -1.020982\n",
      "dtype: float64\n",
      "Cluster  1\n",
      "#Baskets:  212\n",
      "greek           0.604127\n",
      "moroccan       -0.390522\n",
      "spanish        -0.429050\n",
      "italian        -0.505832\n",
      "korean         -0.505908\n",
      "japanese       -0.532724\n",
      "chinese        -0.551405\n",
      "indian         -0.568118\n",
      "vietnamese     -0.576202\n",
      "mexican        -0.603542\n",
      "cajun_creole   -0.609564\n",
      "jamaican       -0.838955\n",
      "brazilian      -0.840716\n",
      "russian        -0.858796\n",
      "filipino       -0.860176\n",
      "thai           -0.907920\n",
      "british        -0.914826\n",
      "southern_us    -0.915604\n",
      "french         -0.966234\n",
      "irish          -1.020982\n",
      "dtype: float64\n",
      "Cluster  2\n",
      "#Baskets:  762\n",
      "brazilian       1.380905\n",
      "thai            0.922371\n",
      "british         0.904891\n",
      "southern_us     0.631460\n",
      "irish           0.629570\n",
      "jamaican        0.544246\n",
      "filipino        0.425901\n",
      "french          0.249727\n",
      "russian         0.237583\n",
      "moroccan       -0.390522\n",
      "spanish        -0.429050\n",
      "italian        -0.505832\n",
      "korean         -0.505908\n",
      "japanese       -0.532724\n",
      "chinese        -0.551405\n",
      "indian         -0.568118\n",
      "vietnamese     -0.576202\n",
      "greek          -0.603279\n",
      "mexican        -0.603542\n",
      "cajun_creole   -0.609564\n",
      "dtype: float64\n",
      "Cluster  3\n",
      "#Baskets:  499\n",
      "irish           0.149116\n",
      "moroccan       -0.390522\n",
      "spanish        -0.429050\n",
      "italian        -0.505832\n",
      "korean         -0.505908\n",
      "japanese       -0.532724\n",
      "chinese        -0.551405\n",
      "indian         -0.568118\n",
      "vietnamese     -0.576202\n",
      "greek          -0.603279\n",
      "mexican        -0.603542\n",
      "cajun_creole   -0.609564\n",
      "jamaican       -0.838955\n",
      "brazilian      -0.840716\n",
      "russian        -0.858796\n",
      "filipino       -0.860176\n",
      "thai           -0.907920\n",
      "british        -0.914826\n",
      "southern_us    -0.915604\n",
      "french         -0.966234\n",
      "dtype: float64\n",
      "Cluster  4\n",
      "#Baskets:  296\n",
      "filipino        1.470613\n",
      "japanese        1.422046\n",
      "jamaican        1.150670\n",
      "chinese         1.117625\n",
      "vietnamese      1.082385\n",
      "russian         1.007471\n",
      "indian          0.941648\n",
      "korean          0.912091\n",
      "french          0.690983\n",
      "southern_us     0.323986\n",
      "brazilian       0.245841\n",
      "british         0.210413\n",
      "irish           0.097883\n",
      "moroccan       -0.390522\n",
      "spanish        -0.429050\n",
      "italian        -0.505832\n",
      "greek          -0.603279\n",
      "mexican        -0.603542\n",
      "cajun_creole   -0.609564\n",
      "thai           -0.907920\n",
      "dtype: float64\n",
      "Cluster  -1\n",
      "#Baskets:  5522\n",
      "french          0.498057\n",
      "cajun_creole    0.476104\n",
      "mexican         0.471401\n",
      "thai            0.456570\n",
      "southern_us     0.435208\n",
      "greek           0.424841\n",
      "russian         0.419437\n",
      "irish           0.403968\n",
      "british         0.403105\n",
      "italian         0.395084\n",
      "filipino        0.369438\n",
      "indian          0.362803\n",
      "vietnamese      0.361141\n",
      "jamaican        0.357748\n",
      "chinese         0.341213\n",
      "spanish         0.335113\n",
      "korean          0.319133\n",
      "japanese        0.311305\n",
      "moroccan        0.305020\n",
      "brazilian       0.291835\n",
      "dtype: float64\n"
     ],
     "output_type": "stream"
    }
   ],
   "source": [
    "for selected_basket_cluster in set(labels):\n",
    "    print(\"Cluster \", selected_basket_cluster)\n",
    "    selected_basket_scores = baskets_scores_df[labels == selected_basket_cluster]\n",
    "    print(\"#Baskets: \", selected_basket_scores.shape[0])\n",
    "    aggregated_basket_cluster_score \\\n",
    "        = np.mean(selected_basket_scores, axis=0)\\\n",
    "        .sort_values(ascending=False)\n",
    "    selected_baskets = list(compress(baskets, labels == selected_basket_cluster))\n",
    "    selected_baskets = [' '.join(l) for l in selected_baskets]\n",
    "    aggregated_basket_cluster_score = aggregated_basket_cluster_score[0:50]\n",
    "    print(aggregated_basket_cluster_score)"
   ],
   "metadata": {
    "collapsed": false,
    "pycharm": {
     "name": "#%%\n",
     "is_executing": false
    }
   }
  },
  {
   "cell_type": "markdown",
   "source": [
    "#### Baseline method - K-means\n",
    "Now we will implement the baseline algorithm to compare our method with. \n",
    "A KNN method will be used. We will try to find the best K by trial and error based on the\n",
    "coherence of the results because there are not many possible Ks for the given dataset."
   ],
   "metadata": {
    "collapsed": false,
    "pycharm": {
     "name": "#%% md\n"
    }
   }
  },
  {
   "cell_type": "code",
   "source": [
    "baskets_as_docs = [' '.join(basket) for basket in baskets]\n",
    "X_Baskets = vectorizer.fit_transform(baskets_as_docs)\n",
    "model = KMeans(n_clusters=10, init='k-means++', max_iter=100, n_init=1)\n",
    "model.fit(X_Baskets)\n",
    "\n",
    "print(\"Top terms per cluster:\")\n",
    "order_centroids = model.cluster_centers_.argsort()[:, ::-1]\n",
    "terms = vectorizer.get_feature_names()\n",
    "baseline_labels = set(model.labels_)\n",
    "for i in baseline_labels:\n",
    "    print(\"Cluster %d:\" % i),\n",
    "    for ind in order_centroids[i, :10]:\n",
    "        print(' %s' % terms[ind])"
   ],
   "metadata": {
    "collapsed": false,
    "pycharm": {
     "name": "#%%\n",
     "is_executing": false
    }
   },
   "execution_count": 39,
   "outputs": [
    {
     "name": "stdout",
     "text": [
      "Top terms per cluster:\n",
      "Cluster 0:\n",
      " salty-snack\n",
      " soda\n",
      " other-vegetables\n",
      " whole-milk\n",
      " sausage\n",
      " shopping-bags\n",
      " pastry\n",
      " waffles\n",
      " napkins\n",
      " candy\n",
      "Cluster 1:\n",
      " fruit\n",
      " vegetable-juice\n",
      " whole-milk\n",
      " soda\n",
      " other-vegetables\n",
      " yogurt\n",
      " bottled-water\n",
      " rolls\n",
      " buns\n",
      " tropical-fruit\n",
      "Cluster 2:\n",
      " bottled-water\n",
      " soda\n",
      " whole-milk\n",
      " rolls\n",
      " buns\n",
      " yogurt\n",
      " bottled-beer\n",
      " tropical-fruit\n",
      " newspapers\n",
      " other-vegetables\n",
      "Cluster 3:\n",
      " rolls\n",
      " buns\n",
      " whole-milk\n",
      " newspapers\n",
      " pastry\n",
      " tropical-fruit\n",
      " sausage\n",
      " coffee\n",
      " beverages\n",
      " brown-bread\n",
      "Cluster 4:\n",
      " soda\n",
      " rolls\n",
      " buns\n",
      " pastry\n",
      " sausage\n",
      " specialty-bar\n",
      " whole-milk\n",
      " specialty-chocolate\n",
      " chocolate\n",
      " frankfurter\n",
      "Cluster 5:\n",
      " bottled-beer\n",
      " whole-milk\n",
      " liquor\n",
      " soda\n",
      " rolls\n",
      " buns\n",
      " blush-wine\n",
      " red\n",
      " other-vegetables\n",
      " sausage\n",
      "Cluster 6:\n",
      " canned-beer\n",
      " soda\n",
      " rolls\n",
      " buns\n",
      " shopping-bags\n",
      " newspapers\n",
      " whole-milk\n",
      " sausage\n",
      " other-vegetables\n",
      " specialty-bar\n",
      "Cluster 7:\n",
      " sour-cream\n",
      " whipped\n",
      " whole-milk\n",
      " other-vegetables\n",
      " yogurt\n",
      " root-vegetables\n",
      " tropical-fruit\n",
      " berries\n",
      " curd\n",
      " rolls\n",
      "Cluster 8:\n",
      " other-vegetables\n",
      " root-vegetables\n",
      " whole-milk\n",
      " citrus-fruit\n",
      " tropical-fruit\n",
      " yogurt\n",
      " rolls\n",
      " buns\n",
      " pork\n",
      " beef\n",
      "Cluster 9:\n",
      " yogurt\n",
      " shopping-bags\n",
      " whole-milk\n",
      " buns\n",
      " rolls\n",
      " sausage\n",
      " soda\n",
      " tropical-fruit\n",
      " pastry\n",
      " citrus-fruit\n"
     ],
     "output_type": "stream"
    }
   ]
  },
  {
   "cell_type": "markdown",
   "source": [
    "#### Compute Scores of Baskets created using K-Means\n",
    "For the created clusters of baskets using the baseline method, \n",
    "we calculate its scores in terms of similarity with the terms\n",
    "that scored high TF-IDF for the cuisines "
   ],
   "metadata": {
    "collapsed": false
   }
  },
  {
   "cell_type": "code",
   "execution_count": 40,
   "outputs": [
    {
     "name": "stdout",
     "text": [
      "thai            0.827619\n",
      "chinese         1.343739\n",
      "brazilian       1.412381\n",
      "korean          1.519971\n",
      "vietnamese      1.611891\n",
      "italian         1.777262\n",
      "british         1.842075\n",
      "japanese        1.848401\n",
      "filipino        1.953894\n",
      "irish           2.053116\n",
      "french          2.222330\n",
      "mexican         2.234431\n",
      "greek           2.262155\n",
      "russian         2.333503\n",
      "southern_us     2.353398\n",
      "cajun_creole    2.400450\n",
      "jamaican        2.444983\n",
      "indian          2.883501\n",
      "spanish         2.991722\n",
      "moroccan        2.994141\n",
      "dtype: float64\n",
      "moroccan        0.183295\n",
      "indian          0.229181\n",
      "spanish         0.237730\n",
      "thai            0.260926\n",
      "cajun_creole    0.270510\n",
      "korean          0.270836\n",
      "vietnamese      0.273915\n",
      "chinese         0.276489\n",
      "brazilian       0.298231\n",
      "irish           0.306139\n",
      "filipino        0.306535\n",
      "japanese        0.306677\n",
      "jamaican        0.313109\n",
      "mexican         0.314547\n",
      "greek           0.326816\n",
      "italian         0.327172\n",
      "british         0.341640\n",
      "southern_us     0.343362\n",
      "russian         0.358705\n",
      "french          0.365386\n",
      "dtype: float64\n",
      "moroccan       -0.212369\n",
      "spanish        -0.196348\n",
      "cajun_creole   -0.171125\n",
      "mexican        -0.156433\n",
      "thai           -0.136926\n",
      "italian        -0.107749\n",
      "greek          -0.104410\n",
      "irish           0.283062\n",
      "british         0.409790\n",
      "brazilian       0.437757\n",
      "southern_us     0.460565\n",
      "french          0.701402\n",
      "russian         0.959278\n",
      "indian          0.980414\n",
      "korean          1.005909\n",
      "jamaican        1.081150\n",
      "vietnamese      1.122116\n",
      "chinese         1.168114\n",
      "filipino        1.308810\n",
      "japanese        1.446295\n",
      "dtype: float64\n",
      "indian         -0.257537\n",
      "jamaican       -0.255318\n",
      "filipino       -0.250703\n",
      "japanese       -0.235098\n",
      "irish          -0.224190\n",
      "russian        -0.213329\n",
      "greek          -0.194563\n",
      "vietnamese     -0.187362\n",
      "korean         -0.185155\n",
      "chinese        -0.183434\n",
      "french         -0.181699\n",
      "brazilian      -0.174918\n",
      "southern_us    -0.171673\n",
      "british        -0.153716\n",
      "moroccan       -0.133547\n",
      "spanish        -0.128359\n",
      "cajun_creole   -0.118664\n",
      "mexican        -0.113838\n",
      "italian        -0.101268\n",
      "thai           -0.067477\n",
      "dtype: float64\n",
      "french         -0.697176\n",
      "filipino       -0.682796\n",
      "russian        -0.680081\n",
      "british        -0.677360\n",
      "jamaican       -0.677042\n",
      "southern_us    -0.672566\n",
      "brazilian      -0.623470\n",
      "thai           -0.543157\n",
      "vietnamese     -0.521910\n",
      "indian         -0.518879\n",
      "chinese        -0.499717\n",
      "japanese       -0.498327\n",
      "korean         -0.465992\n",
      "mexican        -0.453080\n",
      "greek          -0.449108\n",
      "cajun_creole   -0.422583\n",
      "italian        -0.371145\n",
      "spanish        -0.356278\n",
      "moroccan       -0.337268\n",
      "irish           0.178068\n",
      "dtype: float64\n",
      "greek          -0.408469\n",
      "mexican        -0.396295\n",
      "cajun_creole   -0.389113\n",
      "indian         -0.382351\n",
      "chinese        -0.359244\n",
      "vietnamese     -0.358713\n",
      "japanese       -0.347791\n",
      "italian        -0.340441\n",
      "korean         -0.323529\n",
      "russian        -0.300983\n",
      "moroccan       -0.294714\n",
      "spanish        -0.292079\n",
      "french         -0.279613\n",
      "filipino       -0.249055\n",
      "jamaican       -0.227374\n",
      "southern_us    -0.193584\n",
      "irish          -0.175061\n",
      "british        -0.132693\n",
      "thai           -0.078432\n",
      "brazilian       0.007554\n",
      "dtype: float64\n",
      "irish          -0.809239\n",
      "french         -0.804899\n",
      "british        -0.770166\n",
      "southern_us    -0.764637\n",
      "russian        -0.733601\n",
      "thai           -0.723388\n",
      "filipino       -0.716013\n",
      "brazilian      -0.710311\n",
      "jamaican       -0.708803\n",
      "greek          -0.533189\n",
      "cajun_creole   -0.528607\n",
      "mexican        -0.527246\n",
      "indian         -0.503287\n",
      "chinese        -0.482099\n",
      "vietnamese     -0.478032\n",
      "japanese       -0.468666\n",
      "italian        -0.448917\n",
      "korean         -0.444395\n",
      "spanish        -0.387090\n",
      "moroccan       -0.357579\n",
      "dtype: float64\n",
      "japanese        0.305524\n",
      "vietnamese      0.311028\n",
      "chinese         0.331403\n",
      "korean          0.352635\n",
      "spanish         0.353960\n",
      "filipino        0.393299\n",
      "moroccan        0.401431\n",
      "french          0.422758\n",
      "italian         0.433980\n",
      "irish           0.434632\n",
      "jamaican        0.434824\n",
      "russian         0.435122\n",
      "greek           0.443062\n",
      "brazilian       0.443763\n",
      "indian          0.447742\n",
      "cajun_creole    0.451883\n",
      "thai            0.458025\n",
      "southern_us     0.460098\n",
      "british         0.468052\n",
      "mexican         0.500467\n",
      "dtype: float64\n",
      "japanese       -0.046591\n",
      "vietnamese      0.030899\n",
      "indian          0.032682\n",
      "korean          0.044295\n",
      "russian         0.050833\n",
      "chinese         0.051267\n",
      "jamaican        0.078898\n",
      "irish           0.079107\n",
      "spanish         0.088124\n",
      "greek           0.090625\n",
      "french          0.098111\n",
      "filipino        0.099247\n",
      "italian         0.106469\n",
      "southern_us     0.108941\n",
      "moroccan        0.124606\n",
      "british         0.141027\n",
      "cajun_creole    0.153742\n",
      "mexican         0.168055\n",
      "brazilian       0.168341\n",
      "thai            0.261892\n",
      "dtype: float64\n",
      "japanese       -0.238259\n",
      "chinese        -0.209364\n",
      "korean         -0.197926\n",
      "indian         -0.197658\n",
      "filipino       -0.189984\n",
      "vietnamese     -0.184241\n",
      "jamaican       -0.173884\n",
      "russian        -0.159363\n",
      "moroccan       -0.139530\n",
      "southern_us    -0.110717\n",
      "spanish        -0.107034\n",
      "french         -0.095343\n",
      "irish          -0.085639\n",
      "british        -0.084372\n",
      "mexican        -0.055443\n",
      "brazilian      -0.040734\n",
      "italian        -0.022541\n",
      "cajun_creole   -0.013454\n",
      "thai            0.019432\n",
      "greek           0.330899\n",
      "dtype: float64\n"
     ],
     "output_type": "stream"
    }
   ],
   "source": [
    "baseline_baskets_scores = {}\n",
    "for cluster in baseline_labels:\n",
    "    basket_scores = baskets_scores_df[model.labels_ == cluster]\n",
    "    cluster_scores = np.mean(basket_scores,axis=0).sort_values()\n",
    "    np.argsort(cluster_scores)\n",
    "    print(cluster_scores)"
   ],
   "metadata": {
    "collapsed": false,
    "pycharm": {
     "name": "#%%\n",
     "is_executing": false
    }
   }
  },
  {
   "cell_type": "markdown",
   "source": [],
   "metadata": {
    "collapsed": false
   }
  }
 ],
 "metadata": {
  "kernelspec": {
   "name": "python3",
   "language": "python",
   "display_name": "Python 3"
  },
  "language_info": {
   "codemirror_mode": {
    "name": "ipython",
    "version": 2
   },
   "file_extension": ".py",
   "mimetype": "text/x-python",
   "name": "python",
   "nbconvert_exporter": "python",
   "pygments_lexer": "ipython2",
   "version": "2.7.11"
  },
  "pycharm": {
   "stem_cell": {
    "cell_type": "raw",
    "source": [],
    "metadata": {
     "collapsed": false
    }
   }
  }
 },
 "nbformat": 4,
 "nbformat_minor": 0
}