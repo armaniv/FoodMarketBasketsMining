{
 "cells": [
  {
   "cell_type": "code",
   "execution_count": 35,
   "metadata": {
    "collapsed": true,
    "pycharm": {
     "is_executing": false,
     "name": "#%%\n"
    }
   },
   "outputs": [],
   "source": [
    "import json\n",
    "import pandas as pd\n",
    "\n",
    "from sklearn.feature_extraction.text import TfidfVectorizer "
   ]
  },
  {
   "cell_type": "markdown",
   "metadata": {},
   "source": [
    "### Reading recipe data as dictionary"
   ]
  },
  {
   "cell_type": "code",
   "execution_count": 36,
   "metadata": {
    "collapsed": true,
    "pycharm": {
     "is_executing": false
    }
   },
   "outputs": [],
   "source": [
    "recipes = json.load(open('./data/recipe_train.json'))"
   ]
  },
  {
   "cell_type": "markdown",
   "source": [
    "### Converting ingredients to text data\n"
   ],
   "metadata": {
    "collapsed": false,
    "pycharm": {
     "name": "#%% md\n",
     "is_executing": false
    }
   }
  },
  {
   "cell_type": "code",
   "execution_count": 37,
   "metadata": {
    "collapsed": true,
    "pycharm": {
     "is_executing": false
    }
   },
   "outputs": [],
   "source": [
    "recipes_as_docs = {}\n",
    "for recipe in recipes:\n",
    "    cuisine = recipe['cuisine']\n",
    "    if cuisine not in recipes_as_docs :\n",
    "        recipes_as_docs[cuisine] = \" \".join(recipe['ingredients'])\n",
    "    else:\n",
    "        recipes_as_docs[cuisine] = recipes_as_docs[cuisine] + \" \".join(recipe['ingredients'])\n"
   ]
  },
  {
   "cell_type": "markdown",
   "source": [
    "Compute TF-IDF"
   ],
   "metadata": {
    "collapsed": false,
    "pycharm": {
     "name": "#%% md\n"
    }
   }
  },
  {
   "cell_type": "code",
   "execution_count": 39,
   "outputs": [
    {
     "data": {
      "text/plain": "                  tfidf\nsalt           0.354734\npepper         0.331523\nsugar          0.270420\nbutter         0.261191\nflour          0.210994\n...                 ...\nhoneydewsugar  0.000000\nhoneydried     0.000000\nhoneydry       0.000000\nhoneyfresh     0.000000\n00             0.000000\n\n[20564 rows x 1 columns]",
      "text/html": "<div>\n<style scoped>\n    .dataframe tbody tr th:only-of-type {\n        vertical-align: middle;\n    }\n\n    .dataframe tbody tr th {\n        vertical-align: top;\n    }\n\n    .dataframe thead th {\n        text-align: right;\n    }\n</style>\n<table border=\"1\" class=\"dataframe\">\n  <thead>\n    <tr style=\"text-align: right;\">\n      <th></th>\n      <th>tfidf</th>\n    </tr>\n  </thead>\n  <tbody>\n    <tr>\n      <th>salt</th>\n      <td>0.354734</td>\n    </tr>\n    <tr>\n      <th>pepper</th>\n      <td>0.331523</td>\n    </tr>\n    <tr>\n      <th>sugar</th>\n      <td>0.270420</td>\n    </tr>\n    <tr>\n      <th>butter</th>\n      <td>0.261191</td>\n    </tr>\n    <tr>\n      <th>flour</th>\n      <td>0.210994</td>\n    </tr>\n    <tr>\n      <th>...</th>\n      <td>...</td>\n    </tr>\n    <tr>\n      <th>honeydewsugar</th>\n      <td>0.000000</td>\n    </tr>\n    <tr>\n      <th>honeydried</th>\n      <td>0.000000</td>\n    </tr>\n    <tr>\n      <th>honeydry</th>\n      <td>0.000000</td>\n    </tr>\n    <tr>\n      <th>honeyfresh</th>\n      <td>0.000000</td>\n    </tr>\n    <tr>\n      <th>00</th>\n      <td>0.000000</td>\n    </tr>\n  </tbody>\n</table>\n<p>20564 rows × 1 columns</p>\n</div>"
     },
     "metadata": {},
     "output_type": "execute_result",
     "execution_count": 39
    }
   ],
   "source": [
    "docs = recipes_as_docs.values()\n",
    "\n",
    "# settings that you use for count vectorizer will go here\n",
    "tfidf_vectorizer = TfidfVectorizer(use_idf=True)\n",
    " \n",
    "# just send in all your docs here\n",
    "tfidf_vectorizer_vectors = tfidf_vectorizer.fit_transform(docs)\n",
    "\n",
    "\n",
    "# get the first vector out (for the first document)\n",
    "first_vector_tfidfvectorizer = tfidf_vectorizer_vectors[1]\n",
    " \n",
    "# place tf-idf values in a pandas data frame\n",
    "df = pd.DataFrame(first_vector_tfidfvectorizer.T.todense(), index=tfidf_vectorizer.get_feature_names(), columns=[\"tfidf\"])\n",
    "df.sort_values(by=[\"tfidf\"],ascending=False)"
   ],
   "metadata": {
    "collapsed": false,
    "pycharm": {
     "name": "#%%\n",
     "is_executing": false
    }
   }
  }
 ],
 "metadata": {
  "kernelspec": {
   "name": "python3",
   "language": "python",
   "display_name": "Python 3"
  },
  "language_info": {
   "codemirror_mode": {
    "name": "ipython",
    "version": 2
   },
   "file_extension": ".py",
   "mimetype": "text/x-python",
   "name": "python",
   "nbconvert_exporter": "python",
   "pygments_lexer": "ipython2",
   "version": "2.7.11"
  },
  "pycharm": {
   "stem_cell": {
    "cell_type": "raw",
    "source": [],
    "metadata": {
     "collapsed": false
    }
   }
  }
 },
 "nbformat": 4,
 "nbformat_minor": 0
}