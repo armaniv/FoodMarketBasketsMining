{
 "cells": [
  {
   "cell_type": "code",
   "execution_count": 55,
   "metadata": {
    "collapsed": true,
    "pycharm": {
     "is_executing": false,
     "name": "#%%\n"
    }
   },
   "outputs": [],
   "source": [
    "import json\n",
    "import pandas as pd\n",
    "import matplotlib.pyplot as plt\n",
    "import csv\n",
    "import numpy as np\n",
    "\n",
    "from nltk.util import ngrams\n",
    "from sklearn.feature_extraction.text import TfidfVectorizer \n",
    "from sklearn.feature_extraction.text import CountVectorizer\n",
    "from sklearn.cluster import DBSCAN\n",
    "from sklearn.cluster import OPTICS\n",
    "from sklearn.cluster import KMeans\n",
    "from sklearn.preprocessing import StandardScaler\n",
    "from itertools import compress\n"
   ]
  },
  {
   "cell_type": "markdown",
   "metadata": {},
   "source": [
    "#### Load Recipes Data"
   ]
  },
  {
   "cell_type": "code",
   "execution_count": 56,
   "metadata": {
    "collapsed": true,
    "pycharm": {
     "is_executing": false
    }
   },
   "outputs": [],
   "source": [
    "recipes = json.load(open('./data/recipe_train.json'))"
   ]
  },
  {
   "cell_type": "markdown",
   "source": [
    "#### Convert recipe to text document"
   ],
   "metadata": {
    "collapsed": false,
    "pycharm": {
     "name": "#%% md\n",
     "is_executing": false
    }
   }
  },
  {
   "cell_type": "code",
   "execution_count": 57,
   "metadata": {
    "collapsed": true,
    "pycharm": {
     "is_executing": false
    }
   },
   "outputs": [],
   "source": [
    "recipes_as_doc = {}\n",
    "\n",
    "for sample in recipes:\n",
    "    key = sample['cuisine']\n",
    "    # If key is in the dictionary, return its value. If not, insert key with a value of default and return default.\n",
    "    recipes_as_doc.setdefault(key,[]).append(' '.join(sample['ingredients']).lower())\n",
    "\n",
    "# create a single list with all the documents\n",
    "all_docs = []\n",
    "for k, v in recipes_as_doc.items():\n",
    "   all_docs.append(' '.join(v))"
   ]
  },
  {
   "cell_type": "markdown",
   "source": [
    "#### Tfidf vectorizer for text data"
   ]
  },
  {
   "cell_type": "code",
   "execution_count": 58,
   "metadata": {
    "collapsed": false,
    "pycharm": {
     "name": "#%%\n",
     "is_executing": false
    }
   },
   "outputs": [],
   "source": [
    "# code adapted from https://programminghistorian.org/en/lessons/analyzing-documents-with-tfidf\n",
    "\n",
    "vectorizer = TfidfVectorizer(use_idf=True)\n",
    "transformed_documents = vectorizer.fit_transform(all_docs)"
   ]
  },
  {
   "cell_type": "markdown",
   "source": [
    "#### Analyze results"
   ],
   "metadata": {
    "collapsed": false
   }
  },
  {
   "cell_type": "code",
   "execution_count": 59,
   "outputs": [
    {
     "name": "stdout",
     "text": [
      "greek southern_us filipino indian jamaican spanish italian mexican chinese british thai vietnamese cajun_creole brazilian french japanese irish korean moroccan russian "
     ],
     "output_type": "stream"
    }
   ],
   "source": [
    "transformed_documents_as_array = transformed_documents.toarray()\n",
    "len(transformed_documents_as_array)\n",
    "docs_scores_dfs = {}\n",
    "\n",
    "# loop each item in transformed_documents_as_array, using enumerate to keep track of the current position\n",
    "for counter, doc in enumerate(transformed_documents_as_array):\n",
    "    # construct a data frame\n",
    "    tf_idf_tuples = list(zip(vectorizer.get_feature_names(), doc))\n",
    "    one_doc_as_df = pd.DataFrame\\\n",
    "        .from_records(tf_idf_tuples, columns=['term', 'score'])\\\n",
    "        .sort_values(by='score', ascending=False)\\\n",
    "        .reset_index(drop=True)\n",
    "    docs_scores_dfs[list(recipes_as_doc.keys())[counter]] = one_doc_as_df\n",
    "\n",
    "    print(list(recipes_as_doc.keys())[counter], end=' ')\n",
    "    # print(one_doc_as_df)\n",
    "    # output to a csv using the enumerated value for the filename\n",
    "    #one_doc_as_df.to_csv(\"tf.idf\" + counter.__str__() + \".csv\")"
   ],
   "metadata": {
    "collapsed": false,
    "pycharm": {
     "name": "#%%\n",
     "is_executing": false
    }
   }
  },
  {
   "cell_type": "markdown",
   "source": [
    "#### Statistics of Scores"
   ],
   "metadata": {
    "collapsed": false,
    "pycharm": {
     "name": "#%% md\n"
    }
   }
  },
  {
   "cell_type": "code",
   "execution_count": 60,
   "outputs": [
    {
     "data": {
      "text/plain": "Text(0, 0.5, 'Number of Therms')"
     },
     "metadata": {},
     "output_type": "execute_result",
     "execution_count": 60
    },
    {
     "data": {
      "text/plain": "<Figure size 432x288 with 1 Axes>",
      "image/png": "[encoded data removed]"
     },
     "metadata": {
      "needs_background": "light"
     },
     "output_type": "display_data"
    }
   ],
   "source": [
    "statistics = {}\n",
    "for k in docs_scores_dfs.keys():\n",
    "    df = docs_scores_dfs[k]\n",
    "    scores = df['score']\n",
    "    scores = scores.loc[scores>0.0]\n",
    "    statistics[k] = [scores.mean(), scores.max(), scores.min(), df['score'].astype(bool).sum(axis=0)]\n",
    "\n",
    "irish_scores = docs_scores_dfs[\"irish\"][\"score\"]\n",
    "irish_scores = irish_scores.loc[irish_scores>0.0]\n",
    "plt.hist(irish_scores, color = 'blue', edgecolor = 'black', bins=300)\n",
    "plt.title('Histogram of Scores')\n",
    "plt.xlabel('Frequency')\n",
    "plt.ylabel('Number of Therms')\n",
    "# print(statistics)"
   ],
   "metadata": {
    "collapsed": false,
    "pycharm": {
     "name": "#%%\n",
     "is_executing": false
    }
   }
  },
  {
   "cell_type": "markdown",
   "source": [
    "#### Top 10 therms per cuisine"
   ],
   "metadata": {
    "collapsed": false,
    "pycharm": {
     "name": "#%% md\n"
    }
   }
  },
  {
   "cell_type": "code",
   "execution_count": 61,
   "outputs": [
    {
     "name": "stdout",
     "text": [
      "-------------\n",
      "greek\n",
      "        term     score\n",
      "0      fresh  0.297130\n",
      "1     pepper  0.294340\n",
      "2        oil  0.287714\n",
      "3       salt  0.260512\n",
      "4      olive  0.260163\n",
      "5       feta  0.231165\n",
      "6     ground  0.226684\n",
      "7      lemon  0.224591\n",
      "8     garlic  0.220058\n",
      "9     cheese  0.202621\n",
      "10   oregano  0.162209\n",
      "11     juice  0.155540\n",
      "12     dried  0.152750\n",
      "13  tomatoes  0.147868\n",
      "14     black  0.139847\n",
      "-------------\n",
      "southern_us\n",
      "       term     score\n",
      "0      salt  0.374617\n",
      "1    pepper  0.329929\n",
      "2     sugar  0.285364\n",
      "3    butter  0.265297\n",
      "4     flour  0.227380\n",
      "5    ground  0.189832\n",
      "6      eggs  0.170627\n",
      "7    powder  0.160286\n",
      "8       oil  0.157209\n",
      "9       all  0.155608\n",
      "10  purpose  0.155608\n",
      "11   baking  0.151546\n",
      "12     milk  0.137758\n",
      "13    black  0.124462\n",
      "14   garlic  0.121507\n",
      "-------------\n",
      "filipino\n",
      "       term     score\n",
      "0     sauce  0.327662\n",
      "1    garlic  0.325087\n",
      "2    pepper  0.323156\n",
      "3      salt  0.309637\n",
      "4       oil  0.306418\n",
      "5    onions  0.252988\n",
      "6     water  0.224020\n",
      "7     sugar  0.205352\n",
      "8       soy  0.186683\n",
      "9    ground  0.173165\n",
      "10  chicken  0.158359\n",
      "11     pork  0.136472\n",
      "12    black  0.133897\n",
      "13     milk  0.122954\n",
      "14  vinegar  0.110723\n",
      "-------------\n",
      "indian\n",
      "         term     score\n",
      "0      ground  0.356060\n",
      "1        salt  0.304793\n",
      "2         oil  0.259010\n",
      "3      garlic  0.208764\n",
      "4       fresh  0.208637\n",
      "5       cumin  0.199327\n",
      "6      masala  0.198498\n",
      "7      powder  0.191293\n",
      "8      ginger  0.188105\n",
      "9       garam  0.181433\n",
      "10     pepper  0.180198\n",
      "11     onions  0.165022\n",
      "12  coriander  0.147295\n",
      "13   cilantro  0.133140\n",
      "14      seeds  0.132502\n",
      "-------------\n",
      "jamaican\n",
      "        term     score\n",
      "0     pepper  0.431094\n",
      "1     ground  0.384930\n",
      "2       salt  0.289763\n",
      "3     garlic  0.222294\n",
      "4      thyme  0.220477\n",
      "5        oil  0.191755\n",
      "6     onions  0.178971\n",
      "7      black  0.160506\n",
      "8      fresh  0.156955\n",
      "9   allspice  0.152350\n",
      "10     water  0.149143\n",
      "11     sugar  0.144882\n",
      "12    powder  0.141331\n",
      "13   chicken  0.122865\n",
      "14     sauce  0.122865\n",
      "-------------\n",
      "spanish\n",
      "        term     score\n",
      "0     pepper  0.384981\n",
      "1        oil  0.327947\n",
      "2       salt  0.298984\n",
      "3      olive  0.289627\n",
      "4     garlic  0.250416\n",
      "5      fresh  0.205412\n",
      "6        red  0.181351\n",
      "7     cloves  0.163973\n",
      "8     ground  0.160854\n",
      "9   tomatoes  0.154616\n",
      "10    onions  0.134565\n",
      "11      wine  0.120307\n",
      "12      bell  0.117633\n",
      "13   chicken  0.116296\n",
      "14     extra  0.114960\n",
      "-------------\n",
      "italian\n",
      "        term     score\n",
      "0     cheese  0.340284\n",
      "1     pepper  0.319518\n",
      "2        oil  0.300257\n",
      "3       salt  0.282442\n",
      "4      fresh  0.265436\n",
      "5      olive  0.264106\n",
      "6     garlic  0.241605\n",
      "7     ground  0.172542\n",
      "8   parmesan  0.148991\n",
      "9      black  0.143216\n",
      "10  tomatoes  0.143043\n",
      "11    grated  0.119675\n",
      "12       red  0.118749\n",
      "13     basil  0.115973\n",
      "14    cloves  0.112329\n",
      "-------------\n",
      "mexican\n",
      "         term     score\n",
      "0      pepper  0.296588\n",
      "1        salt  0.267985\n",
      "2      ground  0.238020\n",
      "3      garlic  0.219564\n",
      "4      cheese  0.203900\n",
      "5         oil  0.202811\n",
      "6    cilantro  0.190280\n",
      "7       fresh  0.176863\n",
      "8     chicken  0.167738\n",
      "9        lime  0.163493\n",
      "10     onions  0.161404\n",
      "11     powder  0.160178\n",
      "12  tortillas  0.160102\n",
      "13   tomatoes  0.159497\n",
      "14      black  0.153436\n",
      "-------------\n",
      "chinese\n",
      "       term     score\n",
      "0     sauce  0.437906\n",
      "1       oil  0.383423\n",
      "2       soy  0.286323\n",
      "3    garlic  0.215891\n",
      "4    pepper  0.200962\n",
      "5    sesame  0.199125\n",
      "6    ginger  0.189224\n",
      "7     sugar  0.181057\n",
      "8   chicken  0.169829\n",
      "9      rice  0.159366\n",
      "10     salt  0.156176\n",
      "11   onions  0.145714\n",
      "12    water  0.144055\n",
      "13    fresh  0.130530\n",
      "14     corn  0.128233\n",
      "-------------\n",
      "british\n",
      "        term     score\n",
      "0       salt  0.349949\n",
      "1      flour  0.317950\n",
      "2      sugar  0.309099\n",
      "3     butter  0.296844\n",
      "4       eggs  0.217186\n",
      "5     ground  0.212421\n",
      "6       milk  0.195400\n",
      "7     pepper  0.187230\n",
      "8      cream  0.182464\n",
      "9        all  0.168847\n",
      "10   purpose  0.168166\n",
      "11    baking  0.145699\n",
      "12       oil  0.136848\n",
      "13  unsalted  0.131401\n",
      "14    powder  0.121869\n",
      "-------------\n",
      "thai\n",
      "        term     score\n",
      "0      sauce  0.363711\n",
      "1      fresh  0.292176\n",
      "2       lime  0.261182\n",
      "3        oil  0.236289\n",
      "4     garlic  0.214158\n",
      "5       fish  0.195066\n",
      "6      sugar  0.193368\n",
      "7        red  0.185768\n",
      "8     pepper  0.183756\n",
      "9       thai  0.179264\n",
      "10   chicken  0.169896\n",
      "11   coconut  0.166095\n",
      "12  cilantro  0.163189\n",
      "13      rice  0.145976\n",
      "14      milk  0.141282\n",
      "-------------\n",
      "vietnamese\n",
      "        term     score\n",
      "0      sauce  0.421427\n",
      "1      sugar  0.249025\n",
      "2      fresh  0.248113\n",
      "3     garlic  0.247201\n",
      "4        oil  0.240815\n",
      "5       fish  0.234388\n",
      "6       rice  0.217555\n",
      "7     pepper  0.195206\n",
      "8       lime  0.178422\n",
      "9       salt  0.177419\n",
      "10  cilantro  0.153246\n",
      "11     water  0.135915\n",
      "12    onions  0.133178\n",
      "13    leaves  0.129530\n",
      "14    ground  0.123600\n",
      "-------------\n",
      "cajun_creole\n",
      "         term     score\n",
      "0      pepper  0.517158\n",
      "1      garlic  0.226017\n",
      "2        salt  0.223313\n",
      "3       green  0.196497\n",
      "4      onions  0.195145\n",
      "5         oil  0.185005\n",
      "6     chicken  0.166752\n",
      "7       cajun  0.157876\n",
      "8        bell  0.156837\n",
      "9      ground  0.153232\n",
      "10      sauce  0.149626\n",
      "11  seasoning  0.141063\n",
      "12     celery  0.139486\n",
      "13        red  0.125064\n",
      "14       rice  0.121008\n",
      "-------------\n",
      "brazilian\n",
      "        term     score\n",
      "0     pepper  0.346752\n",
      "1        oil  0.284544\n",
      "2       salt  0.279936\n",
      "3    cachaca  0.270255\n",
      "4       milk  0.263808\n",
      "5     garlic  0.223488\n",
      "6       lime  0.198146\n",
      "7     onions  0.185472\n",
      "8      sugar  0.172800\n",
      "9    coconut  0.163584\n",
      "10     black  0.158976\n",
      "11     olive  0.153216\n",
      "12    ground  0.147456\n",
      "13     fresh  0.147456\n",
      "14  tomatoes  0.133632\n",
      "-------------\n",
      "french\n",
      "      term     score\n",
      "0     salt  0.332754\n",
      "1    fresh  0.274369\n",
      "2   pepper  0.243952\n",
      "3   butter  0.237623\n",
      "4    sugar  0.235990\n",
      "5      oil  0.210472\n",
      "6   ground  0.176788\n",
      "7    large  0.176176\n",
      "8    flour  0.163927\n",
      "9    olive  0.161682\n",
      "10  garlic  0.158824\n",
      "11   black  0.148208\n",
      "12   cream  0.142696\n",
      "13    wine  0.135347\n",
      "14   water  0.134939\n",
      "-------------\n",
      "japanese\n",
      "      term     score\n",
      "0    sauce  0.331914\n",
      "1      oil  0.321564\n",
      "2    mirin  0.281935\n",
      "3      soy  0.278023\n",
      "4    sugar  0.231626\n",
      "5     salt  0.206643\n",
      "6     rice  0.197721\n",
      "7   sesame  0.194641\n",
      "8     sake  0.190536\n",
      "9    water  0.170954\n",
      "10  ginger  0.164530\n",
      "11  onions  0.141688\n",
      "12   fresh  0.138476\n",
      "13    miso  0.136929\n",
      "14  pepper  0.129554\n",
      "-------------\n",
      "irish\n",
      "        term     score\n",
      "0       salt  0.379941\n",
      "1      flour  0.282265\n",
      "2     butter  0.278954\n",
      "3      sugar  0.251638\n",
      "4     pepper  0.233428\n",
      "5     baking  0.211078\n",
      "6   potatoes  0.195351\n",
      "7        all  0.187073\n",
      "8    purpose  0.187073\n",
      "9     ground  0.183762\n",
      "10      milk  0.153963\n",
      "11     cream  0.144030\n",
      "12    onions  0.143202\n",
      "13      eggs  0.139063\n",
      "14     fresh  0.137408\n",
      "-------------\n",
      "korean\n",
      "         term     score\n",
      "0      sesame  0.407496\n",
      "1         oil  0.353020\n",
      "2       sauce  0.291079\n",
      "3      garlic  0.276785\n",
      "4      onions  0.243433\n",
      "5         soy  0.235636\n",
      "6      pepper  0.232604\n",
      "7       sugar  0.211379\n",
      "8        rice  0.179326\n",
      "9        salt  0.164599\n",
      "10      seeds  0.159401\n",
      "11      green  0.149005\n",
      "12     ginger  0.138609\n",
      "13  gochujang  0.132708\n",
      "14      water  0.120417\n",
      "-------------\n",
      "moroccan\n",
      "        term     score\n",
      "0     ground  0.538075\n",
      "1     pepper  0.262753\n",
      "2      fresh  0.254113\n",
      "3        oil  0.252542\n",
      "4       salt  0.236439\n",
      "5      olive  0.212873\n",
      "6     garlic  0.177525\n",
      "7      cumin  0.177525\n",
      "8      lemon  0.176347\n",
      "9   cinnamon  0.162208\n",
      "10   chicken  0.142570\n",
      "11   chopped  0.123325\n",
      "12    onions  0.119790\n",
      "13    ginger  0.112721\n",
      "14  cilantro  0.112328\n",
      "-------------\n",
      "russian\n",
      "      term     score\n",
      "0     salt  0.375552\n",
      "1    sugar  0.272438\n",
      "2    flour  0.257243\n",
      "3   butter  0.232278\n",
      "4   pepper  0.229022\n",
      "5     eggs  0.222509\n",
      "6    cream  0.196459\n",
      "7      oil  0.187776\n",
      "8    water  0.181264\n",
      "9   onions  0.181264\n",
      "10  ground  0.172580\n",
      "11   fresh  0.163897\n",
      "12    dill  0.145939\n",
      "13    sour  0.144573\n",
      "14     all  0.140018\n"
     ],
     "output_type": "stream"
    }
   ],
   "source": [
    "for k in docs_scores_dfs.keys():\n",
    "    scores_df = docs_scores_dfs[k]\n",
    "    print('-------------')\n",
    "    print(k)\n",
    "    print(scores_df.iloc[:15,:])\n"
   ],
   "metadata": {
    "collapsed": false,
    "pycharm": {
     "name": "#%%\n",
     "is_executing": false
    }
   }
  },
  {
   "cell_type": "markdown",
   "source": [
    "#### Load Baskets Market Data"
   ],
   "metadata": {
    "collapsed": false,
    "pycharm": {
     "name": "#%% md\n"
    }
   }
  },
  {
   "cell_type": "code",
   "execution_count": 62,
   "outputs": [],
   "source": [
    "baskets = []\n",
    "with open('./data/groceries.csv', newline=None) as f:\n",
    "  reader = csv.reader(f)\n",
    "  for row in reader:\n",
    "    baskets.append([elem.replace(' ', '-') for elem in row])"
   ],
   "metadata": {
    "collapsed": false,
    "pycharm": {
     "name": "#%%\n",
     "is_executing": false
    }
   }
  },
  {
   "cell_type": "markdown",
   "source": [
    "#### Compute ngram for tf.idf top score "
   ],
   "metadata": {
    "collapsed": false
   }
  },
  {
   "cell_type": "code",
   "execution_count": 63,
   "outputs": [],
   "source": [
    "top_scores_ngram = {}\n",
    "\n",
    "for cuisine in docs_scores_dfs.keys():\n",
    "    scores_df = docs_scores_dfs[cuisine]\n",
    "    scores_df = scores_df[scores_df['score']>(statistics[cuisine][1]/4)]\n",
    "    #scores_df = scores_df.iloc[:30,:]\n",
    "    scores_df = scores_df.sort_values(by=['score'],ascending=False)\n",
    "    \n",
    "    ngram_scores = []\n",
    "    for index, row in scores_df.iterrows():\n",
    "        ngram = list(ngrams(row['term'], 3))\n",
    "        score =  row['score']\n",
    "        ngram_scores.append([ngram, score])\n",
    "        \n",
    "    top_scores_ngram[cuisine] = ngram_scores"
   ],
   "metadata": {
    "collapsed": false,
    "pycharm": {
     "name": "#%%\n",
     "is_executing": false
    }
   }
  },
  {
   "cell_type": "markdown",
   "source": [
    "#### Define the metric similarity"
   ],
   "metadata": {
    "collapsed": false
   }
  },
  {
   "cell_type": "code",
   "execution_count": 64,
   "outputs": [],
   "source": [
    "def jaccard_distance(a, b):\n",
    "    \"\"\"Calculate the jaccard distance between sets A and B\"\"\"\n",
    "    a = set(a)\n",
    "    b = set(b)\n",
    "    return 1.0 * len(a&b)/len(a|b)"
   ],
   "metadata": {
    "collapsed": false,
    "pycharm": {
     "name": "#%%\n",
     "is_executing": false
    }
   }
  },
  {
   "cell_type": "markdown",
   "source": [
    "#### Compute Basket Scores\n",
    "For each basket we iterate over all items and compute their similarities with the top \n",
    "terms in the cuisines docs"
   ],
   "metadata": {
    "collapsed": false
   }
  },
  {
   "cell_type": "code",
   "execution_count": 65,
   "outputs": [],
   "source": [
    "baskets_scores = []\n",
    "\n",
    "for basket in baskets:\n",
    "    similarities = {}\n",
    "    for cuisine in top_scores_ngram:\n",
    "        value = 0\n",
    "        for item in basket:      \n",
    "            item_ngram = list(ngrams(item, 3))\n",
    "            for ngram_term, score in top_scores_ngram[cuisine]:\n",
    "                sim = jaccard_distance(item_ngram, ngram_term)\n",
    "                if sim > 0:\n",
    "                    value += sim * score\n",
    "                    \n",
    "        similarities[cuisine] = value    \n",
    "    baskets_scores.append(similarities)\n",
    "           \n",
    "    # print('------------------')\n",
    "    # print(\"basket: \", basket)\n",
    "    # for k in similarities:\n",
    "    #     print(k, similarities[k]) "
   ],
   "metadata": {
    "collapsed": false,
    "pycharm": {
     "name": "#%%\n",
     "is_executing": false
    }
   }
  },
  {
   "cell_type": "markdown",
   "source": [
    "#### CLustering baskets\n",
    "We now try to cluster the baskets, based on the scores that they \n",
    "obtained using frequent therms of recipes"
   ],
   "metadata": {
    "collapsed": false,
    "pycharm": {
     "name": "#%% md\n"
    }
   }
  },
  {
   "cell_type": "code",
   "execution_count": 66,
   "outputs": [],
   "source": [
    "baskets_scores_df = pd.DataFrame(baskets_scores)\n",
    "X = StandardScaler().fit_transform(baskets_scores_df.to_numpy())"
   ],
   "metadata": {
    "collapsed": false,
    "pycharm": {
     "name": "#%%\n",
     "is_executing": false
    }
   }
  },
  {
   "cell_type": "code",
   "execution_count": 67,
   "outputs": [
    {
     "name": "stdout",
     "text": [
      "{0, -1}\n"
     ],
     "output_type": "stream"
    },
    {
     "name": "stderr",
     "text": [
      "/home/nepotu/anaconda3/envs/dataMiningProject/lib/python3.7/site-packages/sklearn/cluster/_optics.py:802: RuntimeWarning: divide by zero encountered in true_divide\n",
      "  ratio = reachability_plot[:-1] / reachability_plot[1:]\n"
     ],
     "output_type": "stream"
    }
   ],
   "source": [
    "# OPTICS\n",
    "optics = OPTICS(min_samples=20, max_eps=0.35, xi=.05, min_cluster_size=.05)\n",
    "optics.fit(X)\n",
    "optics_labels = optics.labels_[optics.ordering_]\n",
    "print(set(optics_labels))"
   ],
   "metadata": {
    "collapsed": false,
    "pycharm": {
     "name": "#%%\n",
     "is_executing": false
    }
   }
  },
  {
   "cell_type": "code",
   "execution_count": 68,
   "outputs": [
    {
     "name": "stdout",
     "text": [
      "{0, 1, 2, 3, 4, 5, 6, 7, 8, 9}\n"
     ],
     "output_type": "stream"
    }
   ],
   "source": [
    "# K-Means\n",
    "kMeans = KMeans(n_clusters=10, random_state=0).fit(X)\n",
    "kMeans_labels = kMeans.labels_\n",
    "print(set(kMeans_labels))"
   ],
   "metadata": {
    "collapsed": false,
    "pycharm": {
     "name": "#%%\n",
     "is_executing": false
    }
   }
  },
  {
   "cell_type": "code",
   "execution_count": 69,
   "outputs": [
    {
     "name": "stdout",
     "text": [
      "{0, 1, 2, 3, 4, 5, 6, 7, 8, -1}\n",
      "[0.35, 50]\n"
     ],
     "output_type": "stream"
    }
   ],
   "source": [
    "# DBSCAN \n",
    "[eps, min_samples] = [0.35, 50]\n",
    "dbScan = DBSCAN(eps=eps, min_samples=min_samples).fit(X)\n",
    "dbScan_labels = dbScan.labels_\n",
    "print(set(dbScan_labels))\n",
    "print([eps, min_samples])"
   ],
   "metadata": {
    "collapsed": false,
    "pycharm": {
     "name": "#%%\n",
     "is_executing": false
    }
   }
  },
  {
   "cell_type": "code",
   "execution_count": 69,
   "outputs": [],
   "source": [],
   "metadata": {
    "collapsed": false,
    "pycharm": {
     "name": "#%%\n",
     "is_executing": false
    }
   }
  },
  {
   "cell_type": "markdown",
   "source": [
    "#### Analysis of the method\n",
    "Observe size of created basket clusters"
   ],
   "metadata": {
    "collapsed": false,
    "pycharm": {
     "name": "#%% md\n"
    }
   }
  },
  {
   "cell_type": "code",
   "execution_count": 70,
   "outputs": [
    {
     "data": {
      "text/plain": "<matplotlib.axes._subplots.AxesSubplot at 0x7ff989128fd0>"
     },
     "metadata": {},
     "output_type": "execute_result",
     "execution_count": 70
    },
    {
     "data": {
      "text/plain": "<Figure size 432x288 with 1 Axes>",
      "image/png": "[encoded data removed]"
     },
     "metadata": {
      "needs_background": "light"
     },
     "output_type": "display_data"
    }
   ],
   "source": [
    "labels = dbScan_labels\n",
    "cluster_sizes = []\n",
    "for label in set(labels):\n",
    "    cluster_sizes.append([label, len(baskets_scores_df[labels == label])])\n",
    "pd.DataFrame(cluster_sizes).plot(kind='bar')"
   ],
   "metadata": {
    "collapsed": false,
    "pycharm": {
     "name": "#%%\n",
     "is_executing": false
    }
   }
  },
  {
   "cell_type": "markdown",
   "source": [
    "Select one cluster and calculate its overall score (by summing\n",
    "all scores of all items of that cluster)"
   ],
   "metadata": {
    "collapsed": false,
    "pycharm": {
     "name": "#%% md\n"
    }
   }
  },
  {
   "cell_type": "code",
   "execution_count": 71,
   "outputs": [
    {
     "name": "stdout",
     "text": [
      "greek           11.187314\n",
      "british          0.381030\n",
      "indian           0.286883\n",
      "irish            0.264374\n",
      "thai             0.259857\n",
      "mexican          0.234035\n",
      "jamaican         0.226802\n",
      "french           0.215894\n",
      "russian          0.203913\n",
      "southern_us      0.164796\n",
      "japanese         0.154137\n",
      "italian          0.097554\n",
      "vietnamese       0.088406\n",
      "brazilian        0.041743\n",
      "cajun_creole     0.038040\n",
      "chinese          0.025342\n",
      "korean           0.018564\n",
      "spanish          0.014068\n",
      "filipino         0.008562\n",
      "moroccan         0.000000\n",
      "dtype: float64\n",
      "brazilian       20.210575\n",
      "irish           16.930142\n",
      "british         16.322751\n",
      "southern_us     15.698042\n",
      "thai            11.350005\n",
      "filipino         9.375932\n",
      "russian          9.185357\n",
      "french           8.445591\n",
      "mexican          0.819875\n",
      "indian           0.662678\n",
      "jamaican         0.650509\n",
      "vietnamese       0.383680\n",
      "japanese         0.307174\n",
      "greek            0.254599\n",
      "italian          0.237782\n",
      "chinese          0.196571\n",
      "korean           0.078222\n",
      "spanish          0.072248\n",
      "cajun_creole     0.064471\n",
      "moroccan         0.000000\n",
      "dtype: float64\n",
      "british         24.070457\n",
      "indian          23.620998\n",
      "irish           21.682720\n",
      "japanese        20.591056\n",
      "french          17.905871\n",
      "russian         15.144326\n",
      "greek           14.930758\n",
      "thai            14.400974\n",
      "southern_us     13.853145\n",
      "mexican         13.158207\n",
      "italian         11.341921\n",
      "jamaican         9.459394\n",
      "vietnamese       8.672156\n",
      "brazilian        8.016593\n",
      "filipino         7.792480\n",
      "chinese          7.661702\n",
      "spanish          7.142235\n",
      "korean           5.531255\n",
      "cajun_creole     3.364053\n",
      "moroccan         1.719504\n",
      "dtype: float64\n",
      "russian         9.623637\n",
      "filipino        8.693334\n",
      "british         8.410115\n",
      "irish           8.068099\n",
      "southern_us     8.054810\n",
      "french          7.944378\n",
      "japanese        6.739124\n",
      "brazilian       6.061510\n",
      "jamaican        5.991199\n",
      "chinese         5.603726\n",
      "italian         5.582190\n",
      "vietnamese      5.371964\n",
      "indian          4.991755\n",
      "korean          4.670981\n",
      "mexican         3.126270\n",
      "thai            0.225642\n",
      "greek           0.108449\n",
      "spanish         0.058904\n",
      "cajun_creole    0.047309\n",
      "moroccan        0.000000\n",
      "dtype: float64\n",
      "cajun_creole    4.812201\n",
      "jamaican        4.200778\n",
      "spanish         3.569825\n",
      "mexican         3.486687\n",
      "brazilian       3.257080\n",
      "southern_us     3.083776\n",
      "filipino        2.996533\n",
      "italian         2.977952\n",
      "greek           2.799678\n",
      "moroccan        2.448918\n",
      "french          2.382107\n",
      "irish           2.347674\n",
      "russian         2.228177\n",
      "korean          2.156871\n",
      "british         2.040000\n",
      "vietnamese      1.902551\n",
      "chinese         1.863469\n",
      "thai            1.781948\n",
      "indian          1.758479\n",
      "japanese        1.235949\n",
      "dtype: float64\n",
      "irish           33.382853\n",
      "british          1.197838\n",
      "french           0.628309\n",
      "russian          0.618400\n",
      "jamaican         0.551689\n",
      "indian           0.466823\n",
      "mexican          0.422939\n",
      "thai             0.351629\n",
      "southern_us      0.347689\n",
      "greek            0.341245\n",
      "japanese         0.336083\n",
      "vietnamese       0.275983\n",
      "italian          0.223784\n",
      "brazilian        0.116725\n",
      "filipino         0.113646\n",
      "chinese          0.102870\n",
      "spanish          0.054391\n",
      "korean           0.047451\n",
      "cajun_creole     0.040439\n",
      "moroccan         0.000000\n",
      "dtype: float64\n",
      "russian         4.757583\n",
      "british         4.459360\n",
      "french          4.039647\n",
      "mexican         3.894018\n",
      "irish           3.535999\n",
      "southern_us     2.865896\n",
      "vietnamese      2.281910\n",
      "thai            1.863254\n",
      "japanese        1.375757\n",
      "korean          1.238599\n",
      "chinese         1.108294\n",
      "greek           1.003806\n",
      "jamaican        0.773765\n",
      "brazilian       0.772876\n",
      "spanish         0.676899\n",
      "filipino        0.581326\n",
      "indian          0.073581\n",
      "italian         0.046130\n",
      "cajun_creole    0.005579\n",
      "moroccan        0.000000\n",
      "dtype: float64\n",
      "chinese         3.852441\n",
      "vietnamese      3.710874\n",
      "thai            3.229027\n",
      "japanese        2.925646\n",
      "filipino        2.855338\n",
      "korean          2.536550\n",
      "jamaican        1.358149\n",
      "cajun_creole    1.309467\n",
      "mexican         0.939305\n",
      "southern_us     0.908083\n",
      "british         0.381577\n",
      "russian         0.272455\n",
      "french          0.269585\n",
      "irish           0.152581\n",
      "indian          0.081792\n",
      "greek           0.018918\n",
      "brazilian       0.017272\n",
      "italian         0.015034\n",
      "moroccan        0.012478\n",
      "spanish         0.006185\n",
      "dtype: float64\n",
      "brazilian       3.723959\n",
      "irish           3.247912\n",
      "british         3.173820\n",
      "southern_us     3.020059\n",
      "japanese        2.794590\n",
      "indian          2.568801\n",
      "thai            2.034626\n",
      "russian         1.819762\n",
      "filipino        1.742542\n",
      "greek           1.729227\n",
      "french          1.665202\n",
      "mexican         0.184087\n",
      "jamaican        0.171090\n",
      "chinese         0.060618\n",
      "italian         0.048432\n",
      "vietnamese      0.046804\n",
      "spanish         0.046254\n",
      "cajun_creole    0.027834\n",
      "korean          0.027722\n",
      "moroccan        0.026735\n",
      "dtype: float64\n",
      "irish           1194.494986\n",
      "british         1096.226579\n",
      "southern_us     1082.515348\n",
      "french          1032.163804\n",
      "russian          940.080487\n",
      "filipino         878.388634\n",
      "japanese         837.563401\n",
      "brazilian        786.092524\n",
      "mexican          752.815254\n",
      "greek            739.943578\n",
      "italian          708.650514\n",
      "thai             679.727682\n",
      "indian           679.546135\n",
      "chinese          649.544662\n",
      "vietnamese       600.665202\n",
      "korean           525.706645\n",
      "jamaican         515.710616\n",
      "spanish          442.881565\n",
      "cajun_creole     366.424723\n",
      "moroccan         242.287702\n",
      "dtype: float64\n"
     ],
     "output_type": "stream"
    }
   ],
   "source": [
    "for selected_basket_cluster in set(labels):\n",
    "    selected_basket_scores = baskets_scores_df[labels == selected_basket_cluster]\n",
    "    aggregated_basket_cluster_score \\\n",
    "        = np.sum(selected_basket_scores, axis=0)\\\n",
    "        .sort_values(ascending=False)\n",
    "    selected_baskets = list(compress(baskets, labels == selected_basket_cluster))\n",
    "    selected_baskets = [' '.join(l) for l in selected_baskets]\n",
    "    aggregated_basket_cluster_score = aggregated_basket_cluster_score[0:50]\n",
    "    print(aggregated_basket_cluster_score)\n"
   ],
   "metadata": {
    "collapsed": false,
    "pycharm": {
     "name": "#%%\n",
     "is_executing": false
    }
   }
  },
  {
   "cell_type": "markdown",
   "source": [
    " Calculate the most frequent terms (TF) of the cluster of baskets and\n",
    " compute the intersection between frequent terms of baskets clusters \n",
    " and cuisine terms that scored high TF-IDF"
   ],
   "metadata": {
    "collapsed": false
   }
  },
  {
   "cell_type": "code",
   "execution_count": null,
   "outputs": [],
   "source": [
    "countVectorizer = CountVectorizer()\n",
    "wordCountVector = countVectorizer.fit_transform(selected_baskets)\n",
    "vocabulary = pd.Series(countVectorizer.vocabulary_)\n",
    "vocabulary = vocabulary[vocabulary > 0].sort_values(ascending=False)\n",
    "print(vocabulary)\n",
    "\n",
    "intersection_therms = {}\n",
    "frequent_basket_cluster_terms = set(vocabulary.index)\n",
    "for cuisine in aggregated_basket_cluster_score.index:\n",
    "    frequent_cuisine_therms = set(docs_scores_dfs[cuisine][\"term\"][0:50])\n",
    "    print(len(frequent_basket_cluster_terms.intersection(frequent_cuisine_therms)))\n",
    "    "
   ],
   "metadata": {
    "collapsed": false,
    "pycharm": {
     "name": "#%%\n"
    }
   }
  },
  {
   "cell_type": "markdown",
   "source": [
    "#### Baseline method - K-means\n",
    "Now we will implement the baseline algorithm to compare our method with. \n",
    "A KNN method will be used. We will try to find the best K by trial and error based on the\n",
    "coherence of the results because there are not many possible Ks for the given dataset."
   ],
   "metadata": {
    "collapsed": false,
    "pycharm": {
     "name": "#%% md\n"
    }
   }
  },
  {
   "cell_type": "code",
   "source": [
    "baskets_as_docs = [' '.join(basket) for basket in baskets]\n",
    "X = vectorizer.fit_transform(baskets_as_docs)\n",
    "model = KMeans(n_clusters=10, init='k-means++', max_iter=100, n_init=1)\n",
    "model.fit(X)\n",
    "\n",
    "print(\"Top terms per cluster:\")\n",
    "order_centroids = model.cluster_centers_.argsort()[:, ::-1]\n",
    "terms = vectorizer.get_feature_names()\n",
    "baseline_labels = set(model.labels_)\n",
    "for i in baseline_labels:\n",
    "    print(\"Cluster %d:\" % i),\n",
    "    for ind in order_centroids[i, :10]:\n",
    "        print(' %s' % terms[ind])"
   ],
   "metadata": {
    "collapsed": false,
    "pycharm": {
     "name": "#%%\n",
     "is_executing": false
    }
   },
   "execution_count": 73,
   "outputs": [
    {
     "name": "stdout",
     "text": [
      "Top terms per cluster:\n",
      "Cluster 0:\n",
      " milk\n",
      " whole\n",
      " butter\n",
      " pastry\n",
      " bread\n",
      " yogurt\n",
      " newspapers\n",
      " brown\n",
      " cheese\n",
      " fruit\n",
      "Cluster 1:\n",
      " buns\n",
      " rolls\n",
      " milk\n",
      " soda\n",
      " sausage\n",
      " whole\n",
      " frankfurter\n",
      " vegetables\n",
      " cheese\n",
      " yogurt\n",
      "Cluster 2:\n",
      " soda\n",
      " chocolate\n",
      " pastry\n",
      " yogurt\n",
      " specialty\n",
      " newspapers\n",
      " coffee\n",
      " beverages\n",
      " bread\n",
      " sausage\n",
      "Cluster 3:\n",
      " water\n",
      " bottled\n",
      " milk\n",
      " soda\n",
      " whole\n",
      " fruit\n",
      " beer\n",
      " vegetables\n",
      " rolls\n",
      " buns\n",
      "Cluster 4:\n",
      " fruit\n",
      " tropical\n",
      " vegetable\n",
      " juice\n",
      " pip\n",
      " citrus\n",
      " milk\n",
      " vegetables\n",
      " yogurt\n",
      " whole\n",
      "Cluster 5:\n",
      " life\n",
      " product\n",
      " bakery\n",
      " long\n",
      " fruit\n",
      " vegetables\n",
      " milk\n",
      " whole\n",
      " chocolate\n",
      " cheese\n",
      "Cluster 6:\n",
      " vegetables\n",
      " other\n",
      " root\n",
      " milk\n",
      " whole\n",
      " fruit\n",
      " frozen\n",
      " yogurt\n",
      " cheese\n",
      " pork\n",
      "Cluster 7:\n",
      " shopping\n",
      " bags\n",
      " soda\n",
      " milk\n",
      " beer\n",
      " canned\n",
      " vegetables\n",
      " sausage\n",
      " fruit\n",
      " rolls\n",
      "Cluster 8:\n",
      " beer\n",
      " canned\n",
      " bottled\n",
      " soda\n",
      " liquor\n",
      " newspapers\n",
      " rolls\n",
      " buns\n",
      " vegetables\n",
      " water\n",
      "Cluster 9:\n",
      " cream\n",
      " whipped\n",
      " sour\n",
      " vegetables\n",
      " milk\n",
      " fruit\n",
      " ice\n",
      " whole\n",
      " other\n",
      " cheese\n"
     ],
     "output_type": "stream"
    }
   ]
  },
  {
   "cell_type": "markdown",
   "source": [
    "#### Compute Scores of Baskets created using K-Means\n",
    "For the created clusters of baskets using the baseline method, \n",
    "we calculate its scores in terms of similarity with the terms\n",
    "that scored high TF-IDF for the cuisines "
   ],
   "metadata": {
    "collapsed": false
   }
  },
  {
   "cell_type": "code",
   "execution_count": 74,
   "outputs": [
    {
     "name": "stdout",
     "text": [
      "greek           11.187314\n",
      "british          0.381030\n",
      "indian           0.286883\n",
      "irish            0.264374\n",
      "thai             0.259857\n",
      "mexican          0.234035\n",
      "jamaican         0.226802\n",
      "french           0.215894\n",
      "russian          0.203913\n",
      "southern_us      0.164796\n",
      "japanese         0.154137\n",
      "italian          0.097554\n",
      "vietnamese       0.088406\n",
      "brazilian        0.041743\n",
      "cajun_creole     0.038040\n",
      "chinese          0.025342\n",
      "korean           0.018564\n",
      "spanish          0.014068\n",
      "filipino         0.008562\n",
      "moroccan         0.000000\n",
      "dtype: float64\n",
      "brazilian       20.210575\n",
      "irish           16.930142\n",
      "british         16.322751\n",
      "southern_us     15.698042\n",
      "thai            11.350005\n",
      "filipino         9.375932\n",
      "russian          9.185357\n",
      "french           8.445591\n",
      "mexican          0.819875\n",
      "indian           0.662678\n",
      "jamaican         0.650509\n",
      "vietnamese       0.383680\n",
      "japanese         0.307174\n",
      "greek            0.254599\n",
      "italian          0.237782\n",
      "chinese          0.196571\n",
      "korean           0.078222\n",
      "spanish          0.072248\n",
      "cajun_creole     0.064471\n",
      "moroccan         0.000000\n",
      "dtype: float64\n",
      "british         24.070457\n",
      "indian          23.620998\n",
      "irish           21.682720\n",
      "japanese        20.591056\n",
      "french          17.905871\n",
      "russian         15.144326\n",
      "greek           14.930758\n",
      "thai            14.400974\n",
      "southern_us     13.853145\n",
      "mexican         13.158207\n",
      "italian         11.341921\n",
      "jamaican         9.459394\n",
      "vietnamese       8.672156\n",
      "brazilian        8.016593\n",
      "filipino         7.792480\n",
      "chinese          7.661702\n",
      "spanish          7.142235\n",
      "korean           5.531255\n",
      "cajun_creole     3.364053\n",
      "moroccan         1.719504\n",
      "dtype: float64\n",
      "russian         9.623637\n",
      "filipino        8.693334\n",
      "british         8.410115\n",
      "irish           8.068099\n",
      "southern_us     8.054810\n",
      "french          7.944378\n",
      "japanese        6.739124\n",
      "brazilian       6.061510\n",
      "jamaican        5.991199\n",
      "chinese         5.603726\n",
      "italian         5.582190\n",
      "vietnamese      5.371964\n",
      "indian          4.991755\n",
      "korean          4.670981\n",
      "mexican         3.126270\n",
      "thai            0.225642\n",
      "greek           0.108449\n",
      "spanish         0.058904\n",
      "cajun_creole    0.047309\n",
      "moroccan        0.000000\n",
      "dtype: float64\n",
      "cajun_creole    4.812201\n",
      "jamaican        4.200778\n",
      "spanish         3.569825\n",
      "mexican         3.486687\n",
      "brazilian       3.257080\n",
      "southern_us     3.083776\n",
      "filipino        2.996533\n",
      "italian         2.977952\n",
      "greek           2.799678\n",
      "moroccan        2.448918\n",
      "french          2.382107\n",
      "irish           2.347674\n",
      "russian         2.228177\n",
      "korean          2.156871\n",
      "british         2.040000\n",
      "vietnamese      1.902551\n",
      "chinese         1.863469\n",
      "thai            1.781948\n",
      "indian          1.758479\n",
      "japanese        1.235949\n",
      "dtype: float64\n",
      "irish           33.382853\n",
      "british          1.197838\n",
      "french           0.628309\n",
      "russian          0.618400\n",
      "jamaican         0.551689\n",
      "indian           0.466823\n",
      "mexican          0.422939\n",
      "thai             0.351629\n",
      "southern_us      0.347689\n",
      "greek            0.341245\n",
      "japanese         0.336083\n",
      "vietnamese       0.275983\n",
      "italian          0.223784\n",
      "brazilian        0.116725\n",
      "filipino         0.113646\n",
      "chinese          0.102870\n",
      "spanish          0.054391\n",
      "korean           0.047451\n",
      "cajun_creole     0.040439\n",
      "moroccan         0.000000\n",
      "dtype: float64\n",
      "russian         4.757583\n",
      "british         4.459360\n",
      "french          4.039647\n",
      "mexican         3.894018\n",
      "irish           3.535999\n",
      "southern_us     2.865896\n",
      "vietnamese      2.281910\n",
      "thai            1.863254\n",
      "japanese        1.375757\n",
      "korean          1.238599\n",
      "chinese         1.108294\n",
      "greek           1.003806\n",
      "jamaican        0.773765\n",
      "brazilian       0.772876\n",
      "spanish         0.676899\n",
      "filipino        0.581326\n",
      "indian          0.073581\n",
      "italian         0.046130\n",
      "cajun_creole    0.005579\n",
      "moroccan        0.000000\n",
      "dtype: float64\n",
      "chinese         3.852441\n",
      "vietnamese      3.710874\n",
      "thai            3.229027\n",
      "japanese        2.925646\n",
      "filipino        2.855338\n",
      "korean          2.536550\n",
      "jamaican        1.358149\n",
      "cajun_creole    1.309467\n",
      "mexican         0.939305\n",
      "southern_us     0.908083\n",
      "british         0.381577\n",
      "russian         0.272455\n",
      "french          0.269585\n",
      "irish           0.152581\n",
      "indian          0.081792\n",
      "greek           0.018918\n",
      "brazilian       0.017272\n",
      "italian         0.015034\n",
      "moroccan        0.012478\n",
      "spanish         0.006185\n",
      "dtype: float64\n",
      "brazilian       3.723959\n",
      "irish           3.247912\n",
      "british         3.173820\n",
      "southern_us     3.020059\n",
      "japanese        2.794590\n",
      "indian          2.568801\n",
      "thai            2.034626\n",
      "russian         1.819762\n",
      "filipino        1.742542\n",
      "greek           1.729227\n",
      "french          1.665202\n",
      "mexican         0.184087\n",
      "jamaican        0.171090\n",
      "chinese         0.060618\n",
      "italian         0.048432\n",
      "vietnamese      0.046804\n",
      "spanish         0.046254\n",
      "cajun_creole    0.027834\n",
      "korean          0.027722\n",
      "moroccan        0.026735\n",
      "dtype: float64\n",
      "russian         0.0\n",
      "moroccan        0.0\n",
      "southern_us     0.0\n",
      "filipino        0.0\n",
      "indian          0.0\n",
      "jamaican        0.0\n",
      "spanish         0.0\n",
      "italian         0.0\n",
      "mexican         0.0\n",
      "chinese         0.0\n",
      "british         0.0\n",
      "thai            0.0\n",
      "vietnamese      0.0\n",
      "cajun_creole    0.0\n",
      "brazilian       0.0\n",
      "french          0.0\n",
      "japanese        0.0\n",
      "irish           0.0\n",
      "korean          0.0\n",
      "greek           0.0\n",
      "dtype: float64\n"
     ],
     "output_type": "stream"
    }
   ],
   "source": [
    "baseline_baskets_scores = {}\n",
    "for cluster in baseline_labels:\n",
    "    basket_scores = baskets_scores_df[labels == cluster]\n",
    "    cluster_scores = np.sum(basket_scores, axis=0).sort_values(ascending=False)\n",
    "    cluster_scores = cluster_scores[0:50]\n",
    "    print(cluster_scores)"
   ],
   "metadata": {
    "collapsed": false,
    "pycharm": {
     "name": "#%%\n",
     "is_executing": false
    }
   }
  },
  {
   "cell_type": "markdown",
   "source": [],
   "metadata": {
    "collapsed": false
   }
  }
 ],
 "metadata": {
  "kernelspec": {
   "name": "python3",
   "language": "python",
   "display_name": "Python 3"
  },
  "language_info": {
   "codemirror_mode": {
    "name": "ipython",
    "version": 2
   },
   "file_extension": ".py",
   "mimetype": "text/x-python",
   "name": "python",
   "nbconvert_exporter": "python",
   "pygments_lexer": "ipython2",
   "version": "2.7.11"
  },
  "pycharm": {
   "stem_cell": {
    "cell_type": "raw",
    "source": [],
    "metadata": {
     "collapsed": false
    }
   }
  }
 },
 "nbformat": 4,
 "nbformat_minor": 0
}