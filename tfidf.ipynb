{
 "cells": [
  {
   "cell_type": "code",
   "execution_count": 89,
   "metadata": {
    "collapsed": true,
    "pycharm": {
     "is_executing": false,
     "name": "#%%\n"
    }
   },
   "outputs": [],
   "source": [
    "import json\n",
    "import pandas as pd\n",
    "import matplotlib.pyplot as plt\n",
    "import csv\n",
    "import numpy as np\n",
    "import time\n",
    "\n",
    "from nltk.util import ngrams\n",
    "from sklearn.feature_extraction.text import TfidfVectorizer \n",
    "from sklearn.cluster import DBSCAN\n",
    "from sklearn.cluster import OPTICS\n",
    "from sklearn.cluster import KMeans\n",
    "from sklearn.preprocessing import StandardScaler\n",
    "from itertools import compress"
   ]
  },
  {
   "cell_type": "markdown",
   "metadata": {},
   "source": [
    "#### Load Recipes Data"
   ]
  },
  {
   "cell_type": "code",
   "execution_count": 90,
   "metadata": {
    "collapsed": true,
    "pycharm": {
     "is_executing": false
    }
   },
   "outputs": [],
   "source": [
    "recipes = json.load(open('./data/recipe_train.json'))\n",
    "\n",
    "# for dic in recipes:\n",
    "#     ingredients = []\n",
    "#     for ingredient in dic['ingredients']:\n",
    "#         tmp_ingredient = ingredient.replace(' ', '-')\n",
    "#         ingredients.append(tmp_ingredient)\n",
    "#         dic['ingredients'] = ingredients"
   ]
  },
  {
   "cell_type": "markdown",
   "source": [
    "#### Convert recipe to text document"
   ],
   "metadata": {
    "collapsed": false,
    "pycharm": {
     "name": "#%% md\n",
     "is_executing": false
    }
   }
  },
  {
   "cell_type": "code",
   "execution_count": 91,
   "metadata": {
    "collapsed": true,
    "pycharm": {
     "is_executing": false
    }
   },
   "outputs": [],
   "source": [
    "recipes_as_doc = {}\n",
    "\n",
    "for sample in recipes:\n",
    "    key = sample['cuisine']\n",
    "    # If key is in the dictionary, return its value. If not, insert key with a value of default and return default.\n",
    "    recipes_as_doc.setdefault(key,[]).append(' '.join(sample['ingredients']).lower())\n",
    "\n",
    "# create a single list with all the documents\n",
    "all_docs = []\n",
    "for k, v in recipes_as_doc.items():\n",
    "   all_docs.append(' '.join(v))"
   ]
  },
  {
   "cell_type": "markdown",
   "source": [
    "#### Tfidf vectorizer for text data"
   ]
  },
  {
   "cell_type": "code",
   "execution_count": 92,
   "metadata": {
    "collapsed": false,
    "pycharm": {
     "name": "#%%\n",
     "is_executing": false
    }
   },
   "outputs": [],
   "source": [
    "# code adapted from https://programminghistorian.org/en/lessons/analyzing-documents-with-tfidf\n",
    "\n",
    "# vectorizer = TfidfVectorizer(use_idf=True, token_pattern=r\"(?u)\\b\\w[\\w-]*\\w\\b\")\n",
    "vectorizer = TfidfVectorizer(use_idf=True)\n",
    "transformed_documents = vectorizer.fit_transform(all_docs)"
   ]
  },
  {
   "cell_type": "markdown",
   "source": [
    "#### Analyze results"
   ],
   "metadata": {
    "collapsed": false
   }
  },
  {
   "cell_type": "code",
   "execution_count": 93,
   "outputs": [
    {
     "name": "stdout",
     "text": [
      "greek southern_us filipino indian jamaican spanish italian mexican chinese british thai vietnamese cajun_creole brazilian french japanese irish korean moroccan russian "
     ],
     "output_type": "stream"
    }
   ],
   "source": [
    "transformed_documents_as_array = transformed_documents.toarray()\n",
    "len(transformed_documents_as_array)\n",
    "docs_scores_dfs = {}\n",
    "\n",
    "# loop each item in transformed_documents_as_array, using enumerate to keep track of the current position\n",
    "for counter, doc in enumerate(transformed_documents_as_array):\n",
    "    # construct a data frame\n",
    "    tf_idf_tuples = list(zip(vectorizer.get_feature_names(), doc))\n",
    "    one_doc_as_df = pd.DataFrame\\\n",
    "        .from_records(tf_idf_tuples, columns=['term', 'score'])\\\n",
    "        .sort_values(by='score', ascending=False)\\\n",
    "        .reset_index(drop=True)\n",
    "    docs_scores_dfs[list(recipes_as_doc.keys())[counter]] = one_doc_as_df\n",
    "\n",
    "    print(list(recipes_as_doc.keys())[counter], end=' ')\n",
    "    # print(one_doc_as_df)\n",
    "    # output to a csv using the enumerated value for the filename\n",
    "    # one_doc_as_df.to_csv(\"tf.idf\" + counter.__str__() + \".csv\")"
   ],
   "metadata": {
    "collapsed": false,
    "pycharm": {
     "name": "#%%\n",
     "is_executing": false
    }
   }
  },
  {
   "cell_type": "markdown",
   "source": [
    "#### Statistics of Scores"
   ],
   "metadata": {
    "collapsed": false,
    "pycharm": {
     "name": "#%% md\n"
    }
   }
  },
  {
   "cell_type": "code",
   "execution_count": 94,
   "outputs": [
    {
     "data": {
      "text/plain": "Text(0, 0.5, 'Number of Therms')"
     },
     "metadata": {},
     "output_type": "execute_result",
     "execution_count": 94
    },
    {
     "data": {
      "text/plain": "<Figure size 432x288 with 1 Axes>",
      "image/png": "[encoded data removed]"
     },
     "metadata": {
      "needs_background": "light"
     },
     "output_type": "display_data"
    }
   ],
   "source": [
    "statistics = {}\n",
    "for k in docs_scores_dfs.keys():\n",
    "    df = docs_scores_dfs[k]\n",
    "    scores = df['score']\n",
    "    scores = scores.loc[scores>0.0]\n",
    "    statistics[k] = [scores.mean(), scores.max(), scores.min(), df['score'].astype(bool).sum(axis=0)]\n",
    "\n",
    "irish_scores = docs_scores_dfs[\"irish\"][\"score\"]\n",
    "irish_scores = irish_scores.loc[irish_scores>0.0]\n",
    "plt.hist(irish_scores, color = 'blue', edgecolor = 'black', bins=300)\n",
    "plt.title('Histogram of Scores')\n",
    "plt.xlabel('Frequency')\n",
    "plt.ylabel('Number of Therms')\n",
    "# print(statistics)"
   ],
   "metadata": {
    "collapsed": false,
    "pycharm": {
     "name": "#%%\n",
     "is_executing": false
    }
   }
  },
  {
   "cell_type": "markdown",
   "source": [
    "#### Top 10 therms per cuisine"
   ],
   "metadata": {
    "collapsed": false,
    "pycharm": {
     "name": "#%% md\n"
    }
   }
  },
  {
   "cell_type": "code",
   "execution_count": 95,
   "outputs": [],
   "source": [
    "for k in docs_scores_dfs.keys():\n",
    "    scores_df = docs_scores_dfs[k]\n",
    "    # print('-------------')\n",
    "    # print(k)\n",
    "    # print(scores_df.iloc[:15,:])\n"
   ],
   "metadata": {
    "collapsed": false,
    "pycharm": {
     "name": "#%%\n",
     "is_executing": false
    }
   }
  },
  {
   "cell_type": "markdown",
   "source": [
    "#### Load Baskets Market Data"
   ],
   "metadata": {
    "collapsed": false,
    "pycharm": {
     "name": "#%% md\n"
    }
   }
  },
  {
   "cell_type": "code",
   "execution_count": 96,
   "outputs": [],
   "source": [
    "baskets = []\n",
    "with open('./data/groceries.csv', newline=None) as f:\n",
    "  reader = csv.reader(f)\n",
    "  for row in reader:\n",
    "    baskets.append([elem.replace(' ', '-') for elem in row])"
   ],
   "metadata": {
    "collapsed": false,
    "pycharm": {
     "name": "#%%\n",
     "is_executing": false
    }
   }
  },
  {
   "cell_type": "markdown",
   "source": [
    "#### Compute ngram for tf.idf top score "
   ],
   "metadata": {
    "collapsed": false
   }
  },
  {
   "cell_type": "code",
   "execution_count": 97,
   "outputs": [],
   "source": [
    "top_scores_ngram = {}\n",
    "CUISINE_TOP_SCORE_THRESHOLD = 0.1\n",
    "for cuisine in docs_scores_dfs.keys():\n",
    "    scores_df = docs_scores_dfs[cuisine]\n",
    "    scores_df = scores_df[scores_df['score']>CUISINE_TOP_SCORE_THRESHOLD]\n",
    "    scores_df = scores_df.sort_values(by=['score'],ascending=False)\n",
    "    \n",
    "    ngram_scores = []\n",
    "    for index, row in scores_df.iterrows():\n",
    "        ngram = list(ngrams(row['term'], 3))\n",
    "        score =  row['score']\n",
    "        ngram_scores.append([ngram, score, row['term']])\n",
    "        \n",
    "    top_scores_ngram[cuisine] = ngram_scores"
   ],
   "metadata": {
    "collapsed": false,
    "pycharm": {
     "name": "#%%\n",
     "is_executing": false
    }
   }
  },
  {
   "cell_type": "markdown",
   "source": [
    "#### Define the metric similarity"
   ],
   "metadata": {
    "collapsed": false
   }
  },
  {
   "cell_type": "code",
   "execution_count": 98,
   "outputs": [],
   "source": [
    "def jaccard_distance(a, b):\n",
    "    \"\"\"Calculate the jaccard distance between sets A and B\"\"\"\n",
    "    a = set(a)\n",
    "    b = set(b)\n",
    "    return 1.0 * len(a&b)/len(a|b)"
   ],
   "metadata": {
    "collapsed": false,
    "pycharm": {
     "name": "#%%\n",
     "is_executing": false
    }
   }
  },
  {
   "cell_type": "markdown",
   "source": [
    "#### Compute Basket Scores\n",
    "For each basket we iterate over all items and compute their similarities with the top \n",
    "terms in the cuisines docs.\n",
    "\n",
    "But first, in order to optimize computation we first calculate ngrams of unique items."
   ],
   "metadata": {
    "collapsed": false
   }
  },
  {
   "cell_type": "code",
   "execution_count": 99,
   "outputs": [],
   "source": [
    "items_ngrams = {}\n",
    "for basket in baskets:\n",
    "    for item in basket:\n",
    "        if items_ngrams.get(item) is None :\n",
    "            items_ngrams[item] = list(ngrams(row['term'], 3))"
   ],
   "metadata": {
    "collapsed": false,
    "pycharm": {
     "name": "#%%\n",
     "is_executing": false
    }
   }
  },
  {
   "cell_type": "code",
   "execution_count": 100,
   "outputs": [
    {
     "name": "stdout",
     "text": [
      "--- 9.213142395019531 seconds ---\n"
     ],
     "output_type": "stream"
    }
   ],
   "source": [
    "start_time = time.time()\n",
    "baskets_scores = []\n",
    "all_similarities = {}\n",
    "for basket in baskets:\n",
    "    similarities = {}\n",
    "    for cuisine in top_scores_ngram:\n",
    "        value = 0\n",
    "        sims = 0\n",
    "        for item in basket:      \n",
    "            item_ngram = items_ngrams[item]\n",
    "            for ngram_term, score, term in top_scores_ngram[cuisine]:\n",
    "                if all_similarities.get(item+term) is None:\n",
    "                    if all_similarities.get(term+item) is None:\n",
    "                        sim = jaccard_distance(item_ngram, ngram_term)\n",
    "                        all_similarities[item+term] = sim\n",
    "                        all_similarities[term+item] = sim\n",
    "                    else:\n",
    "                        sim = all_similarities[term+item]\n",
    "                else:\n",
    "                    sim = all_similarities[item+term]\n",
    "\n",
    "                if sim > 0.2:\n",
    "                    value += sim * score\n",
    "                    sims += sim\n",
    "        if sims != 0:\n",
    "            value = value/sims\n",
    "        else:\n",
    "            value=0\n",
    "                    \n",
    "        similarities[cuisine] = value    \n",
    "    baskets_scores.append(similarities)\n",
    "           \n",
    "    # print('------------------')\n",
    "    # print(\"basket: \", basket)\n",
    "    # for k in similarities:\n",
    "    #     print(k, similarities[k]) \n",
    "baskets_scores_df = pd.DataFrame(baskets_scores)\n",
    "baskets_scores_df=(baskets_scores_df-baskets_scores_df.mean())/baskets_scores_df.std()\n",
    "print(\"--- %s seconds ---\" % (time.time() - start_time))\n"
   ],
   "metadata": {
    "collapsed": false,
    "pycharm": {
     "name": "#%%\n",
     "is_executing": false
    }
   }
  },
  {
   "cell_type": "markdown",
   "source": [
    "#### CLustering baskets\n",
    "We now try to cluster the baskets, based on the scores that they \n",
    "obtained using frequent therms of recipes"
   ],
   "metadata": {
    "collapsed": false,
    "pycharm": {
     "name": "#%% md\n"
    }
   }
  },
  {
   "cell_type": "code",
   "execution_count": 103,
   "outputs": [],
   "source": [
    "X = StandardScaler().fit_transform(baskets_scores_df.to_numpy())"
   ],
   "metadata": {
    "collapsed": false,
    "pycharm": {
     "name": "#%%\n",
     "is_executing": false
    }
   }
  },
  {
   "cell_type": "code",
   "execution_count": 104,
   "outputs": [
    {
     "name": "stdout",
     "text": [
      "{0, 1, 2, 3, 4, 5, -1}\n"
     ],
     "output_type": "stream"
    }
   ],
   "source": [
    "# OPTICS\n",
    "optics = OPTICS(min_samples=50, max_eps=0.1, xi=.05, min_cluster_size=.05)\n",
    "optics.fit(X)\n",
    "optics_labels = optics.labels_[optics.ordering_]\n",
    "print(set(optics_labels))"
   ],
   "metadata": {
    "collapsed": false,
    "pycharm": {
     "name": "#%%\n",
     "is_executing": false
    }
   }
  },
  {
   "cell_type": "code",
   "execution_count": 105,
   "outputs": [
    {
     "name": "stdout",
     "text": [
      "{0, 1, 2, 3, 4, 5, 6}\n"
     ],
     "output_type": "stream"
    }
   ],
   "source": [
    "# K-Means\n",
    "kMeans = KMeans(n_clusters=7, random_state=0).fit(X)\n",
    "kMeans_labels = kMeans.labels_\n",
    "print(set(kMeans_labels))"
   ],
   "metadata": {
    "collapsed": false,
    "pycharm": {
     "name": "#%%\n",
     "is_executing": false
    }
   }
  },
  {
   "cell_type": "code",
   "execution_count": 106,
   "outputs": [
    {
     "name": "stdout",
     "text": [
      "{0, 1, 2, 3, 4, 5, 6, 7, 8, -1}\n",
      "[0.35, 200]\n"
     ],
     "output_type": "stream"
    }
   ],
   "source": [
    "# DBSCAN \n",
    "[eps, min_samples] = [0.35, 200]\n",
    "dbScan = DBSCAN(eps=eps, min_samples=min_samples, metric='euclidean').fit(X)\n",
    "dbScan_labels = dbScan.labels_\n",
    "print(set(dbScan_labels))\n",
    "print([eps, min_samples])\n"
   ],
   "metadata": {
    "collapsed": false,
    "pycharm": {
     "name": "#%%\n",
     "is_executing": false
    }
   }
  },
  {
   "cell_type": "markdown",
   "source": [
    "#### Analysis of the method\n",
    "Observe size of created basket clusters"
   ],
   "metadata": {
    "collapsed": false,
    "pycharm": {
     "name": "#%% md\n"
    }
   }
  },
  {
   "cell_type": "code",
   "execution_count": 107,
   "outputs": [
    {
     "data": {
      "text/plain": "<matplotlib.axes._subplots.AxesSubplot at 0x7f8b3f72ae10>"
     },
     "metadata": {},
     "output_type": "execute_result",
     "execution_count": 107
    },
    {
     "data": {
      "text/plain": "<Figure size 432x288 with 1 Axes>",
      "image/png": "[encoded data removed]"
     },
     "metadata": {
      "needs_background": "light"
     },
     "output_type": "display_data"
    }
   ],
   "source": [
    "labels = dbScan_labels\n",
    "cluster_sizes = []\n",
    "for label in sorted(set(labels)):\n",
    "    cluster_sizes.append([label, len(baskets_scores_df[labels == label])])\n",
    "pd.DataFrame(cluster_sizes).plot(kind='bar')"
   ],
   "metadata": {
    "collapsed": false,
    "pycharm": {
     "name": "#%%\n",
     "is_executing": false
    }
   }
  },
  {
   "cell_type": "markdown",
   "source": [
    "Select one cluster and calculate its overall score (by summing\n",
    "all scores of all items of that cluster)"
   ],
   "metadata": {
    "collapsed": false,
    "pycharm": {
     "name": "#%% md\n"
    }
   }
  },
  {
   "cell_type": "code",
   "execution_count": 108,
   "outputs": [
    {
     "name": "stdout",
     "text": [
      "Cluster  0\n",
      "#Baskets:  1005\n",
      "french          1.001307\n",
      "irish           1.000097\n",
      "cajun_creole    1.000048\n",
      "korean          1.000037\n",
      "vietnamese      1.000011\n",
      "mexican         0.999899\n",
      "spanish         0.999823\n",
      "jamaican        0.999821\n",
      "indian          0.999663\n",
      "filipino        0.999606\n",
      "russian         0.999570\n",
      "british         0.998986\n",
      "italian         0.997928\n",
      "chinese        -0.999331\n",
      "southern_us    -0.999697\n",
      "greek          -0.999730\n",
      "japanese       -0.999892\n",
      "thai           -1.000191\n",
      "brazilian      -1.000494\n",
      "moroccan       -1.015509\n",
      "dtype: float64\n",
      "Cluster  1\n",
      "#Baskets:  1299\n",
      "french          1.000424\n",
      "irish           1.000097\n",
      "korean          1.000037\n",
      "vietnamese      1.000011\n",
      "mexican         0.999899\n",
      "spanish         0.999823\n",
      "jamaican        0.999821\n",
      "indian          0.999663\n",
      "filipino        0.999606\n",
      "russian         0.999570\n",
      "cajun_creole    0.998993\n",
      "italian         0.997928\n",
      "british         0.987762\n",
      "chinese        -0.999331\n",
      "southern_us    -0.999697\n",
      "greek          -0.999730\n",
      "japanese       -0.999892\n",
      "thai           -1.000191\n",
      "brazilian      -1.000494\n",
      "moroccan       -1.015509\n",
      "dtype: float64\n",
      "Cluster  2\n",
      "#Baskets:  3802\n",
      "irish           1.000097\n",
      "cajun_creole    1.000048\n",
      "korean          1.000037\n",
      "vietnamese      1.000011\n",
      "mexican         0.999899\n",
      "spanish         0.999823\n",
      "jamaican        0.999821\n",
      "indian          0.999663\n",
      "filipino        0.999606\n",
      "russian         0.999570\n",
      "french          0.999540\n",
      "british         0.998986\n",
      "italian         0.997928\n",
      "chinese        -0.999331\n",
      "southern_us    -0.999697\n",
      "greek          -0.999730\n",
      "japanese       -0.999892\n",
      "thai           -1.000191\n",
      "brazilian      -1.000494\n",
      "moroccan       -1.015509\n",
      "dtype: float64\n",
      "Cluster  3\n",
      "#Baskets:  855\n",
      "cajun_creole    1.001103\n",
      "indian          1.000560\n",
      "french          1.000424\n",
      "russian         1.000374\n",
      "irish           1.000097\n",
      "korean          1.000037\n",
      "vietnamese      1.000011\n",
      "mexican         0.999899\n",
      "spanish         0.999823\n",
      "jamaican        0.999821\n",
      "filipino        0.999606\n",
      "british         0.998986\n",
      "italian         0.997928\n",
      "moroccan       -0.967151\n",
      "chinese        -0.999331\n",
      "thai           -0.999603\n",
      "southern_us    -0.999697\n",
      "greek          -0.999730\n",
      "japanese       -0.999892\n",
      "brazilian      -1.000494\n",
      "dtype: float64\n",
      "Cluster  4\n",
      "#Baskets:  350\n",
      "filipino        1.001132\n",
      "russian         1.000374\n",
      "mexican         0.999899\n",
      "spanish         0.999823\n",
      "jamaican        0.999821\n",
      "indian          0.999663\n",
      "cajun_creole    0.998993\n",
      "british         0.998986\n",
      "vietnamese      0.998840\n",
      "french          0.998656\n",
      "korean          0.998444\n",
      "italian         0.997928\n",
      "irish           0.997658\n",
      "brazilian      -0.998835\n",
      "thai           -0.999603\n",
      "japanese       -1.000629\n",
      "greek          -1.000815\n",
      "southern_us    -1.003109\n",
      "chinese        -1.003714\n",
      "moroccan       -1.015509\n",
      "dtype: float64\n",
      "Cluster  5\n",
      "#Baskets:  645\n",
      "italian         1.015436\n",
      "british         1.010211\n",
      "russian         1.001177\n",
      "filipino        1.001132\n",
      "cajun_creole    1.001103\n",
      "mexican         1.000994\n",
      "jamaican        1.000944\n",
      "spanish         1.000903\n",
      "indian          1.000560\n",
      "french          1.000424\n",
      "irish           1.000097\n",
      "korean          1.000037\n",
      "vietnamese      1.000011\n",
      "moroccan       -0.967151\n",
      "brazilian      -0.998835\n",
      "chinese        -0.999331\n",
      "thai           -0.999603\n",
      "southern_us    -0.999697\n",
      "greek          -0.999730\n",
      "japanese       -0.999892\n",
      "dtype: float64\n",
      "Cluster  6\n",
      "#Baskets:  545\n",
      "italian         1.015436\n",
      "british         1.010211\n",
      "russian         1.001177\n",
      "filipino        1.001132\n",
      "cajun_creole    1.001103\n",
      "mexican         1.000994\n",
      "jamaican        1.000944\n",
      "spanish         1.000903\n",
      "indian          1.000560\n",
      "irish           1.000097\n",
      "korean          1.000037\n",
      "vietnamese      1.000011\n",
      "french          0.999540\n",
      "moroccan       -0.967151\n",
      "brazilian      -0.998835\n",
      "chinese        -0.999331\n",
      "southern_us    -0.999697\n",
      "japanese       -0.999892\n",
      "thai           -1.000191\n",
      "greek          -1.000815\n",
      "dtype: float64\n",
      "Cluster  7\n",
      "#Baskets:  438\n",
      "british         1.010211\n",
      "russian         1.001177\n",
      "filipino        1.001132\n",
      "irish           1.000097\n",
      "cajun_creole    1.000048\n",
      "mexican         0.999899\n",
      "spanish         0.999823\n",
      "jamaican        0.999821\n",
      "indian          0.999663\n",
      "french          0.999540\n",
      "vietnamese      0.998840\n",
      "korean          0.998444\n",
      "italian         0.997928\n",
      "brazilian      -0.998835\n",
      "japanese       -0.999892\n",
      "thai           -1.000191\n",
      "greek          -1.000815\n",
      "southern_us    -1.003109\n",
      "chinese        -1.003714\n",
      "moroccan       -1.015509\n",
      "dtype: float64\n",
      "Cluster  8\n",
      "#Baskets:  246\n",
      "filipino        1.001132\n",
      "spanish         0.999823\n",
      "jamaican        0.999821\n",
      "indian          0.999663\n",
      "russian         0.999570\n",
      "british         0.998986\n",
      "vietnamese      0.998840\n",
      "mexican         0.998804\n",
      "french          0.998656\n",
      "korean          0.998444\n",
      "cajun_creole    0.997938\n",
      "italian         0.997928\n",
      "irish           0.997658\n",
      "brazilian      -0.998835\n",
      "thai           -0.999603\n",
      "japanese       -1.000629\n",
      "greek          -1.001899\n",
      "southern_us    -1.003109\n",
      "chinese        -1.003714\n",
      "moroccan       -1.015509\n",
      "dtype: float64\n",
      "Cluster  -1\n",
      "#Baskets:  650\n",
      "british         1.007379\n",
      "korean          1.001242\n",
      "indian          1.001169\n",
      "vietnamese      1.000933\n",
      "irish           1.000086\n",
      "french          1.000002\n",
      "russian         0.999785\n",
      "spanish         0.999753\n",
      "jamaican        0.999708\n",
      "filipino        0.999575\n",
      "mexican         0.999065\n",
      "cajun_creole    0.998706\n",
      "italian         0.996178\n",
      "moroccan       -0.915744\n",
      "brazilian      -0.997923\n",
      "southern_us    -0.998060\n",
      "thai           -0.998423\n",
      "greek          -0.999995\n",
      "japanese       -1.000085\n",
      "chinese        -1.001698\n",
      "dtype: float64\n"
     ],
     "output_type": "stream"
    }
   ],
   "source": [
    "for selected_basket_cluster in set(labels):\n",
    "    print(\"Cluster \", selected_basket_cluster)\n",
    "    selected_basket_scores = baskets_scores_df[labels == selected_basket_cluster]\n",
    "    print(\"#Baskets: \", selected_basket_scores.shape[0])\n",
    "    aggregated_basket_cluster_score \\\n",
    "        = np.mean(selected_basket_scores, axis=0)\\\n",
    "        .sort_values(ascending=False)\n",
    "    selected_baskets = list(compress(baskets, labels == selected_basket_cluster))\n",
    "    selected_baskets = [' '.join(l) for l in selected_baskets]\n",
    "    aggregated_basket_cluster_score = aggregated_basket_cluster_score[0:50]\n",
    "    print(aggregated_basket_cluster_score)"
   ],
   "metadata": {
    "collapsed": false,
    "pycharm": {
     "name": "#%%\n",
     "is_executing": false
    }
   }
  },
  {
   "cell_type": "markdown",
   "source": [
    "#### Baseline method - K-means\n",
    "Now we will implement the baseline algorithm to compare our method with. \n",
    "A KNN method will be used. We will try to find the best K by trial and error based on the\n",
    "coherence of the results because there are not many possible Ks for the given dataset."
   ],
   "metadata": {
    "collapsed": false,
    "pycharm": {
     "name": "#%% md\n"
    }
   }
  },
  {
   "cell_type": "code",
   "source": [
    "baskets_as_docs = [' '.join(basket) for basket in baskets]\n",
    "X_Baskets = vectorizer.fit_transform(baskets_as_docs)\n",
    "model = KMeans(n_clusters=10, init='k-means++', max_iter=100, n_init=1)\n",
    "model.fit(X_Baskets)\n",
    "\n",
    "print(\"Top terms per cluster:\")\n",
    "order_centroids = model.cluster_centers_.argsort()[:, ::-1]\n",
    "terms = vectorizer.get_feature_names()\n",
    "baseline_labels = set(model.labels_)\n",
    "for i in baseline_labels:\n",
    "    print(\"Cluster %d:\" % i),\n",
    "    for ind in order_centroids[i, :10]:\n",
    "        print(' %s' % terms[ind])"
   ],
   "metadata": {
    "collapsed": false,
    "pycharm": {
     "name": "#%%\n",
     "is_executing": false
    }
   },
   "execution_count": 109,
   "outputs": [
    {
     "name": "stdout",
     "text": [
      "Top terms per cluster:\n",
      "Cluster 0:\n",
      " milk\n",
      " whole\n",
      " yogurt\n",
      " newspapers\n",
      " pastry\n",
      " coffee\n",
      " beverages\n",
      " soda\n",
      " sausage\n",
      " cheese\n",
      "Cluster 1:\n",
      " rolls\n",
      " buns\n",
      " milk\n",
      " soda\n",
      " sausage\n",
      " whole\n",
      " bottled\n",
      " yogurt\n",
      " vegetables\n",
      " frankfurter\n",
      "Cluster 2:\n",
      " canned\n",
      " beer\n",
      " soda\n",
      " rolls\n",
      " buns\n",
      " newspapers\n",
      " vegetables\n",
      " bottled\n",
      " wine\n",
      " fruit\n",
      "Cluster 3:\n",
      " bottled\n",
      " soda\n",
      " beer\n",
      " water\n",
      " milk\n",
      " pastry\n",
      " whole\n",
      " wine\n",
      " liquor\n",
      " fruit\n",
      "Cluster 4:\n",
      " fruit\n",
      " juice\n",
      " vegetable\n",
      " tropical\n",
      " pip\n",
      " citrus\n",
      " milk\n",
      " whole\n",
      " vegetables\n",
      " yogurt\n",
      "Cluster 5:\n",
      " vegetables\n",
      " other\n",
      " root\n",
      " milk\n",
      " whole\n",
      " fruit\n",
      " frozen\n",
      " yogurt\n",
      " cheese\n",
      " beef\n",
      "Cluster 6:\n",
      " cream\n",
      " sour\n",
      " whipped\n",
      " vegetables\n",
      " milk\n",
      " fruit\n",
      " whole\n",
      " ice\n",
      " other\n",
      " cheese\n",
      "Cluster 7:\n",
      " chocolate\n",
      " specialty\n",
      " bar\n",
      " soda\n",
      " buns\n",
      " rolls\n",
      " marshmallow\n",
      " milk\n",
      " candy\n",
      " cheese\n",
      "Cluster 8:\n",
      " shopping\n",
      " bags\n",
      " soda\n",
      " beer\n",
      " canned\n",
      " milk\n",
      " vegetables\n",
      " sausage\n",
      " buns\n",
      " rolls\n",
      "Cluster 9:\n",
      " bread\n",
      " brown\n",
      " white\n",
      " milk\n",
      " whole\n",
      " vegetables\n",
      " semi\n",
      " finished\n",
      " fruit\n",
      " other\n"
     ],
     "output_type": "stream"
    }
   ]
  },
  {
   "cell_type": "markdown",
   "source": [
    "#### Compute Scores of Baskets created using K-Means\n",
    "For the created clusters of baskets using the baseline method, \n",
    "we calculate its scores in terms of similarity with the terms\n",
    "that scored high TF-IDF for the cuisines "
   ],
   "metadata": {
    "collapsed": false
   }
  },
  {
   "cell_type": "code",
   "execution_count": 110,
   "outputs": [
    {
     "name": "stdout",
     "text": [
      "moroccan       -1.007221\n",
      "brazilian      -1.000184\n",
      "thai           -1.000061\n",
      "japanese       -0.999939\n",
      "southern_us    -0.999897\n",
      "greek          -0.999873\n",
      "chinese        -0.999721\n",
      "british         0.998978\n",
      "italian         0.999177\n",
      "russian         0.999801\n",
      "indian          0.999818\n",
      "filipino        0.999818\n",
      "french          0.999836\n",
      "jamaican        0.999901\n",
      "spanish         0.999901\n",
      "mexican         0.999931\n",
      "vietnamese      0.999948\n",
      "korean          0.999949\n",
      "cajun_creole    0.999960\n",
      "irish           0.999973\n",
      "dtype: float64\n",
      "moroccan       -1.004616\n",
      "brazilian      -1.000255\n",
      "thai           -1.000076\n",
      "japanese       -0.999901\n",
      "greek          -0.999817\n",
      "southern_us    -0.999815\n",
      "chinese        -0.999482\n",
      "british         0.997956\n",
      "filipino        0.999826\n",
      "italian         0.999848\n",
      "indian          0.999865\n",
      "russian         0.999883\n",
      "spanish         0.999941\n",
      "jamaican        0.999944\n",
      "vietnamese      0.999971\n",
      "korean          0.999982\n",
      "mexican         1.000017\n",
      "cajun_creole    1.000034\n",
      "irish           1.000065\n",
      "french          1.000156\n",
      "dtype: float64\n",
      "moroccan       -1.014529\n",
      "brazilian      -1.000475\n",
      "thai           -1.000183\n",
      "japanese       -0.999892\n",
      "greek          -0.999738\n",
      "southern_us    -0.999697\n",
      "chinese        -0.999331\n",
      "british         0.997874\n",
      "italian         0.998126\n",
      "russian         0.999596\n",
      "filipino        0.999623\n",
      "indian          0.999681\n",
      "french          0.999709\n",
      "jamaican        0.999833\n",
      "spanish         0.999835\n",
      "mexican         0.999911\n",
      "cajun_creole    0.999953\n",
      "vietnamese      1.000011\n",
      "korean          1.000037\n",
      "irish           1.000097\n",
      "dtype: float64\n",
      "moroccan       -1.009055\n",
      "brazilian      -1.000286\n",
      "thai           -1.000101\n",
      "japanese       -0.999924\n",
      "southern_us    -0.999868\n",
      "greek          -0.999838\n",
      "chinese        -0.999587\n",
      "british         0.998062\n",
      "italian         0.999024\n",
      "filipino        0.999773\n",
      "russian         0.999776\n",
      "indian          0.999790\n",
      "spanish         0.999891\n",
      "jamaican        0.999891\n",
      "french          0.999919\n",
      "mexican         0.999945\n",
      "vietnamese      0.999952\n",
      "cajun_creole    0.999955\n",
      "korean          0.999957\n",
      "irish           1.000008\n",
      "dtype: float64\n",
      "chinese        -1.000251\n",
      "greek          -1.000026\n",
      "southern_us    -1.000007\n",
      "japanese       -0.999970\n",
      "thai           -0.999814\n",
      "brazilian      -0.999687\n",
      "moroccan       -0.990484\n",
      "cajun_creole    0.999874\n",
      "irish           0.999889\n",
      "mexican         0.999932\n",
      "vietnamese      0.999956\n",
      "korean          0.999957\n",
      "jamaican        0.999979\n",
      "spanish         0.999979\n",
      "french          0.999994\n",
      "russian         1.000055\n",
      "indian          1.000073\n",
      "filipino        1.000074\n",
      "italian         1.000396\n",
      "british         1.000940\n",
      "dtype: float64\n",
      "chinese        -1.000338\n",
      "greek          -1.000081\n",
      "southern_us    -1.000059\n",
      "japanese       -0.999983\n",
      "thai           -0.999806\n",
      "brazilian      -0.999609\n",
      "moroccan       -0.989796\n",
      "irish           0.999876\n",
      "cajun_creole    0.999908\n",
      "korean          0.999922\n",
      "vietnamese      0.999930\n",
      "mexican         0.999942\n",
      "french          0.999999\n",
      "jamaican        1.000000\n",
      "spanish         1.000000\n",
      "indian          1.000095\n",
      "filipino        1.000115\n",
      "russian         1.000116\n",
      "italian         1.000720\n",
      "british         1.001410\n",
      "dtype: float64\n",
      "chinese        -1.000780\n",
      "greek          -1.000146\n",
      "southern_us    -1.000069\n",
      "japanese       -0.999999\n",
      "thai           -0.999620\n",
      "brazilian      -0.999284\n",
      "moroccan       -0.979192\n",
      "cajun_creole    0.999771\n",
      "irish           0.999841\n",
      "mexican         0.999859\n",
      "french          0.999863\n",
      "jamaican        0.999978\n",
      "spanish         0.999985\n",
      "korean          0.999987\n",
      "vietnamese      0.999987\n",
      "russian         1.000165\n",
      "filipino        1.000198\n",
      "indian          1.000225\n",
      "italian         1.000382\n",
      "british         1.003537\n",
      "dtype: float64\n",
      "brazilian      -1.000070\n",
      "thai           -0.999976\n",
      "japanese       -0.999904\n",
      "greek          -0.999861\n",
      "southern_us    -0.999767\n",
      "chinese        -0.999689\n",
      "moroccan       -0.999291\n",
      "british         0.999285\n",
      "italian         0.999504\n",
      "filipino        0.999849\n",
      "russian         0.999866\n",
      "indian          0.999922\n",
      "jamaican        0.999922\n",
      "spanish         0.999925\n",
      "mexican         0.999948\n",
      "cajun_creole    0.999949\n",
      "french          1.000006\n",
      "vietnamese      1.000013\n",
      "korean          1.000033\n",
      "irish           1.000082\n",
      "dtype: float64\n",
      "southern_us    -1.000132\n",
      "greek          -1.000073\n",
      "chinese        -1.000069\n",
      "japanese       -0.999979\n",
      "thai           -0.999916\n",
      "brazilian      -0.999789\n",
      "moroccan       -0.993522\n",
      "korean          0.999836\n",
      "irish           0.999845\n",
      "vietnamese      0.999863\n",
      "spanish         1.000074\n",
      "mexican         1.000076\n",
      "indian          1.000078\n",
      "jamaican        1.000082\n",
      "french          1.000099\n",
      "filipino        1.000172\n",
      "cajun_creole    1.000176\n",
      "russian         1.000224\n",
      "british         1.001053\n",
      "italian         1.001995\n",
      "dtype: float64\n",
      "chinese        -1.000273\n",
      "southern_us    -1.000093\n",
      "greek          -1.000056\n",
      "japanese       -0.999971\n",
      "thai           -0.999837\n",
      "brazilian      -0.999680\n",
      "moroccan       -0.991148\n",
      "irish           0.999884\n",
      "korean          0.999890\n",
      "vietnamese      0.999905\n",
      "cajun_creole    0.999938\n",
      "mexican         0.999973\n",
      "spanish         1.000010\n",
      "jamaican        1.000011\n",
      "french          1.000062\n",
      "indian          1.000081\n",
      "filipino        1.000136\n",
      "russian         1.000145\n",
      "british         1.000894\n",
      "italian         1.000903\n",
      "dtype: float64\n"
     ],
     "output_type": "stream"
    }
   ],
   "source": [
    "baseline_baskets_scores = {}\n",
    "for cluster in baseline_labels:\n",
    "    basket_scores = baskets_scores_df[model.labels_ == cluster]\n",
    "    cluster_scores = np.mean(basket_scores,axis=0).sort_values()\n",
    "    np.argsort(cluster_scores)\n",
    "    print(cluster_scores)"
   ],
   "metadata": {
    "collapsed": false,
    "pycharm": {
     "name": "#%%\n",
     "is_executing": false
    }
   }
  },
  {
   "cell_type": "markdown",
   "source": [],
   "metadata": {
    "collapsed": false
   }
  }
 ],
 "metadata": {
  "kernelspec": {
   "name": "python3",
   "language": "python",
   "display_name": "Python 3"
  },
  "language_info": {
   "codemirror_mode": {
    "name": "ipython",
    "version": 2
   },
   "file_extension": ".py",
   "mimetype": "text/x-python",
   "name": "python",
   "nbconvert_exporter": "python",
   "pygments_lexer": "ipython2",
   "version": "2.7.11"
  },
  "pycharm": {
   "stem_cell": {
    "cell_type": "raw",
    "source": [],
    "metadata": {
     "collapsed": false
    }
   }
  }
 },
 "nbformat": 4,
 "nbformat_minor": 0
}