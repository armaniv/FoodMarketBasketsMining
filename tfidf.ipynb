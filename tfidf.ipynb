{
 "cells": [
  {
   "cell_type": "code",
   "execution_count": 28,
   "metadata": {
    "collapsed": true,
    "pycharm": {
     "is_executing": false,
     "name": "#%%\n"
    }
   },
   "outputs": [],
   "source": [
    "import json\n",
    "import pandas as pd\n",
    "import matplotlib.pyplot as plt\n",
    "import csv\n",
    "\n",
    "from sklearn.feature_extraction.text import TfidfVectorizer "
   ]
  },
  {
   "cell_type": "markdown",
   "metadata": {},
   "source": [
    "#### Load Recipes Data"
   ]
  },
  {
   "cell_type": "code",
   "execution_count": 29,
   "metadata": {
    "collapsed": true,
    "pycharm": {
     "is_executing": false
    }
   },
   "outputs": [],
   "source": [
    "recipes = json.load(open('./data/recipe_train.json'))"
   ]
  },
  {
   "cell_type": "markdown",
   "source": [
    "#### Convert recipe to text document"
   ],
   "metadata": {
    "collapsed": false,
    "pycharm": {
     "name": "#%% md\n",
     "is_executing": false
    }
   }
  },
  {
   "cell_type": "code",
   "execution_count": 30,
   "metadata": {
    "collapsed": true,
    "pycharm": {
     "is_executing": false
    }
   },
   "outputs": [],
   "source": [
    "recipes_as_doc = {}\n",
    "\n",
    "for sample in recipes:\n",
    "    key = sample['cuisine']\n",
    "    # If key is in the dictionary, return its value. If not, insert key with a value of default and return default.\n",
    "    recipes_as_doc.setdefault(key,[]).append(' '.join(sample['ingredients']).lower())\n",
    "\n",
    "# create a single list with all the documents\n",
    "all_docs = []\n",
    "for k, v in recipes_as_doc.items():\n",
    "   all_docs.append(' '.join(v))"
   ]
  },
  {
   "cell_type": "markdown",
   "source": [
    "#### Tfidf vectorizer for text data"
   ]
  },
  {
   "cell_type": "code",
   "execution_count": 31,
   "metadata": {
    "collapsed": false,
    "pycharm": {
     "name": "#%%\n",
     "is_executing": false
    }
   },
   "outputs": [],
   "source": [
    "# code adapted from https://programminghistorian.org/en/lessons/analyzing-documents-with-tfidf\n",
    "\n",
    "vectorizer = TfidfVectorizer(use_idf=True)\n",
    "transformed_documents = vectorizer.fit_transform(all_docs)"
   ]
  },
  {
   "cell_type": "markdown",
   "source": [
    "#### Analyze results"
   ],
   "metadata": {
    "collapsed": false
   }
  },
  {
   "cell_type": "code",
   "execution_count": 32,
   "outputs": [
    {
     "name": "stdout",
     "text": [
      "greek southern_us filipino indian jamaican spanish italian mexican chinese british thai vietnamese cajun_creole brazilian french japanese irish korean moroccan russian "
     ],
     "output_type": "stream"
    }
   ],
   "source": [
    "transformed_documents_as_array = transformed_documents.toarray()\n",
    "len(transformed_documents_as_array)\n",
    "docsTermsScoresDfs = {}\n",
    "\n",
    "# loop each item in transformed_documents_as_array, using enumerate to keep track of the current position\n",
    "for counter, doc in enumerate(transformed_documents_as_array):\n",
    "    # construct a dataframe\n",
    "    tf_idf_tuples = list(zip(vectorizer.get_feature_names(), doc))\n",
    "    one_doc_as_df = pd.DataFrame\\\n",
    "        .from_records(tf_idf_tuples, columns=['term', 'score'])\\\n",
    "        .sort_values(by='score', ascending=False)\\\n",
    "        .reset_index(drop=True)\n",
    "    docsTermsScoresDfs[list(recipes_as_doc.keys())[counter]] = one_doc_as_df\n",
    "\n",
    "    print(list(recipes_as_doc.keys())[counter], end=' ')\n",
    "    # print(one_doc_as_df)\n",
    "    # output to a csv using the enumerated value for the filename\n",
    "    #one_doc_as_df.to_csv(\"tf.idf\" + counter.__str__() + \".csv\")"
   ],
   "metadata": {
    "collapsed": false,
    "pycharm": {
     "name": "#%%\n",
     "is_executing": false
    }
   }
  },
  {
   "cell_type": "markdown",
   "source": [
    "#### Statistics of Scores"
   ],
   "metadata": {
    "collapsed": false,
    "pycharm": {
     "name": "#%% md\n"
    }
   }
  },
  {
   "cell_type": "code",
   "execution_count": 33,
   "outputs": [
    {
     "data": {
      "text/plain": "Text(0, 0.5, 'Number of Therms')"
     },
     "metadata": {},
     "output_type": "execute_result",
     "execution_count": 33
    },
    {
     "data": {
      "text/plain": "<Figure size 432x288 with 1 Axes>",
      "image/png": "[encoded data removed]"
     },
     "metadata": {
      "needs_background": "light"
     },
     "output_type": "display_data"
    }
   ],
   "source": [
    "statistics = {}\n",
    "for k in docsTermsScoresDfs.keys():\n",
    "    df = docsTermsScoresDfs[k]\n",
    "    scores = df['score']\n",
    "    scores = scores.loc[scores>0.0]\n",
    "    s = [scores.mean(), scores.max(), scores.min(), df['score'].astype(bool).sum(axis=0)]\n",
    "    statistics[k] = pd.DataFrame(s, index=['mean','max','min','non_zeros'])\n",
    "\n",
    "scores = docsTermsScoresDfs[\"irish\"][\"score\"]\n",
    "scores = scores.loc[scores>0.0]\n",
    "plt.hist(scores, color = 'blue', edgecolor = 'black', bins=300)\n",
    "plt.title('Histogram of Scores')\n",
    "plt.xlabel('Frequency')\n",
    "plt.ylabel('Number of Therms')\n",
    "# print(statistics)"
   ],
   "metadata": {
    "collapsed": false,
    "pycharm": {
     "name": "#%%\n",
     "is_executing": false
    }
   }
  },
  {
   "cell_type": "markdown",
   "source": [
    "#### Load Baskets Market Data"
   ],
   "metadata": {
    "collapsed": false,
    "pycharm": {
     "name": "#%% md\n"
    }
   }
  },
  {
   "cell_type": "code",
   "execution_count": 34,
   "outputs": [],
   "source": [
    "baskets = []\n",
    "with open('./data/groceries.csv', newline=None) as f:\n",
    "  reader = csv.reader(f)\n",
    "  for row in reader:\n",
    "    baskets.append(row)"
   ],
   "metadata": {
    "collapsed": false,
    "pycharm": {
     "name": "#%%\n",
     "is_executing": false
    }
   }
  }
 ],
 "metadata": {
  "kernelspec": {
   "name": "python3",
   "language": "python",
   "display_name": "Python 3"
  },
  "language_info": {
   "codemirror_mode": {
    "name": "ipython",
    "version": 2
   },
   "file_extension": ".py",
   "mimetype": "text/x-python",
   "name": "python",
   "nbconvert_exporter": "python",
   "pygments_lexer": "ipython2",
   "version": "2.7.11"
  },
  "pycharm": {
   "stem_cell": {
    "cell_type": "raw",
    "source": [],
    "metadata": {
     "collapsed": false
    }
   }
  }
 },
 "nbformat": 4,
 "nbformat_minor": 0
}