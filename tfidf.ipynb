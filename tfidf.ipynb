{
 "cells": [
  {
   "cell_type": "code",
   "execution_count": 1,
   "metadata": {
    "collapsed": true,
    "pycharm": {
     "is_executing": false,
     "name": "#%%\n"
    }
   },
   "outputs": [],
   "source": [
    "import json\n",
    "import pandas as pd\n",
    "import matplotlib.pyplot as plt\n",
    "import csv\n",
    "\n",
    "from nltk.util import ngrams\n",
    "from sklearn.feature_extraction.text import TfidfVectorizer "
   ]
  },
  {
   "cell_type": "markdown",
   "metadata": {},
   "source": [
    "#### Load Recipes Data"
   ]
  },
  {
   "cell_type": "code",
   "execution_count": 2,
   "metadata": {
    "collapsed": true,
    "pycharm": {
     "is_executing": false
    }
   },
   "outputs": [],
   "source": [
    "recipes = json.load(open('./data/recipe_train.json'))"
   ]
  },
  {
   "cell_type": "markdown",
   "source": [
    "#### Convert recipe to text document"
   ],
   "metadata": {
    "collapsed": false,
    "pycharm": {
     "name": "#%% md\n",
     "is_executing": false
    }
   }
  },
  {
   "cell_type": "code",
   "execution_count": 3,
   "metadata": {
    "collapsed": true,
    "pycharm": {
     "is_executing": false
    }
   },
   "outputs": [],
   "source": [
    "recipes_as_doc = {}\n",
    "\n",
    "for sample in recipes:\n",
    "    key = sample['cuisine']\n",
    "    # If key is in the dictionary, return its value. If not, insert key with a value of default and return default.\n",
    "    recipes_as_doc.setdefault(key,[]).append(' '.join(sample['ingredients']).lower())\n",
    "\n",
    "# create a single list with all the documents\n",
    "all_docs = []\n",
    "for k, v in recipes_as_doc.items():\n",
    "   all_docs.append(' '.join(v))"
   ]
  },
  {
   "cell_type": "markdown",
   "source": [
    "#### Tfidf vectorizer for text data"
   ]
  },
  {
   "cell_type": "code",
   "execution_count": 4,
   "metadata": {
    "collapsed": false,
    "pycharm": {
     "name": "#%%\n",
     "is_executing": false
    }
   },
   "outputs": [],
   "source": [
    "# code adapted from https://programminghistorian.org/en/lessons/analyzing-documents-with-tfidf\n",
    "\n",
    "vectorizer = TfidfVectorizer(use_idf=True)\n",
    "transformed_documents = vectorizer.fit_transform(all_docs)"
   ]
  },
  {
   "cell_type": "markdown",
   "source": [
    "#### Analyze results"
   ],
   "metadata": {
    "collapsed": false
   }
  },
  {
   "cell_type": "code",
   "execution_count": 5,
   "outputs": [
    {
     "name": "stdout",
     "text": [
      "greek southern_us filipino indian jamaican spanish italian mexican chinese british thai vietnamese cajun_creole brazilian french japanese irish korean moroccan russian "
     ],
     "output_type": "stream"
    }
   ],
   "source": [
    "transformed_documents_as_array = transformed_documents.toarray()\n",
    "len(transformed_documents_as_array)\n",
    "docs_scores_dfs = {}\n",
    "\n",
    "# loop each item in transformed_documents_as_array, using enumerate to keep track of the current position\n",
    "for counter, doc in enumerate(transformed_documents_as_array):\n",
    "    # construct a data frame\n",
    "    tf_idf_tuples = list(zip(vectorizer.get_feature_names(), doc))\n",
    "    one_doc_as_df = pd.DataFrame\\\n",
    "        .from_records(tf_idf_tuples, columns=['term', 'score'])\\\n",
    "        .sort_values(by='score', ascending=False)\\\n",
    "        .reset_index(drop=True)\n",
    "    docs_scores_dfs[list(recipes_as_doc.keys())[counter]] = one_doc_as_df\n",
    "\n",
    "    print(list(recipes_as_doc.keys())[counter], end=' ')\n",
    "    # print(one_doc_as_df)\n",
    "    # output to a csv using the enumerated value for the filename\n",
    "    #one_doc_as_df.to_csv(\"tf.idf\" + counter.__str__() + \".csv\")"
   ],
   "metadata": {
    "collapsed": false,
    "pycharm": {
     "name": "#%%\n",
     "is_executing": false
    }
   }
  },
  {
   "cell_type": "markdown",
   "source": [
    "#### Statistics of Scores"
   ],
   "metadata": {
    "collapsed": false,
    "pycharm": {
     "name": "#%% md\n"
    }
   }
  },
  {
   "cell_type": "code",
   "execution_count": 6,
   "outputs": [
    {
     "data": {
      "text/plain": "Text(0, 0.5, 'Number of Therms')"
     },
     "metadata": {},
     "output_type": "execute_result",
     "execution_count": 6
    },
    {
     "data": {
      "text/plain": "<Figure size 432x288 with 1 Axes>",
      "image/png": "[encoded data removed]"
     },
     "metadata": {
      "needs_background": "light"
     },
     "output_type": "display_data"
    }
   ],
   "source": [
    "statistics = {}\n",
    "for k in docs_scores_dfs.keys():\n",
    "    df = docs_scores_dfs[k]\n",
    "    scores = df['score']\n",
    "    scores = scores.loc[scores>0.0]\n",
    "    statistics[k] = [scores.mean(), scores.max(), scores.min(), df['score'].astype(bool).sum(axis=0)]\n",
    "\n",
    "irish_scores = docs_scores_dfs[\"irish\"][\"score\"]\n",
    "irish_scores = irish_scores.loc[irish_scores>0.0]\n",
    "plt.hist(irish_scores, color = 'blue', edgecolor = 'black', bins=300)\n",
    "plt.title('Histogram of Scores')\n",
    "plt.xlabel('Frequency')\n",
    "plt.ylabel('Number of Therms')\n",
    "# print(statistics)"
   ],
   "metadata": {
    "collapsed": false,
    "pycharm": {
     "name": "#%%\n",
     "is_executing": false
    }
   }
  },
  {
   "cell_type": "markdown",
   "source": [
    "#### Top 10 therms per cuisine"
   ],
   "metadata": {
    "collapsed": false,
    "pycharm": {
     "name": "#%% md\n"
    }
   }
  },
  {
   "cell_type": "code",
   "execution_count": 7,
   "outputs": [
    {
     "name": "stdout",
     "text": [
      "-------------\n",
      "greek\n",
      "     term     score\n",
      "0   fresh  0.297130\n",
      "1  pepper  0.294340\n",
      "2     oil  0.287714\n",
      "3    salt  0.260512\n",
      "4   olive  0.260163\n",
      "5    feta  0.231165\n",
      "6  ground  0.226684\n",
      "7   lemon  0.224591\n",
      "8  garlic  0.220058\n",
      "9  cheese  0.202621\n",
      "-------------\n",
      "southern_us\n",
      "     term     score\n",
      "0    salt  0.374617\n",
      "1  pepper  0.329929\n",
      "2   sugar  0.285364\n",
      "3  butter  0.265297\n",
      "4   flour  0.227380\n",
      "5  ground  0.189832\n",
      "6    eggs  0.170627\n",
      "7  powder  0.160286\n",
      "8     oil  0.157209\n",
      "9     all  0.155608\n",
      "-------------\n",
      "filipino\n",
      "     term     score\n",
      "0   sauce  0.327662\n",
      "1  garlic  0.325087\n",
      "2  pepper  0.323156\n",
      "3    salt  0.309637\n",
      "4     oil  0.306418\n",
      "5  onions  0.252988\n",
      "6   water  0.224020\n",
      "7   sugar  0.205352\n",
      "8     soy  0.186683\n",
      "9  ground  0.173165\n",
      "-------------\n",
      "indian\n",
      "     term     score\n",
      "0  ground  0.356060\n",
      "1    salt  0.304793\n",
      "2     oil  0.259010\n",
      "3  garlic  0.208764\n",
      "4   fresh  0.208637\n",
      "5   cumin  0.199327\n",
      "6  masala  0.198498\n",
      "7  powder  0.191293\n",
      "8  ginger  0.188105\n",
      "9   garam  0.181433\n",
      "-------------\n",
      "jamaican\n",
      "       term     score\n",
      "0    pepper  0.431094\n",
      "1    ground  0.384930\n",
      "2      salt  0.289763\n",
      "3    garlic  0.222294\n",
      "4     thyme  0.220477\n",
      "5       oil  0.191755\n",
      "6    onions  0.178971\n",
      "7     black  0.160506\n",
      "8     fresh  0.156955\n",
      "9  allspice  0.152350\n",
      "-------------\n",
      "spanish\n",
      "       term     score\n",
      "0    pepper  0.384981\n",
      "1       oil  0.327947\n",
      "2      salt  0.298984\n",
      "3     olive  0.289627\n",
      "4    garlic  0.250416\n",
      "5     fresh  0.205412\n",
      "6       red  0.181351\n",
      "7    cloves  0.163973\n",
      "8    ground  0.160854\n",
      "9  tomatoes  0.154616\n",
      "-------------\n",
      "italian\n",
      "       term     score\n",
      "0    cheese  0.340284\n",
      "1    pepper  0.319518\n",
      "2       oil  0.300257\n",
      "3      salt  0.282442\n",
      "4     fresh  0.265436\n",
      "5     olive  0.264106\n",
      "6    garlic  0.241605\n",
      "7    ground  0.172542\n",
      "8  parmesan  0.148991\n",
      "9     black  0.143216\n",
      "-------------\n",
      "mexican\n",
      "       term     score\n",
      "0    pepper  0.296588\n",
      "1      salt  0.267985\n",
      "2    ground  0.238020\n",
      "3    garlic  0.219564\n",
      "4    cheese  0.203900\n",
      "5       oil  0.202811\n",
      "6  cilantro  0.190280\n",
      "7     fresh  0.176863\n",
      "8   chicken  0.167738\n",
      "9      lime  0.163493\n",
      "-------------\n",
      "chinese\n",
      "      term     score\n",
      "0    sauce  0.437906\n",
      "1      oil  0.383423\n",
      "2      soy  0.286323\n",
      "3   garlic  0.215891\n",
      "4   pepper  0.200962\n",
      "5   sesame  0.199125\n",
      "6   ginger  0.189224\n",
      "7    sugar  0.181057\n",
      "8  chicken  0.169829\n",
      "9     rice  0.159366\n",
      "-------------\n",
      "british\n",
      "     term     score\n",
      "0    salt  0.349949\n",
      "1   flour  0.317950\n",
      "2   sugar  0.309099\n",
      "3  butter  0.296844\n",
      "4    eggs  0.217186\n",
      "5  ground  0.212421\n",
      "6    milk  0.195400\n",
      "7  pepper  0.187230\n",
      "8   cream  0.182464\n",
      "9     all  0.168847\n",
      "-------------\n",
      "thai\n",
      "     term     score\n",
      "0   sauce  0.363711\n",
      "1   fresh  0.292176\n",
      "2    lime  0.261182\n",
      "3     oil  0.236289\n",
      "4  garlic  0.214158\n",
      "5    fish  0.195066\n",
      "6   sugar  0.193368\n",
      "7     red  0.185768\n",
      "8  pepper  0.183756\n",
      "9    thai  0.179264\n",
      "-------------\n",
      "vietnamese\n",
      "     term     score\n",
      "0   sauce  0.421427\n",
      "1   sugar  0.249025\n",
      "2   fresh  0.248113\n",
      "3  garlic  0.247201\n",
      "4     oil  0.240815\n",
      "5    fish  0.234388\n",
      "6    rice  0.217555\n",
      "7  pepper  0.195206\n",
      "8    lime  0.178422\n",
      "9    salt  0.177419\n",
      "-------------\n",
      "cajun_creole\n",
      "      term     score\n",
      "0   pepper  0.517158\n",
      "1   garlic  0.226017\n",
      "2     salt  0.223313\n",
      "3    green  0.196497\n",
      "4   onions  0.195145\n",
      "5      oil  0.185005\n",
      "6  chicken  0.166752\n",
      "7    cajun  0.157876\n",
      "8     bell  0.156837\n",
      "9   ground  0.153232\n",
      "-------------\n",
      "brazilian\n",
      "      term     score\n",
      "0   pepper  0.346752\n",
      "1      oil  0.284544\n",
      "2     salt  0.279936\n",
      "3  cachaca  0.270255\n",
      "4     milk  0.263808\n",
      "5   garlic  0.223488\n",
      "6     lime  0.198146\n",
      "7   onions  0.185472\n",
      "8    sugar  0.172800\n",
      "9  coconut  0.163584\n",
      "-------------\n",
      "french\n",
      "     term     score\n",
      "0    salt  0.332754\n",
      "1   fresh  0.274369\n",
      "2  pepper  0.243952\n",
      "3  butter  0.237623\n",
      "4   sugar  0.235990\n",
      "5     oil  0.210472\n",
      "6  ground  0.176788\n",
      "7   large  0.176176\n",
      "8   flour  0.163927\n",
      "9   olive  0.161682\n",
      "-------------\n",
      "japanese\n",
      "     term     score\n",
      "0   sauce  0.331914\n",
      "1     oil  0.321564\n",
      "2   mirin  0.281935\n",
      "3     soy  0.278023\n",
      "4   sugar  0.231626\n",
      "5    salt  0.206643\n",
      "6    rice  0.197721\n",
      "7  sesame  0.194641\n",
      "8    sake  0.190536\n",
      "9   water  0.170954\n",
      "-------------\n",
      "irish\n",
      "       term     score\n",
      "0      salt  0.379941\n",
      "1     flour  0.282265\n",
      "2    butter  0.278954\n",
      "3     sugar  0.251638\n",
      "4    pepper  0.233428\n",
      "5    baking  0.211078\n",
      "6  potatoes  0.195351\n",
      "7       all  0.187073\n",
      "8   purpose  0.187073\n",
      "9    ground  0.183762\n",
      "-------------\n",
      "korean\n",
      "     term     score\n",
      "0  sesame  0.407496\n",
      "1     oil  0.353020\n",
      "2   sauce  0.291079\n",
      "3  garlic  0.276785\n",
      "4  onions  0.243433\n",
      "5     soy  0.235636\n",
      "6  pepper  0.232604\n",
      "7   sugar  0.211379\n",
      "8    rice  0.179326\n",
      "9    salt  0.164599\n",
      "-------------\n",
      "moroccan\n",
      "       term     score\n",
      "0    ground  0.538075\n",
      "1    pepper  0.262753\n",
      "2     fresh  0.254113\n",
      "3       oil  0.252542\n",
      "4      salt  0.236439\n",
      "5     olive  0.212873\n",
      "6    garlic  0.177525\n",
      "7     cumin  0.177525\n",
      "8     lemon  0.176347\n",
      "9  cinnamon  0.162208\n",
      "-------------\n",
      "russian\n",
      "     term     score\n",
      "0    salt  0.375552\n",
      "1   sugar  0.272438\n",
      "2   flour  0.257243\n",
      "3  butter  0.232278\n",
      "4  pepper  0.229022\n",
      "5    eggs  0.222509\n",
      "6   cream  0.196459\n",
      "7     oil  0.187776\n",
      "8   water  0.181264\n",
      "9  onions  0.181264\n"
     ],
     "output_type": "stream"
    }
   ],
   "source": [
    "for k in docs_scores_dfs.keys():\n",
    "    scores_df = docs_scores_dfs[k]\n",
    "    print('-------------')\n",
    "    print(k)\n",
    "    print(scores_df.iloc[:10,:])\n"
   ],
   "metadata": {
    "collapsed": false,
    "pycharm": {
     "name": "#%%\n",
     "is_executing": false
    }
   }
  },
  {
   "cell_type": "markdown",
   "source": [
    "#### Load Baskets Market Data"
   ],
   "metadata": {
    "collapsed": false,
    "pycharm": {
     "name": "#%% md\n"
    }
   }
  },
  {
   "cell_type": "code",
   "execution_count": 8,
   "outputs": [],
   "source": [
    "baskets = []\n",
    "with open('./data/groceries.csv', newline=None) as f:\n",
    "  reader = csv.reader(f)\n",
    "  for row in reader:\n",
    "    baskets.append(row)\n"
   ],
   "metadata": {
    "collapsed": false,
    "pycharm": {
     "name": "#%%\n",
     "is_executing": false
    }
   }
  },
  {
   "cell_type": "markdown",
   "source": [
    "#### Compute ngram for tf.idf top score "
   ],
   "metadata": {
    "collapsed": false
   }
  },
  {
   "cell_type": "code",
   "execution_count": 9,
   "outputs": [],
   "source": [
    "top_scores_ngram = {}\n",
    "\n",
    "for cuisine in docs_scores_dfs.keys():\n",
    "    scores_df = docs_scores_dfs[cuisine]\n",
    "    scores_df = scores_df[scores_df['score']>(statistics[cuisine][1]/4)]\n",
    "    #scores_df = scores_df.iloc[:30,:]\n",
    "    scores_df = scores_df.sort_values(by=['score'],ascending=False)\n",
    "    \n",
    "    ngram_scores = []\n",
    "    for index, row in scores_df.iterrows():\n",
    "        ngram = list(ngrams(row['term'], 3))\n",
    "        score =  row['score']\n",
    "        ngram_scores.append([ngram, score])\n",
    "        \n",
    "    top_scores_ngram[cuisine] = ngram_scores"
   ],
   "metadata": {
    "collapsed": false,
    "pycharm": {
     "name": "#%%\n",
     "is_executing": false
    }
   }
  },
  {
   "cell_type": "markdown",
   "source": [
    "#### Define the metric similarity"
   ],
   "metadata": {
    "collapsed": false
   }
  },
  {
   "cell_type": "code",
   "execution_count": 10,
   "outputs": [],
   "source": [
    "def jaccard_distance(a, b):\n",
    "    \"\"\"Calculate the jaccard distance between sets A and B\"\"\"\n",
    "    a = set(a)\n",
    "    b = set(b)\n",
    "    return 1.0 * len(a&b)/len(a|b)"
   ],
   "metadata": {
    "collapsed": false,
    "pycharm": {
     "name": "#%%\n",
     "is_executing": false
    }
   }
  },
  {
   "cell_type": "markdown",
   "source": [
    "#### Compute Basket Scores\n",
    "For each basket we iterate over all items and compute their similarities with the top \n",
    "terms in the cuisines docs"
   ],
   "metadata": {
    "collapsed": false
   }
  },
  {
   "cell_type": "code",
   "execution_count": 15,
   "outputs": [
    {
     "name": "stdout",
     "text": [
      "------------------\n",
      "basket:  ['tropical fruit', 'yogurt', 'coffee']\n",
      "greek 0.10241275529637707\n",
      "southern_us 0\n",
      "filipino 0\n",
      "indian 0.007831750135041945\n",
      "jamaican 0.00896178143626634\n",
      "spanish 0\n",
      "italian 0\n",
      "mexican 0.011192918757604016\n",
      "chinese 0\n",
      "british 0\n",
      "thai 0.009599370651770743\n",
      "vietnamese 0.009014482315274278\n",
      "cajun_creole 0\n",
      "brazilian 0.005963294490704046\n",
      "french 0\n",
      "japanese 0\n",
      "irish 0\n",
      "korean 0\n",
      "moroccan 0\n",
      "russian 0\n",
      "------------------\n",
      "basket:  ['whole milk']\n",
      "greek 0\n",
      "southern_us 0.04960716216893462\n",
      "filipino 0.03073840194700457\n",
      "indian 0\n",
      "jamaican 0\n",
      "spanish 0\n",
      "italian 0\n",
      "mexican 0\n",
      "chinese 0\n",
      "british 0.048849914400755895\n",
      "thai 0.03532042406939207\n",
      "vietnamese 0\n",
      "cajun_creole 0\n",
      "brazilian 0.0659520041258831\n",
      "french 0.024803461743219055\n",
      "japanese 0\n",
      "irish 0.05224165803800015\n",
      "korean 0\n",
      "moroccan 0\n",
      "russian 0.027135285015782166\n",
      "------------------\n",
      "basket:  ['pip fruit', 'yogurt', 'cream cheese', 'meat spreads']\n",
      "greek 0.1834609857241567\n",
      "southern_us 0.09044927647979664\n",
      "filipino 0\n",
      "indian 0\n",
      "jamaican 0\n",
      "spanish 0\n",
      "italian 0.1361134001972355\n",
      "mexican 0.13747046434290602\n",
      "chinese 0.009064381817237056\n",
      "british 0.06994445351132622\n",
      "thai 0\n",
      "vietnamese 0.005944544440488777\n",
      "cajun_creole 0\n",
      "brazilian 0\n",
      "french 0.101326734454706\n",
      "japanese 0\n",
      "irish 0.0552114557557893\n",
      "korean 0\n",
      "moroccan 0\n",
      "russian 0.07530946101380077\n",
      "------------------\n",
      "basket:  ['other vegetables', 'whole milk', 'condensed milk', 'long life bakery product']\n",
      "greek 0.029858796612513706\n",
      "southern_us 0.09042573593364066\n",
      "filipino 0.057225462961548214\n",
      "indian 0.053200638568992625\n",
      "jamaican 0\n",
      "spanish 0\n",
      "italian 0\n",
      "mexican 0\n",
      "chinese 0\n",
      "british 0.08724447197715487\n",
      "thai 0.06924833669406523\n",
      "vietnamese 0.0035667266642932663\n",
      "cajun_creole 0.005579444472256234\n",
      "brazilian 0.1201440075160738\n",
      "french 0.04133910290536509\n",
      "japanese 0.05807135011086577\n",
      "irish 0.09704044045292523\n",
      "korean 0\n",
      "moroccan 0\n",
      "russian 0.04522547502630361\n"
     ],
     "output_type": "stream"
    }
   ],
   "source": [
    "random_sample = baskets[1:5]\n",
    "\n",
    "for basket in random_sample:\n",
    "    similarities = {}\n",
    "    for cuisine in top_scores_ngram:\n",
    "        value = 0\n",
    "        for item in basket:      \n",
    "            item_ngram = list(ngrams(item, 3))\n",
    "            for ngram_term, score in top_scores_ngram[cuisine]:\n",
    "                sim = jaccard_distance(item_ngram, ngram_term)\n",
    "                if sim > 0:\n",
    "                    value += sim * score\n",
    "                    \n",
    "        similarities[cuisine] = value\n",
    "    \n",
    "           \n",
    "    print('------------------')\n",
    "    print(\"basket: \", basket)\n",
    "    for k in similarities:\n",
    "        print(k, similarities[k]) "
   ],
   "metadata": {
    "collapsed": false,
    "pycharm": {
     "name": "#%%\n",
     "is_executing": false
    }
   }
  }
 ],
 "metadata": {
  "kernelspec": {
   "name": "pycharm-4979b13c",
   "language": "python",
   "display_name": "PyCharm (Project)"
  },
  "language_info": {
   "codemirror_mode": {
    "name": "ipython",
    "version": 2
   },
   "file_extension": ".py",
   "mimetype": "text/x-python",
   "name": "python",
   "nbconvert_exporter": "python",
   "pygments_lexer": "ipython2",
   "version": "2.7.11"
  },
  "pycharm": {
   "stem_cell": {
    "cell_type": "raw",
    "source": [],
    "metadata": {
     "collapsed": false
    }
   }
  }
 },
 "nbformat": 4,
 "nbformat_minor": 0
}