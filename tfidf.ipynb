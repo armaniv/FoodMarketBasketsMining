{
 "cells": [
  {
   "cell_type": "code",
   "execution_count": 1,
   "metadata": {
    "collapsed": true,
    "pycharm": {
     "is_executing": false,
     "name": "#%%\n"
    }
   },
   "outputs": [],
   "source": [
    "import json\n",
    "import pandas as pd\n",
    "import matplotlib.pyplot as plt\n",
    "import csv\n",
    "import numpy as np\n",
    "import time\n",
    "\n",
    "from nltk.util import ngrams\n",
    "from sklearn.feature_extraction.text import TfidfVectorizer \n",
    "from sklearn.cluster import DBSCAN\n",
    "from sklearn.cluster import OPTICS\n",
    "from sklearn.cluster import KMeans\n",
    "from sklearn.preprocessing import StandardScaler\n",
    "from itertools import compress"
   ]
  },
  {
   "cell_type": "markdown",
   "metadata": {},
   "source": [
    "#### Load Recipes Data"
   ]
  },
  {
   "cell_type": "code",
   "execution_count": 2,
   "metadata": {
    "collapsed": true,
    "pycharm": {
     "is_executing": false
    }
   },
   "outputs": [],
   "source": [
    "recipes = json.load(open('./data/recipe_train.json'))\n",
    "\n",
    "# for dic in recipes:\n",
    "#     ingredients = []\n",
    "#     for ingredient in dic['ingredients']:\n",
    "#         tmp_ingredient = ingredient.replace(' ', '-')\n",
    "#         ingredients.append(tmp_ingredient)\n",
    "#         dic['ingredients'] = ingredients"
   ]
  },
  {
   "cell_type": "markdown",
   "source": [
    "#### Convert recipe to text document"
   ],
   "metadata": {
    "collapsed": false,
    "pycharm": {
     "name": "#%% md\n",
     "is_executing": false
    }
   }
  },
  {
   "cell_type": "code",
   "execution_count": 3,
   "metadata": {
    "collapsed": true,
    "pycharm": {
     "is_executing": false
    }
   },
   "outputs": [],
   "source": [
    "recipes_as_doc = {}\n",
    "\n",
    "for sample in recipes:\n",
    "    key = sample['cuisine']\n",
    "    # If key is in the dictionary, return its value. If not, insert key with a value of default and return default.\n",
    "    recipes_as_doc.setdefault(key,[]).append(' '.join(sample['ingredients']).lower())\n",
    "\n",
    "# create a single list with all the documents\n",
    "all_docs = []\n",
    "for k, v in recipes_as_doc.items():\n",
    "   all_docs.append(' '.join(v))"
   ]
  },
  {
   "cell_type": "markdown",
   "source": [
    "#### Tfidf vectorizer for text data"
   ]
  },
  {
   "cell_type": "code",
   "execution_count": 4,
   "metadata": {
    "collapsed": false,
    "pycharm": {
     "name": "#%%\n",
     "is_executing": false
    }
   },
   "outputs": [],
   "source": [
    "# code adapted from https://programminghistorian.org/en/lessons/analyzing-documents-with-tfidf\n",
    "\n",
    "# vectorizer = TfidfVectorizer(use_idf=True, token_pattern=r\"(?u)\\b\\w[\\w-]*\\w\\b\")\n",
    "vectorizer = TfidfVectorizer(use_idf=True)\n",
    "transformed_documents = vectorizer.fit_transform(all_docs)"
   ]
  },
  {
   "cell_type": "markdown",
   "source": [
    "#### Analyze results"
   ],
   "metadata": {
    "collapsed": false
   }
  },
  {
   "cell_type": "code",
   "execution_count": 5,
   "outputs": [
    {
     "name": "stdout",
     "text": [
      "greek southern_us filipino indian jamaican spanish italian mexican chinese british thai vietnamese cajun_creole brazilian french japanese irish korean moroccan russian "
     ],
     "output_type": "stream"
    }
   ],
   "source": [
    "transformed_documents_as_array = transformed_documents.toarray()\n",
    "len(transformed_documents_as_array)\n",
    "docs_scores_dfs = {}\n",
    "\n",
    "# loop each item in transformed_documents_as_array, using enumerate to keep track of the current position\n",
    "for counter, doc in enumerate(transformed_documents_as_array):\n",
    "    # construct a data frame\n",
    "    tf_idf_tuples = list(zip(vectorizer.get_feature_names(), doc))\n",
    "    one_doc_as_df = pd.DataFrame\\\n",
    "        .from_records(tf_idf_tuples, columns=['term', 'score'])\\\n",
    "        .sort_values(by='score', ascending=False)\\\n",
    "        .reset_index(drop=True)\n",
    "    docs_scores_dfs[list(recipes_as_doc.keys())[counter]] = one_doc_as_df\n",
    "\n",
    "    print(list(recipes_as_doc.keys())[counter], end=' ')\n",
    "    # print(one_doc_as_df)\n",
    "    # output to a csv using the enumerated value for the filename\n",
    "    # one_doc_as_df.to_csv(\"tf.idf\" + counter.__str__() + \".csv\")"
   ],
   "metadata": {
    "collapsed": false,
    "pycharm": {
     "name": "#%%\n",
     "is_executing": false
    }
   }
  },
  {
   "cell_type": "markdown",
   "source": [
    "#### Statistics of Scores"
   ],
   "metadata": {
    "collapsed": false,
    "pycharm": {
     "name": "#%% md\n"
    }
   }
  },
  {
   "cell_type": "code",
   "execution_count": 6,
   "outputs": [
    {
     "data": {
      "text/plain": "Text(0, 0.5, 'Number of Therms')"
     },
     "metadata": {},
     "output_type": "execute_result",
     "execution_count": 6
    },
    {
     "data": {
      "text/plain": "<Figure size 432x288 with 1 Axes>",
      "image/png": "[encoded data removed]"
     },
     "metadata": {
      "needs_background": "light"
     },
     "output_type": "display_data"
    }
   ],
   "source": [
    "statistics = {}\n",
    "for k in docs_scores_dfs.keys():\n",
    "    df = docs_scores_dfs[k]\n",
    "    scores = df['score']\n",
    "    scores = scores.loc[scores>0.0]\n",
    "    statistics[k] = [scores.mean(), scores.max(), scores.min(), df['score'].astype(bool).sum(axis=0)]\n",
    "\n",
    "irish_scores = docs_scores_dfs[\"irish\"][\"score\"]\n",
    "irish_scores = irish_scores.loc[irish_scores>0.0]\n",
    "plt.hist(irish_scores, color = 'blue', edgecolor = 'black', bins=300)\n",
    "plt.title('Histogram of Scores')\n",
    "plt.xlabel('Frequency')\n",
    "plt.ylabel('Number of Therms')\n",
    "# print(statistics)"
   ],
   "metadata": {
    "collapsed": false,
    "pycharm": {
     "name": "#%%\n",
     "is_executing": false
    }
   }
  },
  {
   "cell_type": "markdown",
   "source": [
    "#### Top 10 therms per cuisine"
   ],
   "metadata": {
    "collapsed": false,
    "pycharm": {
     "name": "#%% md\n"
    }
   }
  },
  {
   "cell_type": "code",
   "execution_count": 7,
   "outputs": [],
   "source": [
    "for k in docs_scores_dfs.keys():\n",
    "    scores_df = docs_scores_dfs[k]\n",
    "    # print('-------------')\n",
    "    # print(k)\n",
    "    # print(scores_df.iloc[:15,:])\n"
   ],
   "metadata": {
    "collapsed": false,
    "pycharm": {
     "name": "#%%\n",
     "is_executing": false
    }
   }
  },
  {
   "cell_type": "markdown",
   "source": [
    "#### Load Baskets Market Data"
   ],
   "metadata": {
    "collapsed": false,
    "pycharm": {
     "name": "#%% md\n"
    }
   }
  },
  {
   "cell_type": "code",
   "execution_count": 8,
   "outputs": [],
   "source": [
    "baskets = []\n",
    "with open('./data/groceries.csv', newline=None) as f:\n",
    "  reader = csv.reader(f)\n",
    "  for row in reader:\n",
    "    baskets.append([elem.replace(' ', '-') for elem in row])"
   ],
   "metadata": {
    "collapsed": false,
    "pycharm": {
     "name": "#%%\n",
     "is_executing": false
    }
   }
  },
  {
   "cell_type": "markdown",
   "source": [
    "#### Compute ngram for tf.idf top score "
   ],
   "metadata": {
    "collapsed": false
   }
  },
  {
   "cell_type": "code",
   "execution_count": 9,
   "outputs": [],
   "source": [
    "top_scores_ngram = {}\n",
    "CUISINE_TOP_SCORE_THRESHOLD = 0.1\n",
    "for cuisine in docs_scores_dfs.keys():\n",
    "    scores_df = docs_scores_dfs[cuisine]\n",
    "    scores_df = scores_df[scores_df['score']>CUISINE_TOP_SCORE_THRESHOLD]\n",
    "    scores_df = scores_df.sort_values(by=['score'],ascending=False)\n",
    "    \n",
    "    ngram_scores = []\n",
    "    for index, row in scores_df.iterrows():\n",
    "        ngram = list(ngrams(row['term'], 3))\n",
    "        score =  row['score']\n",
    "        ngram_scores.append([ngram, score, row['term']])\n",
    "        \n",
    "    top_scores_ngram[cuisine] = ngram_scores"
   ],
   "metadata": {
    "collapsed": false,
    "pycharm": {
     "name": "#%%\n",
     "is_executing": false
    }
   }
  },
  {
   "cell_type": "markdown",
   "source": [
    "#### Define the metric similarity"
   ],
   "metadata": {
    "collapsed": false
   }
  },
  {
   "cell_type": "code",
   "execution_count": 10,
   "outputs": [],
   "source": [
    "def jaccard_distance(a, b):\n",
    "    \"\"\"Calculate the jaccard distance between sets A and B\"\"\"\n",
    "    a = set(a)\n",
    "    b = set(b)\n",
    "    return 1.0 * len(a&b)/len(a|b)"
   ],
   "metadata": {
    "collapsed": false,
    "pycharm": {
     "name": "#%%\n",
     "is_executing": false
    }
   }
  },
  {
   "cell_type": "markdown",
   "source": [
    "#### Compute Basket Scores\n",
    "For each basket we iterate over all items and compute their similarities with the top \n",
    "terms in the cuisines docs.\n",
    "\n",
    "But first, in order to optimize computation we first calculate ngrams of unique items."
   ],
   "metadata": {
    "collapsed": false
   }
  },
  {
   "cell_type": "code",
   "execution_count": 11,
   "outputs": [],
   "source": [
    "items_ngrams = {}\n",
    "for basket in baskets:\n",
    "    for item in basket:\n",
    "        if items_ngrams.get(item) is None :\n",
    "            items_ngrams[item] = list(ngrams(item, 3))"
   ],
   "metadata": {
    "collapsed": false,
    "pycharm": {
     "name": "#%%\n",
     "is_executing": false
    }
   }
  },
  {
   "cell_type": "code",
   "execution_count": 12,
   "outputs": [
    {
     "name": "stdout",
     "text": [
      "--- 9.925538539886475 seconds ---\n"
     ],
     "output_type": "stream"
    }
   ],
   "source": [
    "start_time = time.time()\n",
    "baskets_scores = []\n",
    "all_similarities = {}\n",
    "for basket in baskets:\n",
    "    similarities = {}\n",
    "    for cuisine in top_scores_ngram:\n",
    "        value = 0\n",
    "        sims = 0\n",
    "        for item in basket:      \n",
    "            item_ngram = items_ngrams[item]\n",
    "            for ngram_term, score, term in top_scores_ngram[cuisine]:\n",
    "                if all_similarities.get(item+term) is None:\n",
    "                    if all_similarities.get(term+item) is None:\n",
    "                        sim = jaccard_distance(item_ngram, ngram_term)\n",
    "                        all_similarities[item+term] = sim\n",
    "                        all_similarities[term+item] = sim\n",
    "                    else:\n",
    "                        sim = all_similarities[term+item]\n",
    "                else:\n",
    "                    sim = all_similarities[item+term]\n",
    "\n",
    "                if sim > 0.2:\n",
    "                    value += sim * score\n",
    "                    sims += sim\n",
    "        if sims != 0:\n",
    "            value = value/sims\n",
    "        else:\n",
    "            value=0\n",
    "                    \n",
    "        similarities[cuisine] = value    \n",
    "    baskets_scores.append(similarities)\n",
    "           \n",
    "    # print('------------------')\n",
    "    # print(\"basket: \", basket)\n",
    "    # for k in similarities:\n",
    "    #     print(k, similarities[k]) \n",
    "baskets_scores_df = pd.DataFrame(baskets_scores)\n",
    "baskets_scores_df=(baskets_scores_df-baskets_scores_df.mean())/baskets_scores_df.std()\n",
    "print(\"--- %s seconds ---\" % (time.time() - start_time))"
   ],
   "metadata": {
    "collapsed": false,
    "pycharm": {
     "name": "#%%\n",
     "is_executing": false
    }
   }
  },
  {
   "cell_type": "markdown",
   "source": [
    "#### CLustering baskets\n",
    "We now try to cluster the baskets, based on the scores that they \n",
    "obtained using frequent therms of recipes"
   ],
   "metadata": {
    "collapsed": false,
    "pycharm": {
     "name": "#%% md\n"
    }
   }
  },
  {
   "cell_type": "code",
   "execution_count": 13,
   "outputs": [],
   "source": [
    "X = StandardScaler().fit_transform(baskets_scores_df.to_numpy())"
   ],
   "metadata": {
    "collapsed": false,
    "pycharm": {
     "name": "#%%\n",
     "is_executing": false
    }
   }
  },
  {
   "cell_type": "code",
   "execution_count": 14,
   "outputs": [
    {
     "name": "stdout",
     "text": [
      "{0, 1, 2, -1}\n"
     ],
     "output_type": "stream"
    },
    {
     "name": "stderr",
     "text": [
      "/home/nepotu/anaconda3/envs/dataMiningProject/lib/python3.7/site-packages/sklearn/cluster/_optics.py:802: RuntimeWarning: divide by zero encountered in true_divide\n",
      "  ratio = reachability_plot[:-1] / reachability_plot[1:]\n"
     ],
     "output_type": "stream"
    }
   ],
   "source": [
    "# OPTICS\n",
    "optics = OPTICS(min_samples=50, max_eps=0.1, xi=.05, min_cluster_size=.05)\n",
    "optics.fit(X)\n",
    "optics_labels = optics.labels_[optics.ordering_]\n",
    "print(set(optics_labels))"
   ],
   "metadata": {
    "collapsed": false,
    "pycharm": {
     "name": "#%%\n",
     "is_executing": false
    }
   }
  },
  {
   "cell_type": "code",
   "execution_count": 15,
   "outputs": [
    {
     "name": "stdout",
     "text": [
      "{0, 1, 2, 3, 4, 5, 6}\n"
     ],
     "output_type": "stream"
    }
   ],
   "source": [
    "# K-Means\n",
    "kMeans = KMeans(n_clusters=7, random_state=0).fit(X)\n",
    "kMeans_labels = kMeans.labels_\n",
    "print(set(kMeans_labels))"
   ],
   "metadata": {
    "collapsed": false,
    "pycharm": {
     "name": "#%%\n",
     "is_executing": false
    }
   }
  },
  {
   "cell_type": "code",
   "execution_count": 16,
   "outputs": [
    {
     "name": "stdout",
     "text": [
      "{0, 1, 2, 3, 4, -1}\n",
      "[0.35, 200]\n"
     ],
     "output_type": "stream"
    }
   ],
   "source": [
    "# DBSCAN \n",
    "[eps, min_samples] = [0.35, 200]\n",
    "dbScan = DBSCAN(eps=eps, min_samples=min_samples, metric='euclidean').fit(X)\n",
    "dbScan_labels = dbScan.labels_\n",
    "print(set(dbScan_labels))\n",
    "print([eps, min_samples])\n"
   ],
   "metadata": {
    "collapsed": false,
    "pycharm": {
     "name": "#%%\n",
     "is_executing": false
    }
   }
  },
  {
   "cell_type": "markdown",
   "source": [
    "#### Analysis of the method\n",
    "Observe size of created basket clusters"
   ],
   "metadata": {
    "collapsed": false,
    "pycharm": {
     "name": "#%% md\n"
    }
   }
  },
  {
   "cell_type": "code",
   "execution_count": 17,
   "outputs": [
    {
     "data": {
      "text/plain": "<matplotlib.axes._subplots.AxesSubplot at 0x7f499e459c10>"
     },
     "metadata": {},
     "output_type": "execute_result",
     "execution_count": 17
    },
    {
     "data": {
      "text/plain": "<Figure size 432x288 with 1 Axes>",
      "image/png": "[encoded data removed]"
     },
     "metadata": {
      "needs_background": "light"
     },
     "output_type": "display_data"
    }
   ],
   "source": [
    "labels = dbScan_labels\n",
    "cluster_sizes = []\n",
    "for label in sorted(set(labels)):\n",
    "    cluster_sizes.append([label, len(baskets_scores_df[labels == label])])\n",
    "pd.DataFrame(cluster_sizes).plot(kind='bar')"
   ],
   "metadata": {
    "collapsed": false,
    "pycharm": {
     "name": "#%%\n",
     "is_executing": false
    }
   }
  },
  {
   "cell_type": "markdown",
   "source": [
    "Select one cluster and calculate its overall score (by summing\n",
    "all scores of all items of that cluster)"
   ],
   "metadata": {
    "collapsed": false,
    "pycharm": {
     "name": "#%% md\n"
    }
   }
  },
  {
   "cell_type": "code",
   "execution_count": 18,
   "outputs": [
    {
     "name": "stdout",
     "text": [
      "Cluster  0\n",
      "#Baskets:  2544\n",
      "moroccan       -0.390361\n",
      "spanish        -0.428859\n",
      "italian        -0.505883\n",
      "korean         -0.505908\n",
      "japanese       -0.532724\n",
      "chinese        -0.551486\n",
      "indian         -0.568075\n",
      "vietnamese     -0.576202\n",
      "greek          -0.603279\n",
      "mexican        -0.603313\n",
      "cajun_creole   -0.609345\n",
      "french         -0.773731\n",
      "jamaican       -0.838674\n",
      "brazilian      -0.840716\n",
      "filipino       -0.860176\n",
      "russian        -0.861334\n",
      "thai           -0.907920\n",
      "british        -0.914826\n",
      "southern_us    -0.915637\n",
      "irish          -0.994313\n",
      "dtype: float64\n",
      "Cluster  1\n",
      "#Baskets:  212\n",
      "greek           0.604127\n",
      "moroccan       -0.390361\n",
      "spanish        -0.428859\n",
      "italian        -0.505883\n",
      "korean         -0.505908\n",
      "japanese       -0.532724\n",
      "chinese        -0.551486\n",
      "indian         -0.568075\n",
      "vietnamese     -0.576202\n",
      "mexican        -0.603313\n",
      "cajun_creole   -0.609345\n",
      "french         -0.773731\n",
      "jamaican       -0.838674\n",
      "brazilian      -0.840716\n",
      "filipino       -0.860176\n",
      "russian        -0.861334\n",
      "thai           -0.907920\n",
      "british        -0.914826\n",
      "southern_us    -0.915637\n",
      "irish          -0.994313\n",
      "dtype: float64\n",
      "Cluster  2\n",
      "#Baskets:  762\n",
      "brazilian       1.380905\n",
      "thai            0.922371\n",
      "british         0.904891\n",
      "southern_us     0.632273\n",
      "irish           0.616090\n",
      "jamaican        0.543025\n",
      "filipino        0.425901\n",
      "russian         0.253610\n",
      "moroccan       -0.390361\n",
      "spanish        -0.428859\n",
      "italian        -0.505883\n",
      "korean         -0.505908\n",
      "japanese       -0.532724\n",
      "chinese        -0.551486\n",
      "indian         -0.568075\n",
      "vietnamese     -0.576202\n",
      "greek          -0.603279\n",
      "mexican        -0.603313\n",
      "cajun_creole   -0.609345\n",
      "french         -0.773731\n",
      "dtype: float64\n",
      "Cluster  3\n",
      "#Baskets:  499\n",
      "irish           0.147323\n",
      "moroccan       -0.390361\n",
      "spanish        -0.428859\n",
      "italian        -0.505883\n",
      "korean         -0.505908\n",
      "japanese       -0.532724\n",
      "chinese        -0.551486\n",
      "indian         -0.568075\n",
      "vietnamese     -0.576202\n",
      "greek          -0.603279\n",
      "mexican        -0.603313\n",
      "cajun_creole   -0.609345\n",
      "french         -0.773731\n",
      "jamaican       -0.838674\n",
      "brazilian      -0.840716\n",
      "filipino       -0.860176\n",
      "russian        -0.861334\n",
      "thai           -0.907920\n",
      "british        -0.914826\n",
      "southern_us    -0.915637\n",
      "dtype: float64\n",
      "Cluster  4\n",
      "#Baskets:  296\n",
      "filipino        1.470613\n",
      "japanese        1.422046\n",
      "jamaican        1.148789\n",
      "chinese         1.116624\n",
      "vietnamese      1.082385\n",
      "russian         0.998673\n",
      "indian          0.941419\n",
      "korean          0.912091\n",
      "french          0.729677\n",
      "southern_us     0.322414\n",
      "brazilian       0.245841\n",
      "british         0.210413\n",
      "irish           0.097884\n",
      "moroccan       -0.390361\n",
      "spanish        -0.428859\n",
      "italian        -0.505883\n",
      "greek          -0.603279\n",
      "mexican        -0.603313\n",
      "cajun_creole   -0.609345\n",
      "thai           -0.907920\n",
      "dtype: float64\n",
      "Cluster  -1\n",
      "#Baskets:  5522\n",
      "french          0.523740\n",
      "cajun_creole    0.475934\n",
      "mexican         0.471222\n",
      "thai            0.456570\n",
      "southern_us     0.435200\n",
      "greek           0.424841\n",
      "russian         0.419193\n",
      "british         0.403105\n",
      "italian         0.395124\n",
      "irish           0.392680\n",
      "filipino        0.369438\n",
      "indian          0.362785\n",
      "vietnamese      0.361141\n",
      "jamaican        0.357852\n",
      "chinese         0.341325\n",
      "spanish         0.334964\n",
      "korean          0.319133\n",
      "japanese        0.311305\n",
      "moroccan        0.304895\n",
      "brazilian       0.291835\n",
      "dtype: float64\n"
     ],
     "output_type": "stream"
    }
   ],
   "source": [
    "for selected_basket_cluster in set(labels):\n",
    "    print(\"Cluster \", selected_basket_cluster)\n",
    "    selected_basket_scores = baskets_scores_df[labels == selected_basket_cluster]\n",
    "    print(\"#Baskets: \", selected_basket_scores.shape[0])\n",
    "    aggregated_basket_cluster_score \\\n",
    "        = np.mean(selected_basket_scores, axis=0)\\\n",
    "        .sort_values(ascending=False)\n",
    "    selected_baskets = list(compress(baskets, labels == selected_basket_cluster))\n",
    "    selected_baskets = [' '.join(l) for l in selected_baskets]\n",
    "    aggregated_basket_cluster_score = aggregated_basket_cluster_score[0:50]\n",
    "    print(aggregated_basket_cluster_score)"
   ],
   "metadata": {
    "collapsed": false,
    "pycharm": {
     "name": "#%%\n",
     "is_executing": false
    }
   }
  },
  {
   "cell_type": "markdown",
   "source": [
    "#### Baseline method - K-means\n",
    "Now we will implement the baseline algorithm to compare our method with. \n",
    "A KNN method will be used. We will try to find the best K by trial and error based on the\n",
    "coherence of the results because there are not many possible Ks for the given dataset."
   ],
   "metadata": {
    "collapsed": false,
    "pycharm": {
     "name": "#%% md\n"
    }
   }
  },
  {
   "cell_type": "code",
   "source": [
    "baskets_as_docs = [' '.join(basket) for basket in baskets]\n",
    "X_Baskets = vectorizer.fit_transform(baskets_as_docs)\n",
    "model = KMeans(n_clusters=10, init='k-means++', max_iter=100, n_init=1)\n",
    "model.fit(X_Baskets)\n",
    "\n",
    "print(\"Top terms per cluster:\")\n",
    "order_centroids = model.cluster_centers_.argsort()[:, ::-1]\n",
    "terms = vectorizer.get_feature_names()\n",
    "baseline_labels = set(model.labels_)\n",
    "for i in baseline_labels:\n",
    "    print(\"Cluster %d:\" % i),\n",
    "    for ind in order_centroids[i, :10]:\n",
    "        print(' %s' % terms[ind])"
   ],
   "metadata": {
    "collapsed": false,
    "pycharm": {
     "name": "#%%\n",
     "is_executing": false
    }
   },
   "execution_count": 19,
   "outputs": [
    {
     "name": "stdout",
     "text": [
      "Top terms per cluster:\n",
      "Cluster 0:\n",
      " chocolate\n",
      " specialty\n",
      " bar\n",
      " soda\n",
      " buns\n",
      " rolls\n",
      " milk\n",
      " marshmallow\n",
      " candy\n",
      " whole\n",
      "Cluster 1:\n",
      " rolls\n",
      " buns\n",
      " soda\n",
      " milk\n",
      " whole\n",
      " pastry\n",
      " sausage\n",
      " frankfurter\n",
      " yogurt\n",
      " cheese\n",
      "Cluster 2:\n",
      " milk\n",
      " whole\n",
      " yogurt\n",
      " newspapers\n",
      " cream\n",
      " coffee\n",
      " bread\n",
      " pastry\n",
      " beverages\n",
      " cheese\n",
      "Cluster 3:\n",
      " canned\n",
      " beer\n",
      " soda\n",
      " buns\n",
      " rolls\n",
      " newspapers\n",
      " vegetables\n",
      " fruit\n",
      " milk\n",
      " sausage\n",
      "Cluster 4:\n",
      " shopping\n",
      " bags\n",
      " soda\n",
      " vegetables\n",
      " beer\n",
      " canned\n",
      " milk\n",
      " sausage\n",
      " fruit\n",
      " buns\n",
      "Cluster 5:\n",
      " domestic\n",
      " eggs\n",
      " vegetables\n",
      " milk\n",
      " whole\n",
      " fruit\n",
      " other\n",
      " cheese\n",
      " buns\n",
      " rolls\n",
      "Cluster 6:\n",
      " product\n",
      " life\n",
      " long\n",
      " bakery\n",
      " fruit\n",
      " vegetables\n",
      " milk\n",
      " whole\n",
      " cheese\n",
      " chocolate\n",
      "Cluster 7:\n",
      " bottled\n",
      " beer\n",
      " water\n",
      " soda\n",
      " milk\n",
      " whole\n",
      " vegetables\n",
      " rolls\n",
      " buns\n",
      " wine\n",
      "Cluster 8:\n",
      " fruit\n",
      " juice\n",
      " vegetable\n",
      " tropical\n",
      " pip\n",
      " citrus\n",
      " milk\n",
      " whole\n",
      " vegetables\n",
      " yogurt\n",
      "Cluster 9:\n",
      " vegetables\n",
      " other\n",
      " root\n",
      " milk\n",
      " whole\n",
      " fruit\n",
      " frozen\n",
      " cream\n",
      " yogurt\n",
      " cheese\n"
     ],
     "output_type": "stream"
    }
   ]
  },
  {
   "cell_type": "markdown",
   "source": [
    "#### Compute Scores of Baskets created using K-Means\n",
    "For the created clusters of baskets using the baseline method, \n",
    "we calculate its scores in terms of similarity with the terms\n",
    "that scored high TF-IDF for the cuisines "
   ],
   "metadata": {
    "collapsed": false
   }
  },
  {
   "cell_type": "code",
   "execution_count": 20,
   "outputs": [
    {
     "name": "stdout",
     "text": [
      "thai           -0.285216\n",
      "brazilian      -0.275440\n",
      "filipino       -0.261797\n",
      "british        -0.260252\n",
      "jamaican       -0.247811\n",
      "southern_us    -0.245796\n",
      "russian        -0.238678\n",
      "irish          -0.224566\n",
      "french         -0.215994\n",
      "vietnamese     -0.188907\n",
      "chinese        -0.177433\n",
      "cajun_creole   -0.175112\n",
      "korean         -0.172059\n",
      "japanese       -0.162054\n",
      "indian         -0.154775\n",
      "spanish        -0.129804\n",
      "mexican        -0.123072\n",
      "moroccan       -0.111259\n",
      "greek          -0.104567\n",
      "italian        -0.070032\n",
      "dtype: float64\n",
      "french         -0.389914\n",
      "indian         -0.364702\n",
      "vietnamese     -0.348275\n",
      "chinese        -0.341948\n",
      "japanese       -0.339867\n",
      "korean         -0.328589\n",
      "cajun_creole   -0.290714\n",
      "mexican        -0.287780\n",
      "spanish        -0.283168\n",
      "russian        -0.266394\n",
      "filipino       -0.264267\n",
      "moroccan       -0.259051\n",
      "greek          -0.248178\n",
      "jamaican       -0.225037\n",
      "italian        -0.200067\n",
      "southern_us    -0.184469\n",
      "british        -0.136257\n",
      "thai           -0.068810\n",
      "brazilian      -0.024680\n",
      "irish           0.038125\n",
      "dtype: float64\n",
      "filipino       -0.114973\n",
      "jamaican       -0.102591\n",
      "brazilian      -0.098752\n",
      "japanese       -0.094985\n",
      "chinese        -0.072326\n",
      "korean         -0.064059\n",
      "vietnamese     -0.058040\n",
      "irish          -0.054622\n",
      "russian        -0.054343\n",
      "indian         -0.052045\n",
      "british        -0.033830\n",
      "southern_us    -0.028641\n",
      "french         -0.021794\n",
      "italian        -0.016907\n",
      "thai           -0.009934\n",
      "greek           0.007849\n",
      "mexican         0.028015\n",
      "cajun_creole    0.029673\n",
      "moroccan        0.035276\n",
      "spanish         0.041186\n",
      "dtype: float64\n",
      "irish          -0.759176\n",
      "british        -0.746490\n",
      "southern_us    -0.731708\n",
      "filipino       -0.724600\n",
      "brazilian      -0.712925\n",
      "russian        -0.711001\n",
      "jamaican       -0.706959\n",
      "thai           -0.702028\n",
      "french         -0.631310\n",
      "cajun_creole   -0.488198\n",
      "indian         -0.484645\n",
      "greek          -0.481362\n",
      "mexican        -0.480351\n",
      "chinese        -0.479422\n",
      "japanese       -0.456552\n",
      "vietnamese     -0.452527\n",
      "korean         -0.434532\n",
      "italian        -0.411904\n",
      "spanish        -0.343481\n",
      "moroccan       -0.319849\n",
      "dtype: float64\n",
      "british        -0.049880\n",
      "irish          -0.047735\n",
      "russian        -0.039036\n",
      "brazilian      -0.036543\n",
      "southern_us    -0.006418\n",
      "indian         -0.002231\n",
      "japanese        0.005135\n",
      "korean          0.006117\n",
      "thai            0.006305\n",
      "filipino        0.009175\n",
      "jamaican        0.010003\n",
      "chinese         0.011516\n",
      "moroccan        0.023864\n",
      "vietnamese      0.027528\n",
      "french          0.041485\n",
      "greek           0.048404\n",
      "mexican         0.053171\n",
      "italian         0.061533\n",
      "spanish         0.064705\n",
      "cajun_creole    0.099803\n",
      "dtype: float64\n",
      "japanese        0.226934\n",
      "vietnamese      0.247468\n",
      "chinese         0.261127\n",
      "korean          0.263532\n",
      "spanish         0.284692\n",
      "indian          0.285077\n",
      "moroccan        0.301836\n",
      "italian         0.332771\n",
      "french          0.333636\n",
      "greek           0.350996\n",
      "filipino        0.354130\n",
      "mexican         0.356494\n",
      "jamaican        0.367797\n",
      "cajun_creole    0.383468\n",
      "russian         0.399738\n",
      "thai            0.421162\n",
      "southern_us     0.426377\n",
      "british         0.444958\n",
      "irish           0.453876\n",
      "brazilian       0.476479\n",
      "dtype: float64\n",
      "filipino        0.123455\n",
      "korean          0.125381\n",
      "japanese        0.126462\n",
      "chinese         0.136633\n",
      "brazilian       0.177848\n",
      "vietnamese      0.197067\n",
      "jamaican        0.202508\n",
      "russian         0.246232\n",
      "moroccan        0.247567\n",
      "irish           0.257458\n",
      "indian          0.264146\n",
      "british         0.266892\n",
      "southern_us     0.275757\n",
      "spanish         0.280443\n",
      "cajun_creole    0.289483\n",
      "thai            0.297651\n",
      "italian         0.300348\n",
      "greek           0.323790\n",
      "mexican         0.349614\n",
      "french          0.366063\n",
      "dtype: float64\n",
      "thai           -0.308049\n",
      "mexican        -0.292977\n",
      "greek          -0.277879\n",
      "cajun_creole   -0.271342\n",
      "italian        -0.250656\n",
      "moroccan       -0.184328\n",
      "spanish        -0.165114\n",
      "irish          -0.082783\n",
      "british        -0.013970\n",
      "brazilian       0.024863\n",
      "southern_us     0.037142\n",
      "french          0.271423\n",
      "russian         0.322338\n",
      "jamaican        0.413509\n",
      "indian          0.426299\n",
      "korean          0.443978\n",
      "vietnamese      0.493340\n",
      "chinese         0.526452\n",
      "filipino        0.544507\n",
      "japanese        0.690650\n",
      "dtype: float64\n",
      "vietnamese      0.052712\n",
      "moroccan        0.058740\n",
      "korean          0.073782\n",
      "indian          0.074372\n",
      "spanish         0.075344\n",
      "japanese        0.079621\n",
      "chinese         0.084932\n",
      "jamaican        0.111558\n",
      "filipino        0.117818\n",
      "cajun_creole    0.124101\n",
      "thai            0.126362\n",
      "southern_us     0.136238\n",
      "irish           0.137189\n",
      "brazilian       0.139167\n",
      "mexican         0.142222\n",
      "russian         0.143861\n",
      "french          0.148956\n",
      "british         0.153369\n",
      "italian         0.154674\n",
      "greek           0.167955\n",
      "dtype: float64\n",
      "japanese        0.042721\n",
      "chinese         0.092116\n",
      "vietnamese      0.093009\n",
      "indian          0.100597\n",
      "french          0.101711\n",
      "korean          0.114001\n",
      "russian         0.116886\n",
      "irish           0.124806\n",
      "spanish         0.132503\n",
      "jamaican        0.147525\n",
      "italian         0.149315\n",
      "filipino        0.152039\n",
      "moroccan        0.157530\n",
      "southern_us     0.161003\n",
      "greek           0.172996\n",
      "british         0.176919\n",
      "mexican         0.190054\n",
      "cajun_creole    0.193478\n",
      "brazilian       0.200816\n",
      "thai            0.249256\n",
      "dtype: float64\n"
     ],
     "output_type": "stream"
    }
   ],
   "source": [
    "baseline_baskets_scores = {}\n",
    "for cluster in baseline_labels:\n",
    "    basket_scores = baskets_scores_df[model.labels_ == cluster]\n",
    "    cluster_scores = np.mean(basket_scores,axis=0).sort_values()\n",
    "    np.argsort(cluster_scores)\n",
    "    print(cluster_scores)"
   ],
   "metadata": {
    "collapsed": false,
    "pycharm": {
     "name": "#%%\n",
     "is_executing": false
    }
   }
  },
  {
   "cell_type": "markdown",
   "source": [],
   "metadata": {
    "collapsed": false
   }
  }
 ],
 "metadata": {
  "kernelspec": {
   "name": "python3",
   "language": "python",
   "display_name": "Python 3"
  },
  "language_info": {
   "codemirror_mode": {
    "name": "ipython",
    "version": 2
   },
   "file_extension": ".py",
   "mimetype": "text/x-python",
   "name": "python",
   "nbconvert_exporter": "python",
   "pygments_lexer": "ipython2",
   "version": "2.7.11"
  },
  "pycharm": {
   "stem_cell": {
    "cell_type": "raw",
    "source": [],
    "metadata": {
     "collapsed": false
    }
   }
  }
 },
 "nbformat": 4,
 "nbformat_minor": 0
}