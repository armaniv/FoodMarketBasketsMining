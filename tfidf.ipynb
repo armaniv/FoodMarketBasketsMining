{
 "cells": [
  {
   "cell_type": "code",
   "execution_count": 89,
   "metadata": {
    "collapsed": true,
    "pycharm": {
     "is_executing": false,
     "name": "#%%\n"
    }
   },
   "outputs": [],
   "source": [
    "import json\n",
    "import pandas as pd\n",
    "import matplotlib.pyplot as plt\n",
    "import csv\n",
    "import numpy as np\n",
    "\n",
    "from nltk.util import ngrams\n",
    "from sklearn.feature_extraction.text import TfidfVectorizer \n",
    "from sklearn.feature_extraction.text import CountVectorizer\n",
    "from sklearn.cluster import DBSCAN\n",
    "from sklearn.cluster import OPTICS\n",
    "from sklearn.cluster import KMeans\n",
    "from sklearn.preprocessing import StandardScaler\n",
    "from itertools import compress\n",
    "from random import sample as random_sample\n"
   ]
  },
  {
   "cell_type": "markdown",
   "metadata": {},
   "source": [
    "#### Load Recipes Data"
   ]
  },
  {
   "cell_type": "code",
   "execution_count": 90,
   "metadata": {
    "collapsed": true,
    "pycharm": {
     "is_executing": false
    }
   },
   "outputs": [],
   "source": [
    "recipes = json.load(open('./data/recipe_train.json'))"
   ]
  },
  {
   "cell_type": "markdown",
   "source": [
    "#### Convert recipe to text document"
   ],
   "metadata": {
    "collapsed": false,
    "pycharm": {
     "name": "#%% md\n",
     "is_executing": false
    }
   }
  },
  {
   "cell_type": "code",
   "execution_count": 91,
   "metadata": {
    "collapsed": true,
    "pycharm": {
     "is_executing": false
    }
   },
   "outputs": [],
   "source": [
    "recipes_as_doc = {}\n",
    "\n",
    "for sample in recipes:\n",
    "    key = sample['cuisine']\n",
    "    # If key is in the dictionary, return its value. If not, insert key with a value of default and return default.\n",
    "    recipes_as_doc.setdefault(key,[]).append(' '.join(sample['ingredients']).lower())\n",
    "\n",
    "# create a single list with all the documents\n",
    "all_docs = []\n",
    "for k, v in recipes_as_doc.items():\n",
    "   all_docs.append(' '.join(v))"
   ]
  },
  {
   "cell_type": "markdown",
   "source": [
    "#### Tfidf vectorizer for text data"
   ]
  },
  {
   "cell_type": "code",
   "execution_count": 92,
   "metadata": {
    "collapsed": false,
    "pycharm": {
     "name": "#%%\n",
     "is_executing": false
    }
   },
   "outputs": [],
   "source": [
    "# code adapted from https://programminghistorian.org/en/lessons/analyzing-documents-with-tfidf\n",
    "\n",
    "vectorizer = TfidfVectorizer(use_idf=True)\n",
    "transformed_documents = vectorizer.fit_transform(all_docs)"
   ]
  },
  {
   "cell_type": "markdown",
   "source": [
    "#### Analyze results"
   ],
   "metadata": {
    "collapsed": false
   }
  },
  {
   "cell_type": "code",
   "execution_count": 93,
   "outputs": [
    {
     "name": "stdout",
     "text": [
      "greek southern_us filipino indian jamaican spanish italian mexican chinese british thai vietnamese cajun_creole brazilian french japanese irish korean moroccan russian "
     ],
     "output_type": "stream"
    }
   ],
   "source": [
    "transformed_documents_as_array = transformed_documents.toarray()\n",
    "len(transformed_documents_as_array)\n",
    "docs_scores_dfs = {}\n",
    "\n",
    "# loop each item in transformed_documents_as_array, using enumerate to keep track of the current position\n",
    "for counter, doc in enumerate(transformed_documents_as_array):\n",
    "    # construct a data frame\n",
    "    tf_idf_tuples = list(zip(vectorizer.get_feature_names(), doc))\n",
    "    one_doc_as_df = pd.DataFrame\\\n",
    "        .from_records(tf_idf_tuples, columns=['term', 'score'])\\\n",
    "        .sort_values(by='score', ascending=False)\\\n",
    "        .reset_index(drop=True)\n",
    "    docs_scores_dfs[list(recipes_as_doc.keys())[counter]] = one_doc_as_df\n",
    "\n",
    "    print(list(recipes_as_doc.keys())[counter], end=' ')\n",
    "    # print(one_doc_as_df)\n",
    "    # output to a csv using the enumerated value for the filename\n",
    "    #one_doc_as_df.to_csv(\"tf.idf\" + counter.__str__() + \".csv\")"
   ],
   "metadata": {
    "collapsed": false,
    "pycharm": {
     "name": "#%%\n",
     "is_executing": false
    }
   }
  },
  {
   "cell_type": "markdown",
   "source": [
    "#### Statistics of Scores"
   ],
   "metadata": {
    "collapsed": false,
    "pycharm": {
     "name": "#%% md\n"
    }
   }
  },
  {
   "cell_type": "code",
   "execution_count": 94,
   "outputs": [
    {
     "data": {
      "text/plain": "Text(0, 0.5, 'Number of Therms')"
     },
     "metadata": {},
     "output_type": "execute_result",
     "execution_count": 94
    },
    {
     "data": {
      "text/plain": "<Figure size 432x288 with 1 Axes>",
      "image/png": "[encoded data removed]"
     },
     "metadata": {
      "needs_background": "light"
     },
     "output_type": "display_data"
    }
   ],
   "source": [
    "statistics = {}\n",
    "for k in docs_scores_dfs.keys():\n",
    "    df = docs_scores_dfs[k]\n",
    "    scores = df['score']\n",
    "    scores = scores.loc[scores>0.0]\n",
    "    statistics[k] = [scores.mean(), scores.max(), scores.min(), df['score'].astype(bool).sum(axis=0)]\n",
    "\n",
    "irish_scores = docs_scores_dfs[\"irish\"][\"score\"]\n",
    "irish_scores = irish_scores.loc[irish_scores>0.0]\n",
    "plt.hist(irish_scores, color = 'blue', edgecolor = 'black', bins=300)\n",
    "plt.title('Histogram of Scores')\n",
    "plt.xlabel('Frequency')\n",
    "plt.ylabel('Number of Therms')\n",
    "# print(statistics)"
   ],
   "metadata": {
    "collapsed": false,
    "pycharm": {
     "name": "#%%\n",
     "is_executing": false
    }
   }
  },
  {
   "cell_type": "markdown",
   "source": [
    "#### Top 10 therms per cuisine"
   ],
   "metadata": {
    "collapsed": false,
    "pycharm": {
     "name": "#%% md\n"
    }
   }
  },
  {
   "cell_type": "code",
   "execution_count": 95,
   "outputs": [
    {
     "name": "stdout",
     "text": [
      "-------------\n",
      "greek\n",
      "        term     score\n",
      "0      fresh  0.297130\n",
      "1     pepper  0.294340\n",
      "2        oil  0.287714\n",
      "3       salt  0.260512\n",
      "4      olive  0.260163\n",
      "5       feta  0.231165\n",
      "6     ground  0.226684\n",
      "7      lemon  0.224591\n",
      "8     garlic  0.220058\n",
      "9     cheese  0.202621\n",
      "10   oregano  0.162209\n",
      "11     juice  0.155540\n",
      "12     dried  0.152750\n",
      "13  tomatoes  0.147868\n",
      "14     black  0.139847\n",
      "-------------\n",
      "southern_us\n",
      "       term     score\n",
      "0      salt  0.374617\n",
      "1    pepper  0.329929\n",
      "2     sugar  0.285364\n",
      "3    butter  0.265297\n",
      "4     flour  0.227380\n",
      "5    ground  0.189832\n",
      "6      eggs  0.170627\n",
      "7    powder  0.160286\n",
      "8       oil  0.157209\n",
      "9       all  0.155608\n",
      "10  purpose  0.155608\n",
      "11   baking  0.151546\n",
      "12     milk  0.137758\n",
      "13    black  0.124462\n",
      "14   garlic  0.121507\n",
      "-------------\n",
      "filipino\n",
      "       term     score\n",
      "0     sauce  0.327662\n",
      "1    garlic  0.325087\n",
      "2    pepper  0.323156\n",
      "3      salt  0.309637\n",
      "4       oil  0.306418\n",
      "5    onions  0.252988\n",
      "6     water  0.224020\n",
      "7     sugar  0.205352\n",
      "8       soy  0.186683\n",
      "9    ground  0.173165\n",
      "10  chicken  0.158359\n",
      "11     pork  0.136472\n",
      "12    black  0.133897\n",
      "13     milk  0.122954\n",
      "14  vinegar  0.110723\n",
      "-------------\n",
      "indian\n",
      "         term     score\n",
      "0      ground  0.356060\n",
      "1        salt  0.304793\n",
      "2         oil  0.259010\n",
      "3      garlic  0.208764\n",
      "4       fresh  0.208637\n",
      "5       cumin  0.199327\n",
      "6      masala  0.198498\n",
      "7      powder  0.191293\n",
      "8      ginger  0.188105\n",
      "9       garam  0.181433\n",
      "10     pepper  0.180198\n",
      "11     onions  0.165022\n",
      "12  coriander  0.147295\n",
      "13   cilantro  0.133140\n",
      "14      seeds  0.132502\n",
      "-------------\n",
      "jamaican\n",
      "        term     score\n",
      "0     pepper  0.431094\n",
      "1     ground  0.384930\n",
      "2       salt  0.289763\n",
      "3     garlic  0.222294\n",
      "4      thyme  0.220477\n",
      "5        oil  0.191755\n",
      "6     onions  0.178971\n",
      "7      black  0.160506\n",
      "8      fresh  0.156955\n",
      "9   allspice  0.152350\n",
      "10     water  0.149143\n",
      "11     sugar  0.144882\n",
      "12    powder  0.141331\n",
      "13   chicken  0.122865\n",
      "14     sauce  0.122865\n",
      "-------------\n",
      "spanish\n",
      "        term     score\n",
      "0     pepper  0.384981\n",
      "1        oil  0.327947\n",
      "2       salt  0.298984\n",
      "3      olive  0.289627\n",
      "4     garlic  0.250416\n",
      "5      fresh  0.205412\n",
      "6        red  0.181351\n",
      "7     cloves  0.163973\n",
      "8     ground  0.160854\n",
      "9   tomatoes  0.154616\n",
      "10    onions  0.134565\n",
      "11      wine  0.120307\n",
      "12      bell  0.117633\n",
      "13   chicken  0.116296\n",
      "14     extra  0.114960\n",
      "-------------\n",
      "italian\n",
      "        term     score\n",
      "0     cheese  0.340284\n",
      "1     pepper  0.319518\n",
      "2        oil  0.300257\n",
      "3       salt  0.282442\n",
      "4      fresh  0.265436\n",
      "5      olive  0.264106\n",
      "6     garlic  0.241605\n",
      "7     ground  0.172542\n",
      "8   parmesan  0.148991\n",
      "9      black  0.143216\n",
      "10  tomatoes  0.143043\n",
      "11    grated  0.119675\n",
      "12       red  0.118749\n",
      "13     basil  0.115973\n",
      "14    cloves  0.112329\n",
      "-------------\n",
      "mexican\n",
      "         term     score\n",
      "0      pepper  0.296588\n",
      "1        salt  0.267985\n",
      "2      ground  0.238020\n",
      "3      garlic  0.219564\n",
      "4      cheese  0.203900\n",
      "5         oil  0.202811\n",
      "6    cilantro  0.190280\n",
      "7       fresh  0.176863\n",
      "8     chicken  0.167738\n",
      "9        lime  0.163493\n",
      "10     onions  0.161404\n",
      "11     powder  0.160178\n",
      "12  tortillas  0.160102\n",
      "13   tomatoes  0.159497\n",
      "14      black  0.153436\n",
      "-------------\n",
      "chinese\n",
      "       term     score\n",
      "0     sauce  0.437906\n",
      "1       oil  0.383423\n",
      "2       soy  0.286323\n",
      "3    garlic  0.215891\n",
      "4    pepper  0.200962\n",
      "5    sesame  0.199125\n",
      "6    ginger  0.189224\n",
      "7     sugar  0.181057\n",
      "8   chicken  0.169829\n",
      "9      rice  0.159366\n",
      "10     salt  0.156176\n",
      "11   onions  0.145714\n",
      "12    water  0.144055\n",
      "13    fresh  0.130530\n",
      "14     corn  0.128233\n",
      "-------------\n",
      "british\n",
      "        term     score\n",
      "0       salt  0.349949\n",
      "1      flour  0.317950\n",
      "2      sugar  0.309099\n",
      "3     butter  0.296844\n",
      "4       eggs  0.217186\n",
      "5     ground  0.212421\n",
      "6       milk  0.195400\n",
      "7     pepper  0.187230\n",
      "8      cream  0.182464\n",
      "9        all  0.168847\n",
      "10   purpose  0.168166\n",
      "11    baking  0.145699\n",
      "12       oil  0.136848\n",
      "13  unsalted  0.131401\n",
      "14    powder  0.121869\n",
      "-------------\n",
      "thai\n",
      "        term     score\n",
      "0      sauce  0.363711\n",
      "1      fresh  0.292176\n",
      "2       lime  0.261182\n",
      "3        oil  0.236289\n",
      "4     garlic  0.214158\n",
      "5       fish  0.195066\n",
      "6      sugar  0.193368\n",
      "7        red  0.185768\n",
      "8     pepper  0.183756\n",
      "9       thai  0.179264\n",
      "10   chicken  0.169896\n",
      "11   coconut  0.166095\n",
      "12  cilantro  0.163189\n",
      "13      rice  0.145976\n",
      "14      milk  0.141282\n",
      "-------------\n",
      "vietnamese\n",
      "        term     score\n",
      "0      sauce  0.421427\n",
      "1      sugar  0.249025\n",
      "2      fresh  0.248113\n",
      "3     garlic  0.247201\n",
      "4        oil  0.240815\n",
      "5       fish  0.234388\n",
      "6       rice  0.217555\n",
      "7     pepper  0.195206\n",
      "8       lime  0.178422\n",
      "9       salt  0.177419\n",
      "10  cilantro  0.153246\n",
      "11     water  0.135915\n",
      "12    onions  0.133178\n",
      "13    leaves  0.129530\n",
      "14    ground  0.123600\n",
      "-------------\n",
      "cajun_creole\n",
      "         term     score\n",
      "0      pepper  0.517158\n",
      "1      garlic  0.226017\n",
      "2        salt  0.223313\n",
      "3       green  0.196497\n",
      "4      onions  0.195145\n",
      "5         oil  0.185005\n",
      "6     chicken  0.166752\n",
      "7       cajun  0.157876\n",
      "8        bell  0.156837\n",
      "9      ground  0.153232\n",
      "10      sauce  0.149626\n",
      "11  seasoning  0.141063\n",
      "12     celery  0.139486\n",
      "13        red  0.125064\n",
      "14       rice  0.121008\n",
      "-------------\n",
      "brazilian\n",
      "        term     score\n",
      "0     pepper  0.346752\n",
      "1        oil  0.284544\n",
      "2       salt  0.279936\n",
      "3    cachaca  0.270255\n",
      "4       milk  0.263808\n",
      "5     garlic  0.223488\n",
      "6       lime  0.198146\n",
      "7     onions  0.185472\n",
      "8      sugar  0.172800\n",
      "9    coconut  0.163584\n",
      "10     black  0.158976\n",
      "11     olive  0.153216\n",
      "12    ground  0.147456\n",
      "13     fresh  0.147456\n",
      "14  tomatoes  0.133632\n",
      "-------------\n",
      "french\n",
      "      term     score\n",
      "0     salt  0.332754\n",
      "1    fresh  0.274369\n",
      "2   pepper  0.243952\n",
      "3   butter  0.237623\n",
      "4    sugar  0.235990\n",
      "5      oil  0.210472\n",
      "6   ground  0.176788\n",
      "7    large  0.176176\n",
      "8    flour  0.163927\n",
      "9    olive  0.161682\n",
      "10  garlic  0.158824\n",
      "11   black  0.148208\n",
      "12   cream  0.142696\n",
      "13    wine  0.135347\n",
      "14   water  0.134939\n",
      "-------------\n",
      "japanese\n",
      "      term     score\n",
      "0    sauce  0.331914\n",
      "1      oil  0.321564\n",
      "2    mirin  0.281935\n",
      "3      soy  0.278023\n",
      "4    sugar  0.231626\n",
      "5     salt  0.206643\n",
      "6     rice  0.197721\n",
      "7   sesame  0.194641\n",
      "8     sake  0.190536\n",
      "9    water  0.170954\n",
      "10  ginger  0.164530\n",
      "11  onions  0.141688\n",
      "12   fresh  0.138476\n",
      "13    miso  0.136929\n",
      "14  pepper  0.129554\n",
      "-------------\n",
      "irish\n",
      "        term     score\n",
      "0       salt  0.379941\n",
      "1      flour  0.282265\n",
      "2     butter  0.278954\n",
      "3      sugar  0.251638\n",
      "4     pepper  0.233428\n",
      "5     baking  0.211078\n",
      "6   potatoes  0.195351\n",
      "7        all  0.187073\n",
      "8    purpose  0.187073\n",
      "9     ground  0.183762\n",
      "10      milk  0.153963\n",
      "11     cream  0.144030\n",
      "12    onions  0.143202\n",
      "13      eggs  0.139063\n",
      "14     fresh  0.137408\n",
      "-------------\n",
      "korean\n",
      "         term     score\n",
      "0      sesame  0.407496\n",
      "1         oil  0.353020\n",
      "2       sauce  0.291079\n",
      "3      garlic  0.276785\n",
      "4      onions  0.243433\n",
      "5         soy  0.235636\n",
      "6      pepper  0.232604\n",
      "7       sugar  0.211379\n",
      "8        rice  0.179326\n",
      "9        salt  0.164599\n",
      "10      seeds  0.159401\n",
      "11      green  0.149005\n",
      "12     ginger  0.138609\n",
      "13  gochujang  0.132708\n",
      "14      water  0.120417\n",
      "-------------\n",
      "moroccan\n",
      "        term     score\n",
      "0     ground  0.538075\n",
      "1     pepper  0.262753\n",
      "2      fresh  0.254113\n",
      "3        oil  0.252542\n",
      "4       salt  0.236439\n",
      "5      olive  0.212873\n",
      "6     garlic  0.177525\n",
      "7      cumin  0.177525\n",
      "8      lemon  0.176347\n",
      "9   cinnamon  0.162208\n",
      "10   chicken  0.142570\n",
      "11   chopped  0.123325\n",
      "12    onions  0.119790\n",
      "13    ginger  0.112721\n",
      "14  cilantro  0.112328\n",
      "-------------\n",
      "russian\n",
      "      term     score\n",
      "0     salt  0.375552\n",
      "1    sugar  0.272438\n",
      "2    flour  0.257243\n",
      "3   butter  0.232278\n",
      "4   pepper  0.229022\n",
      "5     eggs  0.222509\n",
      "6    cream  0.196459\n",
      "7      oil  0.187776\n",
      "8    water  0.181264\n",
      "9   onions  0.181264\n",
      "10  ground  0.172580\n",
      "11   fresh  0.163897\n",
      "12    dill  0.145939\n",
      "13    sour  0.144573\n",
      "14     all  0.140018\n"
     ],
     "output_type": "stream"
    }
   ],
   "source": [
    "for k in docs_scores_dfs.keys():\n",
    "    scores_df = docs_scores_dfs[k]\n",
    "    print('-------------')\n",
    "    print(k)\n",
    "    print(scores_df.iloc[:15,:])\n"
   ],
   "metadata": {
    "collapsed": false,
    "pycharm": {
     "name": "#%%\n",
     "is_executing": false
    }
   }
  },
  {
   "cell_type": "markdown",
   "source": [
    "#### Load Baskets Market Data"
   ],
   "metadata": {
    "collapsed": false,
    "pycharm": {
     "name": "#%% md\n"
    }
   }
  },
  {
   "cell_type": "code",
   "execution_count": 96,
   "outputs": [],
   "source": [
    "baskets = []\n",
    "with open('./data/groceries.csv', newline=None) as f:\n",
    "  reader = csv.reader(f)\n",
    "  for row in reader:\n",
    "    baskets.append([elem.replace(' ', '-') for elem in row])"
   ],
   "metadata": {
    "collapsed": false,
    "pycharm": {
     "name": "#%%\n",
     "is_executing": false
    }
   }
  },
  {
   "cell_type": "markdown",
   "source": [
    "#### Compute ngram for tf.idf top score "
   ],
   "metadata": {
    "collapsed": false
   }
  },
  {
   "cell_type": "code",
   "execution_count": 97,
   "outputs": [],
   "source": [
    "top_scores_ngram = {}\n",
    "CUISINE_TOP_SCORE_THRESHOLD = 0.1\n",
    "for cuisine in docs_scores_dfs.keys():\n",
    "    scores_df = docs_scores_dfs[cuisine]\n",
    "    scores_df = scores_df[scores_df['score']>CUISINE_TOP_SCORE_THRESHOLD]\n",
    "    scores_df = scores_df.sort_values(by=['score'],ascending=False)\n",
    "    \n",
    "    ngram_scores = []\n",
    "    for index, row in scores_df.iterrows():\n",
    "        ngram = list(ngrams(row['term'], 3))\n",
    "        score =  row['score']\n",
    "        ngram_scores.append([ngram, score])\n",
    "        \n",
    "    top_scores_ngram[cuisine] = ngram_scores"
   ],
   "metadata": {
    "collapsed": false,
    "pycharm": {
     "name": "#%%\n",
     "is_executing": false
    }
   }
  },
  {
   "cell_type": "markdown",
   "source": [
    "#### Define the metric similarity"
   ],
   "metadata": {
    "collapsed": false
   }
  },
  {
   "cell_type": "code",
   "execution_count": 98,
   "outputs": [],
   "source": [
    "def jaccard_distance(a, b):\n",
    "    \"\"\"Calculate the jaccard distance between sets A and B\"\"\"\n",
    "    a = set(a)\n",
    "    b = set(b)\n",
    "    return 1.0 * len(a&b)/len(a|b)"
   ],
   "metadata": {
    "collapsed": false,
    "pycharm": {
     "name": "#%%\n",
     "is_executing": false
    }
   }
  },
  {
   "cell_type": "markdown",
   "source": [
    "#### Compute Basket Scores\n",
    "For each basket we iterate over all items and compute their similarities with the top \n",
    "terms in the cuisines docs"
   ],
   "metadata": {
    "collapsed": false
   }
  },
  {
   "cell_type": "code",
   "execution_count": 99,
   "outputs": [],
   "source": [
    "baskets_scores = []\n",
    "\n",
    "for basket in baskets:\n",
    "    similarities = {}\n",
    "    for cuisine in top_scores_ngram:\n",
    "        value = 0\n",
    "        sims = 0\n",
    "        for item in basket:      \n",
    "            item_ngram = list(ngrams(item, 3))\n",
    "            for ngram_term, score in top_scores_ngram[cuisine]:\n",
    "                sim = jaccard_distance(item_ngram, ngram_term)\n",
    "                if sim > 0.2:\n",
    "                    value += sim * score\n",
    "                    sims += sim\n",
    "        if sims != 0:\n",
    "            value = value/sims\n",
    "        else:\n",
    "            value=0\n",
    "                    \n",
    "        similarities[cuisine] = value    \n",
    "    baskets_scores.append(similarities)\n",
    "           \n",
    "    # print('------------------')\n",
    "    # print(\"basket: \", basket)\n",
    "    # for k in similarities:\n",
    "    #     print(k, similarities[k]) \n",
    "baskets_scores_df = pd.DataFrame(baskets_scores)\n",
    "baskets_scores_df=(baskets_scores_df-baskets_scores_df.mean())/baskets_scores_df.std()"
   ],
   "metadata": {
    "collapsed": false,
    "pycharm": {
     "name": "#%%\n",
     "is_executing": false
    }
   }
  },
  {
   "cell_type": "markdown",
   "source": [
    "#### CLustering baskets\n",
    "We now try to cluster the baskets, based on the scores that they \n",
    "obtained using frequent therms of recipes"
   ],
   "metadata": {
    "collapsed": false,
    "pycharm": {
     "name": "#%% md\n"
    }
   }
  },
  {
   "cell_type": "code",
   "execution_count": 100,
   "outputs": [],
   "source": [
    "X = StandardScaler().fit_transform(baskets_scores_df.to_numpy())"
   ],
   "metadata": {
    "collapsed": false,
    "pycharm": {
     "name": "#%%\n",
     "is_executing": false
    }
   }
  },
  {
   "cell_type": "code",
   "execution_count": 101,
   "outputs": [
    {
     "name": "stdout",
     "text": [
      "{0, 1, 2, -1}\n"
     ],
     "output_type": "stream"
    },
    {
     "name": "stderr",
     "text": [
      "/home/nepotu/anaconda3/envs/dataMiningProject/lib/python3.7/site-packages/sklearn/cluster/_optics.py:802: RuntimeWarning: divide by zero encountered in true_divide\n",
      "  ratio = reachability_plot[:-1] / reachability_plot[1:]\n"
     ],
     "output_type": "stream"
    }
   ],
   "source": [
    "# OPTICS\n",
    "optics = OPTICS(min_samples=50, max_eps=0.1, xi=.05, min_cluster_size=.05)\n",
    "optics.fit(X)\n",
    "optics_labels = optics.labels_[optics.ordering_]\n",
    "print(set(optics_labels))"
   ],
   "metadata": {
    "collapsed": false,
    "pycharm": {
     "name": "#%%\n",
     "is_executing": false
    }
   }
  },
  {
   "cell_type": "code",
   "execution_count": 130,
   "outputs": [
    {
     "name": "stdout",
     "text": [
      "{0, 1, 2, 3, 4, 5, 6}\n"
     ],
     "output_type": "stream"
    }
   ],
   "source": [
    "# K-Means\n",
    "kMeans = KMeans(n_clusters=7, random_state=0).fit(X)\n",
    "kMeans_labels = kMeans.labels_\n",
    "print(set(kMeans_labels))"
   ],
   "metadata": {
    "collapsed": false,
    "pycharm": {
     "name": "#%%\n",
     "is_executing": false
    }
   }
  },
  {
   "cell_type": "code",
   "execution_count": 127,
   "outputs": [
    {
     "name": "stdout",
     "text": [
      "{0, 1, 2, 3, 4, -1}\n",
      "[0.35, 200]\n"
     ],
     "output_type": "stream"
    }
   ],
   "source": [
    "# DBSCAN \n",
    "from sklearn.metrics import jaccard_score\n",
    "[eps, min_samples] = [0.35, 200]\n",
    "dbScan = DBSCAN(eps=eps, min_samples=min_samples, metric='euclidean').fit(X)\n",
    "dbScan_labels = dbScan.labels_\n",
    "print(set(dbScan_labels))\n",
    "print([eps, min_samples])\n"
   ],
   "metadata": {
    "collapsed": false,
    "pycharm": {
     "name": "#%%\n",
     "is_executing": false
    }
   }
  },
  {
   "cell_type": "markdown",
   "source": [
    "#### Analysis of the method\n",
    "Observe size of created basket clusters"
   ],
   "metadata": {
    "collapsed": false,
    "pycharm": {
     "name": "#%% md\n"
    }
   }
  },
  {
   "cell_type": "code",
   "execution_count": 131,
   "outputs": [
    {
     "data": {
      "text/plain": "<matplotlib.axes._subplots.AxesSubplot at 0x7fe641a85850>"
     },
     "metadata": {},
     "output_type": "execute_result",
     "execution_count": 131
    },
    {
     "data": {
      "text/plain": "<Figure size 432x288 with 1 Axes>",
      "image/png": "[encoded data removed]"
     },
     "metadata": {
      "needs_background": "light"
     },
     "output_type": "display_data"
    }
   ],
   "source": [
    "labels = kMeans_labels\n",
    "cluster_sizes = []\n",
    "for label in sorted(set(labels)):\n",
    "    cluster_sizes.append([label, len(baskets_scores_df[labels == label])])\n",
    "pd.DataFrame(cluster_sizes).plot(kind='bar')"
   ],
   "metadata": {
    "collapsed": false,
    "pycharm": {
     "name": "#%%\n",
     "is_executing": false
    }
   }
  },
  {
   "cell_type": "markdown",
   "source": [
    "Select one cluster and calculate its overall score (by summing\n",
    "all scores of all items of that cluster)"
   ],
   "metadata": {
    "collapsed": false,
    "pycharm": {
     "name": "#%% md\n"
    }
   }
  },
  {
   "cell_type": "code",
   "execution_count": 132,
   "outputs": [
    {
     "name": "stdout",
     "text": [
      "Cluster  0\n",
      "#Baskets:  4629\n",
      "spanish        -0.369603\n",
      "moroccan       -0.390361\n",
      "cajun_creole   -0.474739\n",
      "korean         -0.493743\n",
      "greek          -0.503640\n",
      "italian        -0.505883\n",
      "indian         -0.509597\n",
      "vietnamese     -0.518737\n",
      "japanese       -0.520768\n",
      "chinese        -0.532853\n",
      "mexican        -0.588595\n",
      "thai           -0.703392\n",
      "french         -0.707409\n",
      "irish          -0.790398\n",
      "filipino       -0.805102\n",
      "jamaican       -0.823959\n",
      "brazilian      -0.840716\n",
      "russian        -0.855178\n",
      "british        -0.874847\n",
      "southern_us    -0.903734\n",
      "dtype: float64\n",
      "Cluster  1\n",
      "#Baskets:  693\n",
      "spanish         3.121545\n",
      "moroccan        3.079034\n",
      "indian          2.702567\n",
      "greek           2.306981\n",
      "japanese        2.253839\n",
      "korean          2.230419\n",
      "cajun_creole    2.215628\n",
      "chinese         2.125302\n",
      "jamaican        2.088742\n",
      "mexican         2.022174\n",
      "french          1.932911\n",
      "filipino        1.930232\n",
      "vietnamese      1.862744\n",
      "italian         1.831735\n",
      "russian         1.783702\n",
      "southern_us     1.773540\n",
      "irish           1.468550\n",
      "brazilian       1.407240\n",
      "british         1.322882\n",
      "thai            1.234766\n",
      "dtype: float64\n",
      "Cluster  2\n",
      "#Baskets:  1337\n",
      "brazilian       1.365950\n",
      "thai            0.919978\n",
      "british         0.850548\n",
      "southern_us     0.633747\n",
      "irish           0.609953\n",
      "jamaican        0.554576\n",
      "filipino        0.418635\n",
      "russian         0.257805\n",
      "spanish        -0.354813\n",
      "indian         -0.374614\n",
      "moroccan       -0.390361\n",
      "greek          -0.413634\n",
      "cajun_creole   -0.452084\n",
      "vietnamese     -0.469236\n",
      "korean         -0.482041\n",
      "italian        -0.505883\n",
      "mexican        -0.512628\n",
      "japanese       -0.512731\n",
      "chinese        -0.518902\n",
      "french         -0.662422\n",
      "dtype: float64\n",
      "Cluster  3\n",
      "#Baskets:  871\n",
      "mexican         1.353641\n",
      "cajun_creole    1.353353\n",
      "chinese         1.314999\n",
      "moroccan        1.152998\n",
      "vietnamese      1.117753\n",
      "filipino        1.078582\n",
      "korean          1.016745\n",
      "jamaican        1.003510\n",
      "thai            0.923784\n",
      "indian          0.899581\n",
      "spanish         0.802672\n",
      "japanese        0.771293\n",
      "italian         0.748223\n",
      "greek           0.629988\n",
      "russian         0.613401\n",
      "french          0.591602\n",
      "brazilian       0.476181\n",
      "southern_us     0.466608\n",
      "irish           0.431103\n",
      "british         0.396885\n",
      "dtype: float64\n",
      "Cluster  4\n",
      "#Baskets:  518\n",
      "french          1.516116\n",
      "british         1.406347\n",
      "irish           1.380831\n",
      "russian         1.239237\n",
      "southern_us     1.090968\n",
      "cajun_creole    0.692474\n",
      "brazilian       0.214339\n",
      "thai            0.091884\n",
      "jamaican       -0.128125\n",
      "mexican        -0.144363\n",
      "filipino       -0.217027\n",
      "indian         -0.321271\n",
      "spanish        -0.357488\n",
      "greek          -0.377182\n",
      "moroccan       -0.390361\n",
      "korean         -0.466047\n",
      "japanese       -0.498241\n",
      "vietnamese     -0.504419\n",
      "italian        -0.505883\n",
      "chinese        -0.524058\n",
      "dtype: float64\n",
      "Cluster  5\n",
      "#Baskets:  965\n",
      "japanese        1.601497\n",
      "vietnamese      1.464537\n",
      "chinese         1.286105\n",
      "filipino        1.270900\n",
      "korean          1.186286\n",
      "russian         1.071782\n",
      "jamaican        1.040267\n",
      "french          0.972100\n",
      "southern_us     0.762940\n",
      "indian          0.698209\n",
      "british         0.687730\n",
      "irish           0.536102\n",
      "brazilian       0.483003\n",
      "thai            0.276110\n",
      "cajun_creole   -0.216871\n",
      "spanish        -0.348001\n",
      "moroccan       -0.390361\n",
      "greek          -0.398411\n",
      "mexican        -0.461797\n",
      "italian        -0.491602\n",
      "dtype: float64\n",
      "Cluster  6\n",
      "#Baskets:  822\n",
      "italian         2.230468\n",
      "mexican         1.642358\n",
      "greek           1.601910\n",
      "french          0.708074\n",
      "southern_us     0.485681\n",
      "british         0.313735\n",
      "irish           0.264524\n",
      "russian         0.203602\n",
      "brazilian       0.119591\n",
      "thai            0.062825\n",
      "cajun_creole   -0.074960\n",
      "spanish        -0.189880\n",
      "jamaican       -0.226773\n",
      "filipino       -0.272498\n",
      "moroccan       -0.280088\n",
      "indian         -0.369811\n",
      "vietnamese     -0.471813\n",
      "korean         -0.492207\n",
      "japanese       -0.516916\n",
      "chinese        -0.520047\n",
      "dtype: float64\n"
     ],
     "output_type": "stream"
    }
   ],
   "source": [
    "for selected_basket_cluster in set(labels):\n",
    "    print(\"Cluster \", selected_basket_cluster)\n",
    "    selected_basket_scores = baskets_scores_df[labels == selected_basket_cluster]\n",
    "    print(\"#Baskets: \", selected_basket_scores.shape[0])\n",
    "    aggregated_basket_cluster_score \\\n",
    "        = np.mean(selected_basket_scores, axis=0)\\\n",
    "        .sort_values(ascending=False)\n",
    "    selected_baskets = list(compress(baskets, labels == selected_basket_cluster))\n",
    "    selected_baskets = [' '.join(l) for l in selected_baskets]\n",
    "    aggregated_basket_cluster_score = aggregated_basket_cluster_score[0:50]\n",
    "    print(aggregated_basket_cluster_score)"
   ],
   "metadata": {
    "collapsed": false,
    "pycharm": {
     "name": "#%%\n",
     "is_executing": false
    }
   }
  },
  {
   "cell_type": "markdown",
   "source": [
    "#### Baseline method - K-means\n",
    "Now we will implement the baseline algorithm to compare our method with. \n",
    "A KNN method will be used. We will try to find the best K by trial and error based on the\n",
    "coherence of the results because there are not many possible Ks for the given dataset."
   ],
   "metadata": {
    "collapsed": false,
    "pycharm": {
     "name": "#%% md\n"
    }
   }
  },
  {
   "cell_type": "code",
   "source": [
    "baskets_as_docs = [' '.join(basket) for basket in baskets]\n",
    "X_Baskets = vectorizer.fit_transform(baskets_as_docs)\n",
    "model = KMeans(n_clusters=10, init='k-means++', max_iter=100, n_init=1)\n",
    "model.fit(X_Baskets)\n",
    "\n",
    "print(\"Top terms per cluster:\")\n",
    "order_centroids = model.cluster_centers_.argsort()[:, ::-1]\n",
    "terms = vectorizer.get_feature_names()\n",
    "baseline_labels = set(model.labels_)\n",
    "for i in baseline_labels:\n",
    "    print(\"Cluster %d:\" % i),\n",
    "    for ind in order_centroids[i, :10]:\n",
    "        print(' %s' % terms[ind])"
   ],
   "metadata": {
    "collapsed": false,
    "pycharm": {
     "name": "#%%\n",
     "is_executing": false
    }
   },
   "execution_count": 108,
   "outputs": [
    {
     "name": "stdout",
     "text": [
      "Top terms per cluster:\n",
      "Cluster 0:\n",
      " chocolate\n",
      " bags\n",
      " shopping\n",
      " specialty\n",
      " yogurt\n",
      " newspapers\n",
      " bread\n",
      " pastry\n",
      " beverages\n",
      " sausage\n",
      "Cluster 1:\n",
      " fruit\n",
      " juice\n",
      " vegetable\n",
      " tropical\n",
      " pip\n",
      " citrus\n",
      " milk\n",
      " vegetables\n",
      " yogurt\n",
      " whole\n",
      "Cluster 2:\n",
      " vegetables\n",
      " other\n",
      " root\n",
      " milk\n",
      " whole\n",
      " fruit\n",
      " frozen\n",
      " yogurt\n",
      " cheese\n",
      " bread\n",
      "Cluster 3:\n",
      " water\n",
      " bottled\n",
      " milk\n",
      " soda\n",
      " whole\n",
      " beer\n",
      " fruit\n",
      " rolls\n",
      " buns\n",
      " vegetables\n",
      "Cluster 4:\n",
      " buns\n",
      " rolls\n",
      " soda\n",
      " milk\n",
      " sausage\n",
      " whole\n",
      " cheese\n",
      " frankfurter\n",
      " vegetables\n",
      " yogurt\n",
      "Cluster 5:\n",
      " cream\n",
      " sour\n",
      " whipped\n",
      " vegetables\n",
      " milk\n",
      " fruit\n",
      " whole\n",
      " ice\n",
      " other\n",
      " cheese\n",
      "Cluster 6:\n",
      " beer\n",
      " canned\n",
      " bottled\n",
      " soda\n",
      " shopping\n",
      " bags\n",
      " liquor\n",
      " newspapers\n",
      " rolls\n",
      " buns\n",
      "Cluster 7:\n",
      " soda\n",
      " pastry\n",
      " chocolate\n",
      " specialty\n",
      " beverages\n",
      " bar\n",
      " sausage\n",
      " frankfurter\n",
      " waffles\n",
      " frozen\n",
      "Cluster 8:\n",
      " milk\n",
      " whole\n",
      " butter\n",
      " pastry\n",
      " bread\n",
      " yogurt\n",
      " newspapers\n",
      " fruit\n",
      " brown\n",
      " soda\n",
      "Cluster 9:\n",
      " coffee\n",
      " milk\n",
      " instant\n",
      " whole\n",
      " buns\n",
      " rolls\n",
      " bags\n",
      " vegetables\n",
      " shopping\n",
      " fruit\n"
     ],
     "output_type": "stream"
    }
   ]
  },
  {
   "cell_type": "markdown",
   "source": [
    "#### Compute Scores of Baskets created using K-Means\n",
    "For the created clusters of baskets using the baseline method, \n",
    "we calculate its scores in terms of similarity with the terms\n",
    "that scored high TF-IDF for the cuisines "
   ],
   "metadata": {
    "collapsed": false
   }
  },
  {
   "cell_type": "code",
   "execution_count": 120,
   "outputs": [
    {
     "name": "stdout",
     "text": [
      "brazilian      -0.317046\n",
      "irish          -0.239462\n",
      "british        -0.239441\n",
      "filipino       -0.226260\n",
      "jamaican       -0.216907\n",
      "russian        -0.197133\n",
      "southern_us    -0.181273\n",
      "thai           -0.171630\n",
      "japanese       -0.093506\n",
      "chinese        -0.085920\n",
      "vietnamese     -0.068039\n",
      "french         -0.062963\n",
      "korean         -0.060091\n",
      "indian         -0.038141\n",
      "italian        -0.000144\n",
      "mexican         0.010029\n",
      "greek           0.023004\n",
      "cajun_creole    0.035081\n",
      "moroccan        0.061244\n",
      "spanish         0.093834\n",
      "dtype: float64\n",
      "indian          0.026140\n",
      "jamaican        0.044122\n",
      "filipino        0.045754\n",
      "moroccan        0.049775\n",
      "japanese        0.050657\n",
      "korean          0.051912\n",
      "vietnamese      0.052858\n",
      "brazilian       0.064280\n",
      "chinese         0.066552\n",
      "spanish         0.071030\n",
      "irish           0.083696\n",
      "russian         0.091040\n",
      "thai            0.093401\n",
      "southern_us     0.097430\n",
      "british         0.100530\n",
      "cajun_creole    0.103548\n",
      "french          0.131085\n",
      "mexican         0.160762\n",
      "italian         0.169756\n",
      "greek           0.178828\n",
      "dtype: float64\n",
      "japanese        0.019937\n",
      "korean          0.090609\n",
      "vietnamese      0.093154\n",
      "chinese         0.102245\n",
      "french          0.106272\n",
      "russian         0.107009\n",
      "indian          0.109955\n",
      "irish           0.140803\n",
      "jamaican        0.153910\n",
      "italian         0.158599\n",
      "filipino        0.160315\n",
      "southern_us     0.165394\n",
      "spanish         0.165641\n",
      "greek           0.177318\n",
      "british         0.184339\n",
      "moroccan        0.192895\n",
      "cajun_creole    0.210116\n",
      "mexican         0.211672\n",
      "brazilian       0.228439\n",
      "thai            0.275885\n",
      "dtype: float64\n",
      "moroccan       -0.101587\n",
      "cajun_creole   -0.086036\n",
      "spanish        -0.080890\n",
      "mexican        -0.079717\n",
      "italian        -0.043190\n",
      "greek          -0.038153\n",
      "thai           -0.032658\n",
      "irish           0.324603\n",
      "british         0.440122\n",
      "brazilian       0.471385\n",
      "southern_us     0.500268\n",
      "french          0.816356\n",
      "russian         0.962826\n",
      "indian          1.009420\n",
      "korean          1.034231\n",
      "jamaican        1.085383\n",
      "vietnamese      1.139290\n",
      "chinese         1.186173\n",
      "filipino        1.299639\n",
      "japanese        1.458003\n",
      "dtype: float64\n",
      "filipino       -0.377634\n",
      "japanese       -0.368480\n",
      "indian         -0.360187\n",
      "jamaican       -0.355437\n",
      "chinese        -0.350170\n",
      "vietnamese     -0.345325\n",
      "korean         -0.337514\n",
      "russian        -0.313470\n",
      "french         -0.289893\n",
      "southern_us    -0.236397\n",
      "british        -0.233588\n",
      "brazilian      -0.229229\n",
      "spanish        -0.217990\n",
      "thai           -0.199964\n",
      "moroccan       -0.199609\n",
      "irish          -0.176186\n",
      "mexican        -0.161813\n",
      "cajun_creole   -0.145754\n",
      "greek          -0.102383\n",
      "italian        -0.072390\n",
      "dtype: float64\n",
      "japanese        0.195398\n",
      "vietnamese      0.215209\n",
      "chinese         0.233144\n",
      "korean          0.244161\n",
      "filipino        0.262255\n",
      "spanish         0.273687\n",
      "jamaican        0.303575\n",
      "brazilian       0.315894\n",
      "moroccan        0.319226\n",
      "indian          0.333919\n",
      "thai            0.336491\n",
      "italian         0.356936\n",
      "cajun_creole    0.358390\n",
      "greek           0.370156\n",
      "french          0.415542\n",
      "irish           0.421882\n",
      "southern_us     0.440294\n",
      "british         0.480670\n",
      "russian         0.480896\n",
      "mexican         0.510271\n",
      "dtype: float64\n",
      "british        -0.723343\n",
      "irish          -0.723313\n",
      "southern_us    -0.709257\n",
      "thai           -0.698042\n",
      "brazilian      -0.686311\n",
      "russian        -0.665549\n",
      "filipino       -0.661956\n",
      "jamaican       -0.656947\n",
      "french         -0.576624\n",
      "greek          -0.498813\n",
      "mexican        -0.494741\n",
      "cajun_creole   -0.473125\n",
      "indian         -0.443759\n",
      "chinese        -0.425296\n",
      "italian        -0.422835\n",
      "japanese       -0.410106\n",
      "vietnamese     -0.402983\n",
      "korean         -0.401406\n",
      "spanish        -0.334197\n",
      "moroccan       -0.315246\n",
      "dtype: float64\n",
      "british        -0.878020\n",
      "southern_us    -0.867473\n",
      "russian        -0.830987\n",
      "filipino       -0.823885\n",
      "brazilian      -0.816463\n",
      "jamaican       -0.814008\n",
      "french         -0.722560\n",
      "thai           -0.653372\n",
      "vietnamese     -0.561084\n",
      "mexican        -0.555152\n",
      "cajun_creole   -0.540927\n",
      "greek          -0.540241\n",
      "indian         -0.536618\n",
      "chinese        -0.528768\n",
      "japanese       -0.519685\n",
      "korean         -0.491166\n",
      "italian        -0.455127\n",
      "spanish        -0.400275\n",
      "moroccan       -0.369788\n",
      "irish           0.152044\n",
      "dtype: float64\n",
      "japanese       -0.309855\n",
      "indian         -0.309778\n",
      "chinese        -0.304943\n",
      "vietnamese     -0.294395\n",
      "korean         -0.274786\n",
      "mexican        -0.238876\n",
      "spanish        -0.213507\n",
      "greek          -0.213161\n",
      "italian        -0.203449\n",
      "moroccan       -0.199373\n",
      "french         -0.169630\n",
      "cajun_creole   -0.133802\n",
      "russian         0.444407\n",
      "filipino        0.504135\n",
      "jamaican        0.612166\n",
      "southern_us     0.727690\n",
      "irish           0.769203\n",
      "thai            0.955362\n",
      "british         0.968234\n",
      "brazilian       1.354005\n",
      "dtype: float64\n",
      "indian         -0.245718\n",
      "japanese       -0.199571\n",
      "chinese        -0.189940\n",
      "filipino       -0.173730\n",
      "korean         -0.173494\n",
      "spanish        -0.170301\n",
      "vietnamese     -0.167229\n",
      "french         -0.151106\n",
      "greek          -0.143111\n",
      "moroccan       -0.134622\n",
      "russian        -0.131281\n",
      "jamaican       -0.121762\n",
      "mexican        -0.121295\n",
      "italian        -0.120898\n",
      "cajun_creole   -0.087271\n",
      "southern_us    -0.063657\n",
      "irish          -0.053839\n",
      "british        -0.032367\n",
      "brazilian      -0.006991\n",
      "thai            0.043085\n",
      "dtype: float64\n"
     ],
     "output_type": "stream"
    }
   ],
   "source": [
    "baseline_baskets_scores = {}\n",
    "for cluster in baseline_labels:\n",
    "    basket_scores = baskets_scores_df[model.labels_ == cluster]\n",
    "    cluster_scores = np.mean(basket_scores,axis=0).sort_values()\n",
    "    np.argsort(cluster_scores)\n",
    "    print(cluster_scores)"
   ],
   "metadata": {
    "collapsed": false,
    "pycharm": {
     "name": "#%%\n",
     "is_executing": false
    }
   }
  },
  {
   "cell_type": "markdown",
   "source": [],
   "metadata": {
    "collapsed": false
   }
  }
 ],
 "metadata": {
  "kernelspec": {
   "name": "python3",
   "language": "python",
   "display_name": "Python 3"
  },
  "language_info": {
   "codemirror_mode": {
    "name": "ipython",
    "version": 2
   },
   "file_extension": ".py",
   "mimetype": "text/x-python",
   "name": "python",
   "nbconvert_exporter": "python",
   "pygments_lexer": "ipython2",
   "version": "2.7.11"
  },
  "pycharm": {
   "stem_cell": {
    "cell_type": "raw",
    "source": [],
    "metadata": {
     "collapsed": false
    }
   }
  }
 },
 "nbformat": 4,
 "nbformat_minor": 0
}