{
 "cells": [
  {
   "cell_type": "code",
   "execution_count": 1,
   "metadata": {
    "collapsed": true,
    "pycharm": {
     "is_executing": false,
     "name": "#%%\n"
    }
   },
   "outputs": [],
   "source": [
    "import json\n",
    "\n",
    "from sklearn.preprocessing import LabelEncoder\n",
    "from sklearn.feature_extraction.text import TfidfVectorizer"
   ]
  },
  {
   "cell_type": "markdown",
   "metadata": {},
   "source": [
    "### Reading recipe data as dictionary"
   ]
  },
  {
   "cell_type": "code",
   "execution_count": 6,
   "metadata": {
    "collapsed": true,
    "pycharm": {
     "is_executing": false
    }
   },
   "outputs": [],
   "source": [
    "recipes = json.load(open('./data/recipe_train.json'))"
   ]
  },
  {
   "cell_type": "markdown",
   "source": [
    "### Converting ingredients to text data\n"
   ],
   "metadata": {
    "collapsed": false,
    "pycharm": {
     "name": "#%% md\n",
     "is_executing": false
    }
   }
  },
  {
   "cell_type": "code",
   "execution_count": 9,
   "metadata": {
    "collapsed": true,
    "pycharm": {
     "is_executing": false
    }
   },
   "outputs": [],
   "source": [
    "# Join all items in a tuple into a string, using ' ' as separator\n",
    "recipes_as_text = [' '.join(sample['ingredients']).lower() for sample in recipes]\n",
    "recipes_cuisine = [sample['cuisine'] for sample in recipes]\n"
   ]
  },
  {
   "cell_type": "markdown",
   "metadata": {},
   "source": [
    "### Tfidf vectorizer for text data"
   ]
  },
  {
   "cell_type": "code",
   "execution_count": 11,
   "metadata": {
    "collapsed": true,
    "pycharm": {
     "name": "#%%\n",
     "is_executing": false
    }
   },
   "outputs": [],
   "source": [
    "tfidf_enc = TfidfVectorizer(binary=True)\n",
    "lbl_enc = LabelEncoder()\n",
    "\n",
    "X = tfidf_enc.fit_transform(recipes_as_text)\n",
    "X = X.astype('float16')\n",
    "\n",
    "y = lbl_enc.fit_transform(recipes_cuisine)"
   ]
  }
 ],
 "metadata": {
  "kernelspec": {
   "name": "pycharm-4979b13c",
   "language": "python",
   "display_name": "PyCharm (Project)"
  },
  "language_info": {
   "codemirror_mode": {
    "name": "ipython",
    "version": 2
   },
   "file_extension": ".py",
   "mimetype": "text/x-python",
   "name": "python",
   "nbconvert_exporter": "python",
   "pygments_lexer": "ipython2",
   "version": "2.7.11"
  },
  "pycharm": {
   "stem_cell": {
    "cell_type": "raw",
    "source": [],
    "metadata": {
     "collapsed": false
    }
   }
  }
 },
 "nbformat": 4,
 "nbformat_minor": 0
}