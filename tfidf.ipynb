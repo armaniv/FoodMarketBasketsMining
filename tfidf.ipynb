{
 "cells": [
  {
   "cell_type": "code",
   "execution_count": 1,
   "metadata": {
    "collapsed": true,
    "pycharm": {
     "is_executing": false,
     "name": "#%%\n"
    }
   },
   "outputs": [],
   "source": [
    "import json\n",
    "import pandas as pd\n",
    "import matplotlib.pyplot as plt\n",
    "import csv\n",
    "import numpy as np\n",
    "\n",
    "from nltk.util import ngrams\n",
    "from sklearn.feature_extraction.text import TfidfVectorizer \n",
    "from sklearn.cluster import DBSCAN\n",
    "from sklearn.cluster import OPTICS\n",
    "from sklearn.cluster import KMeans\n",
    "from sklearn.preprocessing import StandardScaler\n",
    "from itertools import compress\n"
   ]
  },
  {
   "cell_type": "markdown",
   "metadata": {},
   "source": [
    "#### Load Recipes Data"
   ]
  },
  {
   "cell_type": "code",
   "execution_count": 2,
   "metadata": {
    "collapsed": true,
    "pycharm": {
     "is_executing": false
    }
   },
   "outputs": [],
   "source": [
    "recipes = json.load(open('./data/recipe_train.json'))\n",
    "\n",
    "for dic in recipes:\n",
    "    ingredients = []\n",
    "    for ingredient in dic['ingredients']:\n",
    "        tmp_ingredient = ingredient.replace(' ', '-')\n",
    "        ingredients.append(tmp_ingredient)\n",
    "        dic['ingredients'] = ingredients"
   ]
  },
  {
   "cell_type": "markdown",
   "source": [
    "#### Convert recipe to text document"
   ],
   "metadata": {
    "collapsed": false,
    "pycharm": {
     "name": "#%% md\n",
     "is_executing": false
    }
   }
  },
  {
   "cell_type": "code",
   "execution_count": 3,
   "metadata": {
    "collapsed": true,
    "pycharm": {
     "is_executing": false
    }
   },
   "outputs": [],
   "source": [
    "recipes_as_doc = {}\n",
    "\n",
    "for sample in recipes:\n",
    "    key = sample['cuisine']\n",
    "    # If key is in the dictionary, return its value. If not, insert key with a value of default and return default.\n",
    "    recipes_as_doc.setdefault(key,[]).append(' '.join(sample['ingredients']).lower())\n",
    "\n",
    "# create a single list with all the documents\n",
    "all_docs = []\n",
    "for k, v in recipes_as_doc.items():\n",
    "   all_docs.append(' '.join(v))"
   ]
  },
  {
   "cell_type": "markdown",
   "source": [
    "#### Tfidf vectorizer for text data"
   ]
  },
  {
   "cell_type": "code",
   "execution_count": 4,
   "metadata": {
    "collapsed": false,
    "pycharm": {
     "name": "#%%\n",
     "is_executing": false
    }
   },
   "outputs": [],
   "source": [
    "# code adapted from https://programminghistorian.org/en/lessons/analyzing-documents-with-tfidf\n",
    "\n",
    "vectorizer = TfidfVectorizer(use_idf=True, token_pattern=r\"(?u)\\b\\w[\\w-]*\\w\\b\")\n",
    "transformed_documents = vectorizer.fit_transform(all_docs)"
   ]
  },
  {
   "cell_type": "markdown",
   "source": [
    "#### Analyze results"
   ],
   "metadata": {
    "collapsed": false
   }
  },
  {
   "cell_type": "code",
   "execution_count": 5,
   "outputs": [
    {
     "name": "stdout",
     "text": [
      "greek southern_us filipino indian jamaican spanish italian mexican chinese british thai vietnamese cajun_creole brazilian french japanese irish korean moroccan russian "
     ],
     "output_type": "stream"
    }
   ],
   "source": [
    "transformed_documents_as_array = transformed_documents.toarray()\n",
    "len(transformed_documents_as_array)\n",
    "docs_scores_dfs = {}\n",
    "\n",
    "# loop each item in transformed_documents_as_array, using enumerate to keep track of the current position\n",
    "for counter, doc in enumerate(transformed_documents_as_array):\n",
    "    # construct a data frame\n",
    "    tf_idf_tuples = list(zip(vectorizer.get_feature_names(), doc))\n",
    "    one_doc_as_df = pd.DataFrame\\\n",
    "        .from_records(tf_idf_tuples, columns=['term', 'score'])\\\n",
    "        .sort_values(by='score', ascending=False)\\\n",
    "        .reset_index(drop=True)\n",
    "    docs_scores_dfs[list(recipes_as_doc.keys())[counter]] = one_doc_as_df\n",
    "\n",
    "    print(list(recipes_as_doc.keys())[counter], end=' ')\n",
    "    # print(one_doc_as_df)\n",
    "    # output to a csv using the enumerated value for the filename\n",
    "    #one_doc_as_df.to_csv(\"tf.idf\" + counter.__str__() + \".csv\")"
   ],
   "metadata": {
    "collapsed": false,
    "pycharm": {
     "name": "#%%\n",
     "is_executing": false
    }
   }
  },
  {
   "cell_type": "markdown",
   "source": [
    "#### Statistics of Scores"
   ],
   "metadata": {
    "collapsed": false,
    "pycharm": {
     "name": "#%% md\n"
    }
   }
  },
  {
   "cell_type": "code",
   "execution_count": 6,
   "outputs": [
    {
     "data": {
      "text/plain": "Text(0, 0.5, 'Number of Therms')"
     },
     "metadata": {},
     "output_type": "execute_result",
     "execution_count": 6
    },
    {
     "data": {
      "text/plain": "<Figure size 432x288 with 1 Axes>",
      "image/png": "[encoded data removed]"
     },
     "metadata": {
      "needs_background": "light"
     },
     "output_type": "display_data"
    }
   ],
   "source": [
    "statistics = {}\n",
    "for k in docs_scores_dfs.keys():\n",
    "    df = docs_scores_dfs[k]\n",
    "    scores = df['score']\n",
    "    scores = scores.loc[scores>0.0]\n",
    "    statistics[k] = [scores.mean(), scores.max(), scores.min(), df['score'].astype(bool).sum(axis=0)]\n",
    "\n",
    "irish_scores = docs_scores_dfs[\"irish\"][\"score\"]\n",
    "irish_scores = irish_scores.loc[irish_scores>0.0]\n",
    "plt.hist(irish_scores, color = 'blue', edgecolor = 'black', bins=300)\n",
    "plt.title('Histogram of Scores')\n",
    "plt.xlabel('Frequency')\n",
    "plt.ylabel('Number of Therms')\n",
    "# print(statistics)"
   ],
   "metadata": {
    "collapsed": false,
    "pycharm": {
     "name": "#%%\n",
     "is_executing": false
    }
   }
  },
  {
   "cell_type": "markdown",
   "source": [
    "#### Top 10 therms per cuisine"
   ],
   "metadata": {
    "collapsed": false,
    "pycharm": {
     "name": "#%% md\n"
    }
   }
  },
  {
   "cell_type": "code",
   "execution_count": 7,
   "outputs": [
    {
     "name": "stdout",
     "text": [
      "-------------\n",
      "greek\n",
      "                      term     score\n",
      "0                     salt  0.418578\n",
      "1                olive-oil  0.368817\n",
      "2     feta-cheese-crumbles  0.303652\n",
      "3            dried-oregano  0.248517\n",
      "4              feta-cheese  0.230149\n",
      "5            garlic-cloves  0.185872\n",
      "6   extra-virgin-olive-oil  0.167578\n",
      "7        fresh-lemon-juice  0.162455\n",
      "8      ground-black-pepper  0.161723\n",
      "9                   garlic  0.158065\n",
      "10                  pepper  0.148551\n",
      "11                cucumber  0.143519\n",
      "12            purple-onion  0.136111\n",
      "13                  onions  0.135379\n",
      "14             lemon-juice  0.133916\n",
      "-------------\n",
      "southern_us\n",
      "                   term     score\n",
      "0                  salt  0.540956\n",
      "1                butter  0.296463\n",
      "2     all-purpose-flour  0.288667\n",
      "3                 sugar  0.248982\n",
      "4            buttermilk  0.181414\n",
      "5            large-eggs  0.176224\n",
      "6         baking-powder  0.172208\n",
      "7                 water  0.162523\n",
      "8       unsalted-butter  0.154728\n",
      "9                  milk  0.152602\n",
      "10                 eggs  0.147168\n",
      "11               pepper  0.130633\n",
      "12               onions  0.113861\n",
      "13          baking-soda  0.110745\n",
      "14  ground-black-pepper  0.109845\n",
      "-------------\n",
      "filipino\n",
      "                   term     score\n",
      "0                  salt  0.451933\n",
      "1                garlic  0.348880\n",
      "2                onions  0.332778\n",
      "3                 water  0.332778\n",
      "4             soy-sauce  0.269442\n",
      "5                pepper  0.213622\n",
      "6                   oil  0.178197\n",
      "7            fish-sauce  0.173226\n",
      "8                 sugar  0.145993\n",
      "9               carrots  0.137405\n",
      "10  ground-black-pepper  0.133111\n",
      "11           bay-leaves  0.104127\n",
      "12        vegetable-oil  0.101980\n",
      "13                 eggs  0.099833\n",
      "14          cooking-oil  0.098760\n",
      "-------------\n",
      "indian\n",
      "               term     score\n",
      "0              salt  0.457702\n",
      "1      garam-masala  0.335914\n",
      "2            onions  0.282809\n",
      "3        cumin-seed  0.199808\n",
      "4   ground-turmeric  0.198847\n",
      "5             water  0.194298\n",
      "6            garlic  0.171816\n",
      "7      ground-cumin  0.169526\n",
      "8     green-chilies  0.145692\n",
      "9     vegetable-oil  0.140340\n",
      "10          tumeric  0.134386\n",
      "11              oil  0.129217\n",
      "12           ginger  0.124484\n",
      "13         tomatoes  0.123300\n",
      "14     chili-powder  0.120381\n",
      "-------------\n",
      "jamaican\n",
      "                   term     score\n",
      "0                  salt  0.497227\n",
      "1                onions  0.259097\n",
      "2                 water  0.229144\n",
      "3       ground-allspice  0.221253\n",
      "4                garlic  0.208176\n",
      "5                pepper  0.187209\n",
      "6           dried-thyme  0.172994\n",
      "7             scallions  0.166241\n",
      "8          black-pepper  0.154260\n",
      "9         garlic-cloves  0.151265\n",
      "10        vegetable-oil  0.143776\n",
      "11                thyme  0.137155\n",
      "12  ground-black-pepper  0.133293\n",
      "13  scotch-bonnet-chile  0.131582\n",
      "14         coconut-milk  0.128804\n",
      "-------------\n",
      "spanish\n",
      "                      term     score\n",
      "0                     salt  0.452798\n",
      "1                olive-oil  0.380941\n",
      "2            garlic-cloves  0.285460\n",
      "3   extra-virgin-olive-oil  0.251008\n",
      "4                   onions  0.249039\n",
      "5                    water  0.155526\n",
      "6          saffron-threads  0.153980\n",
      "7                 tomatoes  0.148636\n",
      "8      ground-black-pepper  0.146667\n",
      "9          red-bell-pepper  0.139777\n",
      "10                  pepper  0.130918\n",
      "11                   sugar  0.126980\n",
      "12                  garlic  0.125996\n",
      "13             kosher-salt  0.118121\n",
      "14              large-eggs  0.114184\n",
      "-------------\n",
      "italian\n",
      "                      term     score\n",
      "0                     salt  0.455725\n",
      "1                olive-oil  0.410469\n",
      "2   grated-parmesan-cheese  0.229331\n",
      "3            garlic-cloves  0.213613\n",
      "4                   garlic  0.194085\n",
      "5      ground-black-pepper  0.190523\n",
      "6   extra-virgin-olive-oil  0.179704\n",
      "7                   onions  0.163607\n",
      "8                    water  0.138802\n",
      "9                   butter  0.136031\n",
      "10                  pepper  0.127323\n",
      "11             fresh-basil  0.125780\n",
      "12       all-purpose-flour  0.121122\n",
      "13           dried-oregano  0.105056\n",
      "14                   sugar  0.100275\n",
      "-------------\n",
      "mexican\n",
      "                      term     score\n",
      "0                     salt  0.388522\n",
      "1                   onions  0.213259\n",
      "2             ground-cumin  0.201642\n",
      "3           corn-tortillas  0.199928\n",
      "4                   garlic  0.188119\n",
      "5                    salsa  0.185297\n",
      "6             chili-powder  0.185163\n",
      "7                olive-oil  0.184120\n",
      "8               sour-cream  0.169077\n",
      "9         jalapeno-chilies  0.163694\n",
      "10         flour-tortillas  0.156729\n",
      "11                 avocado  0.156400\n",
      "12             black-beans  0.154820\n",
      "13  chopped-cilantro-fresh  0.149361\n",
      "14           garlic-cloves  0.131555\n",
      "-------------\n",
      "chinese\n",
      "             term     score\n",
      "0       soy-sauce  0.377018\n",
      "1      sesame-oil  0.321922\n",
      "2     corn-starch  0.262835\n",
      "3            salt  0.250884\n",
      "4           sugar  0.227926\n",
      "5          garlic  0.211052\n",
      "6           water  0.210776\n",
      "7    green-onions  0.173710\n",
      "8    rice-vinegar  0.170422\n",
      "9   vegetable-oil  0.166518\n",
      "10      scallions  0.163476\n",
      "11   oyster-sauce  0.160451\n",
      "12   hoisin-sauce  0.155633\n",
      "13  shaoxing-wine  0.153914\n",
      "14   fresh-ginger  0.136059\n",
      "-------------\n",
      "british\n",
      "                 term     score\n",
      "0                salt  0.507911\n",
      "1   all-purpose-flour  0.297009\n",
      "2              butter  0.277042\n",
      "3                milk  0.252084\n",
      "4     unsalted-butter  0.238356\n",
      "5                eggs  0.238356\n",
      "6               sugar  0.219637\n",
      "7              onions  0.177207\n",
      "8       baking-powder  0.152249\n",
      "9          large-eggs  0.137273\n",
      "10              water  0.136025\n",
      "11        heavy-cream  0.114810\n",
      "12             pepper  0.109819\n",
      "13              flour  0.102331\n",
      "14        baking-soda  0.095544\n",
      "-------------\n",
      "thai\n",
      "                    term     score\n",
      "0             fish-sauce  0.493150\n",
      "1           coconut-milk  0.204896\n",
      "2                 garlic  0.198383\n",
      "3                   salt  0.189757\n",
      "4             lemongrass  0.171889\n",
      "5          vegetable-oil  0.160527\n",
      "6              soy-sauce  0.159090\n",
      "7                  sugar  0.158131\n",
      "8   thai-red-curry-paste  0.156675\n",
      "9                  water  0.148547\n",
      "10      fresh-lime-juice  0.143910\n",
      "11         garlic-cloves  0.143276\n",
      "12       red-curry-paste  0.141390\n",
      "13                  lime  0.135190\n",
      "14           beansprouts  0.134550\n",
      "-------------\n",
      "vietnamese\n",
      "             term     score\n",
      "0      fish-sauce  0.543107\n",
      "1           sugar  0.289443\n",
      "2            salt  0.222131\n",
      "3          garlic  0.201095\n",
      "4     beansprouts  0.197399\n",
      "5           water  0.190999\n",
      "6         carrots  0.164915\n",
      "7    rice-vinegar  0.151809\n",
      "8       soy-sauce  0.130418\n",
      "9      lemongrass  0.128602\n",
      "10       shallots  0.127052\n",
      "11  garlic-cloves  0.124528\n",
      "12  vegetable-oil  0.122004\n",
      "13   rice-noodles  0.121237\n",
      "14     lime-juice  0.102937\n",
      "-------------\n",
      "cajun_creole\n",
      "                   term     score\n",
      "0                  salt  0.371953\n",
      "1       cajun-seasoning  0.330432\n",
      "2                onions  0.264822\n",
      "3     andouille-sausage  0.235331\n",
      "4      creole-seasoning  0.212487\n",
      "5                garlic  0.185225\n",
      "6     green-bell-pepper  0.170207\n",
      "7                butter  0.167204\n",
      "8             olive-oil  0.158193\n",
      "9        cayenne-pepper  0.148681\n",
      "10    all-purpose-flour  0.145677\n",
      "11                water  0.140171\n",
      "12        garlic-cloves  0.138669\n",
      "13          dried-thyme  0.133272\n",
      "14  ground-black-pepper  0.132661\n",
      "-------------\n",
      "brazilian\n",
      "                        term     score\n",
      "0                    cachaca  0.478972\n",
      "1                       salt  0.396087\n",
      "2                     onions  0.271545\n",
      "3                  olive-oil  0.240919\n",
      "4                       lime  0.190576\n",
      "5                      water  0.177627\n",
      "6              garlic-cloves  0.169460\n",
      "7                     garlic  0.167418\n",
      "8               coconut-milk  0.143441\n",
      "9                      sugar  0.140876\n",
      "10  sweetened-condensed-milk  0.134316\n",
      "11                  tomatoes  0.128626\n",
      "12                    pepper  0.114335\n",
      "13                      eggs  0.106168\n",
      "14               black-beans  0.098232\n",
      "-------------\n",
      "french\n",
      "                      term     score\n",
      "0                     salt  0.503098\n",
      "1                    sugar  0.266395\n",
      "2        all-purpose-flour  0.247994\n",
      "3          unsalted-butter  0.247576\n",
      "4                olive-oil  0.215793\n",
      "5                   butter  0.214956\n",
      "6                    water  0.184009\n",
      "7               large-eggs  0.173554\n",
      "8            garlic-cloves  0.168536\n",
      "9      ground-black-pepper  0.161008\n",
      "10                  onions  0.153899\n",
      "11                shallots  0.134243\n",
      "12  extra-virgin-olive-oil  0.107060\n",
      "13          dry-white-wine  0.102460\n",
      "14       fresh-lemon-juice  0.099950\n",
      "-------------\n",
      "japanese\n",
      "             term     score\n",
      "0           mirin  0.464571\n",
      "1       soy-sauce  0.329920\n",
      "2            sake  0.313965\n",
      "3            salt  0.248175\n",
      "4           sugar  0.235825\n",
      "5           water  0.225828\n",
      "6    rice-vinegar  0.205138\n",
      "7           dashi  0.162955\n",
      "8   vegetable-oil  0.144083\n",
      "9      sesame-oil  0.139131\n",
      "10      scallions  0.134673\n",
      "11           nori  0.131316\n",
      "12         ginger  0.111738\n",
      "13        carrots  0.108209\n",
      "14   green-onions  0.102916\n",
      "-------------\n",
      "irish\n",
      "                 term     score\n",
      "0                salt  0.542810\n",
      "1   all-purpose-flour  0.316158\n",
      "2              butter  0.316158\n",
      "3              onions  0.190561\n",
      "4         baking-soda  0.174119\n",
      "5            potatoes  0.173237\n",
      "6               sugar  0.173237\n",
      "7       baking-powder  0.161688\n",
      "8                milk  0.160245\n",
      "9             carrots  0.151583\n",
      "10              water  0.138590\n",
      "11         buttermilk  0.131152\n",
      "12               eggs  0.129928\n",
      "13      irish-whiskey  0.127585\n",
      "14    unsalted-butter  0.125597\n",
      "-------------\n",
      "korean\n",
      "                    term     score\n",
      "0             sesame-oil  0.409055\n",
      "1              soy-sauce  0.340753\n",
      "2         gochujang-base  0.244493\n",
      "3                 garlic  0.241799\n",
      "4           green-onions  0.233819\n",
      "5           sesame-seeds  0.215562\n",
      "6                  sugar  0.212273\n",
      "7                   salt  0.201898\n",
      "8                  water  0.193120\n",
      "9                 kimchi  0.190561\n",
      "10                onions  0.165988\n",
      "11             scallions  0.156411\n",
      "12  toasted-sesame-seeds  0.148486\n",
      "13               carrots  0.135663\n",
      "14         garlic-cloves  0.135663\n",
      "-------------\n",
      "moroccan\n",
      "                   term     score\n",
      "0                  salt  0.358698\n",
      "1             olive-oil  0.357829\n",
      "2          ground-cumin  0.316991\n",
      "3                onions  0.243185\n",
      "4              couscous  0.214832\n",
      "5         garlic-cloves  0.193679\n",
      "6       ground-cinnamon  0.193679\n",
      "7                 water  0.158070\n",
      "8         ground-ginger  0.151991\n",
      "9             chickpeas  0.140296\n",
      "10              carrots  0.134620\n",
      "11              paprika  0.130278\n",
      "12  ground-black-pepper  0.127672\n",
      "13     ground-coriander  0.125703\n",
      "14               garlic  0.124198\n",
      "-------------\n",
      "russian\n",
      "                 term     score\n",
      "0                salt  0.523751\n",
      "1               sugar  0.281880\n",
      "2              onions  0.263694\n",
      "3          sour-cream  0.234069\n",
      "4   all-purpose-flour  0.223685\n",
      "5                eggs  0.203681\n",
      "6               water  0.201862\n",
      "7              butter  0.189132\n",
      "8     unsalted-butter  0.169128\n",
      "9          large-eggs  0.154579\n",
      "10            carrots  0.140031\n",
      "11      vegetable-oil  0.125482\n",
      "12         fresh-dill  0.124908\n",
      "13              beets  0.122595\n",
      "14               milk  0.120026\n"
     ],
     "output_type": "stream"
    }
   ],
   "source": [
    "for k in docs_scores_dfs.keys():\n",
    "    scores_df = docs_scores_dfs[k]\n",
    "    print('-------------')\n",
    "    print(k)\n",
    "    print(scores_df.iloc[:15,:])\n"
   ],
   "metadata": {
    "collapsed": false,
    "pycharm": {
     "name": "#%%\n",
     "is_executing": false
    }
   }
  },
  {
   "cell_type": "markdown",
   "source": [
    "#### Load Baskets Market Data"
   ],
   "metadata": {
    "collapsed": false,
    "pycharm": {
     "name": "#%% md\n"
    }
   }
  },
  {
   "cell_type": "code",
   "execution_count": 8,
   "outputs": [],
   "source": [
    "baskets = []\n",
    "with open('./data/groceries.csv', newline=None) as f:\n",
    "  reader = csv.reader(f)\n",
    "  for row in reader:\n",
    "    baskets.append([elem.replace(' ', '-') for elem in row])"
   ],
   "metadata": {
    "collapsed": false,
    "pycharm": {
     "name": "#%%\n",
     "is_executing": false
    }
   }
  },
  {
   "cell_type": "markdown",
   "source": [
    "#### Compute ngram for tf.idf top score "
   ],
   "metadata": {
    "collapsed": false
   }
  },
  {
   "cell_type": "code",
   "execution_count": 9,
   "outputs": [],
   "source": [
    "top_scores_ngram = {}\n",
    "\n",
    "for cuisine in docs_scores_dfs.keys():\n",
    "    scores_df = docs_scores_dfs[cuisine]\n",
    "    scores_df = scores_df[scores_df['score']>(statistics[cuisine][1]/4)]\n",
    "    #scores_df = scores_df.iloc[:30,:]\n",
    "    scores_df = scores_df.sort_values(by=['score'],ascending=False)\n",
    "    \n",
    "    ngram_scores = []\n",
    "    for index, row in scores_df.iterrows():\n",
    "        ngram = list(ngrams(row['term'], 3))\n",
    "        score =  row['score']\n",
    "        ngram_scores.append([ngram, score])\n",
    "        \n",
    "    top_scores_ngram[cuisine] = ngram_scores"
   ],
   "metadata": {
    "collapsed": false,
    "pycharm": {
     "name": "#%%\n",
     "is_executing": false
    }
   }
  },
  {
   "cell_type": "markdown",
   "source": [
    "#### Define the metric similarity"
   ],
   "metadata": {
    "collapsed": false
   }
  },
  {
   "cell_type": "code",
   "execution_count": 10,
   "outputs": [],
   "source": [
    "def jaccard_distance(a, b):\n",
    "    \"\"\"Calculate the jaccard distance between sets A and B\"\"\"\n",
    "    a = set(a)\n",
    "    b = set(b)\n",
    "    return 1.0 * len(a&b)/len(a|b)"
   ],
   "metadata": {
    "collapsed": false,
    "pycharm": {
     "name": "#%%\n",
     "is_executing": false
    }
   }
  },
  {
   "cell_type": "markdown",
   "source": [
    "#### Compute Basket Scores\n",
    "For each basket we iterate over all items and compute their similarities with the top \n",
    "terms in the cuisines docs"
   ],
   "metadata": {
    "collapsed": false
   }
  },
  {
   "cell_type": "code",
   "execution_count": 11,
   "outputs": [],
   "source": [
    "baskets_scores = []\n",
    "\n",
    "for basket in baskets:\n",
    "    similarities = {}\n",
    "    for cuisine in top_scores_ngram:\n",
    "        value = 0\n",
    "        for item in basket:      \n",
    "            item_ngram = list(ngrams(item, 3))\n",
    "            for ngram_term, score in top_scores_ngram[cuisine]:\n",
    "                sim = jaccard_distance(item_ngram, ngram_term)\n",
    "                if sim > 0:\n",
    "                    value += sim * score\n",
    "                    \n",
    "        similarities[cuisine] = value    \n",
    "    baskets_scores.append(similarities)\n",
    "           \n",
    "    # print('------------------')\n",
    "    # print(\"basket: \", basket)\n",
    "    # for k in similarities:\n",
    "    #     print(k, similarities[k]) \n",
    "baskets_scores_df = pd.DataFrame(baskets_scores)\n",
    "baskets_scores_df=(baskets_scores_df-baskets_scores_df.mean())/baskets_scores_df.std()"
   ],
   "metadata": {
    "collapsed": false,
    "pycharm": {
     "name": "#%%\n",
     "is_executing": false
    }
   }
  },
  {
   "cell_type": "markdown",
   "source": [
    "#### CLustering baskets\n",
    "We now try to cluster the baskets, based on the scores that they \n",
    "obtained using frequent therms of recipes"
   ],
   "metadata": {
    "collapsed": false,
    "pycharm": {
     "name": "#%% md\n"
    }
   }
  },
  {
   "cell_type": "code",
   "execution_count": 12,
   "outputs": [],
   "source": [
    "X = StandardScaler().fit_transform(baskets_scores_df.to_numpy())"
   ],
   "metadata": {
    "collapsed": false,
    "pycharm": {
     "name": "#%%\n",
     "is_executing": false
    }
   }
  },
  {
   "cell_type": "code",
   "execution_count": 13,
   "outputs": [
    {
     "name": "stdout",
     "text": [
      "{-1}\n"
     ],
     "output_type": "stream"
    }
   ],
   "source": [
    "# OPTICS\n",
    "optics = OPTICS(min_samples=50, max_eps=0.1, xi=.05, min_cluster_size=.05)\n",
    "optics.fit(X)\n",
    "optics_labels = optics.labels_[optics.ordering_]\n",
    "print(set(optics_labels))"
   ],
   "metadata": {
    "collapsed": false,
    "pycharm": {
     "name": "#%%\n",
     "is_executing": false
    }
   }
  },
  {
   "cell_type": "code",
   "execution_count": 14,
   "outputs": [
    {
     "name": "stdout",
     "text": [
      "{0, 1, 2, 3, 4, 5, 6, 7, 8, 9}\n"
     ],
     "output_type": "stream"
    }
   ],
   "source": [
    "# K-Means\n",
    "kMeans = KMeans(n_clusters=10, random_state=0).fit(X)\n",
    "kMeans_labels = kMeans.labels_\n",
    "print(set(kMeans_labels))"
   ],
   "metadata": {
    "collapsed": false,
    "pycharm": {
     "name": "#%%\n",
     "is_executing": false
    }
   }
  },
  {
   "cell_type": "code",
   "execution_count": 15,
   "outputs": [
    {
     "name": "stdout",
     "text": [
      "{0, 1, 2, 3, 4, 5, 6, 7, 8, 9, 10, -1}\n",
      "[0.35, 50]\n"
     ],
     "output_type": "stream"
    }
   ],
   "source": [
    "# DBSCAN \n",
    "[eps, min_samples] = [0.35, 50]\n",
    "dbScan = DBSCAN(eps=eps, min_samples=min_samples).fit(X)\n",
    "dbScan_labels = dbScan.labels_\n",
    "print(set(dbScan_labels))\n",
    "print([eps, min_samples])"
   ],
   "metadata": {
    "collapsed": false,
    "pycharm": {
     "name": "#%%\n",
     "is_executing": false
    }
   }
  },
  {
   "cell_type": "code",
   "execution_count": 15,
   "outputs": [],
   "source": [],
   "metadata": {
    "collapsed": false,
    "pycharm": {
     "name": "#%%\n",
     "is_executing": false
    }
   }
  },
  {
   "cell_type": "markdown",
   "source": [
    "#### Analysis of the method\n",
    "Observe size of created basket clusters"
   ],
   "metadata": {
    "collapsed": false,
    "pycharm": {
     "name": "#%% md\n"
    }
   }
  },
  {
   "cell_type": "code",
   "execution_count": 16,
   "outputs": [
    {
     "data": {
      "text/plain": "<matplotlib.axes._subplots.AxesSubplot at 0x7fd8088fed68>"
     },
     "metadata": {},
     "output_type": "execute_result",
     "execution_count": 16
    },
    {
     "data": {
      "text/plain": "<Figure size 432x288 with 1 Axes>",
      "image/png": "[encoded data removed]"
     },
     "metadata": {
      "needs_background": "light"
     },
     "output_type": "display_data"
    }
   ],
   "source": [
    "labels = dbScan_labels\n",
    "cluster_sizes = []\n",
    "for label in set(labels):\n",
    "    cluster_sizes.append([label, len(baskets_scores_df[labels == label])])\n",
    "pd.DataFrame(cluster_sizes).plot(kind='bar')"
   ],
   "metadata": {
    "collapsed": false,
    "pycharm": {
     "name": "#%%\n",
     "is_executing": false
    }
   }
  },
  {
   "cell_type": "markdown",
   "source": [
    "Select one cluster and calculate its overall score (by summing\n",
    "all scores of all items of that cluster)"
   ],
   "metadata": {
    "collapsed": false,
    "pycharm": {
     "name": "#%% md\n"
    }
   }
  },
  {
   "cell_type": "code",
   "execution_count": 17,
   "outputs": [
    {
     "name": "stdout",
     "text": [
      "Cluster  0\n",
      "spanish        -1173.001160\n",
      "vietnamese     -1192.835282\n",
      "french         -1208.453710\n",
      "filipino       -1248.738374\n",
      "moroccan       -1289.073450\n",
      "korean         -1296.453947\n",
      "russian        -1310.874224\n",
      "irish          -1313.692058\n",
      "italian        -1322.967538\n",
      "brazilian      -1335.228804\n",
      "southern_us    -1349.893963\n",
      "british        -1404.304004\n",
      "greek          -1419.592302\n",
      "indian         -1465.147722\n",
      "mexican        -1565.491891\n",
      "jamaican       -1579.325436\n",
      "japanese       -1648.336393\n",
      "cajun_creole   -1659.321442\n",
      "chinese        -1737.204688\n",
      "thai           -1898.622221\n",
      "dtype: float64\n",
      "Cluster  1\n",
      "brazilian       -48.827402\n",
      "southern_us     -87.674371\n",
      "british         -90.348149\n",
      "irish          -115.953361\n",
      "thai           -137.747590\n",
      "jamaican       -158.970531\n",
      "vietnamese     -178.623755\n",
      "filipino       -191.944467\n",
      "cajun_creole   -194.148871\n",
      "french         -197.807994\n",
      "indian         -198.100438\n",
      "spanish        -199.992649\n",
      "russian        -201.878613\n",
      "greek          -208.055701\n",
      "korean         -208.282035\n",
      "moroccan       -211.671129\n",
      "italian        -213.885809\n",
      "japanese       -219.405776\n",
      "chinese        -242.618360\n",
      "mexican        -247.955451\n",
      "dtype: float64\n",
      "Cluster  2\n",
      "french         -18.173524\n",
      "southern_us    -22.227750\n",
      "russian        -25.133995\n",
      "filipino       -25.824559\n",
      "vietnamese     -27.725326\n",
      "irish          -27.820029\n",
      "british        -28.434807\n",
      "italian        -32.388911\n",
      "brazilian      -35.590374\n",
      "spanish        -37.170446\n",
      "korean         -37.698328\n",
      "moroccan       -39.266092\n",
      "indian         -41.278300\n",
      "japanese       -43.395727\n",
      "chinese        -46.681206\n",
      "jamaican       -46.836133\n",
      "cajun_creole   -51.078270\n",
      "greek          -57.553701\n",
      "mexican        -58.422466\n",
      "thai           -64.175742\n",
      "dtype: float64\n",
      "Cluster  3\n",
      "japanese        -57.665383\n",
      "indian          -64.554931\n",
      "chinese         -85.196003\n",
      "thai            -94.630200\n",
      "greek           -99.214986\n",
      "jamaican        -99.360067\n",
      "mexican        -140.529090\n",
      "cajun_creole   -160.633410\n",
      "vietnamese     -183.815131\n",
      "spanish        -186.526590\n",
      "filipino       -201.702751\n",
      "moroccan       -206.000627\n",
      "french         -206.588703\n",
      "korean         -210.059016\n",
      "russian        -211.954555\n",
      "brazilian      -213.647897\n",
      "southern_us    -219.119898\n",
      "irish          -219.438651\n",
      "italian        -222.878565\n",
      "british        -232.636362\n",
      "dtype: float64\n",
      "Cluster  4\n",
      "filipino       -17.007013\n",
      "vietnamese     -19.044514\n",
      "brazilian      -20.312463\n",
      "moroccan       -24.922078\n",
      "italian        -25.420422\n",
      "korean         -27.820823\n",
      "spanish        -28.475171\n",
      "french         -29.822139\n",
      "indian         -30.314842\n",
      "russian        -30.624754\n",
      "japanese       -31.301903\n",
      "jamaican       -32.190475\n",
      "irish          -32.656072\n",
      "southern_us    -34.425808\n",
      "british        -37.679729\n",
      "chinese        -39.986150\n",
      "thai           -40.190871\n",
      "mexican        -41.415594\n",
      "greek          -44.186325\n",
      "cajun_creole   -46.173350\n",
      "dtype: float64\n",
      "Cluster  5\n",
      "italian        -22.590467\n",
      "spanish        -23.382966\n",
      "filipino       -29.387822\n",
      "french         -30.537621\n",
      "brazilian      -31.042874\n",
      "moroccan       -33.214341\n",
      "russian        -36.389365\n",
      "vietnamese     -37.449354\n",
      "irish          -38.101531\n",
      "indian         -38.346858\n",
      "southern_us    -44.348855\n",
      "british        -45.722145\n",
      "greek          -45.732762\n",
      "korean         -47.395694\n",
      "jamaican       -48.827205\n",
      "mexican        -60.581605\n",
      "japanese       -62.086426\n",
      "chinese        -75.414132\n",
      "cajun_creole   -75.641876\n",
      "thai           -86.233668\n",
      "dtype: float64\n",
      "Cluster  6\n",
      "thai            14.714477\n",
      "jamaican        -0.199325\n",
      "japanese        -7.417874\n",
      "indian          -8.999865\n",
      "brazilian      -12.875792\n",
      "chinese        -14.809998\n",
      "cajun_creole   -17.799748\n",
      "greek          -21.732270\n",
      "southern_us    -22.539066\n",
      "british        -23.109610\n",
      "irish          -30.522300\n",
      "mexican        -31.743675\n",
      "spanish        -45.439245\n",
      "vietnamese     -46.393513\n",
      "filipino       -50.316584\n",
      "french         -50.823150\n",
      "russian        -52.020590\n",
      "moroccan       -52.186679\n",
      "korean         -53.071310\n",
      "italian        -55.664303\n",
      "dtype: float64\n",
      "Cluster  7\n",
      "filipino        31.047355\n",
      "vietnamese      10.113939\n",
      "french           2.470047\n",
      "italian          0.785298\n",
      "moroccan        -1.519808\n",
      "korean          -2.026129\n",
      "brazilian      -10.118821\n",
      "russian        -10.731664\n",
      "japanese       -16.471283\n",
      "spanish        -19.211845\n",
      "southern_us    -20.671148\n",
      "jamaican       -26.970832\n",
      "irish          -29.021944\n",
      "british        -30.102984\n",
      "indian         -31.048058\n",
      "chinese        -42.670904\n",
      "cajun_creole   -52.930927\n",
      "mexican        -60.515209\n",
      "thai           -63.968327\n",
      "greek          -93.081202\n",
      "dtype: float64\n",
      "Cluster  8\n",
      "vietnamese      -1.588524\n",
      "cajun_creole   -18.854848\n",
      "chinese        -22.263748\n",
      "filipino       -24.652706\n",
      "korean         -32.182971\n",
      "thai           -35.984933\n",
      "japanese       -42.848592\n",
      "french         -57.624542\n",
      "irish          -58.725135\n",
      "russian        -59.997733\n",
      "spanish        -60.692923\n",
      "brazilian      -61.507502\n",
      "southern_us    -62.080723\n",
      "italian        -64.561406\n",
      "moroccan       -64.724055\n",
      "british        -65.310266\n",
      "indian         -65.881791\n",
      "greek          -68.899274\n",
      "jamaican       -74.173388\n",
      "mexican        -74.708157\n",
      "dtype: float64\n",
      "Cluster  9\n",
      "russian         -3.285080\n",
      "mexican        -13.047268\n",
      "vietnamese     -16.743778\n",
      "greek          -17.602636\n",
      "korean         -24.373911\n",
      "japanese       -24.859188\n",
      "moroccan       -27.485818\n",
      "spanish        -28.084336\n",
      "chinese        -30.148811\n",
      "filipino       -31.373870\n",
      "french         -32.714131\n",
      "brazilian      -33.421443\n",
      "irish          -34.254943\n",
      "southern_us    -34.398161\n",
      "italian        -34.933802\n",
      "indian         -35.402076\n",
      "jamaican       -36.315682\n",
      "british        -36.651878\n",
      "cajun_creole   -38.482305\n",
      "thai           -45.546151\n",
      "dtype: float64\n",
      "Cluster  10\n",
      "russian          9.925651\n",
      "mexican          8.781076\n",
      "spanish        -20.685161\n",
      "filipino       -23.348807\n",
      "moroccan       -24.518585\n",
      "italian        -24.778396\n",
      "greek          -24.851427\n",
      "french         -26.634042\n",
      "vietnamese     -28.184698\n",
      "irish          -29.383679\n",
      "southern_us    -30.179884\n",
      "jamaican       -30.450384\n",
      "cajun_creole   -30.864366\n",
      "british        -31.992147\n",
      "brazilian      -32.118026\n",
      "korean         -33.340671\n",
      "indian         -33.898975\n",
      "japanese       -38.294385\n",
      "chinese        -41.821263\n",
      "thai           -47.006832\n",
      "dtype: float64\n",
      "Cluster  -1\n",
      "thai            2499.392058\n",
      "chinese         2378.815264\n",
      "cajun_creole    2345.929414\n",
      "mexican         2285.629330\n",
      "japanese        2192.082929\n",
      "jamaican        2133.619459\n",
      "greek           2100.502584\n",
      "british         2026.292081\n",
      "italian         2019.284322\n",
      "indian          2012.973856\n",
      "moroccan        1974.582662\n",
      "korean          1972.704835\n",
      "russian         1932.964922\n",
      "irish           1929.569704\n",
      "southern_us     1927.559627\n",
      "french          1856.709509\n",
      "brazilian       1834.691396\n",
      "spanish         1822.662493\n",
      "filipino        1813.249598\n",
      "vietnamese      1722.289936\n",
      "dtype: float64\n"
     ],
     "output_type": "stream"
    }
   ],
   "source": [
    "for selected_basket_cluster in set(labels):\n",
    "    print(\"Cluster \", selected_basket_cluster)\n",
    "    selected_basket_scores = baskets_scores_df[labels == selected_basket_cluster]\n",
    "    aggregated_basket_cluster_score \\\n",
    "        = np.sum(selected_basket_scores, axis=0)\\\n",
    "        .sort_values(ascending=False)\n",
    "    selected_baskets = list(compress(baskets, labels == selected_basket_cluster))\n",
    "    selected_baskets = [' '.join(l) for l in selected_baskets]\n",
    "    aggregated_basket_cluster_score = aggregated_basket_cluster_score[0:50]\n",
    "    print(aggregated_basket_cluster_score)"
   ],
   "metadata": {
    "collapsed": false,
    "pycharm": {
     "name": "#%%\n",
     "is_executing": false
    }
   }
  },
  {
   "cell_type": "markdown",
   "source": [
    "#### Baseline method - K-means\n",
    "Now we will implement the baseline algorithm to compare our method with. \n",
    "A KNN method will be used. We will try to find the best K by trial and error based on the\n",
    "coherence of the results because there are not many possible Ks for the given dataset."
   ],
   "metadata": {
    "collapsed": false,
    "pycharm": {
     "name": "#%% md\n"
    }
   }
  },
  {
   "cell_type": "code",
   "source": [
    "baskets_as_docs = [' '.join(basket) for basket in baskets]\n",
    "X = vectorizer.fit_transform(baskets_as_docs)\n",
    "model = KMeans(n_clusters=10, init='k-means++', max_iter=100, n_init=1)\n",
    "model.fit(X)\n",
    "\n",
    "print(\"Top terms per cluster:\")\n",
    "order_centroids = model.cluster_centers_.argsort()[:, ::-1]\n",
    "terms = vectorizer.get_feature_names()\n",
    "baseline_labels = set(model.labels_)\n",
    "for i in baseline_labels:\n",
    "    print(\"Cluster %d:\" % i),\n",
    "    for ind in order_centroids[i, :10]:\n",
    "        print(' %s' % terms[ind])"
   ],
   "metadata": {
    "collapsed": false,
    "pycharm": {
     "name": "#%%\n",
     "is_executing": false
    }
   },
   "execution_count": 18,
   "outputs": [
    {
     "name": "stdout",
     "text": [
      "Top terms per cluster:\n",
      "Cluster 0:\n",
      " whipped\n",
      " sour-cream\n",
      " whole-milk\n",
      " other-vegetables\n",
      " yogurt\n",
      " root-vegetables\n",
      " curd\n",
      " berries\n",
      " tropical-fruit\n",
      " buns\n",
      "Cluster 1:\n",
      " bottled-beer\n",
      " yogurt\n",
      " newspapers\n",
      " tropical-fruit\n",
      " beverages\n",
      " coffee\n",
      " root-vegetables\n",
      " pip-fruit\n",
      " sausage\n",
      " bottled-water\n",
      "Cluster 2:\n",
      " pastry\n",
      " whole-milk\n",
      " soda\n",
      " other-vegetables\n",
      " brown-bread\n",
      " sausage\n",
      " yogurt\n",
      " tropical-fruit\n",
      " pip-fruit\n",
      " waffles\n",
      "Cluster 3:\n",
      " soda\n",
      " bottled-water\n",
      " bottled-beer\n",
      " specialty-chocolate\n",
      " specialty-bar\n",
      " frozen-meals\n",
      " whole-milk\n",
      " uht-milk\n",
      " chocolate\n",
      " sausage\n",
      "Cluster 4:\n",
      " buns\n",
      " rolls\n",
      " whole-milk\n",
      " soda\n",
      " sausage\n",
      " other-vegetables\n",
      " yogurt\n",
      " frankfurter\n",
      " bottled-water\n",
      " newspapers\n",
      "Cluster 5:\n",
      " whole-milk\n",
      " bottled-water\n",
      " yogurt\n",
      " newspapers\n",
      " tropical-fruit\n",
      " root-vegetables\n",
      " brown-bread\n",
      " curd\n",
      " pip-fruit\n",
      " citrus-fruit\n",
      "Cluster 6:\n",
      " vegetable-juice\n",
      " fruit\n",
      " whole-milk\n",
      " soda\n",
      " other-vegetables\n",
      " yogurt\n",
      " bottled-water\n",
      " buns\n",
      " rolls\n",
      " tropical-fruit\n",
      "Cluster 7:\n",
      " other-vegetables\n",
      " whole-milk\n",
      " root-vegetables\n",
      " citrus-fruit\n",
      " yogurt\n",
      " tropical-fruit\n",
      " pork\n",
      " pip-fruit\n",
      " beef\n",
      " chicken\n",
      "Cluster 8:\n",
      " shopping-bags\n",
      " soda\n",
      " other-vegetables\n",
      " whole-milk\n",
      " sausage\n",
      " tropical-fruit\n",
      " coffee\n",
      " pastry\n",
      " root-vegetables\n",
      " yogurt\n",
      "Cluster 9:\n",
      " canned-beer\n",
      " soda\n",
      " bottled-water\n",
      " shopping-bags\n",
      " newspapers\n",
      " whole-milk\n",
      " specialty-bar\n",
      " other-vegetables\n",
      " white-wine\n",
      " blush-wine\n"
     ],
     "output_type": "stream"
    }
   ]
  },
  {
   "cell_type": "markdown",
   "source": [
    "#### Compute Scores of Baskets created using K-Means\n",
    "For the created clusters of baskets using the baseline method, \n",
    "we calculate its scores in terms of similarity with the terms\n",
    "that scored high TF-IDF for the cuisines "
   ],
   "metadata": {
    "collapsed": false
   }
  },
  {
   "cell_type": "code",
   "execution_count": 19,
   "outputs": [
    {
     "name": "stdout",
     "text": [
      "mexican         881.723697\n",
      "russian         765.025918\n",
      "cajun_creole    477.840714\n",
      "greek           436.328780\n",
      "jamaican        423.141916\n",
      "italian         395.586177\n",
      "british         386.176890\n",
      "irish           384.062630\n",
      "spanish         382.890822\n",
      "southern_us     368.963851\n",
      "moroccan        361.516072\n",
      "thai            343.941967\n",
      "french          340.758449\n",
      "indian          340.616731\n",
      "chinese         335.019266\n",
      "filipino        315.088508\n",
      "japanese        312.268149\n",
      "brazilian       276.679998\n",
      "korean          253.538889\n",
      "vietnamese      196.070485\n",
      "dtype: float64\n",
      "vietnamese       -53.865805\n",
      "filipino        -189.530350\n",
      "spanish         -264.837105\n",
      "italian         -278.023594\n",
      "french          -288.699723\n",
      "moroccan        -331.382034\n",
      "korean          -365.104938\n",
      "russian         -438.866712\n",
      "brazilian       -447.196335\n",
      "southern_us     -496.134135\n",
      "irish           -524.792495\n",
      "british         -544.954219\n",
      "greek           -623.359358\n",
      "indian          -632.930576\n",
      "japanese        -695.118128\n",
      "chinese         -733.170861\n",
      "mexican         -806.497075\n",
      "cajun_creole    -823.518782\n",
      "jamaican        -854.958289\n",
      "thai           -1010.159938\n",
      "dtype: float64\n",
      "thai             81.838820\n",
      "korean           -1.669346\n",
      "vietnamese       -7.859422\n",
      "brazilian       -30.339960\n",
      "southern_us     -48.524522\n",
      "filipino        -50.888375\n",
      "japanese        -53.399210\n",
      "irish           -56.598157\n",
      "british         -57.325114\n",
      "spanish         -58.765677\n",
      "french          -62.253086\n",
      "chinese         -71.796331\n",
      "russian         -80.074984\n",
      "italian         -84.760667\n",
      "indian          -86.438907\n",
      "moroccan        -92.496563\n",
      "cajun_creole    -96.830521\n",
      "jamaican        -97.372728\n",
      "greek          -106.831371\n",
      "mexican        -135.177926\n",
      "dtype: float64\n",
      "irish          -106.519902\n",
      "vietnamese     -155.080365\n",
      "filipino       -164.489027\n",
      "brazilian      -183.945657\n",
      "french         -188.403395\n",
      "spanish        -189.125532\n",
      "korean         -196.102188\n",
      "italian        -197.666955\n",
      "russian        -198.952965\n",
      "moroccan       -202.158504\n",
      "southern_us    -206.739973\n",
      "indian         -219.220244\n",
      "british        -221.856629\n",
      "japanese       -232.314287\n",
      "greek          -245.279892\n",
      "jamaican       -251.841664\n",
      "chinese        -266.570665\n",
      "mexican        -274.061448\n",
      "cajun_creole   -283.060967\n",
      "thai           -303.342094\n",
      "dtype: float64\n",
      "french           -2.878006\n",
      "british         -13.404263\n",
      "southern_us     -26.839297\n",
      "vietnamese      -29.488077\n",
      "jamaican        -78.898601\n",
      "brazilian       -89.274185\n",
      "filipino        -89.645604\n",
      "korean         -100.233369\n",
      "italian        -100.390597\n",
      "irish          -101.187983\n",
      "russian        -119.296828\n",
      "chinese        -131.844811\n",
      "cajun_creole   -132.238845\n",
      "thai           -134.985728\n",
      "japanese       -137.132308\n",
      "spanish        -151.391247\n",
      "greek          -153.864511\n",
      "moroccan       -159.050356\n",
      "indian         -184.604404\n",
      "mexican        -288.902537\n",
      "dtype: float64\n",
      "brazilian       139.053701\n",
      "southern_us      94.381278\n",
      "british          87.989004\n",
      "irish            15.620101\n",
      "thai            -71.611758\n",
      "jamaican        -76.462948\n",
      "filipino        -83.665482\n",
      "cajun_creole    -91.905371\n",
      "french          -93.319879\n",
      "vietnamese     -111.439148\n",
      "italian        -117.496944\n",
      "russian        -126.741842\n",
      "korean         -148.811370\n",
      "spanish        -148.964535\n",
      "moroccan       -157.402110\n",
      "japanese       -166.920893\n",
      "indian         -167.391490\n",
      "chinese        -228.274245\n",
      "greek          -239.193071\n",
      "mexican        -273.951851\n",
      "dtype: float64\n",
      "thai            864.841787\n",
      "greek           734.667841\n",
      "japanese        721.300502\n",
      "chinese         707.003513\n",
      "mexican         666.601867\n",
      "jamaican        644.384873\n",
      "cajun_creole    632.760490\n",
      "indian          588.167781\n",
      "moroccan        440.814826\n",
      "italian         348.845050\n",
      "british         344.006946\n",
      "irish           342.677661\n",
      "southern_us     336.808556\n",
      "korean          331.393879\n",
      "russian         322.574476\n",
      "french          319.349649\n",
      "brazilian       300.747193\n",
      "vietnamese      294.154258\n",
      "spanish         293.051716\n",
      "filipino        283.911718\n",
      "dtype: float64\n",
      "indian          535.904482\n",
      "japanese        525.102869\n",
      "chinese         513.778075\n",
      "thai            502.982573\n",
      "jamaican        497.051116\n",
      "cajun_creole    391.657203\n",
      "greek           366.593093\n",
      "mexican         322.466314\n",
      "spanish         192.794586\n",
      "brazilian       171.797649\n",
      "british         150.140560\n",
      "moroccan        131.732072\n",
      "southern_us     127.881777\n",
      "italian         125.458810\n",
      "filipino        122.723618\n",
      "irish           121.788077\n",
      "french          105.159355\n",
      "korean           99.595511\n",
      "russian          74.827284\n",
      "vietnamese       29.275789\n",
      "dtype: float64\n",
      "korean          318.123227\n",
      "chinese         178.170933\n",
      "moroccan        170.997923\n",
      "irish           161.280252\n",
      "cajun_creole    127.122595\n",
      "italian          74.243750\n",
      "indian           73.202192\n",
      "mexican          72.334886\n",
      "british          61.379430\n",
      "southern_us      51.569688\n",
      "spanish          50.031955\n",
      "brazilian        43.906707\n",
      "filipino         43.322488\n",
      "vietnamese       32.101217\n",
      "greek            24.697199\n",
      "thai             19.855742\n",
      "jamaican         13.257823\n",
      "japanese          5.070236\n",
      "french            2.674710\n",
      "russian         -10.186143\n",
      "dtype: float64\n",
      "spanish        -105.684983\n",
      "french         -132.388074\n",
      "moroccan       -162.571326\n",
      "mexican        -164.535925\n",
      "italian        -165.795030\n",
      "brazilian      -181.429110\n",
      "filipino       -186.827494\n",
      "russian        -188.308204\n",
      "korean         -190.730295\n",
      "british        -192.152605\n",
      "greek          -193.758709\n",
      "vietnamese     -193.868932\n",
      "southern_us    -201.367225\n",
      "cajun_creole   -201.826517\n",
      "jamaican       -218.301499\n",
      "irish          -236.330183\n",
      "indian         -247.305565\n",
      "japanese       -278.856930\n",
      "thai           -293.361372\n",
      "chinese        -302.314874\n",
      "dtype: float64\n"
     ],
     "output_type": "stream"
    }
   ],
   "source": [
    "baseline_baskets_scores = {}\n",
    "for cluster in baseline_labels:\n",
    "    basket_scores = baskets_scores_df[model.labels_ == cluster]\n",
    "    cluster_scores = np.sum(basket_scores, axis=0).sort_values(ascending=False)\n",
    "    cluster_scores = cluster_scores[0:50]\n",
    "    print(cluster_scores)"
   ],
   "metadata": {
    "collapsed": false,
    "pycharm": {
     "name": "#%%\n",
     "is_executing": false
    }
   }
  },
  {
   "cell_type": "markdown",
   "source": [],
   "metadata": {
    "collapsed": false
   }
  }
 ],
 "metadata": {
  "kernelspec": {
   "name": "pycharm-4979b13c",
   "language": "python",
   "display_name": "PyCharm (Project)"
  },
  "language_info": {
   "codemirror_mode": {
    "name": "ipython",
    "version": 2
   },
   "file_extension": ".py",
   "mimetype": "text/x-python",
   "name": "python",
   "nbconvert_exporter": "python",
   "pygments_lexer": "ipython2",
   "version": "2.7.11"
  },
  "pycharm": {
   "stem_cell": {
    "cell_type": "raw",
    "source": [],
    "metadata": {
     "collapsed": false
    }
   }
  }
 },
 "nbformat": 4,
 "nbformat_minor": 0
}