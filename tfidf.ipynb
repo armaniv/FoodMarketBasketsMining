{
 "cells": [
  {
   "cell_type": "code",
   "execution_count": 1,
   "metadata": {
    "collapsed": true,
    "pycharm": {
     "is_executing": false,
     "name": "#%%\n"
    }
   },
   "outputs": [],
   "source": [
    "import json\n",
    "import pandas as pd\n",
    "import matplotlib.pyplot as plt\n",
    "import csv\n",
    "import numpy as np\n",
    "import time\n",
    "\n",
    "from nltk.util import ngrams\n",
    "from sklearn.feature_extraction.text import TfidfVectorizer \n",
    "from sklearn.cluster import DBSCAN\n",
    "from sklearn.cluster import OPTICS\n",
    "from sklearn.cluster import KMeans\n",
    "from sklearn.preprocessing import StandardScaler\n",
    "from itertools import compress"
   ]
  },
  {
   "cell_type": "markdown",
   "metadata": {},
   "source": [
    "#### Load Recipes Data"
   ]
  },
  {
   "cell_type": "code",
   "execution_count": 2,
   "metadata": {
    "collapsed": true,
    "pycharm": {
     "is_executing": false
    }
   },
   "outputs": [],
   "source": [
    "recipes = json.load(open('./data/recipe_train.json'))\n",
    "\n",
    "# for dic in recipes:\n",
    "#     ingredients = []\n",
    "#     for ingredient in dic['ingredients']:\n",
    "#         tmp_ingredient = ingredient.replace(' ', '-')\n",
    "#         ingredients.append(tmp_ingredient)\n",
    "#         dic['ingredients'] = ingredients"
   ]
  },
  {
   "cell_type": "markdown",
   "source": [
    "#### Convert recipe to text document"
   ],
   "metadata": {
    "collapsed": false,
    "pycharm": {
     "name": "#%% md\n",
     "is_executing": false
    }
   }
  },
  {
   "cell_type": "code",
   "execution_count": 3,
   "metadata": {
    "collapsed": true,
    "pycharm": {
     "is_executing": false
    }
   },
   "outputs": [],
   "source": [
    "recipes_as_doc = {}\n",
    "\n",
    "for sample in recipes:\n",
    "    key = sample['cuisine']\n",
    "    # If key is in the dictionary, return its value. If not, insert key with a value of default and return default.\n",
    "    recipes_as_doc.setdefault(key,[]).append(' '.join(sample['ingredients']).lower())\n",
    "\n",
    "# create a single list with all the documents\n",
    "all_docs = []\n",
    "for k, v in recipes_as_doc.items():\n",
    "   all_docs.append(' '.join(v))"
   ]
  },
  {
   "cell_type": "markdown",
   "source": [
    "#### Tfidf vectorizer for text data"
   ]
  },
  {
   "cell_type": "code",
   "execution_count": 4,
   "metadata": {
    "collapsed": false,
    "pycharm": {
     "name": "#%%\n",
     "is_executing": false
    }
   },
   "outputs": [],
   "source": [
    "# code adapted from https://programminghistorian.org/en/lessons/analyzing-documents-with-tfidf\n",
    "\n",
    "# vectorizer = TfidfVectorizer(use_idf=True, token_pattern=r\"(?u)\\b\\w[\\w-]*\\w\\b\")\n",
    "vectorizer = TfidfVectorizer(use_idf=True)\n",
    "transformed_documents = vectorizer.fit_transform(all_docs)"
   ]
  },
  {
   "cell_type": "markdown",
   "source": [
    "#### Analyze results"
   ],
   "metadata": {
    "collapsed": false
   }
  },
  {
   "cell_type": "code",
   "execution_count": 5,
   "outputs": [
    {
     "name": "stdout",
     "text": [
      "greek southern_us filipino indian jamaican spanish italian mexican chinese british thai vietnamese cajun_creole brazilian french japanese irish korean moroccan russian "
     ],
     "output_type": "stream"
    }
   ],
   "source": [
    "transformed_documents_as_array = transformed_documents.toarray()\n",
    "len(transformed_documents_as_array)\n",
    "docs_scores_dfs = {}\n",
    "\n",
    "# loop each item in transformed_documents_as_array, using enumerate to keep track of the current position\n",
    "for counter, doc in enumerate(transformed_documents_as_array):\n",
    "    # construct a data frame\n",
    "    tf_idf_tuples = list(zip(vectorizer.get_feature_names(), doc))\n",
    "    one_doc_as_df = pd.DataFrame\\\n",
    "        .from_records(tf_idf_tuples, columns=['term', 'score'])\\\n",
    "        .sort_values(by='score', ascending=False)\\\n",
    "        .reset_index(drop=True)\n",
    "    docs_scores_dfs[list(recipes_as_doc.keys())[counter]] = one_doc_as_df\n",
    "\n",
    "    print(list(recipes_as_doc.keys())[counter], end=' ')\n",
    "    # print(one_doc_as_df)\n",
    "    # output to a csv using the enumerated value for the filename\n",
    "    # one_doc_as_df.to_csv(\"tf.idf\" + counter.__str__() + \".csv\")"
   ],
   "metadata": {
    "collapsed": false,
    "pycharm": {
     "name": "#%%\n",
     "is_executing": false
    }
   }
  },
  {
   "cell_type": "markdown",
   "source": [
    "#### Statistics of Scores"
   ],
   "metadata": {
    "collapsed": false,
    "pycharm": {
     "name": "#%% md\n"
    }
   }
  },
  {
   "cell_type": "code",
   "execution_count": 6,
   "outputs": [
    {
     "data": {
      "text/plain": "Text(0, 0.5, 'Number of Therms')"
     },
     "metadata": {},
     "output_type": "execute_result",
     "execution_count": 6
    },
    {
     "data": {
      "text/plain": "<Figure size 432x288 with 1 Axes>",
      "image/png": "[encoded data removed]"
     },
     "metadata": {
      "needs_background": "light"
     },
     "output_type": "display_data"
    }
   ],
   "source": [
    "statistics = {}\n",
    "for k in docs_scores_dfs.keys():\n",
    "    df = docs_scores_dfs[k]\n",
    "    scores = df['score']\n",
    "    scores = scores.loc[scores>0.0]\n",
    "    statistics[k] = [scores.mean(), scores.max(), scores.min(), df['score'].astype(bool).sum(axis=0)]\n",
    "\n",
    "irish_scores = docs_scores_dfs[\"irish\"][\"score\"]\n",
    "irish_scores = irish_scores.loc[irish_scores>0.0]\n",
    "plt.hist(irish_scores, color = 'blue', edgecolor = 'black', bins=300)\n",
    "plt.title('Histogram of Scores')\n",
    "plt.xlabel('Frequency')\n",
    "plt.ylabel('Number of Therms')\n",
    "# print(statistics)"
   ],
   "metadata": {
    "collapsed": false,
    "pycharm": {
     "name": "#%%\n",
     "is_executing": false
    }
   }
  },
  {
   "cell_type": "markdown",
   "source": [
    "#### Top 10 therms per cuisine"
   ],
   "metadata": {
    "collapsed": false,
    "pycharm": {
     "name": "#%% md\n"
    }
   }
  },
  {
   "cell_type": "code",
   "execution_count": 7,
   "outputs": [],
   "source": [
    "for k in docs_scores_dfs.keys():\n",
    "    scores_df = docs_scores_dfs[k]\n",
    "    # print('-------------')\n",
    "    # print(k)\n",
    "    # print(scores_df.iloc[:15,:])\n"
   ],
   "metadata": {
    "collapsed": false,
    "pycharm": {
     "name": "#%%\n",
     "is_executing": false
    }
   }
  },
  {
   "cell_type": "markdown",
   "source": [
    "#### Load Baskets Market Data"
   ],
   "metadata": {
    "collapsed": false,
    "pycharm": {
     "name": "#%% md\n"
    }
   }
  },
  {
   "cell_type": "code",
   "execution_count": 8,
   "outputs": [],
   "source": [
    "baskets = []\n",
    "with open('./data/groceries.csv', newline=None) as f:\n",
    "  reader = csv.reader(f)\n",
    "  for row in reader:\n",
    "    baskets.append([elem.replace(' ', '-') for elem in row])"
   ],
   "metadata": {
    "collapsed": false,
    "pycharm": {
     "name": "#%%\n",
     "is_executing": false
    }
   }
  },
  {
   "cell_type": "markdown",
   "source": [
    "#### Compute ngram for tf.idf top score "
   ],
   "metadata": {
    "collapsed": false
   }
  },
  {
   "cell_type": "code",
   "execution_count": 9,
   "outputs": [],
   "source": [
    "top_scores_ngram = {}\n",
    "CUISINE_TOP_SCORE_THRESHOLD = 0.1\n",
    "for cuisine in docs_scores_dfs.keys():\n",
    "    scores_df = docs_scores_dfs[cuisine]\n",
    "    scores_df = scores_df[scores_df['score']>CUISINE_TOP_SCORE_THRESHOLD]\n",
    "    scores_df = scores_df.sort_values(by=['score'],ascending=False)\n",
    "    \n",
    "    ngram_scores = []\n",
    "    for index, row in scores_df.iterrows():\n",
    "        ngram = list(ngrams(row['term'], 3))\n",
    "        score =  row['score']\n",
    "        ngram_scores.append([ngram, score, row['term']])\n",
    "        \n",
    "    top_scores_ngram[cuisine] = ngram_scores"
   ],
   "metadata": {
    "collapsed": false,
    "pycharm": {
     "name": "#%%\n",
     "is_executing": false
    }
   }
  },
  {
   "cell_type": "markdown",
   "source": [
    "#### Define the metric similarity"
   ],
   "metadata": {
    "collapsed": false
   }
  },
  {
   "cell_type": "code",
   "execution_count": 10,
   "outputs": [],
   "source": [
    "def jaccard_distance(a, b):\n",
    "    \"\"\"Calculate the jaccard distance between sets A and B\"\"\"\n",
    "    a = set(a)\n",
    "    b = set(b)\n",
    "    return 1.0 * len(a&b)/len(a|b)"
   ],
   "metadata": {
    "collapsed": false,
    "pycharm": {
     "name": "#%%\n",
     "is_executing": false
    }
   }
  },
  {
   "cell_type": "markdown",
   "source": [
    "#### Compute Basket Scores\n",
    "For each basket we iterate over all items and compute their similarities with the top \n",
    "terms in the cuisines docs.\n",
    "\n",
    "But first, in order to optimize computation we first calculate ngrams of unique items."
   ],
   "metadata": {
    "collapsed": false
   }
  },
  {
   "cell_type": "code",
   "execution_count": 11,
   "outputs": [],
   "source": [
    "items_ngrams = {}\n",
    "for basket in baskets:\n",
    "    for item in basket:\n",
    "        if items_ngrams.get(item) is None :\n",
    "            items_ngrams[item] = list(ngrams(item, 3))"
   ],
   "metadata": {
    "collapsed": false,
    "pycharm": {
     "name": "#%%\n",
     "is_executing": false
    }
   }
  },
  {
   "cell_type": "code",
   "execution_count": 12,
   "outputs": [
    {
     "name": "stdout",
     "text": [
      "--- 10.044097423553467 seconds ---\n"
     ],
     "output_type": "stream"
    }
   ],
   "source": [
    "start_time = time.time()\n",
    "baskets_scores = []\n",
    "all_similarities = {}\n",
    "for basket in baskets:\n",
    "    similarities = {}\n",
    "    for cuisine in top_scores_ngram:\n",
    "        value = 0\n",
    "        sims = 0\n",
    "        for item in basket:      \n",
    "            item_ngram = items_ngrams[item]\n",
    "            for ngram_term, score, term in top_scores_ngram[cuisine]:\n",
    "                if all_similarities.get(item+term) is None:\n",
    "                    if all_similarities.get(term+item) is None:\n",
    "                        sim = jaccard_distance(item_ngram, ngram_term)\n",
    "                        all_similarities[item+term] = sim\n",
    "                        all_similarities[term+item] = sim\n",
    "                    else:\n",
    "                        sim = all_similarities[term+item]\n",
    "                else:\n",
    "                    sim = all_similarities[item+term]\n",
    "\n",
    "                if sim > 0.2:\n",
    "                    value += sim * score\n",
    "                    sims += sim\n",
    "        if sims != 0:\n",
    "            value = value/sims\n",
    "        else:\n",
    "            value=0\n",
    "                    \n",
    "        similarities[cuisine] = value    \n",
    "    baskets_scores.append(similarities)\n",
    "           \n",
    "    # print('------------------')\n",
    "    # print(\"basket: \", basket)\n",
    "    # for k in similarities:\n",
    "    #     print(k, similarities[k]) \n",
    "baskets_scores_df = pd.DataFrame(baskets_scores)\n",
    "baskets_scores_df=(baskets_scores_df-baskets_scores_df.mean())/baskets_scores_df.std()\n",
    "print(\"--- %s seconds ---\" % (time.time() - start_time))"
   ],
   "metadata": {
    "collapsed": false,
    "pycharm": {
     "name": "#%%\n",
     "is_executing": false
    }
   }
  },
  {
   "cell_type": "markdown",
   "source": [
    "#### CLustering baskets\n",
    "We now try to cluster the baskets, based on the scores that they \n",
    "obtained using frequent therms of recipes"
   ],
   "metadata": {
    "collapsed": false,
    "pycharm": {
     "name": "#%% md\n"
    }
   }
  },
  {
   "cell_type": "code",
   "execution_count": 13,
   "outputs": [],
   "source": [
    "X = StandardScaler().fit_transform(baskets_scores_df.to_numpy())"
   ],
   "metadata": {
    "collapsed": false,
    "pycharm": {
     "name": "#%%\n",
     "is_executing": false
    }
   }
  },
  {
   "cell_type": "code",
   "execution_count": 14,
   "outputs": [
    {
     "name": "stdout",
     "text": [
      "{0, 1, 2, -1}\n"
     ],
     "output_type": "stream"
    },
    {
     "name": "stderr",
     "text": [
      "/home/nepotu/anaconda3/envs/dataMiningProject/lib/python3.7/site-packages/sklearn/cluster/_optics.py:802: RuntimeWarning: divide by zero encountered in true_divide\n",
      "  ratio = reachability_plot[:-1] / reachability_plot[1:]\n"
     ],
     "output_type": "stream"
    }
   ],
   "source": [
    "# OPTICS\n",
    "optics = OPTICS(min_samples=50, max_eps=0.1, xi=.05, min_cluster_size=.05)\n",
    "optics.fit(X)\n",
    "optics_labels = optics.labels_[optics.ordering_]\n",
    "print(set(optics_labels))"
   ],
   "metadata": {
    "collapsed": false,
    "pycharm": {
     "name": "#%%\n",
     "is_executing": false
    }
   }
  },
  {
   "cell_type": "code",
   "execution_count": 15,
   "outputs": [
    {
     "name": "stdout",
     "text": [
      "{0, 1, 2, 3, 4, 5, 6}\n"
     ],
     "output_type": "stream"
    }
   ],
   "source": [
    "# K-Means\n",
    "kMeans = KMeans(n_clusters=7, random_state=0).fit(X)\n",
    "kMeans_labels = kMeans.labels_\n",
    "print(set(kMeans_labels))"
   ],
   "metadata": {
    "collapsed": false,
    "pycharm": {
     "name": "#%%\n",
     "is_executing": false
    }
   }
  },
  {
   "cell_type": "code",
   "execution_count": 27,
   "outputs": [
    {
     "name": "stdout",
     "text": [
      "{0, 1, 2, 3, 4, -1}\n",
      "[0.05, 200]\n"
     ],
     "output_type": "stream"
    }
   ],
   "source": [
    "# DBSCAN \n",
    "[eps, min_samples] = [0.35, 200]\n",
    "dbScan = DBSCAN(eps=eps, min_samples=min_samples, metric='euclidean').fit(X)\n",
    "dbScan_labels = dbScan.labels_\n",
    "print(set(dbScan_labels))\n",
    "print([eps, min_samples])\n"
   ],
   "metadata": {
    "collapsed": false,
    "pycharm": {
     "name": "#%%\n",
     "is_executing": false
    }
   }
  },
  {
   "cell_type": "markdown",
   "source": [
    "#### Analysis of the method\n",
    "Observe size of created basket clusters"
   ],
   "metadata": {
    "collapsed": false,
    "pycharm": {
     "name": "#%% md\n"
    }
   }
  },
  {
   "cell_type": "code",
   "execution_count": 28,
   "outputs": [
    {
     "data": {
      "text/plain": "<matplotlib.axes._subplots.AxesSubplot at 0x7effcd120f10>"
     },
     "metadata": {},
     "output_type": "execute_result",
     "execution_count": 28
    },
    {
     "data": {
      "text/plain": "<Figure size 432x288 with 1 Axes>",
      "image/png": "[encoded data removed]"
     },
     "metadata": {
      "needs_background": "light"
     },
     "output_type": "display_data"
    }
   ],
   "source": [
    "labels = dbScan_labels\n",
    "cluster_sizes = []\n",
    "for label in sorted(set(labels)):\n",
    "    cluster_sizes.append([label, len(baskets_scores_df[labels == label])])\n",
    "pd.DataFrame(cluster_sizes).plot(kind='bar')"
   ],
   "metadata": {
    "collapsed": false,
    "pycharm": {
     "name": "#%%\n",
     "is_executing": false
    }
   }
  },
  {
   "cell_type": "markdown",
   "source": [
    "Select one cluster and calculate its overall score (by summing\n",
    "all scores of all items of that cluster)"
   ],
   "metadata": {
    "collapsed": false,
    "pycharm": {
     "name": "#%% md\n"
    }
   }
  },
  {
   "cell_type": "code",
   "execution_count": 29,
   "outputs": [
    {
     "name": "stdout",
     "text": [
      "Cluster  0\n",
      "#Baskets:  2544\n",
      "moroccan       -0.390361\n",
      "spanish        -0.428859\n",
      "italian        -0.505883\n",
      "korean         -0.505908\n",
      "japanese       -0.532724\n",
      "chinese        -0.551486\n",
      "indian         -0.568075\n",
      "vietnamese     -0.576202\n",
      "greek          -0.603279\n",
      "mexican        -0.603313\n",
      "cajun_creole   -0.609345\n",
      "french         -0.773731\n",
      "jamaican       -0.838674\n",
      "brazilian      -0.840716\n",
      "filipino       -0.860176\n",
      "russian        -0.861334\n",
      "thai           -0.907920\n",
      "british        -0.914826\n",
      "southern_us    -0.915637\n",
      "irish          -0.994313\n",
      "dtype: float64\n",
      "Cluster  1\n",
      "#Baskets:  212\n",
      "greek           0.604127\n",
      "moroccan       -0.390361\n",
      "spanish        -0.428859\n",
      "italian        -0.505883\n",
      "korean         -0.505908\n",
      "japanese       -0.532724\n",
      "chinese        -0.551486\n",
      "indian         -0.568075\n",
      "vietnamese     -0.576202\n",
      "mexican        -0.603313\n",
      "cajun_creole   -0.609345\n",
      "french         -0.773731\n",
      "jamaican       -0.838674\n",
      "brazilian      -0.840716\n",
      "filipino       -0.860176\n",
      "russian        -0.861334\n",
      "thai           -0.907920\n",
      "british        -0.914826\n",
      "southern_us    -0.915637\n",
      "irish          -0.994313\n",
      "dtype: float64\n",
      "Cluster  2\n",
      "#Baskets:  559\n",
      "brazilian       1.380905\n",
      "thai            0.935115\n",
      "british         0.904891\n",
      "irish           0.665244\n",
      "southern_us     0.632273\n",
      "jamaican        0.543025\n",
      "filipino        0.419079\n",
      "russian         0.252989\n",
      "moroccan       -0.390361\n",
      "spanish        -0.428859\n",
      "italian        -0.505883\n",
      "korean         -0.505908\n",
      "japanese       -0.532724\n",
      "chinese        -0.551486\n",
      "indian         -0.568075\n",
      "vietnamese     -0.576202\n",
      "greek          -0.603279\n",
      "mexican        -0.603313\n",
      "cajun_creole   -0.609345\n",
      "french         -0.773731\n",
      "dtype: float64\n",
      "Cluster  3\n",
      "#Baskets:  499\n",
      "irish           0.147323\n",
      "moroccan       -0.390361\n",
      "spanish        -0.428859\n",
      "italian        -0.505883\n",
      "korean         -0.505908\n",
      "japanese       -0.532724\n",
      "chinese        -0.551486\n",
      "indian         -0.568075\n",
      "vietnamese     -0.576202\n",
      "greek          -0.603279\n",
      "mexican        -0.603313\n",
      "cajun_creole   -0.609345\n",
      "french         -0.773731\n",
      "jamaican       -0.838674\n",
      "brazilian      -0.840716\n",
      "filipino       -0.860176\n",
      "russian        -0.861334\n",
      "thai           -0.907920\n",
      "british        -0.914826\n",
      "southern_us    -0.915637\n",
      "dtype: float64\n",
      "Cluster  4\n",
      "#Baskets:  285\n",
      "filipino        1.470613\n",
      "japanese        1.422046\n",
      "jamaican        1.148792\n",
      "chinese         1.116624\n",
      "vietnamese      1.082385\n",
      "russian         0.999585\n",
      "indian          0.941419\n",
      "korean          0.912091\n",
      "french          0.729677\n",
      "southern_us     0.322414\n",
      "brazilian       0.245841\n",
      "british         0.213779\n",
      "irish           0.096749\n",
      "moroccan       -0.390361\n",
      "spanish        -0.428859\n",
      "italian        -0.505883\n",
      "greek          -0.603279\n",
      "mexican        -0.603313\n",
      "cajun_creole   -0.609345\n",
      "thai           -0.907920\n",
      "dtype: float64\n",
      "Cluster  -1\n",
      "#Baskets:  5736\n",
      "french          0.478217\n",
      "thai            0.469196\n",
      "southern_us     0.441958\n",
      "cajun_creole    0.435444\n",
      "mexican         0.431133\n",
      "british         0.420327\n",
      "russian         0.414460\n",
      "irish           0.395287\n",
      "greek           0.386484\n",
      "filipino        0.374213\n",
      "jamaican        0.365922\n",
      "italian         0.361509\n",
      "indian          0.330951\n",
      "brazilian       0.330290\n",
      "vietnamese      0.329351\n",
      "chinese         0.311215\n",
      "spanish         0.306467\n",
      "korean          0.291072\n",
      "japanese        0.283564\n",
      "moroccan        0.278956\n",
      "dtype: float64\n"
     ],
     "output_type": "stream"
    }
   ],
   "source": [
    "for selected_basket_cluster in set(labels):\n",
    "    print(\"Cluster \", selected_basket_cluster)\n",
    "    selected_basket_scores = baskets_scores_df[labels == selected_basket_cluster]\n",
    "    print(\"#Baskets: \", selected_basket_scores.shape[0])\n",
    "    aggregated_basket_cluster_score \\\n",
    "        = np.mean(selected_basket_scores, axis=0)\\\n",
    "        .sort_values(ascending=False)\n",
    "    selected_baskets = list(compress(baskets, labels == selected_basket_cluster))\n",
    "    selected_baskets = [' '.join(l) for l in selected_baskets]\n",
    "    aggregated_basket_cluster_score = aggregated_basket_cluster_score[0:50]\n",
    "    print(aggregated_basket_cluster_score)"
   ],
   "metadata": {
    "collapsed": false,
    "pycharm": {
     "name": "#%%\n",
     "is_executing": false
    }
   }
  },
  {
   "cell_type": "markdown",
   "source": [
    "#### Baseline method - K-means\n",
    "Now we will implement the baseline algorithm to compare our method with. \n",
    "A KNN method will be used. We will try to find the best K by trial and error based on the\n",
    "coherence of the results because there are not many possible Ks for the given dataset."
   ],
   "metadata": {
    "collapsed": false,
    "pycharm": {
     "name": "#%% md\n"
    }
   }
  },
  {
   "cell_type": "code",
   "source": [
    "baskets_as_docs = [' '.join(basket) for basket in baskets]\n",
    "X_Baskets = vectorizer.fit_transform(baskets_as_docs)\n",
    "model = KMeans(n_clusters=10, init='k-means++', max_iter=100, n_init=1)\n",
    "model.fit(X_Baskets)\n",
    "\n",
    "print(\"Top terms per cluster:\")\n",
    "order_centroids = model.cluster_centers_.argsort()[:, ::-1]\n",
    "terms = vectorizer.get_feature_names()\n",
    "baseline_labels = set(model.labels_)\n",
    "for i in baseline_labels:\n",
    "    print(\"Cluster %d:\" % i),\n",
    "    for ind in order_centroids[i, :10]:\n",
    "        print(' %s' % terms[ind])"
   ],
   "metadata": {
    "collapsed": false,
    "pycharm": {
     "name": "#%%\n",
     "is_executing": false
    }
   },
   "execution_count": 19,
   "outputs": [
    {
     "name": "stdout",
     "text": [
      "Top terms per cluster:\n",
      "Cluster 0:\n",
      " hygiene\n",
      " articles\n",
      " vegetables\n",
      " fruit\n",
      " milk\n",
      " whole\n",
      " napkins\n",
      " other\n",
      " bags\n",
      " bottled\n",
      "Cluster 1:\n",
      " vegetables\n",
      " milk\n",
      " whole\n",
      " other\n",
      " cream\n",
      " yogurt\n",
      " frozen\n",
      " newspapers\n",
      " root\n",
      " cheese\n",
      "Cluster 2:\n",
      " canned\n",
      " beer\n",
      " soda\n",
      " buns\n",
      " rolls\n",
      " newspapers\n",
      " vegetables\n",
      " milk\n",
      " fruit\n",
      " wine\n",
      "Cluster 3:\n",
      " bottled\n",
      " water\n",
      " beer\n",
      " soda\n",
      " milk\n",
      " whole\n",
      " vegetables\n",
      " wine\n",
      " liquor\n",
      " fruit\n",
      "Cluster 4:\n",
      " specialty\n",
      " chocolate\n",
      " bar\n",
      " soda\n",
      " vegetables\n",
      " marshmallow\n",
      " rolls\n",
      " buns\n",
      " milk\n",
      " cheese\n",
      "Cluster 5:\n",
      " shopping\n",
      " bags\n",
      " vegetables\n",
      " soda\n",
      " milk\n",
      " canned\n",
      " sausage\n",
      " beer\n",
      " buns\n",
      " rolls\n",
      "Cluster 6:\n",
      " soda\n",
      " pastry\n",
      " sausage\n",
      " milk\n",
      " chocolate\n",
      " beverages\n",
      " waffles\n",
      " frankfurter\n",
      " coffee\n",
      " whole\n",
      "Cluster 7:\n",
      " buns\n",
      " rolls\n",
      " milk\n",
      " soda\n",
      " sausage\n",
      " whole\n",
      " vegetables\n",
      " bottled\n",
      " yogurt\n",
      " fruit\n",
      "Cluster 8:\n",
      " fruit\n",
      " tropical\n",
      " vegetables\n",
      " pip\n",
      " citrus\n",
      " juice\n",
      " vegetable\n",
      " milk\n",
      " whole\n",
      " other\n",
      "Cluster 9:\n",
      " bread\n",
      " brown\n",
      " white\n",
      " vegetables\n",
      " milk\n",
      " whole\n",
      " fruit\n",
      " semi\n",
      " finished\n",
      " other\n"
     ],
     "output_type": "stream"
    }
   ]
  },
  {
   "cell_type": "markdown",
   "source": [
    "#### Compute Scores of Baskets created using K-Means\n",
    "For the created clusters of baskets using the baseline method, \n",
    "we calculate its scores in terms of similarity with the terms\n",
    "that scored high TF-IDF for the cuisines "
   ],
   "metadata": {
    "collapsed": false
   }
  },
  {
   "cell_type": "code",
   "execution_count": 20,
   "outputs": [
    {
     "name": "stdout",
     "text": [
      "italian         0.186383\n",
      "mexican         0.190261\n",
      "cajun_creole    0.230859\n",
      "moroccan        0.243217\n",
      "greek           0.253509\n",
      "spanish         0.261457\n",
      "indian          0.280015\n",
      "irish           0.280503\n",
      "jamaican        0.296406\n",
      "vietnamese      0.304387\n",
      "british         0.306389\n",
      "french          0.307074\n",
      "russian         0.311748\n",
      "southern_us     0.318269\n",
      "japanese        0.326204\n",
      "brazilian       0.330248\n",
      "chinese         0.337361\n",
      "filipino        0.344067\n",
      "korean          0.359255\n",
      "thai            0.400019\n",
      "dtype: float64\n",
      "japanese       -0.070368\n",
      "chinese        -0.041024\n",
      "vietnamese     -0.029170\n",
      "korean         -0.027026\n",
      "french         -0.022642\n",
      "filipino       -0.018381\n",
      "indian          0.005493\n",
      "jamaican        0.006427\n",
      "russian         0.016297\n",
      "irish           0.018287\n",
      "italian         0.036310\n",
      "spanish         0.051779\n",
      "greek           0.056253\n",
      "brazilian       0.059465\n",
      "southern_us     0.063626\n",
      "british         0.072453\n",
      "cajun_creole    0.072707\n",
      "mexican         0.079644\n",
      "moroccan        0.086311\n",
      "thai            0.109409\n",
      "dtype: float64\n",
      "irish          -0.752732\n",
      "british        -0.742718\n",
      "southern_us    -0.732219\n",
      "filipino       -0.723379\n",
      "russian        -0.706760\n",
      "brazilian      -0.706424\n",
      "jamaican       -0.702322\n",
      "thai           -0.695499\n",
      "french         -0.632643\n",
      "cajun_creole   -0.490316\n",
      "greek          -0.487374\n",
      "mexican        -0.484405\n",
      "indian         -0.483696\n",
      "chinese        -0.478603\n",
      "japanese       -0.455687\n",
      "vietnamese     -0.451121\n",
      "korean         -0.433721\n",
      "italian        -0.417100\n",
      "spanish        -0.342511\n",
      "moroccan       -0.319048\n",
      "dtype: float64\n",
      "thai           -0.308731\n",
      "mexican        -0.273585\n",
      "greek          -0.257914\n",
      "cajun_creole   -0.256504\n",
      "italian        -0.232411\n",
      "moroccan       -0.167205\n",
      "spanish        -0.158836\n",
      "irish          -0.052065\n",
      "british         0.009258\n",
      "brazilian       0.048961\n",
      "southern_us     0.064316\n",
      "french          0.305976\n",
      "russian         0.363480\n",
      "jamaican        0.455746\n",
      "indian          0.470652\n",
      "korean          0.484129\n",
      "vietnamese      0.529448\n",
      "chinese         0.567114\n",
      "filipino        0.586537\n",
      "japanese        0.738091\n",
      "dtype: float64\n",
      "brazilian      -0.255930\n",
      "thai           -0.248124\n",
      "filipino       -0.241114\n",
      "british        -0.236005\n",
      "jamaican       -0.228671\n",
      "southern_us    -0.217620\n",
      "irish          -0.216293\n",
      "russian        -0.213425\n",
      "vietnamese     -0.191118\n",
      "french         -0.182608\n",
      "chinese        -0.170011\n",
      "korean         -0.159035\n",
      "japanese       -0.156816\n",
      "cajun_creole   -0.148925\n",
      "indian         -0.143670\n",
      "spanish        -0.112072\n",
      "moroccan       -0.094282\n",
      "mexican        -0.084335\n",
      "greek          -0.058179\n",
      "italian        -0.033892\n",
      "dtype: float64\n",
      "british        -0.050077\n",
      "brazilian      -0.047220\n",
      "irish          -0.041830\n",
      "russian        -0.032174\n",
      "southern_us    -0.009733\n",
      "thai            0.001692\n",
      "filipino        0.005640\n",
      "indian          0.009816\n",
      "jamaican        0.013826\n",
      "japanese        0.014649\n",
      "chinese         0.017269\n",
      "korean          0.022234\n",
      "moroccan        0.038607\n",
      "vietnamese      0.039257\n",
      "french          0.044972\n",
      "greek           0.056758\n",
      "mexican         0.059778\n",
      "italian         0.061822\n",
      "spanish         0.074136\n",
      "cajun_creole    0.135244\n",
      "dtype: float64\n",
      "british        -0.803184\n",
      "southern_us    -0.799578\n",
      "filipino       -0.776467\n",
      "russian        -0.771716\n",
      "jamaican       -0.761393\n",
      "brazilian      -0.745416\n",
      "french         -0.698405\n",
      "thai           -0.620423\n",
      "vietnamese     -0.553487\n",
      "mexican        -0.533373\n",
      "greek          -0.529611\n",
      "cajun_creole   -0.529287\n",
      "indian         -0.523546\n",
      "chinese        -0.522458\n",
      "japanese       -0.511382\n",
      "korean         -0.484370\n",
      "italian        -0.447222\n",
      "spanish        -0.387572\n",
      "moroccan       -0.357594\n",
      "irish           0.157724\n",
      "dtype: float64\n",
      "indian         -0.265948\n",
      "filipino       -0.246879\n",
      "jamaican       -0.243207\n",
      "korean         -0.234389\n",
      "chinese        -0.232429\n",
      "spanish        -0.231311\n",
      "japanese       -0.224399\n",
      "vietnamese     -0.221634\n",
      "moroccan       -0.204290\n",
      "thai           -0.202713\n",
      "russian        -0.201367\n",
      "french         -0.200136\n",
      "mexican        -0.192453\n",
      "brazilian      -0.190544\n",
      "southern_us    -0.181659\n",
      "british        -0.171522\n",
      "greek          -0.140681\n",
      "irish          -0.136794\n",
      "cajun_creole   -0.133808\n",
      "italian        -0.115309\n",
      "dtype: float64\n",
      "spanish         0.105007\n",
      "japanese        0.117390\n",
      "vietnamese      0.125239\n",
      "korean          0.128602\n",
      "moroccan        0.131087\n",
      "indian          0.132621\n",
      "chinese         0.146995\n",
      "french          0.168120\n",
      "cajun_creole    0.177393\n",
      "russian         0.187944\n",
      "irish           0.193265\n",
      "jamaican        0.194823\n",
      "filipino        0.195272\n",
      "southern_us     0.200203\n",
      "italian         0.202263\n",
      "mexican         0.217071\n",
      "greek           0.217174\n",
      "british         0.219286\n",
      "brazilian       0.233076\n",
      "thai            0.239742\n",
      "dtype: float64\n",
      "indian         -0.007161\n",
      "moroccan        0.001436\n",
      "japanese        0.020832\n",
      "korean          0.029643\n",
      "chinese         0.031883\n",
      "vietnamese      0.047496\n",
      "cajun_creole    0.100069\n",
      "italian         0.111898\n",
      "greek           0.112133\n",
      "mexican         0.118811\n",
      "jamaican        0.123933\n",
      "filipino        0.124468\n",
      "russian         0.174275\n",
      "irish           0.218707\n",
      "southern_us     0.220563\n",
      "brazilian       0.226299\n",
      "thai            0.232057\n",
      "spanish         0.244255\n",
      "british         0.252260\n",
      "french          0.295690\n",
      "dtype: float64\n"
     ],
     "output_type": "stream"
    }
   ],
   "source": [
    "baseline_baskets_scores = {}\n",
    "for cluster in baseline_labels:\n",
    "    basket_scores = baskets_scores_df[model.labels_ == cluster]\n",
    "    cluster_scores = np.mean(basket_scores,axis=0).sort_values()\n",
    "    np.argsort(cluster_scores)\n",
    "    print(cluster_scores)"
   ],
   "metadata": {
    "collapsed": false,
    "pycharm": {
     "name": "#%%\n",
     "is_executing": false
    }
   }
  },
  {
   "cell_type": "markdown",
   "source": [],
   "metadata": {
    "collapsed": false
   }
  }
 ],
 "metadata": {
  "kernelspec": {
   "name": "python3",
   "language": "python",
   "display_name": "Python 3"
  },
  "language_info": {
   "codemirror_mode": {
    "name": "ipython",
    "version": 2
   },
   "file_extension": ".py",
   "mimetype": "text/x-python",
   "name": "python",
   "nbconvert_exporter": "python",
   "pygments_lexer": "ipython2",
   "version": "2.7.11"
  },
  "pycharm": {
   "stem_cell": {
    "cell_type": "raw",
    "source": [],
    "metadata": {
     "collapsed": false
    }
   }
  }
 },
 "nbformat": 4,
 "nbformat_minor": 0
}