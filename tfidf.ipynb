{
 "cells": [
  {
   "cell_type": "code",
   "execution_count": 1,
   "metadata": {
    "collapsed": true,
    "pycharm": {
     "is_executing": false,
     "name": "#%%\n"
    }
   },
   "outputs": [],
   "source": [
    "import json\n",
    "import pandas as pd\n",
    "import matplotlib.pyplot as plt\n",
    "import csv\n",
    "import numpy as np\n",
    "\n",
    "from nltk.util import ngrams\n",
    "from sklearn.feature_extraction.text import TfidfVectorizer \n",
    "from sklearn.feature_extraction.text import CountVectorizer\n",
    "from sklearn.cluster import DBSCAN\n",
    "from sklearn.cluster import OPTICS\n",
    "from sklearn.cluster import KMeans\n",
    "from sklearn.preprocessing import StandardScaler\n",
    "from itertools import compress\n",
    "from random import sample as random_sample\n"
   ]
  },
  {
   "cell_type": "markdown",
   "metadata": {},
   "source": [
    "#### Load Recipes Data"
   ]
  },
  {
   "cell_type": "code",
   "execution_count": 2,
   "metadata": {
    "collapsed": true,
    "pycharm": {
     "is_executing": false
    }
   },
   "outputs": [],
   "source": [
    "recipes = json.load(open('./data/recipe_train.json'))\n",
    "\n",
    "for dic in recipes:\n",
    "    ingredients = []\n",
    "    for ingredient in dic['ingredients']:\n",
    "        tmp_ingredient = ingredient.replace(' ', '-')\n",
    "        ingredients.append(tmp_ingredient)\n",
    "        dic['ingredients'] = ingredients"
   ]
  },
  {
   "cell_type": "markdown",
   "source": [
    "#### Convert recipe to text document"
   ],
   "metadata": {
    "collapsed": false,
    "pycharm": {
     "name": "#%% md\n",
     "is_executing": false
    }
   }
  },
  {
   "cell_type": "code",
   "execution_count": 3,
   "metadata": {
    "collapsed": true,
    "pycharm": {
     "is_executing": false
    }
   },
   "outputs": [],
   "source": [
    "recipes_as_doc = {}\n",
    "\n",
    "for sample in recipes:\n",
    "    key = sample['cuisine']\n",
    "    # If key is in the dictionary, return its value. If not, insert key with a value of default and return default.\n",
    "    recipes_as_doc.setdefault(key,[]).append(' '.join(sample['ingredients']).lower())\n",
    "\n",
    "# create a single list with all the documents\n",
    "all_docs = []\n",
    "for k, v in recipes_as_doc.items():\n",
    "   all_docs.append(' '.join(v))"
   ]
  },
  {
   "cell_type": "markdown",
   "source": [
    "#### Tfidf vectorizer for text data"
   ]
  },
  {
   "cell_type": "code",
   "execution_count": 4,
   "metadata": {
    "collapsed": false,
    "pycharm": {
     "name": "#%%\n",
     "is_executing": false
    }
   },
   "outputs": [],
   "source": [
    "# code adapted from https://programminghistorian.org/en/lessons/analyzing-documents-with-tfidf\n",
    "\n",
    "vectorizer = TfidfVectorizer(use_idf=True, token_pattern=r\"(?u)\\b\\w[\\w-]*\\w\\b\")\n",
    "transformed_documents = vectorizer.fit_transform(all_docs)"
   ]
  },
  {
   "cell_type": "markdown",
   "source": [
    "#### Analyze results"
   ],
   "metadata": {
    "collapsed": false
   }
  },
  {
   "cell_type": "code",
   "execution_count": 5,
   "outputs": [
    {
     "name": "stdout",
     "text": [
      "greek southern_us filipino indian jamaican spanish italian mexican chinese british thai vietnamese cajun_creole brazilian french japanese irish korean moroccan russian "
     ],
     "output_type": "stream"
    }
   ],
   "source": [
    "transformed_documents_as_array = transformed_documents.toarray()\n",
    "len(transformed_documents_as_array)\n",
    "docs_scores_dfs = {}\n",
    "\n",
    "# loop each item in transformed_documents_as_array, using enumerate to keep track of the current position\n",
    "for counter, doc in enumerate(transformed_documents_as_array):\n",
    "    # construct a data frame\n",
    "    tf_idf_tuples = list(zip(vectorizer.get_feature_names(), doc))\n",
    "    one_doc_as_df = pd.DataFrame\\\n",
    "        .from_records(tf_idf_tuples, columns=['term', 'score'])\\\n",
    "        .sort_values(by='score', ascending=False)\\\n",
    "        .reset_index(drop=True)\n",
    "    docs_scores_dfs[list(recipes_as_doc.keys())[counter]] = one_doc_as_df\n",
    "\n",
    "    print(list(recipes_as_doc.keys())[counter], end=' ')\n",
    "    # print(one_doc_as_df)\n",
    "    # output to a csv using the enumerated value for the filename\n",
    "    #one_doc_as_df.to_csv(\"tf.idf\" + counter.__str__() + \".csv\")"
   ],
   "metadata": {
    "collapsed": false,
    "pycharm": {
     "name": "#%%\n",
     "is_executing": false
    }
   }
  },
  {
   "cell_type": "markdown",
   "source": [
    "#### Statistics of Scores"
   ],
   "metadata": {
    "collapsed": false,
    "pycharm": {
     "name": "#%% md\n"
    }
   }
  },
  {
   "cell_type": "code",
   "execution_count": 6,
   "outputs": [
    {
     "data": {
      "text/plain": "Text(0, 0.5, 'Number of Therms')"
     },
     "metadata": {},
     "output_type": "execute_result",
     "execution_count": 6
    },
    {
     "data": {
      "text/plain": "<Figure size 432x288 with 1 Axes>",
      "image/png": "[encoded data removed]"
     },
     "metadata": {
      "needs_background": "light"
     },
     "output_type": "display_data"
    }
   ],
   "source": [
    "statistics = {}\n",
    "for k in docs_scores_dfs.keys():\n",
    "    df = docs_scores_dfs[k]\n",
    "    scores = df['score']\n",
    "    scores = scores.loc[scores>0.0]\n",
    "    statistics[k] = [scores.mean(), scores.max(), scores.min(), df['score'].astype(bool).sum(axis=0)]\n",
    "\n",
    "irish_scores = docs_scores_dfs[\"irish\"][\"score\"]\n",
    "irish_scores = irish_scores.loc[irish_scores>0.0]\n",
    "plt.hist(irish_scores, color = 'blue', edgecolor = 'black', bins=300)\n",
    "plt.title('Histogram of Scores')\n",
    "plt.xlabel('Frequency')\n",
    "plt.ylabel('Number of Therms')\n",
    "# print(statistics)"
   ],
   "metadata": {
    "collapsed": false,
    "pycharm": {
     "name": "#%%\n",
     "is_executing": false
    }
   }
  },
  {
   "cell_type": "markdown",
   "source": [
    "#### Top 10 therms per cuisine"
   ],
   "metadata": {
    "collapsed": false,
    "pycharm": {
     "name": "#%% md\n"
    }
   }
  },
  {
   "cell_type": "code",
   "execution_count": 21,
   "outputs": [],
   "source": [
    "for k in docs_scores_dfs.keys():\n",
    "    scores_df = docs_scores_dfs[k]\n",
    "    # print('-------------')\n",
    "    # print(k)\n",
    "    # print(scores_df.iloc[:15,:])\n"
   ],
   "metadata": {
    "collapsed": false,
    "pycharm": {
     "name": "#%%\n",
     "is_executing": false
    }
   }
  },
  {
   "cell_type": "markdown",
   "source": [
    "#### Load Baskets Market Data"
   ],
   "metadata": {
    "collapsed": false,
    "pycharm": {
     "name": "#%% md\n"
    }
   }
  },
  {
   "cell_type": "code",
   "execution_count": 8,
   "outputs": [],
   "source": [
    "baskets = []\n",
    "with open('./data/groceries.csv', newline=None) as f:\n",
    "  reader = csv.reader(f)\n",
    "  for row in reader:\n",
    "    baskets.append([elem.replace(' ', '-') for elem in row])"
   ],
   "metadata": {
    "collapsed": false,
    "pycharm": {
     "name": "#%%\n",
     "is_executing": false
    }
   }
  },
  {
   "cell_type": "markdown",
   "source": [
    "#### Compute ngram for tf.idf top score "
   ],
   "metadata": {
    "collapsed": false
   }
  },
  {
   "cell_type": "code",
   "execution_count": 9,
   "outputs": [],
   "source": [
    "top_scores_ngram = {}\n",
    "CUISINE_TOP_SCORE_THRESHOLD = 0.1\n",
    "for cuisine in docs_scores_dfs.keys():\n",
    "    scores_df = docs_scores_dfs[cuisine]\n",
    "    scores_df = scores_df[scores_df['score']>CUISINE_TOP_SCORE_THRESHOLD]\n",
    "    scores_df = scores_df.sort_values(by=['score'],ascending=False)\n",
    "    \n",
    "    ngram_scores = []\n",
    "    for index, row in scores_df.iterrows():\n",
    "        ngram = list(ngrams(row['term'], 3))\n",
    "        score =  row['score']\n",
    "        ngram_scores.append([ngram, score])\n",
    "        \n",
    "    top_scores_ngram[cuisine] = ngram_scores"
   ],
   "metadata": {
    "collapsed": false,
    "pycharm": {
     "name": "#%%\n",
     "is_executing": false
    }
   }
  },
  {
   "cell_type": "markdown",
   "source": [
    "#### Define the metric similarity"
   ],
   "metadata": {
    "collapsed": false
   }
  },
  {
   "cell_type": "code",
   "execution_count": 10,
   "outputs": [],
   "source": [
    "def jaccard_distance(a, b):\n",
    "    \"\"\"Calculate the jaccard distance between sets A and B\"\"\"\n",
    "    a = set(a)\n",
    "    b = set(b)\n",
    "    return 1.0 * len(a&b)/len(a|b)"
   ],
   "metadata": {
    "collapsed": false,
    "pycharm": {
     "name": "#%%\n",
     "is_executing": false
    }
   }
  },
  {
   "cell_type": "markdown",
   "source": [
    "#### Compute Basket Scores\n",
    "For each basket we iterate over all items and compute their similarities with the top \n",
    "terms in the cuisines docs"
   ],
   "metadata": {
    "collapsed": false
   }
  },
  {
   "cell_type": "code",
   "execution_count": 11,
   "outputs": [],
   "source": [
    "baskets_scores = []\n",
    "\n",
    "for basket in baskets:\n",
    "    similarities = {}\n",
    "    for cuisine in top_scores_ngram:\n",
    "        value = 0\n",
    "        sims = 0\n",
    "        for item in basket:      \n",
    "            item_ngram = list(ngrams(item, 3))\n",
    "            for ngram_term, score in top_scores_ngram[cuisine]:\n",
    "                sim = jaccard_distance(item_ngram, ngram_term)\n",
    "                if sim > 0.2:\n",
    "                    value += sim * score\n",
    "                    sims += sim\n",
    "        if sims != 0:\n",
    "            value = value/sims\n",
    "        else:\n",
    "            value=0\n",
    "                    \n",
    "        similarities[cuisine] = value    \n",
    "    baskets_scores.append(similarities)\n",
    "           \n",
    "    # print('------------------')\n",
    "    # print(\"basket: \", basket)\n",
    "    # for k in similarities:\n",
    "    #     print(k, similarities[k]) \n",
    "baskets_scores_df = pd.DataFrame(baskets_scores)\n",
    "baskets_scores_df=(baskets_scores_df-baskets_scores_df.mean())/baskets_scores_df.std()"
   ],
   "metadata": {
    "collapsed": false,
    "pycharm": {
     "name": "#%%\n",
     "is_executing": false
    }
   }
  },
  {
   "cell_type": "markdown",
   "source": [
    "#### CLustering baskets\n",
    "We now try to cluster the baskets, based on the scores that they \n",
    "obtained using frequent therms of recipes"
   ],
   "metadata": {
    "collapsed": false,
    "pycharm": {
     "name": "#%% md\n"
    }
   }
  },
  {
   "cell_type": "code",
   "execution_count": 12,
   "outputs": [],
   "source": [
    "X = StandardScaler().fit_transform(baskets_scores_df.to_numpy())"
   ],
   "metadata": {
    "collapsed": false,
    "pycharm": {
     "name": "#%%\n",
     "is_executing": false
    }
   }
  },
  {
   "cell_type": "code",
   "execution_count": 13,
   "outputs": [
    {
     "name": "stdout",
     "text": [
      "{0, 1, 2, -1}\n"
     ],
     "output_type": "stream"
    },
    {
     "name": "stderr",
     "text": [
      "/home/nepotu/anaconda3/envs/dataMiningProject/lib/python3.7/site-packages/sklearn/cluster/_optics.py:802: RuntimeWarning: divide by zero encountered in true_divide\n",
      "  ratio = reachability_plot[:-1] / reachability_plot[1:]\n"
     ],
     "output_type": "stream"
    }
   ],
   "source": [
    "# OPTICS\n",
    "optics = OPTICS(min_samples=50, max_eps=0.1, xi=.05, min_cluster_size=.05)\n",
    "optics.fit(X)\n",
    "optics_labels = optics.labels_[optics.ordering_]\n",
    "print(set(optics_labels))"
   ],
   "metadata": {
    "collapsed": false,
    "pycharm": {
     "name": "#%%\n",
     "is_executing": false
    }
   }
  },
  {
   "cell_type": "code",
   "execution_count": 14,
   "outputs": [
    {
     "name": "stdout",
     "text": [
      "{0, 1, 2, 3, 4, 5, 6}\n"
     ],
     "output_type": "stream"
    }
   ],
   "source": [
    "# K-Means\n",
    "kMeans = KMeans(n_clusters=7, random_state=0).fit(X)\n",
    "kMeans_labels = kMeans.labels_\n",
    "print(set(kMeans_labels))"
   ],
   "metadata": {
    "collapsed": false,
    "pycharm": {
     "name": "#%%\n",
     "is_executing": false
    }
   }
  },
  {
   "cell_type": "code",
   "execution_count": 15,
   "outputs": [
    {
     "name": "stdout",
     "text": [
      "{0, 1, 2, 3, 4, 5, -1}\n",
      "[0.35, 200]\n"
     ],
     "output_type": "stream"
    }
   ],
   "source": [
    "# DBSCAN \n",
    "from sklearn.metrics import jaccard_score\n",
    "[eps, min_samples] = [0.35, 200]\n",
    "dbScan = DBSCAN(eps=eps, min_samples=min_samples, metric='euclidean').fit(X)\n",
    "dbScan_labels = dbScan.labels_\n",
    "print(set(dbScan_labels))\n",
    "print([eps, min_samples])\n"
   ],
   "metadata": {
    "collapsed": false,
    "pycharm": {
     "name": "#%%\n",
     "is_executing": false
    }
   }
  },
  {
   "cell_type": "markdown",
   "source": [
    "#### Analysis of the method\n",
    "Observe size of created basket clusters"
   ],
   "metadata": {
    "collapsed": false,
    "pycharm": {
     "name": "#%% md\n"
    }
   }
  },
  {
   "cell_type": "code",
   "execution_count": 16,
   "outputs": [
    {
     "data": {
      "text/plain": "<matplotlib.axes._subplots.AxesSubplot at 0x7f8b3e4aac50>"
     },
     "metadata": {},
     "output_type": "execute_result",
     "execution_count": 16
    },
    {
     "data": {
      "text/plain": "<Figure size 432x288 with 1 Axes>",
      "image/png": "[encoded data removed]"
     },
     "metadata": {
      "needs_background": "light"
     },
     "output_type": "display_data"
    }
   ],
   "source": [
    "labels = kMeans_labels\n",
    "cluster_sizes = []\n",
    "for label in sorted(set(labels)):\n",
    "    cluster_sizes.append([label, len(baskets_scores_df[labels == label])])\n",
    "pd.DataFrame(cluster_sizes).plot(kind='bar')"
   ],
   "metadata": {
    "collapsed": false,
    "pycharm": {
     "name": "#%%\n",
     "is_executing": false
    }
   }
  },
  {
   "cell_type": "markdown",
   "source": [
    "Select one cluster and calculate its overall score (by summing\n",
    "all scores of all items of that cluster)"
   ],
   "metadata": {
    "collapsed": false,
    "pycharm": {
     "name": "#%% md\n"
    }
   }
  },
  {
   "cell_type": "code",
   "execution_count": 17,
   "outputs": [
    {
     "name": "stdout",
     "text": [
      "Cluster  0\n",
      "#Baskets:  3950\n",
      "greek          -0.389530\n",
      "spanish        -0.434769\n",
      "moroccan       -0.444325\n",
      "italian        -0.478730\n",
      "brazilian      -0.485855\n",
      "korean         -0.502655\n",
      "french         -0.528806\n",
      "irish          -0.662205\n",
      "filipino       -0.707451\n",
      "cajun_creole   -0.726998\n",
      "mexican        -0.765753\n",
      "indian         -0.769794\n",
      "jamaican       -0.794556\n",
      "vietnamese     -0.820445\n",
      "british        -0.832628\n",
      "japanese       -0.859958\n",
      "southern_us    -0.878863\n",
      "chinese        -0.882689\n",
      "thai           -0.897987\n",
      "russian        -0.945171\n",
      "dtype: float64\n",
      "Cluster  1\n",
      "#Baskets:  1555\n",
      "korean          1.930007\n",
      "filipino        1.476739\n",
      "brazilian       1.353726\n",
      "vietnamese      1.344811\n",
      "japanese        1.342121\n",
      "chinese         1.237034\n",
      "spanish         1.182562\n",
      "moroccan        1.158395\n",
      "french          1.062002\n",
      "jamaican        0.992574\n",
      "thai            0.934325\n",
      "indian          0.932630\n",
      "russian         0.908703\n",
      "italian         0.779298\n",
      "mexican         0.718451\n",
      "cajun_creole    0.689047\n",
      "southern_us     0.624370\n",
      "irish           0.544035\n",
      "british         0.530115\n",
      "greek           0.521257\n",
      "dtype: float64\n",
      "Cluster  2\n",
      "#Baskets:  1886\n",
      "thai            1.041150\n",
      "chinese         0.884047\n",
      "japanese        0.756789\n",
      "vietnamese      0.689083\n",
      "indian          0.578966\n",
      "jamaican        0.523384\n",
      "mexican         0.499934\n",
      "cajun_creole    0.491906\n",
      "russian         0.250292\n",
      "filipino        0.199111\n",
      "southern_us     0.111102\n",
      "british        -0.190703\n",
      "irish          -0.276762\n",
      "moroccan       -0.359703\n",
      "brazilian      -0.432068\n",
      "spanish        -0.434769\n",
      "greek          -0.462080\n",
      "korean         -0.466819\n",
      "french         -0.501508\n",
      "italian        -0.559945\n",
      "dtype: float64\n",
      "Cluster  3\n",
      "#Baskets:  209\n",
      "southern_us     3.839383\n",
      "spanish         3.832994\n",
      "italian         3.771390\n",
      "jamaican        3.757516\n",
      "indian          3.614258\n",
      "french          3.573341\n",
      "russian         3.507082\n",
      "mexican         3.467422\n",
      "moroccan        3.420474\n",
      "brazilian       3.416809\n",
      "irish           3.371569\n",
      "greek           3.224814\n",
      "filipino        3.144597\n",
      "cajun_creole    3.050857\n",
      "british         2.774253\n",
      "korean          1.986123\n",
      "japanese        1.892201\n",
      "vietnamese      1.808500\n",
      "chinese         1.775139\n",
      "thai            1.360411\n",
      "dtype: float64\n",
      "Cluster  4\n",
      "#Baskets:  1435\n",
      "british         0.961355\n",
      "southern_us     0.550038\n",
      "irish           0.517263\n",
      "russian         0.371857\n",
      "italian        -0.178599\n",
      "french         -0.181675\n",
      "greek          -0.209513\n",
      "mexican        -0.329502\n",
      "cajun_creole   -0.352631\n",
      "brazilian      -0.364845\n",
      "moroccan       -0.420882\n",
      "spanish        -0.434769\n",
      "korean         -0.505302\n",
      "jamaican       -0.608479\n",
      "filipino       -0.687881\n",
      "thai           -0.691398\n",
      "indian         -0.712880\n",
      "vietnamese     -0.823329\n",
      "japanese       -0.863607\n",
      "chinese        -0.889204\n",
      "dtype: float64\n",
      "Cluster  5\n",
      "#Baskets:  225\n",
      "spanish         3.427624\n",
      "moroccan        3.132142\n",
      "brazilian       2.964138\n",
      "italian         2.850461\n",
      "french          2.842148\n",
      "greek           2.800095\n",
      "irish           2.321389\n",
      "korean          1.996608\n",
      "british         1.995751\n",
      "indian          1.922370\n",
      "jamaican        1.768828\n",
      "mexican         1.757698\n",
      "southern_us     1.568066\n",
      "cajun_creole    1.555206\n",
      "filipino        1.506282\n",
      "russian         1.478981\n",
      "japanese        1.327295\n",
      "chinese         1.312415\n",
      "vietnamese      1.262152\n",
      "thai            1.146822\n",
      "dtype: float64\n",
      "Cluster  6\n",
      "#Baskets:  575\n",
      "greek           1.036900\n",
      "thai            1.009321\n",
      "italian         0.977297\n",
      "chinese         0.879009\n",
      "japanese        0.743817\n",
      "british         0.723151\n",
      "cajun_creole    0.679847\n",
      "vietnamese      0.642579\n",
      "southern_us     0.602652\n",
      "indian          0.580151\n",
      "irish           0.560816\n",
      "mexican         0.551861\n",
      "jamaican        0.517915\n",
      "french          0.448012\n",
      "russian         0.433003\n",
      "filipino        0.197484\n",
      "moroccan       -0.319074\n",
      "brazilian      -0.397442\n",
      "spanish        -0.434769\n",
      "korean         -0.477357\n",
      "dtype: float64\n"
     ],
     "output_type": "stream"
    }
   ],
   "source": [
    "for selected_basket_cluster in set(labels):\n",
    "    print(\"Cluster \", selected_basket_cluster)\n",
    "    selected_basket_scores = baskets_scores_df[labels == selected_basket_cluster]\n",
    "    print(\"#Baskets: \", selected_basket_scores.shape[0])\n",
    "    aggregated_basket_cluster_score \\\n",
    "        = np.mean(selected_basket_scores, axis=0)\\\n",
    "        .sort_values(ascending=False)\n",
    "    selected_baskets = list(compress(baskets, labels == selected_basket_cluster))\n",
    "    selected_baskets = [' '.join(l) for l in selected_baskets]\n",
    "    aggregated_basket_cluster_score = aggregated_basket_cluster_score[0:50]\n",
    "    print(aggregated_basket_cluster_score)"
   ],
   "metadata": {
    "collapsed": false,
    "pycharm": {
     "name": "#%%\n",
     "is_executing": false
    }
   }
  },
  {
   "cell_type": "markdown",
   "source": [
    "#### Baseline method - K-means\n",
    "Now we will implement the baseline algorithm to compare our method with. \n",
    "A KNN method will be used. We will try to find the best K by trial and error based on the\n",
    "coherence of the results because there are not many possible Ks for the given dataset."
   ],
   "metadata": {
    "collapsed": false,
    "pycharm": {
     "name": "#%% md\n"
    }
   }
  },
  {
   "cell_type": "code",
   "source": [
    "baskets_as_docs = [' '.join(basket) for basket in baskets]\n",
    "X_Baskets = vectorizer.fit_transform(baskets_as_docs)\n",
    "model = KMeans(n_clusters=10, init='k-means++', max_iter=100, n_init=1)\n",
    "model.fit(X_Baskets)\n",
    "\n",
    "print(\"Top terms per cluster:\")\n",
    "order_centroids = model.cluster_centers_.argsort()[:, ::-1]\n",
    "terms = vectorizer.get_feature_names()\n",
    "baseline_labels = set(model.labels_)\n",
    "for i in baseline_labels:\n",
    "    print(\"Cluster %d:\" % i),\n",
    "    for ind in order_centroids[i, :10]:\n",
    "        print(' %s' % terms[ind])"
   ],
   "metadata": {
    "collapsed": false,
    "pycharm": {
     "name": "#%%\n",
     "is_executing": false
    }
   },
   "execution_count": 18,
   "outputs": [
    {
     "name": "stdout",
     "text": [
      "Top terms per cluster:\n",
      "Cluster 0:\n",
      " beverages\n",
      " misc\n",
      " soda\n",
      " whole-milk\n",
      " shopping-bags\n",
      " bottled-water\n",
      " yogurt\n",
      " tropical-fruit\n",
      " other-vegetables\n",
      " pastry\n",
      "Cluster 1:\n",
      " fruit\n",
      " vegetable-juice\n",
      " whole-milk\n",
      " soda\n",
      " yogurt\n",
      " other-vegetables\n",
      " bottled-water\n",
      " buns\n",
      " rolls\n",
      " tropical-fruit\n",
      "Cluster 2:\n",
      " buns\n",
      " rolls\n",
      " whole-milk\n",
      " soda\n",
      " other-vegetables\n",
      " yogurt\n",
      " frankfurter\n",
      " bottled-water\n",
      " pastry\n",
      " newspapers\n",
      "Cluster 3:\n",
      " canned-beer\n",
      " soda\n",
      " shopping-bags\n",
      " newspapers\n",
      " other-vegetables\n",
      " specialty-bar\n",
      " whole-milk\n",
      " pip-fruit\n",
      " pastry\n",
      " bottled-water\n",
      "Cluster 4:\n",
      " soda\n",
      " pastry\n",
      " bottled-beer\n",
      " whole-milk\n",
      " other-vegetables\n",
      " shopping-bags\n",
      " specialty-bar\n",
      " frozen-meals\n",
      " chocolate\n",
      " specialty-chocolate\n",
      "Cluster 5:\n",
      " newspapers\n",
      " yogurt\n",
      " whole-milk\n",
      " other-vegetables\n",
      " curd\n",
      " root-vegetables\n",
      " soda\n",
      " pastry\n",
      " margarine\n",
      " whipped\n",
      "Cluster 6:\n",
      " tropical-fruit\n",
      " pip-fruit\n",
      " citrus-fruit\n",
      " whole-milk\n",
      " other-vegetables\n",
      " yogurt\n",
      " root-vegetables\n",
      " sour-cream\n",
      " whipped\n",
      " domestic-eggs\n",
      "Cluster 7:\n",
      " sausage\n",
      " buns\n",
      " rolls\n",
      " soda\n",
      " whole-milk\n",
      " other-vegetables\n",
      " shopping-bags\n",
      " yogurt\n",
      " pastry\n",
      " root-vegetables\n",
      "Cluster 8:\n",
      " other-vegetables\n",
      " bottled-beer\n",
      " whole-milk\n",
      " shopping-bags\n",
      " root-vegetables\n",
      " pastry\n",
      " coffee\n",
      " pork\n",
      " beef\n",
      " brown-bread\n",
      "Cluster 9:\n",
      " bottled-water\n",
      " soda\n",
      " whole-milk\n",
      " bottled-beer\n",
      " yogurt\n",
      " other-vegetables\n",
      " white-wine\n",
      " uht-milk\n",
      " tropical-fruit\n",
      " napkins\n"
     ],
     "output_type": "stream"
    }
   ]
  },
  {
   "cell_type": "markdown",
   "source": [
    "#### Compute Scores of Baskets created using K-Means\n",
    "For the created clusters of baskets using the baseline method, \n",
    "we calculate its scores in terms of similarity with the terms\n",
    "that scored high TF-IDF for the cuisines "
   ],
   "metadata": {
    "collapsed": false
   }
  },
  {
   "cell_type": "code",
   "execution_count": 19,
   "outputs": [
    {
     "name": "stdout",
     "text": [
      "cajun_creole   -0.144205\n",
      "thai           -0.125376\n",
      "russian        -0.118813\n",
      "southern_us    -0.109358\n",
      "mexican        -0.104738\n",
      "british        -0.099712\n",
      "indian         -0.090958\n",
      "irish          -0.087269\n",
      "chinese        -0.077313\n",
      "vietnamese     -0.067777\n",
      "jamaican       -0.067260\n",
      "japanese       -0.056763\n",
      "filipino       -0.033605\n",
      "italian        -0.018743\n",
      "moroccan       -0.016729\n",
      "greek          -0.015767\n",
      "brazilian      -0.010879\n",
      "spanish         0.002112\n",
      "french          0.012290\n",
      "korean          0.029263\n",
      "dtype: float64\n",
      "moroccan        0.171662\n",
      "spanish         0.181256\n",
      "brazilian       0.189556\n",
      "korean          0.203340\n",
      "greek           0.225828\n",
      "italian         0.232826\n",
      "french          0.237685\n",
      "filipino        0.279730\n",
      "irish           0.382358\n",
      "mexican         0.402912\n",
      "cajun_creole    0.427691\n",
      "southern_us     0.439959\n",
      "russian         0.447310\n",
      "jamaican        0.451102\n",
      "vietnamese      0.477439\n",
      "british         0.479832\n",
      "indian          0.517180\n",
      "japanese        0.608627\n",
      "thai            0.618373\n",
      "chinese         0.685723\n",
      "dtype: float64\n",
      "cajun_creole   -0.240644\n",
      "chinese        -0.142659\n",
      "thai           -0.139543\n",
      "indian         -0.134001\n",
      "jamaican       -0.129908\n",
      "japanese       -0.124792\n",
      "vietnamese     -0.116563\n",
      "russian        -0.113821\n",
      "mexican        -0.107277\n",
      "filipino       -0.104317\n",
      "moroccan       -0.098170\n",
      "spanish        -0.094338\n",
      "french         -0.088174\n",
      "brazilian      -0.082059\n",
      "korean         -0.069078\n",
      "italian        -0.065821\n",
      "southern_us    -0.061136\n",
      "irish          -0.034057\n",
      "british        -0.026585\n",
      "greek          -0.026313\n",
      "dtype: float64\n",
      "russian        -0.818616\n",
      "southern_us    -0.795047\n",
      "thai           -0.753586\n",
      "chinese        -0.745822\n",
      "cajun_creole   -0.740860\n",
      "mexican        -0.737054\n",
      "japanese       -0.713458\n",
      "vietnamese     -0.679867\n",
      "british        -0.676679\n",
      "irish          -0.673693\n",
      "jamaican       -0.658029\n",
      "indian         -0.626891\n",
      "filipino       -0.573250\n",
      "italian        -0.450025\n",
      "french         -0.449575\n",
      "greek          -0.441737\n",
      "korean         -0.411987\n",
      "brazilian      -0.382428\n",
      "moroccan       -0.372454\n",
      "spanish        -0.331965\n",
      "dtype: float64\n",
      "russian        -0.748248\n",
      "cajun_creole   -0.725712\n",
      "chinese        -0.713841\n",
      "thai           -0.698092\n",
      "japanese       -0.690586\n",
      "mexican        -0.682602\n",
      "vietnamese     -0.655691\n",
      "jamaican       -0.652659\n",
      "indian         -0.622450\n",
      "filipino       -0.598602\n",
      "british        -0.590503\n",
      "french         -0.458307\n",
      "korean         -0.448380\n",
      "italian        -0.436693\n",
      "greek          -0.414819\n",
      "brazilian      -0.408689\n",
      "moroccan       -0.405678\n",
      "spanish        -0.366690\n",
      "southern_us     0.165018\n",
      "irish           0.652810\n",
      "dtype: float64\n",
      "cajun_creole   -0.323158\n",
      "japanese       -0.259522\n",
      "chinese        -0.259264\n",
      "filipino       -0.258890\n",
      "vietnamese     -0.255627\n",
      "mexican        -0.243740\n",
      "jamaican       -0.242968\n",
      "korean         -0.241547\n",
      "indian         -0.238457\n",
      "thai           -0.232557\n",
      "greek          -0.228780\n",
      "brazilian      -0.224611\n",
      "italian        -0.214760\n",
      "spanish        -0.211597\n",
      "moroccan       -0.204577\n",
      "french         -0.197978\n",
      "russian        -0.169250\n",
      "southern_us    -0.165972\n",
      "irish          -0.157915\n",
      "british        -0.019705\n",
      "dtype: float64\n",
      "spanish        -0.024861\n",
      "korean         -0.009907\n",
      "brazilian      -0.009326\n",
      "moroccan        0.008381\n",
      "filipino        0.021780\n",
      "french          0.053205\n",
      "italian         0.063086\n",
      "cajun_creole    0.078561\n",
      "irish           0.087959\n",
      "greek           0.094672\n",
      "jamaican        0.106212\n",
      "indian          0.117036\n",
      "southern_us     0.117313\n",
      "japanese        0.138512\n",
      "russian         0.148977\n",
      "vietnamese      0.150294\n",
      "chinese         0.175751\n",
      "mexican         0.178698\n",
      "british         0.211167\n",
      "thai            0.231902\n",
      "dtype: float64\n",
      "korean          0.010802\n",
      "moroccan        0.029967\n",
      "japanese        0.033767\n",
      "spanish         0.035645\n",
      "chinese         0.036603\n",
      "vietnamese      0.037972\n",
      "brazilian       0.043634\n",
      "french          0.046372\n",
      "indian          0.049750\n",
      "filipino        0.050879\n",
      "russian         0.052813\n",
      "british         0.068382\n",
      "thai            0.071618\n",
      "jamaican        0.078312\n",
      "mexican         0.096330\n",
      "southern_us     0.104415\n",
      "irish           0.131715\n",
      "italian         0.153290\n",
      "greek           0.193375\n",
      "cajun_creole    1.434725\n",
      "dtype: float64\n",
      "cajun_creole   -0.161149\n",
      "irish          -0.143868\n",
      "korean         -0.139079\n",
      "japanese       -0.132162\n",
      "filipino       -0.122454\n",
      "chinese        -0.114308\n",
      "southern_us    -0.099288\n",
      "vietnamese     -0.095787\n",
      "brazilian      -0.070227\n",
      "thai           -0.070061\n",
      "jamaican       -0.069951\n",
      "indian         -0.065756\n",
      "moroccan       -0.065461\n",
      "british        -0.060091\n",
      "italian        -0.048996\n",
      "spanish        -0.048567\n",
      "french         -0.047804\n",
      "greek          -0.037265\n",
      "russian        -0.007796\n",
      "mexican        -0.005602\n",
      "dtype: float64\n",
      "british         0.413006\n",
      "irish           0.459308\n",
      "greek           0.531323\n",
      "southern_us     0.617651\n",
      "cajun_creole    0.695558\n",
      "mexican         0.726517\n",
      "italian         0.830893\n",
      "russian         0.856382\n",
      "thai            0.913449\n",
      "french          1.008497\n",
      "indian          1.098157\n",
      "spanish         1.136712\n",
      "jamaican        1.242537\n",
      "moroccan        1.300530\n",
      "chinese         1.314751\n",
      "brazilian       1.318245\n",
      "vietnamese      1.367954\n",
      "japanese        1.543521\n",
      "korean          1.879821\n",
      "filipino        1.927225\n",
      "dtype: float64\n"
     ],
     "output_type": "stream"
    }
   ],
   "source": [
    "baseline_baskets_scores = {}\n",
    "for cluster in baseline_labels:\n",
    "    basket_scores = baskets_scores_df[model.labels_ == cluster]\n",
    "    cluster_scores = np.mean(basket_scores,axis=0).sort_values()\n",
    "    np.argsort(cluster_scores)\n",
    "    print(cluster_scores)"
   ],
   "metadata": {
    "collapsed": false,
    "pycharm": {
     "name": "#%%\n",
     "is_executing": false
    }
   }
  },
  {
   "cell_type": "markdown",
   "source": [],
   "metadata": {
    "collapsed": false
   }
  }
 ],
 "metadata": {
  "kernelspec": {
   "name": "python3",
   "language": "python",
   "display_name": "Python 3"
  },
  "language_info": {
   "codemirror_mode": {
    "name": "ipython",
    "version": 2
   },
   "file_extension": ".py",
   "mimetype": "text/x-python",
   "name": "python",
   "nbconvert_exporter": "python",
   "pygments_lexer": "ipython2",
   "version": "2.7.11"
  },
  "pycharm": {
   "stem_cell": {
    "cell_type": "raw",
    "source": [],
    "metadata": {
     "collapsed": false
    }
   }
  }
 },
 "nbformat": 4,
 "nbformat_minor": 0
}